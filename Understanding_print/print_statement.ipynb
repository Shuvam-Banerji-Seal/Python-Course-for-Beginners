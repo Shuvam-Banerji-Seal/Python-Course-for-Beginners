{
 "cells": [
  {
   "cell_type": "markdown",
   "metadata": {},
   "source": [
    "# Print Statement in Python\n",
    "\n",
    "## Understanding the Basics:\n"
   ]
  },
  {
   "cell_type": "code",
   "execution_count": 1,
   "metadata": {},
   "outputs": [
    {
     "name": "stdout",
     "output_type": "stream",
     "text": [
      "GCC-> GNU C Compiler\n"
     ]
    }
   ],
   "source": [
    "print(\"GCC-> GNU C Compiler\")"
   ]
  },
  {
   "cell_type": "code",
   "execution_count": 5,
   "metadata": {},
   "outputs": [
    {
     "name": "stdout",
     "output_type": "stream",
     "text": [
      "GNU-> GNU is NOT UNIX is NOT UNIX\n"
     ]
    }
   ],
   "source": [
    "print(\"GNU-> GNU is NOT UNIX is NOT UNIX\")"
   ]
  },
  {
   "cell_type": "code",
   "execution_count": 4,
   "metadata": {},
   "outputs": [
    {
     "name": "stdout",
     "output_type": "stream",
     "text": [
      "\n",
      "=== Basic Print Statements ===\n",
      "Hello, World!\n",
      "100\n",
      "3.14\n",
      "True\n",
      "Hello - World - 123\n"
     ]
    }
   ],
   "source": [
    "def print_basics():\n",
    "    print(\"\\n=== Basic Print Statements ===\")\n",
    "    print(\"Hello, World!\")  # Simple string print\n",
    "    print(100)  # Printing an integer\n",
    "    print(3.14)  # Printing a float\n",
    "    print(True)  # Printing a boolean\n",
    "    print(\"Hello\", \"World\", 123, sep=\" - \")  # Multiple arguments with separator\n",
    "\n",
    "print_basics()"
   ]
  },
  {
   "cell_type": "code",
   "execution_count": 6,
   "metadata": {},
   "outputs": [
    {
     "data": {
      "text/plain": [
       "'D'"
      ]
     },
     "execution_count": 6,
     "metadata": {},
     "output_type": "execute_result"
    }
   ],
   "source": [
    "name = 'Duytika'\n",
    "name[0]"
   ]
  },
  {
   "cell_type": "code",
   "execution_count": 4,
   "metadata": {},
   "outputs": [
    {
     "name": "stdout",
     "output_type": "stream",
     "text": [
      "This is the first line. This is the second line\n"
     ]
    }
   ],
   "source": [
    "print(\"This is the first line\", end=\". \")\n",
    "print(\"This is the second line\")"
   ]
  },
  {
   "cell_type": "code",
   "execution_count": 10,
   "metadata": {},
   "outputs": [
    {
     "name": "stdout",
     "output_type": "stream",
     "text": [
      "num_seconds = 6\n",
      "range(num_seconds + 1) = [0, 1, 2, 3, 4, 5, 6]\n",
      "reversed(range(num_seconds + 1)) = [6, 5, 4, 3, 2, 1, 0]\n",
      "=== Countdown Timer ===\n",
      "6...5...4...3...2...1...Go!\n"
     ]
    }
   ],
   "source": [
    "import time\n",
    "\n",
    "num_seconds = 6\n",
    "print(f'num_seconds = {num_seconds}')\n",
    "print(f'range(num_seconds + 1) = {list(range(num_seconds + 1))}')\n",
    "print(f'reversed(range(num_seconds + 1)) = {list(reversed(range(num_seconds + 1)))}')\n",
    "print(\"=== Countdown Timer ===\")\n",
    "for countdown in reversed(range(num_seconds + 1)):\n",
    "    if countdown > 0:\n",
    "        print(countdown, end='...')\n",
    "        time.sleep(1)\n",
    "    else:\n",
    "        print('Go!')"
   ]
  },
  {
   "cell_type": "code",
   "execution_count": 11,
   "metadata": {},
   "outputs": [
    {
     "name": "stdout",
     "output_type": "stream",
     "text": [
      "before sleep\n",
      "after sleep\n"
     ]
    }
   ],
   "source": [
    "print('before sleep')\n",
    "time.sleep(5)\n",
    "print('after sleep')"
   ]
  }
 ],
 "metadata": {
  "kernelspec": {
   "display_name": ".venv",
   "language": "python",
   "name": "python3"
  },
  "language_info": {
   "codemirror_mode": {
    "name": "ipython",
    "version": 3
   },
   "file_extension": ".py",
   "mimetype": "text/x-python",
   "name": "python",
   "nbconvert_exporter": "python",
   "pygments_lexer": "ipython3",
   "version": "3.13.2"
  }
 },
 "nbformat": 4,
 "nbformat_minor": 2
}
