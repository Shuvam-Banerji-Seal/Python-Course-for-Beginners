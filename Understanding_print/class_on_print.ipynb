{
  "cells": [
    {
      "cell_type": "markdown",
      "metadata": {},
      "source": [
        "# A Deep Dive into the Python `print()` Function\n",
        "\n",
        "This notebook provides a comprehensive guide to the `print()` function in Python. We will explore its basic usage, its various parameters, and different methods for formatting output."
      ]
    },
    {
      "cell_type": "markdown",
      "metadata": {},
      "source": [
        "## 1. Introduction: From Statement to Function\n",
        "\n",
        "In Python 2, `print` was a statement. However, in Python 3, it was changed to a function. [1] This change provides more flexibility, such as the ability to use `print()` as an expression. [29] While some may still refer to it as the \"print statement\" out of habit, it is technically a built-in function in modern Python. [1]"
      ]
    },
    {
      "cell_type": "code",
      "execution_count": null,
      "metadata": {},
      "outputs": [],
      "source": [
        "# In Python 3, print() is a function\n",
        "print(\"Hello, World!\")\n",
        "\n",
        "# In Python 2, the following syntax was used:\n",
        "# print \"Hello, World!\""
      ]
    },
    {
      "cell_type": "markdown",
      "metadata": {},
      "source": [
        "The `print()` function is a built-in function that outputs to your console window. [22] It is one of the most widely used functions, especially for debugging. [22]"
      ]
    },
    {
      "cell_type": "markdown",
      "metadata": {},
      "source": [
        "## 2. Basic Usage\n",
        "\n",
        "The simplest way to use `print()` is to pass the object you want to display as an argument. [12] This can be a string, a number, a list, or any other Python object. The function will convert the object to a string and print it to the standard output. [12]"
      ]
    },
    {
      "cell_type": "code",
      "execution_count": null,
      "metadata": {},
      "outputs": [],
      "source": [
        "# Printing a string\n",
        "print(\"This is a string.\")\n",
        "\n",
        "# Printing an integer\n",
        "print(123)\n",
        "\n",
        "# Printing a float\n",
        "print(3.14)\n",
        "\n",
        "# Printing a list\n",
        "print([1, 2, 3])"
      ]
    },
    {
      "cell_type": "markdown",
      "metadata": {},
      "source": [
        "You can also call `print()` without any arguments to produce a blank line. [1]"
      ]
    },
    {
      "cell_type": "code",
      "execution_count": null,
      "metadata": {},
      "outputs": [],
      "source": [
        "print(\"First line.\")\n",
        "print() # This will print a blank line\n",
        "print(\"Second line.\")"
      ]
    },
    {
      "cell_type": "markdown",
      "metadata": {},
      "source": [
        "## 3. The `print()` Function's Parameters\n",
        "\n",
        "The full syntax of the `print()` function is:\n",
        "\n",
        "```python\n",
        "print(*objects, sep=' ', end='\\n', file=sys.stdout, flush=False)\n",
        "```\n",
        "\n",
        "Let's break down each parameter. [8, 12, 24]"
      ]
    },
    {
      "cell_type": "markdown",
      "metadata": {},
      "source": [
        "### 3.1. `*objects`\n",
        "\n",
        "You can pass multiple items to `print()`, separated by commas. [12]"
      ]
    },
    {
      "cell_type": "code",
      "execution_count": null,
      "metadata": {},
      "outputs": [],
      "source": [
        "name = \"Alice\"\n",
        "age = 30\n",
        "print(\"Name:\", name, \"Age:\", age)"
      ]
    },
    {
      "cell_type": "markdown",
      "metadata": {},
      "source": [
        "### 3.2. `sep`\n",
        "\n",
        "The `sep` parameter specifies the separator between multiple objects. By default, it's a single space. [9, 12]"
      ]
    },
    {
      "cell_type": "code",
      "execution_count": null,
      "metadata": {},
      "outputs": [],
      "source": [
        "# Using the default separator (a space)\n",
        "print(\"apple\", \"banana\", \"cherry\")\n",
        "\n",
        "# Using a custom separator\n",
        "print(\"apple\", \"banana\", \"cherry\", sep=\", \")\n",
        "\n",
        "# Using no separator\n",
        "print(\"Hello\", \"World\", sep=\"\")"
      ]
    },
    {
      "cell_type": "markdown",
      "metadata": {},
      "source": [
        "### 3.3. `end`\n",
        "\n",
        "The `end` parameter specifies what to print at the end of the output. By default, it's a newline character (`\\n`), which moves the cursor to the next line. [9, 12]"
      ]
    },
    {
      "cell_type": "code",
      "execution_count": null,
      "metadata": {},
      "outputs": [],
      "source": [
        "# Default end character is a newline\n",
        "print(\"Hello\")\n",
        "print(\"World\")\n",
        "\n",
        "# Changing the end character to a space\n",
        "print(\"Hello\", end=\" \")\n",
        "print(\"World\")\n",
        "\n",
        "# Using a different end character\n",
        "print(\"First part\", end=\"...\")\n",
        "print(\"Second part\")"
      ]
    },
    {
      "cell_type": "markdown",
      "metadata": {},
      "source": [
        "### 3.4. `file`\n",
        "\n",
        "The `file` parameter allows you to specify where the output should be sent. By default, it's `sys.stdout`, which is the console. You can redirect the output to a file by providing a file object. [4, 15, 18]"
      ]
    },
    {
      "cell_type": "code",
      "execution_count": null,
      "metadata": {},
      "outputs": [],
      "source": [
        "with open('output.txt', 'w') as f:\n",
        "    print('This is some text that will be written to the file.', file=f)\n",
        "    print('This is another line.', file=f)"
      ]
    },
    {
      "cell_type": "markdown",
      "metadata": {},
      "source": [
        "Another way to achieve this is by redirecting `sys.stdout` itself. [4, 21]"
      ]
    },
    {
      "cell_type": "code",
      "execution_count": null,
      "metadata": {},
      "outputs": [],
      "source": [
        "import sys\n",
        "\n",
        "original_stdout = sys.stdout # Save a reference to the original standard output\n",
        "\n",
        "with open('another_output.txt', 'w') as f:\n",
        "    sys.stdout = f # Change the standard output to the file we created.\n",
        "    print(\"This output will go to the file.\")\n",
        "    print(\"So will this.\")\n",
        "\n",
        "sys.stdout = original_stdout # Reset the standard output to its original value\n",
        "\n",
        "print(\"This will be printed to the console again.\")"
      ]
    },
    {
      "cell_type": "markdown",
      "metadata": {},
      "source": [
        "### 3.5. `flush`\n",
        "\n",
        "The `flush` parameter is a boolean that, when set to `True`, forces the output to be written immediately. [8] By default, Python buffers output, meaning it may not appear on the screen until a newline character is printed or the buffer is full. [9] This is particularly useful for real-time applications like progress bars. [9]"
      ]
    },
    {
      "cell_type": "code",
      "execution_count": null,
      "metadata": {},
      "outputs": [],
      "source": [
        "import time\n",
        "\n",
        "print(\"Starting a countdown...\")\n",
        "for i in range(5, 0, -1):\n",
        "    print(i, end='... ', flush=True)\n",
        "    time.sleep(1)\n",
        "print(\"Go!\")"
      ]
    },
    {
      "cell_type": "markdown",
      "metadata": {},
      "source": [
        "## 4. Formatting Output\n",
        "\n",
        "There are several ways to format strings in Python for more complex output. [7]"
      ]
    },
    {
      "cell_type": "markdown",
      "metadata": {},
      "source": [
        "### 4.1. C-style Formatting with the `%` Operator\n",
        "\n",
        "This is the oldest method of string formatting in Python. It uses the `%` operator, also known as the string formatting or interpolation operator. [2, 7, 10]"
      ]
    },
    {
      "cell_type": "code",
      "execution_count": null,
      "metadata": {},
      "outputs": [],
      "source": [
        "name = \"Bob\"\n",
        "age = 25\n",
        "print(\"My name is %s and I am %d years old.\" % (name, age))"
      ]
    },
    {
      "cell_type": "markdown",
      "metadata": {},
      "source": [
        "### 4.2. The `str.format()` Method\n",
        "\n",
        "Introduced in Python 3, the `str.format()` method provides a more powerful and flexible way to format strings. [7, 26] It uses placeholders indicated by curly braces `{}`. [16, 26]"
      ]
    },
    {
      "cell_type": "code",
      "execution_count": null,
      "metadata": {},
      "outputs": [],
      "source": [
        "# Using positional arguments\n",
        "print(\"My name is {} and I am {} years old.\".format(\"Charlie\", 35))\n",
        "\n",
        "# Using keyword arguments\n",
        "print(\"My name is {name} and I am {age} years old.\".format(name=\"Charlie\", age=35))\n",
        "\n",
        "# Using indexed arguments\n",
        "print(\"The {0} brown {1} jumps over the lazy {2}.\".format(\"quick\", \"fox\", \"dog\"))"
      ]
    },
    {
      "cell_type": "markdown",
      "metadata": {},
      "source": [
        "The `format()` method also allows for more advanced formatting options. [17, 25]"
      ]
    },
    {
      "cell_type": "code",
      "execution_count": null,
      "metadata": {},
      "outputs": [],
      "source": [
        "pi = 3.14159265\n",
        "# Formatting a float to two decimal places\n",
        "print(\"The value of pi is approximately {:.2f}.\".format(pi))"
      ]
    },
    {
      "cell_type": "markdown",
      "metadata": {},
      "source": [
        "### 4.3. Formatted String Literals (f-strings)\n",
        "\n",
        "Introduced in Python 3.6, f-strings are now the preferred way to format strings. [3, 14] They are prefixed with an 'f' or 'F' and allow you to embed expressions inside string literals by placing them inside curly braces. [3, 5, 11] They are more readable, concise, and faster than other formatting methods. [3, 19]"
      ]
    },
    {
      "cell_type": "code",
      "execution_count": null,
      "metadata": {},
      "outputs": [],
      "source": [
        "name = \"David\"\n",
        "age = 40\n",
        "print(f\"My name is {name} and I am {age} years old.\")\n",
        "\n",
        "# You can also include expressions directly inside the f-string\n",
        "x = 10\n",
        "y = 5\n",
        "print(f\"The sum of {x} and {y} is {x + y}.\")"
      ]
    },
    {
      "cell_type": "markdown",
      "metadata": {},
      "source": [
        "F-strings also support the same formatting specifiers as the `str.format()` method. [3, 5]"
      ]
    },
    {
      "cell_type": "code",
      "execution_count": null,
      "metadata": {},
      "outputs": [],
      "source": [
        "pi = 3.14159265\n",
        "print(f\"The value of pi is approximately {pi:.2f}.\")"
      ]
    },
    {
      "cell_type": "markdown",
      "metadata": {},
      "source": [
        "## 5. Conclusion\n",
        "\n",
        "The `print()` function is a versatile and essential tool in Python. While its basic use is straightforward, understanding its parameters and the various string formatting methods can help you write cleaner, more readable, and more effective code."
      ]
    }
  ],
  "metadata": {
    "kernelspec": {
      "display_name": "Python 3",
      "language": "python",
      "name": "python3"
    },
    "language_info": {
      "codemirror_mode": {
        "name": "ipython",
        "version": 3
      },
      "file_extension": ".py",
      "mimetype": "text/x-python",
      "name": "python",
      "nbconvert_exporter": "python",
      "pygments_lexer": "ipython3",
      "version": "3.10.4"
    }
  },
  "nbformat": 4,
  "nbformat_minor": 2
}
