{
 "cells": [
  {
   "cell_type": "markdown",
   "metadata": {},
   "source": [
    "# A Practical Course on Handling Binary Files in Python\n",
    "\n",
    "Welcome! So far, you've likely worked with **text files** (`.txt`, `.csv`, `.json`), which are human-readable. This notebook dives into the world of **binary files**, which are designed to be read by machines.\n",
    "\n",
    "Understanding binary files is essential for working with images, audio, video, compressed archives, compiled code, and high-performance data storage."
   ]
  },
  {
   "cell_type": "markdown",
   "metadata": {},
   "source": [
    "### What is a Binary File?\n",
    "\n",
    "Think of it this way:\n",
    "- **Text File**: A sequence of characters. Python automatically handles encoding (e.g., UTF-8) to translate characters into bytes and vice-versa. It also handles newline characters (`\\n`) differently across operating systems.\n",
    "- **Binary File**: A sequence of raw **bytes**. There is no encoding/decoding and no special handling of characters. What you write is exactly what gets stored, byte for byte.\n",
    "\n",
    "| Feature | Text Files | Binary Files |\n",
    "| :--- | :--- | :--- |\n",
    "| **Content** | Human-readable characters (letters, numbers, symbols) | Raw bytes (numbers from 0-255) | \n",
    "| **Mode** | `'r'`, `'w'`, `'a'`, `'r+'` (often with `'t'`) | `'rb'`, `'wb'`, `'ab'`, `'rb+'` (must include `'b'`) |\n",
    "| **Python Type**| `str` | `bytes` |\n",
    "| **Use Cases** | Code, configuration, CSV, JSON, logs | Images, audio, executables, compressed files, `pickle` |"
   ]
  },
  {
   "cell_type": "markdown",
   "metadata": {},
   "source": [
    "### Table of Contents\n",
    "1. [The Basics: Reading and Writing in Binary Mode](#basics)\n",
    "2. [Use Case 1: Copying an Image File](#images)\n",
    "3. [Use Case 2: Storing Structured Data with `struct`](#struct)\n",
    "4. [Use Case 3: Saving Python Objects with `pickle`](#pickle)\n",
    "5. [In-Memory Binary Data with `io.BytesIO`](#bytesio)"
   ]
  },
  {
   "cell_type": "markdown",
   "metadata": {},
   "source": [
    "<a id='basics'></a>\n",
    "## 1. The Basics: Reading and Writing in Binary Mode\n",
    "\n",
    "To work with binary files, you simply add a `'b'` to the mode string in the `open()` function.\n",
    "- `'rb'`: Read Binary\n",
    "- `'wb'`: Write Binary\n",
    "- `'ab'`: Append Binary\n",
    "- `'rb+'`: Read and Write Binary\n",
    "\n",
    "When you read from a binary file, you get a `bytes` object, not a `str`. You can identify a bytes literal in code by the `b''` prefix."
   ]
  },
  {
   "cell_type": "code",
   "execution_count": null,
   "id": "ac77e92a",
   "metadata": {},
   "outputs": [
    {
     "ename": "TypeError",
     "evalue": "a bytes-like object is required, not 'str'",
     "output_type": "error",
     "traceback": [
      "\u001b[31m---------------------------------------------------------------------------\u001b[39m",
      "\u001b[31mTypeError\u001b[39m                                 Traceback (most recent call last)",
      "\u001b[36mCell\u001b[39m\u001b[36m \u001b[39m\u001b[32mIn[20]\u001b[39m\u001b[32m, line 7\u001b[39m\n\u001b[32m      4\u001b[39m info = \u001b[33m\"\u001b[39m\u001b[33mMy name is Shuvam and I am a Python Developer.\u001b[39m\u001b[33m\"\u001b[39m\n\u001b[32m      6\u001b[39m \u001b[38;5;28;01mwith\u001b[39;00m \u001b[38;5;28mopen\u001b[39m(\u001b[33m\"\u001b[39m\u001b[33minput.txt\u001b[39m\u001b[33m\"\u001b[39m, \u001b[33m\"\u001b[39m\u001b[33mwb\u001b[39m\u001b[33m\"\u001b[39m) \u001b[38;5;28;01mas\u001b[39;00m file:\n\u001b[32m----> \u001b[39m\u001b[32m7\u001b[39m     \u001b[43mfile\u001b[49m\u001b[43m.\u001b[49m\u001b[43mwrite\u001b[49m\u001b[43m(\u001b[49m\u001b[33;43mf\u001b[39;49m\u001b[33;43m\"\u001b[39;49m\u001b[38;5;132;43;01m{\u001b[39;49;00m\u001b[43minfo\u001b[49m\u001b[38;5;132;43;01m}\u001b[39;49;00m\u001b[38;5;130;43;01m\\n\u001b[39;49;00m\u001b[33;43m\"\u001b[39;49m\u001b[43m)\u001b[49m\n\u001b[32m      9\u001b[39m \u001b[38;5;28;01mwith\u001b[39;00m \u001b[38;5;28mopen\u001b[39m(\u001b[33m\"\u001b[39m\u001b[33minput.txt\u001b[39m\u001b[33m\"\u001b[39m, \u001b[33m\"\u001b[39m\u001b[33mrb\u001b[39m\u001b[33m\"\u001b[39m) \u001b[38;5;28;01mas\u001b[39;00m file:\n\u001b[32m     10\u001b[39m     content = file.read()\n",
      "\u001b[31mTypeError\u001b[39m: a bytes-like object is required, not 'str'"
     ]
    }
   ],
   "source": [
    "# Adding Emoji to a normal text file\n",
    "# This script reads a text file, replaces certain words with emojis, and writes the result to a new file.\n",
    "\n",
    "info = \"My name is Shuvam and I am a Python Developer. 😀\"\n",
    "\n",
    "with open(\"input.txt\", \"wb\") as file:\n",
    "    file.write(f\"{info}\\n\")\n",
    "\n",
    "with open(\"input.txt\", \"rb\") as file:\n",
    "    content = file.read()\n",
    "    print(content)\n",
    "    \n",
    "    \n",
    "   "
   ]
  },
  {
   "cell_type": "code",
   "execution_count": 8,
   "id": "516086e9",
   "metadata": {},
   "outputs": [
    {
     "name": "stdout",
     "output_type": "stream",
     "text": [
      "😀\n",
      "\n"
     ]
    }
   ],
   "source": [
    "info = \"😀\"\n",
    "\n",
    "with open(\"input.txt\", \"w\") as file:\n",
    "    file.write(f\"{info}\\n\")\n",
    "\n",
    "with open(\"input.txt\", \"r\") as file:\n",
    "    content = file.read()\n",
    "    print(content) "
   ]
  },
  {
   "cell_type": "code",
   "execution_count": null,
   "metadata": {},
   "outputs": [
    {
     "name": "stdout",
     "output_type": "stream",
     "text": [
      "Wrote 5 bytes to data.bin\n",
      "\n",
      "Read back: b'Hello'\n",
      "Type of data read: <class 'bytes'>\n",
      "Decoded string: Hello\n"
     ]
    }
   ],
   "source": [
    "# Let's write some raw bytes to a file\n",
    "byte_data = b'\\x48\\x65\\x6c\\x6c\\x6f' # This is 'Hello' in ASCII hexadecimal bytes\n",
    "\n",
    "with open('data.bin', 'wb') as f:\n",
    "    f.write(byte_data)\n",
    "\n",
    "print(\"Wrote 5 bytes to data.bin\")\n",
    "\n",
    "# Now, let's read them back\n",
    "with open('data.bin', 'rb') as f:\n",
    "    read_bytes = f.read()\n",
    "\n",
    "print(f\"\\nRead back: {read_bytes}\")\n",
    "print(f\"Type of data read: {type(read_bytes)}\")\n",
    "\n",
    "# You can decode bytes back into a string if you know the encoding\n",
    "decoded_string = read_bytes.decode('utf-8', errors='ignore')\n",
    "print(f\"Decoded string: {decoded_string}\")"
   ]
  },
  {
   "cell_type": "markdown",
   "metadata": {},
   "source": [
    "<a id='images'></a>\n",
    "## 2. Use Case 1: Copying an Image File\n",
    "\n",
    "Images are a perfect example of binary files. You can't open a `.jpg` or `.png` in a text editor and make sense of it. To work with an image, we can read its raw bytes and write them to a new file, effectively creating a perfect copy.\n",
    "\n",
    "First, we'll use the `Pillow` library to create a sample image to work with."
   ]
  },
  {
   "cell_type": "code",
   "execution_count": 15,
   "id": "16a67c56",
   "metadata": {},
   "outputs": [
    {
     "name": "stdout",
     "output_type": "stream",
     "text": [
      "Requirement already satisfied: pillow in /home/shuvam/codes/Python-Course-for-Beginners/.venv/lib/python3.13/site-packages (11.2.1)\n"
     ]
    }
   ],
   "source": [
    "!pip install pillow"
   ]
  },
  {
   "cell_type": "code",
   "execution_count": 18,
   "metadata": {},
   "outputs": [
    {
     "name": "stdout",
     "output_type": "stream",
     "text": [
      "Created 'original_image.png'\n",
      "Read 287 bytes from the original image.\n",
      "Wrote bytes to 'copied_image.png', creating a perfect copy.\n",
      "\n",
      "Cleaned up image files.\n"
     ]
    }
   ],
   "source": [
    "# You may need to install Pillow: pip install Pillow\n",
    "from PIL import Image\n",
    "import os\n",
    "\n",
    "# Create a simple 100x100 red image\n",
    "try:\n",
    "    img = Image.new('RGB', (100, 100), color = 'red')\n",
    "    img.save('original_image.png')\n",
    "    print(\"Created 'original_image.png'\")\n",
    "\n",
    "    # --- The Binary File Handling Part ---\n",
    "    # 1. Read all bytes from the original image file\n",
    "    with open('original_image.png', 'rb') as original_file:\n",
    "        image_bytes = original_file.read()\n",
    "\n",
    "    print(f\"Read {len(image_bytes)} bytes from the original image.\")\n",
    "\n",
    "    # 2. Write those exact same bytes to a new file\n",
    "    with open('copied_image.png', 'wb') as new_file:\n",
    "        new_file.write(image_bytes)\n",
    "\n",
    "    print(\"Wrote bytes to 'copied_image.png', creating a perfect copy.\")\n",
    "\n",
    "finally:\n",
    "    # # Clean up the created files\n",
    "    # if os.path.exists('original_image.png'): os.remove('original_image.png')\n",
    "    # if os.path.exists('copied_image.png'): os.remove('copied_image.png')\n",
    "    print(\"\\nCleaned up image files.\")"
   ]
  },
  {
   "cell_type": "markdown",
   "id": "41d629c0",
   "metadata": {},
   "source": [
    "<a id='struct'></a>\n",
    "## 3. Use Case 2: Storing Structured Data with `struct`\n",
    "\n",
    "How do you save numbers like integers and floats in a compact, efficient, binary way? If you write `'123'` to a text file, it takes 3 bytes. A 4-byte integer can store numbers up to ~2 billion.\n",
    "\n",
    "The `struct` module is Python's way of converting between Python values and C structs represented as Python `bytes` objects. It lets you \"pack\" data into a compact binary format according to a format string.\n",
    "\n",
    "**Common Format Characters:**\n",
    "- `i`: integer (4 bytes)\n",
    "- `f`: float (4 bytes)\n",
    "- `d`: double (8 bytes)\n",
    "- `q`: long long integer (8 bytes)\n",
    "- `s`: bytes (e.g., `4s` means 4 bytes)\n",
    "- `>`: big-endian byte order (network standard)"
   ]
  },
  {
   "cell_type": "code",
   "execution_count": null,
   "metadata": {},
   "outputs": [],
   "source": [
    "import struct\n",
    "\n",
    "# Let's pack an integer, a float, and a 4-char string\n",
    "record_id = 101\n",
    "temperature = 98.6\n",
    "sensor_code = b'TEMP' # Must be bytes\n",
    "\n",
    "# Format: > (big-endian), i (integer), f (float), 4s (4 bytes)\n",
    "record_format = '>if4s'\n",
    "\n",
    "# 1. Pack the data into a bytes object\n",
    "packed_data = struct.pack(record_format, record_id, temperature, sensor_code)\n",
    "\n",
    "print(f\"Packed data: {packed_data}\")\n",
    "print(f\"Size of packed data: {len(packed_data)} bytes\") # 4 (int) + 4 (float) + 4 (string) = 12 bytes\n",
    "\n",
    "# 2. Write the packed data to a binary file\n",
    "with open('sensor_reading.dat', 'wb') as f:\n",
    "    f.write(packed_data)\n",
    "\n",
    "# 3. Read the data back\n",
    "with open('sensor_reading.dat', 'rb') as f:\n",
    "    read_data = f.read()\n",
    "\n",
    "# 4. Unpack the bytes back into Python objects\n",
    "unpacked_data = struct.unpack(record_format, read_data)\n",
    "\n",
    "print(f\"\\nUnpacked data: {unpacked_data}\")"
   ]
  },
  {
   "cell_type": "markdown",
   "metadata": {},
   "source": [
    "<a id='pickle'></a>\n",
    "## 4. Use Case 3: Saving Python Objects with `pickle`\n",
    "\n",
    "The `pickle` module provides an even higher-level way to handle binary data. It **serializes** entire Python objects (like dictionaries, lists, or custom classes) into a byte stream. This is incredibly convenient for saving program state.\n",
    "\n",
    "> **Security Warning:** `pickle` is not secure. Never unpickle data from an untrusted source, as it can be forced to execute arbitrary code."
   ]
  },
  {
   "cell_type": "code",
   "execution_count": 21,
   "metadata": {},
   "outputs": [
    {
     "name": "stdout",
     "output_type": "stream",
     "text": [
      "Saved config dictionary to config.pkl\n",
      "\n",
      "Loaded config: {'api_key': 'xyz-123-abc', 'retries': 3, 'endpoints': ['/api/v1', '/api/v2']}\n",
      "Type of loaded object: <class 'dict'>\n"
     ]
    }
   ],
   "source": [
    "import pickle\n",
    "\n",
    "my_config = {\n",
    "    'api_key': 'xyz-123-abc',\n",
    "    'retries': 3,\n",
    "    'endpoints': ['/api/v1', '/api/v2']\n",
    "}\n",
    "\n",
    "# Save the dictionary to a pickle file using 'wb'\n",
    "with open('config.pkl', 'wb') as f:\n",
    "    pickle.dump(my_config, f)\n",
    "\n",
    "print(\"Saved config dictionary to config.pkl\")\n",
    "\n",
    "# Load the object back from the file using 'rb'\n",
    "with open('config.pkl', 'rb') as f:\n",
    "    loaded_config = pickle.load(f)\n",
    "\n",
    "print(f\"\\nLoaded config: {loaded_config}\")\n",
    "print(f\"Type of loaded object: {type(loaded_config)}\")"
   ]
  },
  {
   "cell_type": "markdown",
   "metadata": {},
   "source": [
    "<a id='bytesio'></a>\n",
    "## 5. In-Memory Binary Data with `io.BytesIO`\n",
    "\n",
    "Sometimes, you have binary data in memory (e.g., downloaded from an API) and need to pass it to a library that expects a file. `io.BytesIO` creates an **in-memory binary stream** (a file-like object) that you can use for this.\n",
    "\n",
    "This avoids the need to save the data to a temporary file on disk."
   ]
  },
  {
   "cell_type": "code",
   "execution_count": null,
   "metadata": {},
   "outputs": [],
   "source": [
    "import io\n",
    "\n",
    "# Imagine this byte string came from a network request\n",
    "# We'll re-use the packed data from our struct example\n",
    "in_memory_data = packed_data \n",
    "\n",
    "# Create an in-memory binary file from the bytes\n",
    "memory_file = io.BytesIO(in_memory_data)\n",
    "\n",
    "# Now we can .read() from it just like a real file\n",
    "read_from_memory = memory_file.read()\n",
    "\n",
    "# We can pass this 'memory_file' object to any function that expects a file opened in 'rb' mode\n",
    "unpacked_from_memory = struct.unpack(record_format, read_from_memory)\n",
    "\n",
    "print(f\"Data read from memory file: {read_from_memory}\")\n",
    "print(f\"Unpacked from memory file: {unpacked_from_memory}\")"
   ]
  },
  {
   "cell_type": "markdown",
   "metadata": {},
   "source": [
    "## Conclusion\n",
    "\n",
    "You now have a solid foundation for working with binary files in Python!\n",
    "\n",
    "**Key Takeaways:**\n",
    "- **Use `'b'` in the mode** (`'rb'`, `'wb'`) to enter binary mode.\n",
    "- You will work with `bytes` objects, not `str` objects.\n",
    "- For simple byte-for-byte operations like copying files, just `read()` and `write()`.\n",
    "- For high-performance, compact storage of numerical data, use the **`struct`** module.\n",
    "- For conveniently saving and loading entire Python objects, use the **`pickle`** module (with caution!).\n",
    "- To treat in-memory bytes as a file, use **`io.BytesIO`**.\n",
    "\n",
    "This knowledge opens the door to a huge range of applications that go far beyond simple text processing."
   ]
  }
 ],
 "metadata": {
  "kernelspec": {
   "display_name": ".venv",
   "language": "python",
   "name": "python3"
  },
  "language_info": {
   "codemirror_mode": {
    "name": "ipython",
    "version": 3
   },
   "file_extension": ".py",
   "mimetype": "text/x-python",
   "name": "python",
   "nbconvert_exporter": "python",
   "pygments_lexer": "ipython3",
   "version": "3.12.7"
  }
 },
 "nbformat": 4,
 "nbformat_minor": 5
}
