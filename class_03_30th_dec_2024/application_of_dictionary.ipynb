{
 "cells": [
  {
   "cell_type": "markdown",
   "metadata": {},
   "source": [
    "# Application of Dictionaries in Python\n",
    "\n",
    "## 1. Word Frequency Counter\n",
    "\n",
    "Count the frequency of each word in a given paragraph of text.\n",
    "\n",
    "Problem: Write a function that takes a string and returns a dictionary where the keys are words, and the values are their frequencies."
   ]
  },
  {
   "cell_type": "code",
   "execution_count": 7,
   "metadata": {},
   "outputs": [
    {
     "name": "stdout",
     "output_type": "stream",
     "text": [
      "{'you': 1, 'all': 1, 'underestimate': 1, 'humans': 3, 'individually': 1, 'they': 1, 'may': 1, 'appear': 1, 'weak': 1, 'but': 1, 'that': 3, 'is': 2, 'not': 1, 'the': 2, 'case': 1, 'what': 1, 'we': 3, 'need': 1, 'to': 2, 'recognize': 1, 'are': 1, 'a': 2, 'single': 1, 'life-form': 1, 'comprised': 1, 'of': 3, 'millions': 1, 'individuals': 1, 'besides': 1, 'their': 1, 'individual': 1, 'brains': 1, 'possess': 1, 'different': 1, '“brain”': 1, 'enormous': 1, 'magnitude': 1, 'moment': 1, 'act': 1, 'in': 1, 'opposition': 1, 'brain': 1, 'will': 1, 'lose': 1}\n"
     ]
    }
   ],
   "source": [
    "def word_frequency(text):\n",
    "    # Remove punctuation and convert to lowercase\n",
    "    words = text.lower().replace(',', '').replace('.', '').replace('!', '').split()\n",
    "    frequency = {}\n",
    "    for word in words:\n",
    "        frequency[word] = frequency.get(word, 0) + 1\n",
    "    return frequency\n",
    "\n",
    "# Example usage\n",
    "text = \"You all underestimate humans. Individually, they may appear weak, but that is not the case. What we need to recognize is that humans are a single life-form comprised of millions of individuals. Besides their individual brains, humans possess a different “brain” of enormous magnitude. The moment we act in opposition to that brain, we will lose.\"\n",
    "print(word_frequency(text)) #tokenized dictionary of words\n",
    "\n"
   ]
  },
  {
   "cell_type": "markdown",
   "metadata": {},
   "source": [
    "## 2. Group Anagrams\n",
    "\n",
    "Group a list of strings into sets of anagrams.\n",
    "\n",
    "Problem: Write a function that takes a list of strings and groups them into lists of anagrams."
   ]
  },
  {
   "cell_type": "code",
   "execution_count": 5,
   "metadata": {},
   "outputs": [
    {
     "name": "stdout",
     "output_type": "stream",
     "text": [
      "The anagram group is : {'eilnst': ['listen', 'silent', 'enlist'], 'ehllo': ['hello'], 'dlorw': ['world', 'dolrw']}\n",
      "[['listen', 'silent', 'enlist'], ['hello'], ['world', 'dolrw']]\n"
     ]
    }
   ],
   "source": [
    "def group_anagrams(words):\n",
    "    anagram_groups = {}\n",
    "    for word in words:\n",
    "        sorted_word = ''.join(sorted(word)) \n",
    "        #print(sorted_word) # Sort the word alphabetically\n",
    "        anagram_groups.setdefault(sorted_word, []).append(word)\n",
    "        \n",
    "    print(f'The anagram group is : {anagram_groups}')\n",
    "    return list(anagram_groups.values())\n",
    "\n",
    "# Example usage\n",
    "words = [\"listen\", \"silent\", \"enlist\", \"hello\", \"world\", \"dolrw\"]\n",
    "print(group_anagrams(words))\n"
   ]
  },
  {
   "cell_type": "markdown",
   "metadata": {},
   "source": [
    "## 3. Character Frequency in a String\n",
    "\n",
    "Count the frequency of each character in a string, ignoring spaces.\n",
    "\n",
    "Problem: Write a function that returns a dictionary with the frequency of each character in a string"
   ]
  },
  {
   "cell_type": "code",
   "execution_count": 6,
   "metadata": {},
   "outputs": [
    {
     "name": "stdout",
     "output_type": "stream",
     "text": [
      "{'h': 1, 'e': 1, 'l': 3, 'o': 2, 'w': 1, 'r': 1, 'd': 1}\n"
     ]
    }
   ],
   "source": [
    "def char_frequency(string):\n",
    "    frequency = {}\n",
    "    for char in string.replace(\" \", \"\"):  # Ignore spaces\n",
    "        frequency[char] = frequency.get(char, 0) + 1\n",
    "    return frequency\n",
    "\n",
    "# Example usage\n",
    "string = \"hello world\"\n",
    "print(char_frequency(string))\n"
   ]
  },
  {
   "cell_type": "markdown",
   "metadata": {},
   "source": [
    "## 4. Top N Frequent Elements\n",
    "\n",
    "Find the N most frequent elements in a list.\n",
    "\n",
    "Problem: Write a function that takes a list and an integer N and returns the N most frequent elements."
   ]
  },
  {
   "cell_type": "code",
   "execution_count": 8,
   "metadata": {},
   "outputs": [
    {
     "name": "stdout",
     "output_type": "stream",
     "text": [
      "[(4, 4), (3, 3)]\n"
     ]
    }
   ],
   "source": [
    "from collections import Counter\n",
    "\n",
    "def top_n_frequent(elements, n):\n",
    "    frequency = Counter(elements)  # Count occurrences\n",
    "    return frequency.most_common(n)\n",
    "\n",
    "# Example usage\n",
    "elements = [1, 2, 2, 3, 3, 3, 4, 4, 4, 4]\n",
    "print(top_n_frequent(elements, 2))\n"
   ]
  },
  {
   "cell_type": "markdown",
   "metadata": {},
   "source": [
    "## Suppose you don't want to use the module and you want your own counter function\n",
    "\n",
    "### Algorithm:\n",
    "\n",
    "1. Take input from the user ie a list of many reapeated elements\n",
    "2. Convert the list to a set and store it somewhere\n",
    "3. Then basically create a dictionary with the keys coming from  the set and the values are the number of times the particular key was found in the list.\n",
    "\n",
    "Take it as homework!!!!\n"
   ]
  },
  {
   "cell_type": "markdown",
   "metadata": {},
   "source": [
    "## 5. Find Missing and Duplicate Numbers\n",
    "\n",
    "Given a list of integers from 1 to n with one number missing and one duplicate, find the missing and duplicate numbers.\n",
    "\n",
    "Problem: Write a function to find the missing and duplicate numbers.\n"
   ]
  },
  {
   "cell_type": "code",
   "execution_count": 9,
   "metadata": {},
   "outputs": [
    {
     "name": "stdout",
     "output_type": "stream",
     "text": [
      "(3, 2)\n"
     ]
    }
   ],
   "source": [
    "def find_missing_and_duplicate(nums):\n",
    "    count = {}\n",
    "    for num in nums:\n",
    "        count[num] = count.get(num, 0) + 1\n",
    "\n",
    "    duplicate = missing = None\n",
    "    for i in range(1, len(nums) + 1):\n",
    "        if count.get(i, 0) == 0:\n",
    "            missing = i\n",
    "        elif count[i] > 1:\n",
    "            duplicate = i\n",
    "\n",
    "    return missing, duplicate\n",
    "\n",
    "# Example usage\n",
    "nums = [1, 2, 2, 4, 5]\n",
    "print(find_missing_and_duplicate(nums))\n"
   ]
  },
  {
   "cell_type": "markdown",
   "metadata": {},
   "source": [
    "In Python, **`None`** and **`none`** are not the same. \n",
    "\n",
    "---\n",
    "\n",
    "### 1. **`None`**\n",
    "- **Type**: `None` is a special built-in constant in Python.\n",
    "- **Purpose**: It represents the absence of a value or a null value.\n",
    "- **Type Information**: The type of `None` is `NoneType`.\n",
    "\n",
    "```python\n",
    "print(type(None))  # Output: <class 'NoneType'>\n",
    "```\n",
    "\n",
    "- **Use Cases**:\n",
    "  1. **Default Return Value**: Functions that don’t explicitly return a value will return `None` by default.\n",
    "     ```python\n",
    "     def my_function():\n",
    "         pass  # No return statement\n",
    "\n",
    "     print(my_function())  # Output: None\n",
    "     ```\n",
    "  2. **Placeholder for Variables**: Used to initialize a variable that doesn’t yet have a value.\n",
    "     ```python\n",
    "     result = None  # Placeholder for a result to be computed later\n",
    "     ```\n",
    "  3. **Check for Absence**: Often used in conditional checks to indicate the lack of a value.\n",
    "     ```python\n",
    "     if my_variable is None:\n",
    "         print(\"No value assigned yet.\")\n",
    "     ```\n",
    "\n",
    "- **Behavior**:\n",
    "  - `None` is a singleton, meaning there is only one instance of `None` in a Python program.\n",
    "  - It is immutable and globally unique.\n",
    "    ```python\n",
    "    a = None\n",
    "    b = None\n",
    "    print(a is b)  # Output: True\n",
    "    ```\n",
    "\n",
    "---\n",
    "\n",
    "### 2. **`none`**\n",
    "- **Type**: `none` is **not a keyword** or built-in constant in Python. It's simply a variable name or identifier if you define it.\n",
    "- **Behavior**:\n",
    "  - If you attempt to use `none` without defining it, Python will raise a `NameError`.\n",
    "    ```python\n",
    "    print(none)  # Raises NameError: name 'none' is not defined\n",
    "    ```\n",
    "  - If you define it as a variable, it behaves like any other user-defined variable.\n",
    "    ```python\n",
    "    none = 42\n",
    "    print(none)  # Output: 42\n",
    "    ```\n",
    "\n",
    "---\n",
    "\n",
    "### 3. **Design Differences**\n",
    "| Aspect                  | `None`                                   | `none`                                  |\n",
    "|-------------------------|------------------------------------------|-----------------------------------------|\n",
    "| **Nature**              | Built-in constant in Python.             | A regular variable name or identifier. |\n",
    "| **Case Sensitivity**    | Python is case-sensitive, so `None` is distinct from `none`. | Case-sensitive and not predefined.     |\n",
    "| **Scope**               | Globally available as part of the Python language. | User-defined and limited to its scope. |\n",
    "| **Purpose**             | Represents \"no value\" or \"null.\"         | Can represent anything based on the user's definition. |\n",
    "| **Error Handling**      | Always recognized in Python.             | Causes a `NameError` if used without being defined. |\n",
    "\n",
    "---\n",
    "\n",
    "### 4. **Practical Examples of Differences**\n",
    "- Using `None`:\n",
    "  ```python\n",
    "  def check_value(x):\n",
    "      if x is None:\n",
    "          return \"Value is missing\"\n",
    "      else:\n",
    "          return f\"Value is {x}\"\n",
    "\n",
    "  print(check_value(None))  # Output: Value is missing\n",
    "  ```\n",
    "\n",
    "- Using `none` (as a user-defined variable):\n",
    "  ```python\n",
    "  none = \"Custom value\"\n",
    "  print(none)  # Output: Custom value\n",
    "  ```\n",
    "\n",
    "---\n",
    "\n",
    "### 5. **Key Takeaways**\n",
    "- **`None`** is a built-in singleton that represents a null or undefined state in Python and is integral to the language's design.\n",
    "- **`none`** is just a potential variable name that has no inherent meaning in Python until defined by the user.\n",
    "- Misusing `none` without defining it will lead to errors, while `None` is always available and meaningful in Python programs.\n"
   ]
  }
 ],
 "metadata": {
  "kernelspec": {
   "display_name": "Python 3",
   "language": "python",
   "name": "python3"
  },
  "language_info": {
   "codemirror_mode": {
    "name": "ipython",
    "version": 3
   },
   "file_extension": ".py",
   "mimetype": "text/x-python",
   "name": "python",
   "nbconvert_exporter": "python",
   "pygments_lexer": "ipython3",
   "version": "3.13.1"
  }
 },
 "nbformat": 4,
 "nbformat_minor": 2
}
