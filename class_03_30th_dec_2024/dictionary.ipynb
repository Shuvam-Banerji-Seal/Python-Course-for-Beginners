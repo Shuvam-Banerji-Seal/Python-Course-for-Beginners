{
 "cells": [
  {
   "cell_type": "markdown",
   "metadata": {},
   "source": [
    "# Dictionaries in Python\n",
    "\n",
    "\n",
    "## 1. Type Casting for Dictionary Values\n",
    "\n",
    "When retrieving values from a dictionary, you may need to cast them to the desired type for further operations."
   ]
  },
  {
   "cell_type": "code",
   "execution_count": 5,
   "metadata": {},
   "outputs": [
    {
     "name": "stdout",
     "output_type": "stream",
     "text": [
      "Name: Alice\n",
      "Age: 25 (type: <class 'int'>)\n",
      "Height: 5.6 (type: <class 'float'>)\n",
      "Is Student: True (type: <class 'bool'>)\n"
     ]
    }
   ],
   "source": [
    "# Sample dictionary with mixed data types\n",
    "data = {\n",
    "    \"name\": \"Alice\",\n",
    "    \"age\": \"25\",  # Stored as a string\n",
    "    \"height\": \"5.6\",  # Stored as a string\n",
    "    \"is_student\": \"True\"  # Stored as a string\n",
    "}\n",
    "\n",
    "# Type casting values\n",
    "age = int(data[\"age\"])  # Casting to integer\n",
    "height = float(data[\"height\"])  # Casting to float\n",
    "is_student = bool(data[\"is_student\"] == \"True\")  # Casting to boolean\n",
    "\n",
    "print(f\"Name: {data['name']}\")\n",
    "print(f\"Age: {age} (type: {type(age)})\")\n",
    "print(f\"Height: {height} (type: {type(height)})\")\n",
    "print(f\"Is Student: {is_student} (type: {type(is_student)})\")\n",
    "\n",
    "\n"
   ]
  },
  {
   "cell_type": "markdown",
   "metadata": {},
   "source": [
    "## 2. Type Casting While Populating a Dictionary\n",
    "\n",
    "When creating a dictionary from inputs, ensure values are stored in the correct type."
   ]
  },
  {
   "cell_type": "code",
   "execution_count": 2,
   "metadata": {},
   "outputs": [
    {
     "name": "stdout",
     "output_type": "stream",
     "text": [
      "{'name': 'Niket', 'age': 17, 'height': 173.0, 'is_student': True}\n"
     ]
    }
   ],
   "source": [
    "# Inputs\n",
    "\n",
    "    \n",
    "name = input(\"Enter name: \")\n",
    "age = int(input(\"Enter age: \"))  # Casting to integer\n",
    "height = float(input(\"Enter height in meters: \"))  # Casting to float\n",
    "is_student = input(\"Are you a student? (yes/no): \").strip().lower() == \"yes\"  # Casting to boolean\n",
    "\n",
    "# Create dictionary\n",
    "person = {\n",
    "    \"name\": name,\n",
    "    \"age\": age,\n",
    "    \"height\": height,\n",
    "    \"is_student\": is_student\n",
    "}\n",
    "\n",
    "print(person)\n"
   ]
  },
  {
   "cell_type": "markdown",
   "metadata": {},
   "source": [
    "## Creating a dictionary with multiple values for the same key\n",
    "\n",
    "Remember that the indexing in the dictionaries of python is done through the key name/string/identity. A key may lead to another dictionary or a list or an array or anything you may desire.\n"
   ]
  },
  {
   "cell_type": "code",
   "execution_count": 3,
   "metadata": {},
   "outputs": [
    {
     "name": "stdout",
     "output_type": "stream",
     "text": [
      "\n",
      "Final Dictionary:\n",
      "{'name': ['sbs', 'nik'], 'age': ['22', '17']}\n"
     ]
    }
   ],
   "source": [
    "# Initialize an empty dictionary\n",
    "data = {}\n",
    "\n",
    "# Get the number of entries\n",
    "n = int(input(\"Enter the number of keys: \"))\n",
    "\n",
    "# Loop to take input for each key and its associated values\n",
    "for _ in range(n):\n",
    "    key = input(\"Enter the key: \")\n",
    "    num_values = int(input(f\"How many values for '{key}'? \"))\n",
    "    values = []\n",
    "    \n",
    "    # Loop to input multiple values for the key\n",
    "    for i in range(num_values):\n",
    "        value = input(f\"Enter value {i + 1} for '{key}': \")\n",
    "        values.append(value)\n",
    "    \n",
    "    # Add key-value pair to the dictionary\n",
    "    data[key] = values\n",
    "\n",
    "# Print the resulting dictionary\n",
    "print(\"\\nFinal Dictionary:\")\n",
    "print(data)\n"
   ]
  },
  {
   "cell_type": "markdown",
   "metadata": {},
   "source": [
    "## 3. Iterating Over a Dictionary with Type Casting\n",
    "\n",
    "Loop through dictionary items and apply type casting as needed."
   ]
  },
  {
   "cell_type": "code",
   "execution_count": 7,
   "metadata": {},
   "outputs": [
    {
     "name": "stdout",
     "output_type": "stream",
     "text": [
      "dict_items([('item1', '123'), ('item2', '45.67'), ('item3', 'False'), ('item4', 'True')])\n",
      "{'item1': 123, 'item2': 45.67, 'item3': False, 'item4': True}\n"
     ]
    }
   ],
   "source": [
    "# Dictionary with values as strings\n",
    "raw_data = {\n",
    "    \"item1\": \"123\",\n",
    "    \"item2\": \"45.67\",\n",
    "    \"item3\": \"False\",\n",
    "    \"item4\": \"True\"\n",
    "}\n",
    "print(raw_data.items())\n",
    "# Type casting during iteration\n",
    "processed_data = {}\n",
    "for key, value in raw_data.items():\n",
    "    if value.isdigit():  # Check if value is an integer\n",
    "        processed_data[key] = int(value)\n",
    "    elif value.replace('.', '', 1).isdigit():  # Check if value is a float\n",
    "        processed_data[key] = float(value)\n",
    "    elif value in [\"True\", \"False\"]:  # Check if value is a boolean\n",
    "        processed_data[key] = value == \"True\"\n",
    "    else:\n",
    "        processed_data[key] = value  # Keep as string if no casting applies\n",
    "\n",
    "print(processed_data)\n"
   ]
  },
  {
   "cell_type": "markdown",
   "metadata": {},
   "source": [
    "## 4. Using json.loads for Type Conversion\n",
    "\n",
    "Dictionaries often come from JSON strings, and json.loads can handle type casting automatically."
   ]
  },
  {
   "cell_type": "code",
   "execution_count": 8,
   "metadata": {},
   "outputs": [
    {
     "name": "stdout",
     "output_type": "stream",
     "text": [
      "{'name': 'Bob', 'age': 30, 'is_active': True, 'balance': 1000.5}\n"
     ]
    }
   ],
   "source": [
    "import json\n",
    "\n",
    "# JSON string\n",
    "json_string = '{\"name\": \"Bob\", \"age\": \"30\", \"is_active\": \"true\", \"balance\": \"1000.50\"}'\n",
    "\n",
    "# Parse JSON and cast types\n",
    "data = json.loads(json_string)\n",
    "\n",
    "# Explicit type casting for specific fields\n",
    "data[\"age\"] = int(data[\"age\"])\n",
    "data[\"is_active\"] = data[\"is_active\"].lower() == \"true\"\n",
    "data[\"balance\"] = float(data[\"balance\"])\n",
    "\n",
    "print(data)\n"
   ]
  },
  {
   "cell_type": "markdown",
   "metadata": {},
   "source": [
    "## 5. Default Values and Type Casting\n",
    "\n",
    "Using .get() with type casting to handle missing keys gracefully."
   ]
  },
  {
   "cell_type": "code",
   "execution_count": 12,
   "metadata": {},
   "outputs": [
    {
     "name": "stdout",
     "output_type": "stream",
     "text": [
      "{'username': 'john_doe', 'age': '29'}\n",
      "Age: 29 (type: <class 'int'>)\n",
      "Height: 0.0 (type: <class 'float'>)\n"
     ]
    }
   ],
   "source": [
    "# Dictionary with some missing keys\n",
    "user_data = {\n",
    "    \"username\": \"john_doe\",\n",
    "    \"age\": \"29\"  # Stored as string\n",
    "}\n",
    "\n",
    "# Retrieve values with default and type casting\n",
    "age = int(user_data.get(\"age\", \"0\"))  # Default to 0 if key is missing\n",
    "height = float(user_data.get(\"height\", \"0.0\"))  # Default to 0.0 if key is missing\n",
    "\n",
    "print(user_data)\n",
    "print(f\"Age: {age} (type: {type(age)})\")\n",
    "print(f\"Height: {height} (type: {type(height)})\")\n"
   ]
  }
 ],
 "metadata": {
  "kernelspec": {
   "display_name": "Python 3",
   "language": "python",
   "name": "python3"
  },
  "language_info": {
   "codemirror_mode": {
    "name": "ipython",
    "version": 3
   },
   "file_extension": ".py",
   "mimetype": "text/x-python",
   "name": "python",
   "nbconvert_exporter": "python",
   "pygments_lexer": "ipython3",
   "version": "3.13.1"
  }
 },
 "nbformat": 4,
 "nbformat_minor": 2
}
