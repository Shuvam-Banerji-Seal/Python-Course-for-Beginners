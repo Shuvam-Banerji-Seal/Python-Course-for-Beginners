{
 "cells": [
  {
   "cell_type": "markdown",
   "metadata": {},
   "source": [
    "# Tkinter Intro Course (single notebook version)\n",
    "> Covers the minimal set of widgets and patterns you need to build your first GUI."
   ]
  },
  {
   "cell_type": "markdown",
   "metadata": {},
   "source": [
    "## 1. First window"
   ]
  },
  {
   "cell_type": "code",
   "execution_count": null,
   "metadata": {},
   "outputs": [],
   "source": [
    "import tkinter as tk\n",
    "\n",
    "root = tk.Tk()\n",
    "root.title(\"My first Tkinter window\")\n",
    "root.geometry(\"1300x200\")\n",
    "root.mainloop()"
   ]
  },
  {
   "cell_type": "markdown",
   "metadata": {},
   "source": [
    "## 2. Label widget"
   ]
  },
  {
   "cell_type": "code",
   "execution_count": 14,
   "metadata": {},
   "outputs": [],
   "source": [
    "root = tk.Tk()\n",
    "root.title(\"Label demo\")\n",
    "\n",
    "tk.Label(root, text=\"Hello Tkinter\", font=\"Arial 16 bold\").pack(pady=20)\n",
    "root.mainloop()"
   ]
  },
  {
   "cell_type": "markdown",
   "metadata": {},
   "source": [
    "## 3. Buttons & simple interaction"
   ]
  },
  {
   "cell_type": "code",
   "execution_count": 18,
   "metadata": {},
   "outputs": [
    {
     "name": "stdout",
     "output_type": "stream",
     "text": [
      "1\n",
      "2\n",
      "3\n",
      "4\n",
      "5\n",
      "6\n",
      "7\n",
      "8\n",
      "9\n",
      "10\n",
      "11\n",
      "12\n",
      "13\n",
      "14\n",
      "15\n"
     ]
    }
   ],
   "source": [
    "counter = 0\n",
    "\n",
    "def increase():\n",
    "    global counter, lbl\n",
    "    counter += 1\n",
    "    print(counter)\n",
    "    lbl.config(text=str(counter))\n",
    "\n",
    "root = tk.Tk()\n",
    "root.title(\"Counter\")\n",
    "\n",
    "lbl = tk.Label(root, text=\"0\", font=\"Arial 20\")\n",
    "lbl.pack(pady=10)\n",
    "\n",
    "tk.Button(root, text=\"Increase\", command=increase).pack()\n",
    "root.mainloop()"
   ]
  },
  {
   "cell_type": "markdown",
   "metadata": {},
   "source": [
    "## 4. Entry widget"
   ]
  },
  {
   "cell_type": "code",
   "execution_count": 26,
   "metadata": {},
   "outputs": [],
   "source": [
    "def greet():\n",
    "    name = en.get()\n",
    "    print(name)\n",
    "    label.config(text=f\"Hello {name}\")\n",
    "\n",
    "root = tk.Tk()\n",
    "root.title(\"Name entry\")\n",
    "\n",
    "tk.Label(root, text=\"Your name:\").pack(pady=5)\n",
    "en = tk.Entry(root)\n",
    "\n",
    "en.pack(pady=5, padx=10)\n",
    "\n",
    "tk.Button(root, text=\"Greet\", command=greet).pack(pady=5)\n",
    "label = tk.Label(root, text=\"\")\n",
    "label.pack(pady=5)\n",
    "\n",
    "root.mainloop()"
   ]
  },
  {
   "cell_type": "markdown",
   "metadata": {},
   "source": [
    "## 5. Mini-project: Simple form"
   ]
  },
  {
   "cell_type": "code",
   "execution_count": 27,
   "metadata": {},
   "outputs": [],
   "source": [
    "def submit():\n",
    "    result = f\"First: {e1.get()}\\nLast: {e2.get()}\\nEmail: {e3.get()}\"\n",
    "    output.config(text=result)\n",
    "\n",
    "root = tk.Tk()\n",
    "root.title(\"Mini form\")\n",
    "\n",
    "fields = [(\"First name\", 0), (\"Last name\", 1), (\"Email\", 2)]\n",
    "entries = []\n",
    "for text, row in fields:\n",
    "    tk.Label(root, text=text).grid(row=row, column=0, sticky=\"e\", padx=5, pady=5)\n",
    "    e = tk.Entry(root)\n",
    "    e.grid(row=row, column=1, padx=5, pady=5)\n",
    "    entries.append(e)\n",
    "\n",
    "e1, e2, e3 = entries\n",
    "\n",
    "tk.Button(root, text=\"Submit\", command=submit).grid(row=3, column=0, columnspan=2, pady=10)\n",
    "output = tk.Label(root, text=\"\", justify=\"left\")\n",
    "output.grid(row=4, column=0, columnspan=2, padx=10, pady=10)\n",
    "\n",
    "root.mainloop()"
   ]
  },
  {
   "cell_type": "markdown",
   "metadata": {},
   "source": [
    "## 6. Digital Clock (bonus)"
   ]
  },
  {
   "cell_type": "code",
   "execution_count": 29,
   "metadata": {},
   "outputs": [
    {
     "name": "stdout",
     "output_type": "stream",
     "text": [
      "00:59:18\n"
     ]
    }
   ],
   "source": [
    "import time\n",
    "print(time.strftime(\"%H:%M:%S\"))\n",
    "def tick():\n",
    "    clock.config(text=time.strftime(\"%H:%M:%S\"))\n",
    "    root.after(1000, tick)\n",
    "\n",
    "root = tk.Tk()\n",
    "root.title(\"Digital clock\")\n",
    "clock = tk.Label(root, font=\"Courier 40\", bg=\"black\", fg=\"lime\")\n",
    "clock.pack(fill=\"both\", expand=True)\n",
    "tick()\n",
    "root.mainloop()"
   ]
  },
  {
   "cell_type": "code",
   "execution_count": null,
   "metadata": {},
   "outputs": [],
   "source": [
    "def fun(n):\n",
    "    if n == 0:\n",
    "        return 1\n",
    "    else:\n",
    "        return n * fun(n - 1)\n",
    "\n",
    "# 5 * fun(4)\n",
    "# 5 * 4 * fun(3)\n",
    "# 5 * 4 * 3 * fun(2)\n",
    "# 5 * 4 * 3 * 2 * fun(1)\n",
    "# 5 * 4 * 3 * 2 * 1 * fun(0)\n",
    "# 5 * 4 * 3 * 2 * 1 * 1\n",
    "\n",
    "print(fun(5))  # Output: 120"
   ]
  }
 ],
 "metadata": {
  "kernelspec": {
   "display_name": ".global",
   "language": "python",
   "name": "python3"
  },
  "language_info": {
   "codemirror_mode": {
    "name": "ipython",
    "version": 3
   },
   "file_extension": ".py",
   "mimetype": "text/x-python",
   "name": "python",
   "nbconvert_exporter": "python",
   "pygments_lexer": "ipython3",
   "version": "3.13.5"
  }
 },
 "nbformat": 4,
 "nbformat_minor": 4
}
