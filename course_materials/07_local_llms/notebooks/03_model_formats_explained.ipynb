{
 "cells": [
  {
   "cell_type": "markdown",
   "metadata": {},
   "source": [
    "# Model Formats Explained: Understanding LLM Storage and Optimization\n",
    "\n",
    "Welcome to the comprehensive guide on Large Language Model formats! In this notebook, you'll learn about different ways LLMs are stored, optimized, and deployed locally.\n",
    "\n",
    "## What You'll Learn\n",
    "\n",
    "- Understanding different model formats (GGUF, SafeTensors, Ollama Modelfiles)\n",
    "- Practical examples of format conversion and optimization\n",
    "- Performance characteristics and trade-offs\n",
    "- Interactive visualizations of format differences\n",
    "- Hands-on format manipulation and creation\n",
    "\n",
    "## Prerequisites\n",
    "\n",
    "- Basic understanding of machine learning concepts\n",
    "- Python 3.8 or higher\n",
    "- At least 8GB of RAM (16GB recommended)\n",
    "- Ollama installed (for Modelfile examples)\n",
    "\n",
    "Let's dive into the world of model formats!"
   ]
  },
  {
   "cell_type": "markdown",
   "metadata": {},
   "source": [
    "## 1. Setup and Dependencies\n",
    "\n",
    "First, let's install and import the necessary packages for working with different model formats."
   ]
  },
  {
   "cell_type": "code",
   "execution_count": null,
   "metadata": {},
   "outputs": [],
   "source": [
    "# Install required packages\n",
    "import subprocess\n",
    "import sys\n",
    "\n",
    "def install_package(package):\n",
    "    subprocess.check_call([sys.executable, \"-m\", \"pip\", \"install\", package])\n",
    "\n",
    "# Required packages for model format exploration\n",
    "packages = [\n",
    "    'requests', 'ipywidgets', 'matplotlib', 'pandas', 'numpy',\n",
    "    'safetensors', 'huggingface-hub', 'transformers', 'torch'\n",
    "]\n",
    "\n",
    "for package in packages:\n",
    "    try:\n",
    "        __import__(package.replace('-', '_'))\n",
    "        print(f\"✓ {package} is already installed\")\n",
    "    except ImportError:\n",
    "        print(f\"Installing {package}...\")\n",
    "        install_package(package)\n",
    "        print(f\"✓ {package} installed successfully\")"
   ]
  }
 ],
 "metadata": {
  "kernelspec": {
   "display_name": "Python 3",
   "language": "python",
   "name": "python3"
  },
  "language_info": {
   "codemirror_mode": {
    "name": "ipython",
    "version": 3
   },
   "file_extension": ".py",
   "mimetype": "text/x-python",
   "name": "python",
   "nbconvert_exporter": "python",
   "version": "3.8.0"
  }
 },
 "nbformat": 4,
 "nbformat_minor": 4
}