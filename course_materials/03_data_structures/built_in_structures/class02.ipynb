{
 "cells": [
  {
   "cell_type": "markdown",
   "metadata": {},
   "source": [
    "# Python Data Structures: A Comprehensive Guide\n",
    "\n",
    "This notebook provides a detailed overview of fundamental Python data structures: lists, tuples, dictionaries, and sets. Each section includes in-depth explanations, code examples, and common problems with their solutions."
   ]
  },
  {
   "cell_type": "markdown",
   "metadata": {},
   "source": [
    "## 1. Lists\n",
    "\n",
    "Lists are one of the most versatile and commonly used data structures in Python. They are ordered, mutable collections of items, meaning you can change their content. [21] Lists can contain items of different data types."
   ]
  },
  {
   "cell_type": "markdown",
   "metadata": {},
   "source": [
    "### 1.1 Creating Lists"
   ]
  },
  {
   "cell_type": "code",
   "execution_count": 1,
   "metadata": {},
   "outputs": [
    {
     "name": "stdout",
     "output_type": "stream",
     "text": [
      "Empty list: []\n",
      "List of numbers: [1, 2, 3, 4, 5]\n",
      "Mixed data type list: [1, 'Hello', 3.14, True]\n",
      "List from a string: ['P', 'y', 't', 'h', 'o', 'n']\n"
     ]
    }
   ],
   "source": [
    "# An empty list\n",
    "empty_list = []\n",
    "print(f\"Empty list: {empty_list}\")\n",
    "\n",
    "# A list of integers\n",
    "numbers = [1, 2, 3, 4, 5]\n",
    "print(f\"List of numbers: {numbers}\")\n",
    "\n",
    "# A list with mixed data types\n",
    "mixed_list = [1, \"Hello\", 3.14, True]\n",
    "print(f\"Mixed data type list: {mixed_list}\")\n",
    "\n",
    "# Using the list() constructor\n",
    "string_to_list = list(\"Python\")\n",
    "print(f\"List from a string: {string_to_list}\")"
   ]
  },
  {
   "cell_type": "markdown",
   "metadata": {},
   "source": [
    "### 1.2 Accessing Elements\n",
    "\n",
    "You can access list elements using indexing (starting from 0) and slicing."
   ]
  },
  {
   "cell_type": "code",
   "execution_count": 2,
   "metadata": {},
   "outputs": [
    {
     "name": "stdout",
     "output_type": "stream",
     "text": [
      "First element: p\n",
      "Last element: n\n",
      "Elements from index 2 to 4: ['t', 'h', 'o']\n"
     ]
    }
   ],
   "source": [
    "my_list = ['p', 'y', 't', 'h', 'o', 'n']\n",
    "\n",
    "# Accessing the first element\n",
    "print(f\"First element: {my_list[0]}\")\n",
    "\n",
    "# Accessing the last element\n",
    "print(f\"Last element: {my_list[-1]}\")\n",
    "\n",
    "# Slicing to get a sublist\n",
    "print(f\"Elements from index 2 to 4: {my_list[2:5]}\")"
   ]
  },
  {
   "cell_type": "markdown",
   "metadata": {},
   "source": [
    "### 1.3 Modifying Lists\n",
    "\n",
    "Lists are mutable, so you can add, update, and remove elements."
   ]
  },
  {
   "cell_type": "code",
   "execution_count": 3,
   "metadata": {},
   "outputs": [
    {
     "name": "stdout",
     "output_type": "stream",
     "text": [
      "After updating index 1: [1, 200, 3, 4, 5]\n",
      "After appending 6: [1, 200, 3, 4, 5, 6]\n",
      "After extending with another list: [1, 200, 3, 4, 5, 6, 7, 8, 9]\n",
      "After removing 200: [1, 3, 4, 5, 6, 7, 8, 9]\n",
      "Popped element at index 2: 4\n",
      "List after popping: [1, 3, 5, 6, 7, 8, 9]\n"
     ]
    }
   ],
   "source": [
    "numbers = [1, 2, 3, 4, 5]\n",
    "\n",
    "# Change the value of an element\n",
    "numbers[1] = 200\n",
    "print(f\"After updating index 1: {numbers}\")\n",
    "\n",
    "# Add an element to the end\n",
    "numbers.append(6)\n",
    "print(f\"After appending 6: {numbers}\")\n",
    "\n",
    "# Add all items from another list\n",
    "numbers.extend([7, 8, 9])\n",
    "print(f\"After extending with another list: {numbers}\")\n",
    "\n",
    "# Remove an element by its value\n",
    "numbers.remove(200)\n",
    "print(f\"After removing 200: {numbers}\")\n",
    "\n",
    "# Remove an element by its index and get its value\n",
    "popped_element = numbers.pop(2)\n",
    "print(f\"Popped element at index 2: {popped_element}\")\n",
    "print(f\"List after popping: {numbers}\")"
   ]
  },
  {
   "cell_type": "markdown",
   "metadata": {},
   "source": [
    "### 1.4 Common List Methods"
   ]
  },
  {
   "cell_type": "code",
   "execution_count": 4,
   "metadata": {},
   "outputs": [
    {
     "name": "stdout",
     "output_type": "stream",
     "text": [
      "Sorted list: [1, 1, 2, 3, 4, 5, 6, 9]\n",
      "Reversed list: [9, 6, 5, 4, 3, 2, 1, 1]\n",
      "Index of 5: 2\n",
      "Count of 1: 2\n",
      "Length of the list: 8\n"
     ]
    }
   ],
   "source": [
    "my_list = [3, 1, 4, 1, 5, 9, 2, 6]\n",
    "\n",
    "# Sort the list in place\n",
    "# sort(my_list)\n",
    "my_list.sort()\n",
    "print(f\"Sorted list: {my_list}\")\n",
    "\n",
    "# Reverse the list in place\n",
    "my_list.reverse()\n",
    "print(f\"Reversed list: {my_list}\")\n",
    "\n",
    "# Get the index of an element\n",
    "print(f\"Index of 5: {my_list.index(5)}\")\n",
    "\n",
    "# Count occurrences of an element\n",
    "print(f\"Count of 1: {my_list.count(1)}\")\n",
    "\n",
    "# Get the length of the list\n",
    "print(f\"Length of the list: {len(my_list)}\")"
   ]
  },
  {
   "cell_type": "markdown",
   "metadata": {},
   "source": [
    "### 1.5 Problem Handling with Lists\n",
    "\n",
    "**Problem 1: `IndexError: list index out of range`**\n",
    "This error occurs when you try to access an index that doesn't exist. [20]"
   ]
  },
  {
   "cell_type": "code",
   "execution_count": null,
   "metadata": {},
   "outputs": [
    {
     "name": "stdout",
     "output_type": "stream",
     "text": [
      "Error: list index out of range\n",
      "Index 3 is out of bounds.\n"
     ]
    }
   ],
   "source": [
    "my_list = [1, 2, 3]\n",
    "try:\n",
    "    print(my_list[3])\n",
    "except IndexError as e:\n",
    "    print(f\"Error: {e}\")\n",
    "\n",
    "# Solution: Always check the length of the list before accessing an index.\n",
    "index = 3\n",
    "if index < len(my_list):\n",
    "    print(my_list[index])\n",
    "else:\n",
    "    print(f\"Index {index} is out of bounds.\")"
   ]
  },
  {
   "cell_type": "markdown",
   "metadata": {},
   "source": [
    "**Problem 2: Modifying a list while iterating over it**\n",
    "This can lead to unexpected behavior like skipping elements. [14]"
   ]
  },
  {
   "cell_type": "code",
   "execution_count": 9,
   "metadata": {},
   "outputs": [
    {
     "name": "stdout",
     "output_type": "stream",
     "text": [
      "List after removing even numbers: [1, 3, 5]\n"
     ]
    }
   ],
   "source": [
    "numbers = [1, 2, 3, 4, 5]\n",
    "\n",
    "# # Incorrect way\n",
    "# for number in numbers:\n",
    "#     if number % 2 == 0:\n",
    "#         numbers.remove(number) # This will cause issues\n",
    "\n",
    "# Solution: Iterate over a copy of the list.\n",
    "for number in numbers[:]: # numbers[:] creates a shallow copy\n",
    "    if number % 2 == 0:\n",
    "        numbers.remove(number)\n",
    "print(f\"List after removing even numbers: {numbers}\")"
   ]
  },
  {
   "cell_type": "markdown",
   "metadata": {},
   "source": [
    "**Problem 3: `append()` vs. `extend()`**\n",
    "A common mistake is confusing `append()` which adds its argument as a single element, with `extend()` which iterates over its argument adding each item. [6]"
   ]
  },
  {
   "cell_type": "code",
   "execution_count": 10,
   "metadata": {},
   "outputs": [
    {
     "name": "stdout",
     "output_type": "stream",
     "text": [
      "Using append(): [1, 2, 3, [4, 5, 6]]\n",
      "Using extend(): [1, 2, 3, 4, 5, 6]\n"
     ]
    }
   ],
   "source": [
    "list1 = [1, 2, 3]\n",
    "list2 = [4, 5, 6]\n",
    "\n",
    "# Using append()\n",
    "list1_append = list1[:]\n",
    "list1_append.append(list2)\n",
    "print(f\"Using append(): {list1_append}\")\n",
    "\n",
    "# Using extend()\n",
    "list1_extend = list1[:]\n",
    "list1_extend.extend(list2)\n",
    "print(f\"Using extend(): {list1_extend}\")"
   ]
  },
  {
   "cell_type": "markdown",
   "metadata": {},
   "source": [
    "## 2. Tuples\n",
    "\n",
    "Tuples are ordered, immutable collections of items. Once a tuple is created, you cannot change its values. [2] Tuples are often used for fixed data that shouldn't be changed. [2]"
   ]
  },
  {
   "cell_type": "markdown",
   "metadata": {},
   "source": [
    "### 2.1 Creating Tuples"
   ]
  },
  {
   "cell_type": "code",
   "execution_count": 11,
   "metadata": {},
   "outputs": [
    {
     "name": "stdout",
     "output_type": "stream",
     "text": [
      "Empty tuple: ()\n",
      "Tuple of numbers: (1, 2, 3, 4, 5)\n",
      "Mixed data type tuple: (1, 'Hello', 3.14, True)\n",
      "Tuple without parentheses: (1, 'a', 2.5)\n",
      "Single element tuple: (1,)\n",
      "Tuple from a list: (1, 2, 3)\n"
     ]
    }
   ],
   "source": [
    "# An empty tuple\n",
    "empty_tuple = ()\n",
    "print(f\"Empty tuple: {empty_tuple}\")\n",
    "\n",
    "# A tuple of integers\n",
    "numbers_tuple = (1, 2, 3, 4, 5)\n",
    "print(f\"Tuple of numbers: {numbers_tuple}\")\n",
    "\n",
    "# A tuple with mixed data types\n",
    "mixed_tuple = (1, \"Hello\", 3.14, True)\n",
    "print(f\"Mixed data type tuple: {mixed_tuple}\")\n",
    "\n",
    "# Creating a tuple without parentheses (tuple packing)\n",
    "my_tuple = 1, \"a\", 2.5\n",
    "print(f\"Tuple without parentheses: {my_tuple}\")\n",
    "\n",
    "# A tuple with one element (note the trailing comma)\n",
    "single_element_tuple = (1,)\n",
    "print(f\"Single element tuple: {single_element_tuple}\")\n",
    "\n",
    "# Using the tuple() constructor\n",
    "list_to_tuple = tuple([1, 2, 3])\n",
    "print(f\"Tuple from a list: {list_to_tuple}\")"
   ]
  },
  {
   "cell_type": "markdown",
   "metadata": {},
   "source": [
    "### 2.2 Accessing Elements\n",
    "\n",
    "Accessing elements in a tuple is the same as with lists, using indexing and slicing."
   ]
  },
  {
   "cell_type": "code",
   "execution_count": 12,
   "metadata": {},
   "outputs": [
    {
     "name": "stdout",
     "output_type": "stream",
     "text": [
      "First element: p\n",
      "Elements from index 1 to 3: ('y', 't', 'h')\n"
     ]
    }
   ],
   "source": [
    "my_tuple = ('p', 'y', 't', 'h', 'o', 'n')\n",
    "\n",
    "# Accessing the first element\n",
    "print(f\"First element: {my_tuple[0]}\")\n",
    "\n",
    "# Slicing to get a subtuple\n",
    "print(f\"Elements from index 1 to 3: {my_tuple[1:4]}\")"
   ]
  },
  {
   "cell_type": "markdown",
   "metadata": {},
   "source": [
    "### 2.3 Immutability of Tuples\n",
    "\n",
    "The main characteristic of tuples is their immutability. [2] This means you cannot change, add, or remove elements after the tuple is created. [11]"
   ]
  },
  {
   "cell_type": "code",
   "execution_count": 13,
   "metadata": {},
   "outputs": [
    {
     "name": "stdout",
     "output_type": "stream",
     "text": [
      "Error: 'tuple' object does not support item assignment\n"
     ]
    }
   ],
   "source": [
    "my_tuple = (1, 2, 3)\n",
    "\n",
    "try:\n",
    "    my_tuple[0] = 100 # This will raise a TypeError\n",
    "except TypeError as e:\n",
    "    print(f\"Error: {e}\")"
   ]
  },
  {
   "cell_type": "markdown",
   "metadata": {},
   "source": [
    "### 2.4 Advantages of Tuples\n",
    "\n",
    "*   **Performance:** Tuples can be slightly faster than lists. [2, 10]\n",
    "*   **Data Integrity:** Immutability protects your data from accidental changes. [2, 11]\n",
    "*   **Dictionary Keys:** Tuples can be used as keys in dictionaries because they are hashable, unlike lists. [2, 10]"
   ]
  },
  {
   "cell_type": "code",
   "execution_count": 14,
   "metadata": {},
   "outputs": [
    {
     "name": "stdout",
     "output_type": "stream",
     "text": [
      "{(40.7128, -74.006): 'New York City'}\n"
     ]
    }
   ],
   "source": [
    "# Using a tuple as a dictionary key\n",
    "location = (40.7128, -74.0060) # Latitude and Longitude\n",
    "city_info = {location: \"New York City\"}\n",
    "print(city_info)"
   ]
  },
  {
   "cell_type": "markdown",
   "metadata": {},
   "source": [
    "### 2.5 Problem Handling with Tuples\n",
    "\n",
    "**Problem: Trying to modify a tuple**\n",
    "This will always result in a `TypeError`."
   ]
  },
  {
   "cell_type": "code",
   "execution_count": 2,
   "metadata": {},
   "outputs": [
    {
     "name": "stdout",
     "output_type": "stream",
     "text": [
      "Original tuple: (1, 2, 3)\n",
      "New tuple: (100, 2, 3)\n"
     ]
    }
   ],
   "source": [
    "my_tuple = (1, 2, 3)\n",
    "\n",
    "# Solution: If you need to modify the data, convert the tuple to a list, modify it, and then convert it back to a tuple if necessary.\n",
    "my_list = list(my_tuple)\n",
    "my_list[0] = 100\n",
    "new_tuple = tuple(my_list)\n",
    "print(f\"Original tuple: {my_tuple}\")\n",
    "print(f\"New tuple: {new_tuple}\")"
   ]
  },
  {
   "cell_type": "markdown",
   "metadata": {},
   "source": [
    "## 3. Dictionaries\n",
    "\n",
    "Dictionaries are unordered collections of key-value pairs. [4] They are mutable and are optimized for retrieving data when you know the key. Keys must be of an immutable type. [8]"
   ]
  },
  {
   "cell_type": "markdown",
   "metadata": {},
   "source": [
    "### 3.1 Creating Dictionaries"
   ]
  },
  {
   "cell_type": "code",
   "execution_count": 6,
   "metadata": {},
   "outputs": [
    {
     "name": "stdout",
     "output_type": "stream",
     "text": [
      "Empty dictionary: {}\n",
      "Dictionary with integer keys: {1: 'One', 2: 'Two', 3: 'Three'}\n",
      "Dictionary with string keys: {'name': 'John Doe', 'age': 30, 'city': 'New York'}\n",
      "Dictionary created with dict(): {'brand': 'Ford', 'model': 'Mustang', 'year': 1964}\n"
     ]
    }
   ],
   "source": [
    "# An empty dictionary\n",
    "empty_dict = {}\n",
    "print(f\"Empty dictionary: {empty_dict}\")\n",
    "\n",
    "# A dictionary with integer keys\n",
    "number_names = {1: 'One', 2: 'Two', 3: 'Three'}\n",
    "print(f\"Dictionary with integer keys: {number_names}\")\n",
    "\n",
    "# A dictionary with string keys\n",
    "person = {'name': 'John Doe', 'age': 30, 'city': 'New York'}\n",
    "print(f\"Dictionary with string keys: {person}\")\n",
    "\n",
    "# Using the dict() constructor\n",
    "car = dict(brand='Ford', model='Mustang', year=1964)\n",
    "print(f\"Dictionary created with dict(): {car}\")"
   ]
  },
  {
   "cell_type": "markdown",
   "metadata": {},
   "source": [
    "### 3.2 Accessing and Modifying Elements"
   ]
  },
  {
   "cell_type": "code",
   "execution_count": 12,
   "metadata": {},
   "outputs": [
    {
     "name": "stdout",
     "output_type": "stream",
     "text": [
      "Name: John Doe\n",
      "Occupation: None\n",
      "company without default: None\n",
      "After adding occupation: {'name': 'John Doe', 'age': 30, 'city': 'New York', 'occupation': 'Software Engineer'}\n",
      "After updating age: {'name': 'John Doe', 'age': 31, 'city': 'New York', 'occupation': 'Software Engineer'}\n",
      "Removed city: New York\n",
      "Dictionary after popping city: {'name': 'John Doe', 'age': 31, 'occupation': 'Software Engineer'}\n"
     ]
    }
   ],
   "source": [
    "person = {'name': 'John Doe', 'age': 30, 'city': 'New York'}\n",
    "\n",
    "# Accessing a value by its key\n",
    "print(f\"Name: {person['name']}\")\n",
    "# print(f\"Age: {person['ages']}\")\n",
    "# Using the get() method (safer, returns None if key not found)\n",
    "print(f\"Occupation: {person.get('occupation')}\")\n",
    "# print(f\"Occupation with default: {person.get('occupation', 'Unemployed')}\")\n",
    "print(f\"company without default: {person.get('company')}\")\n",
    "\n",
    "# Adding a new key-value pair\n",
    "person['occupation'] = 'Software Engineer'\n",
    "print(f\"After adding occupation: {person}\")\n",
    "\n",
    "# Updating an existing value\n",
    "person['age'] = 31\n",
    "print(f\"After updating age: {person}\")\n",
    "\n",
    "# Removing a key-value pair\n",
    "removed_value = person.pop('city')\n",
    "print(f\"Removed city: {removed_value}\")\n",
    "print(f\"Dictionary after popping city: {person}\")"
   ]
  },
  {
   "cell_type": "markdown",
   "metadata": {},
   "source": [
    "### 3.3 Iterating Through Dictionaries"
   ]
  },
  {
   "cell_type": "code",
   "execution_count": 13,
   "metadata": {},
   "outputs": [
    {
     "name": "stdout",
     "output_type": "stream",
     "text": [
      "\n",
      "Iterating over keys:\n",
      "name\n",
      "age\n",
      "occupation\n",
      "\n",
      "Iterating over values:\n",
      "John Doe\n",
      "30\n",
      "Software Engineer\n",
      "\n",
      "Iterating over items:\n",
      "name: John Doe\n",
      "age: 30\n",
      "occupation: Software Engineer\n"
     ]
    }
   ],
   "source": [
    "person = {'name': 'John Doe', 'age': 30, 'occupation': 'Software Engineer'}\n",
    "\n",
    "# Iterating over keys\n",
    "print(\"\\nIterating over keys:\")\n",
    "for key in person.keys():\n",
    "    print(key)\n",
    "\n",
    "# Iterating over values\n",
    "print(\"\\nIterating over values:\")\n",
    "for value in person.values():\n",
    "    print(value)\n",
    "\n",
    "# Iterating over key-value pairs\n",
    "print(\"\\nIterating over items:\")\n",
    "for key, value in person.items():\n",
    "    print(f\"{key}: {value}\")"
   ]
  },
  {
   "cell_type": "markdown",
   "metadata": {},
   "source": [
    "### 3.4 Problem Handling with Dictionaries\n",
    "\n",
    "**Problem 1: `KeyError`**\n",
    "This error occurs when you try to access a key that does not exist in the dictionary."
   ]
  },
  {
   "cell_type": "code",
   "execution_count": 14,
   "metadata": {},
   "outputs": [
    {
     "name": "stdout",
     "output_type": "stream",
     "text": [
      "Error: 'age'\n",
      "'age' is not a key in the dictionary.\n",
      "The 'age' key was not found.\n"
     ]
    }
   ],
   "source": [
    "person = {'name': 'John Doe'}\n",
    "try:\n",
    "    print(person['age'])\n",
    "except KeyError as e:\n",
    "    print(f\"Error: {e}\")\n",
    "\n",
    "# Solution 1: Use the 'in' keyword to check for key existence.\n",
    "if 'age' in person:\n",
    "    print(person['age'])\n",
    "else:\n",
    "    print(\"'age' is not a key in the dictionary.\")\n",
    "\n",
    "# Solution 2: Use the get() method.\n",
    "age = person.get('age')\n",
    "if age is not None:\n",
    "    print(age)\n",
    "else:\n",
    "    print(\"The 'age' key was not found.\")"
   ]
  },
  {
   "cell_type": "markdown",
   "metadata": {},
   "source": [
    "**Problem 2: `TypeError: unhashable type: 'list'`**\n",
    "This occurs if you try to use a mutable object (like a list) as a dictionary key. [8]"
   ]
  },
  {
   "cell_type": "code",
   "execution_count": 15,
   "metadata": {},
   "outputs": [
    {
     "name": "stdout",
     "output_type": "stream",
     "text": [
      "Error: unhashable type: 'list'\n",
      "Dictionary with a tuple as a key: {(1, 2): 'a'}\n"
     ]
    }
   ],
   "source": [
    "try:\n",
    "    my_dict = {[1, 2]: 'a'}\n",
    "except TypeError as e:\n",
    "    print(f\"Error: {e}\")\n",
    "\n",
    "# Solution: Use an immutable equivalent, like a tuple, for the key.\n",
    "my_dict = {(1, 2): 'a'}\n",
    "print(f\"Dictionary with a tuple as a key: {my_dict}\")"
   ]
  },
  {
   "cell_type": "markdown",
   "metadata": {},
   "source": [
    "## 4. Sets\n",
    "\n",
    "Sets are unordered collections of unique elements. [1] They are mutable and are highly optimized for membership testing. They also support mathematical set operations like union, intersection, difference, and symmetric difference. [3]"
   ]
  },
  {
   "cell_type": "markdown",
   "metadata": {},
   "source": [
    "### 4.1 Creating Sets"
   ]
  },
  {
   "cell_type": "code",
   "execution_count": 16,
   "metadata": {},
   "outputs": [
    {
     "name": "stdout",
     "output_type": "stream",
     "text": [
      "Empty set: set()\n",
      "Set of numbers: {1, 2, 3, 4, 5}\n",
      "Set from a list: {'banana', 'apple', 'cherry'}\n"
     ]
    }
   ],
   "source": [
    "# An empty set (must use set(), {} creates an empty dictionary)\n",
    "empty_set = set()\n",
    "print(f\"Empty set: {empty_set}\")\n",
    "\n",
    "# A set of numbers (duplicates are automatically removed)\n",
    "numbers_set = {1, 2, 3, 4, 4, 5}\n",
    "print(f\"Set of numbers: {numbers_set}\")\n",
    "\n",
    "# Creating a set from a list\n",
    "my_list = ['apple', 'banana', 'cherry', 'apple']\n",
    "fruits_set = set(my_list)\n",
    "print(f\"Set from a list: {fruits_set}\")"
   ]
  },
  {
   "cell_type": "markdown",
   "metadata": {},
   "source": [
    "### 4.2 Modifying Sets"
   ]
  },
  {
   "cell_type": "code",
   "execution_count": 17,
   "metadata": {},
   "outputs": [
    {
     "name": "stdout",
     "output_type": "stream",
     "text": [
      "After adding 4: {1, 2, 3, 4}\n",
      "After updating with a list: {1, 2, 3, 4, 5, 6, 7}\n",
      "After removing 7: {1, 2, 3, 4, 5, 6}\n",
      "After discarding 10 (no change): {1, 2, 3, 4, 5, 6}\n"
     ]
    }
   ],
   "source": [
    "my_set = {1, 2, 3}\n",
    "\n",
    "# Add a single element\n",
    "my_set.add(4)\n",
    "print(f\"After adding 4: {my_set}\")\n",
    "\n",
    "# Add multiple elements from an iterable\n",
    "my_set.update([5, 6, 7])\n",
    "print(f\"After updating with a list: {my_set}\")\n",
    "\n",
    "# Remove an element (raises KeyError if not found)\n",
    "my_set.remove(7)\n",
    "print(f\"After removing 7: {my_set}\")\n",
    "\n",
    "# Remove an element (does not raise an error if not found)\n",
    "my_set.discard(10)\n",
    "print(f\"After discarding 10 (no change): {my_set}\")"
   ]
  },
  {
   "cell_type": "markdown",
   "metadata": {},
   "source": [
    "### 4.3 Set Operations\n",
    "Sets support powerful operations for comparing and combining them. [12]"
   ]
  },
  {
   "cell_type": "code",
   "execution_count": 19,
   "metadata": {},
   "outputs": [
    {
     "name": "stdout",
     "output_type": "stream",
     "text": [
      "Union: {1, 2, 3, 4, 5, 6}\n",
      "Intersection: {3, 4}\n",
      "Difference (A - B): {1, 2}\n",
      "Difference (B - A): {5, 6}\n",
      "Symmetric Difference: {1, 2, 5, 6}\n"
     ]
    }
   ],
   "source": [
    "set_a = {1, 2, 3, 4}\n",
    "set_b = {3, 4, 5, 6}\n",
    "\n",
    "# Union: all unique elements from both sets\n",
    "union_set = set_a.union(set_b) # or set_a | set_b\n",
    "print(f\"Union: {union_set}\")\n",
    "\n",
    "# Intersection: elements common to both sets\n",
    "intersection_set = set_a.intersection(set_b) # or set_a & set_b\n",
    "print(f\"Intersection: {intersection_set}\")\n",
    "\n",
    "# Difference: elements in set_a but not in set_b\n",
    "difference_set = set_a.difference(set_b) # or set_a - set_b\n",
    "print(f\"Difference (A - B): {difference_set}\")\n",
    "print(f\"Difference (B - A): {set_b.difference(set_a)}\") # or set_b - set_a\n",
    "# Symmetric Difference: elements in either set, but not both\n",
    "symmetric_diff_set = set_a.symmetric_difference(set_b) # or set_a ^ set_b\n",
    "print(f\"Symmetric Difference: {symmetric_diff_set}\")"
   ]
  },
  {
   "cell_type": "markdown",
   "metadata": {},
   "source": [
    "### 4.4 Problem Handling with Sets\n",
    "\n",
    "**Problem 1: Trying to access elements by index**\n",
    "Sets are unordered and do not support indexing."
   ]
  },
  {
   "cell_type": "code",
   "execution_count": 20,
   "metadata": {},
   "outputs": [
    {
     "name": "stdout",
     "output_type": "stream",
     "text": [
      "Error: 'set' object is not subscriptable\n",
      "2 is in the set.\n",
      "1\n",
      "2\n",
      "3\n"
     ]
    }
   ],
   "source": [
    "my_set = {1, 2, 3}\n",
    "try:\n",
    "    print(my_set[0])\n",
    "except TypeError as e:\n",
    "    print(f\"Error: {e}\")\n",
    "\n",
    "# Solution: To access elements, you typically check for membership or iterate through the set.\n",
    "if 2 in my_set:\n",
    "    print(\"2 is in the set.\")\n",
    "\n",
    "for item in my_set:\n",
    "    print(item)"
   ]
  },
  {
   "cell_type": "markdown",
   "metadata": {},
   "source": [
    "**Problem 2: Creating an empty set with `{}`**\n",
    "Using empty curly braces `{}` creates an empty dictionary, not an empty set."
   ]
  },
  {
   "cell_type": "code",
   "execution_count": 21,
   "metadata": {},
   "outputs": [
    {
     "name": "stdout",
     "output_type": "stream",
     "text": [
      "Type of {}: <class 'dict'>\n",
      "Type of set(): <class 'set'>\n"
     ]
    }
   ],
   "source": [
    "wrong_empty_set = {}\n",
    "print(f\"Type of {{}}: {type(wrong_empty_set)}\")\n",
    "\n",
    "# Solution: Use the set() constructor for an empty set.\n",
    "correct_empty_set = set()\n",
    "print(f\"Type of set(): {type(correct_empty_set)}\")"
   ]
  }
 ],
 "metadata": {
  "kernelspec": {
   "display_name": ".venv",
   "language": "python",
   "name": "python3"
  },
  "language_info": {
   "codemirror_mode": {
    "name": "ipython",
    "version": 3
   },
   "file_extension": ".py",
   "mimetype": "text/x-python",
   "name": "python",
   "nbconvert_exporter": "python",
   "pygments_lexer": "ipython3",
   "version": "3.12.7"
  }
 },
 "nbformat": 4,
 "nbformat_minor": 2
}
