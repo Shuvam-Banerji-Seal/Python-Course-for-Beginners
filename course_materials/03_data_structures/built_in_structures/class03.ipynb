{
 "cells": [
  {
   "cell_type": "markdown",
   "metadata": {},
   "source": [
    "# Problem Solving with Python Sets and Dictionaries\n",
    "\n",
    "This notebook explores a variety of problems that can be efficiently solved using Python's `set` and `dict` data structures. We will cover common use cases and demonstrate how the unique properties of sets (uniqueness, fast membership testing) and dictionaries (key-value mapping) make them powerful tools for programmers."
   ]
  },
  {
   "cell_type": "markdown",
   "metadata": {},
   "source": [
    "## 1. Dictionary Problems"
   ]
  },
  {
   "cell_type": "markdown",
   "metadata": {},
   "source": [
    "### Problem 1: Word Frequency Counter\n",
    "\n",
    "**Problem Statement:** Given a piece of text, count the frequency of each word. [11, 17] This is a classic problem in text analysis. [2, 3]\n",
    "\n",
    "**Why Dictionaries?** Dictionaries are perfect for this task because they allow you to store a unique key (the word) and associate it with a value (its count). The fast key lookup makes updating the count for each word very efficient."
   ]
  },
  {
   "cell_type": "code",
   "execution_count": null,
   "metadata": {},
   "outputs": [],
   "source": [
    "import re\n",
    "from collections import Counter\n",
    "\n",
    "text = \"\"\"\n",
    "Python is a high-level, interpreted, general-purpose programming language. \n",
    "Its design philosophy emphasizes code readability with its notable use of significant whitespace. \n",
    "Its language constructs and object-oriented approach aim to help programmers write clear, logical code for small and large-scale projects.\n",
    "Python is dynamically-typed and garbage-collected. It supports multiple programming paradigms, including structured (particularly, procedural), object-oriented, and functional programming.\n",
    "\"\"\"\n",
    "\n",
    "def word_frequency(text):\n",
    "    \"\"\"Counts the frequency of each word in a given text.\"\"\"\n",
    "    words = re.findall(r'\\b\\w+\\b', text.lower())\n",
    "    freq_dict = {}\n",
    "    for word in words:\n",
    "        freq_dict[word] = freq_dict.get(word, 0) + 1\n",
    "    return freq_dict\n",
    "\n",
    "def word_frequency_counter(text):\n",
    "    \"\"\"Counts word frequency using collections.Counter.\"\"\"\n",
    "    words = re.findall(r'\\b\\w+\\b', text.lower())\n",
    "    return Counter(words)\n",
    "\n",
    "frequencies = word_frequency(text)\n",
    "print(\"Word Frequencies (manual):\")\n",
    "print(frequencies)\n",
    "\n",
    "print(\"\\nWord Frequencies (using Counter):\")\n",
    "frequencies_counter = word_frequency_counter(text)\n",
    "print(frequencies_counter)"
   ]
  },
  {
   "cell_type": "markdown",
   "metadata": {},
   "source": [
    "### Problem 2: Grouping Anagrams\n",
    "\n",
    "**Problem Statement:** Given a list of words, group the anagrams together. Anagrams are words that have the same letters but in a different order (e.g., \"eat\", \"tea\", \"ate\").\n",
    "\n",
    "**Why Dictionaries?** We can use a sorted version of a word as a key. All anagrams will have the same sorted form. The values in the dictionary will be lists of the anagrams."
   ]
  },
  {
   "cell_type": "code",
   "execution_count": null,
   "metadata": {},
   "outputs": [],
   "source": [
    "from collections import defaultdict\n",
    "\n",
    "words = [\"eat\", \"tea\", \"tan\", \"ate\", \"nat\", \"bat\"]\n",
    "\n",
    "def group_anagrams(words):\n",
    "    \"\"\"Groups anagrams together from a list of words.\"\"\"\n",
    "    anagram_map = defaultdict(list)\n",
    "    for word in words:\n",
    "        sorted_word = \"\".join(sorted(word))\n",
    "        anagram_map[sorted_word].append(word)\n",
    "    return list(anagram_map.values())\n",
    "\n",
    "anagram_groups = group_anagrams(words)\n",
    "print(\"Anagram Groups:\")\n",
    "print(anagram_groups)"
   ]
  },
  {
   "cell_type": "markdown",
   "metadata": {},
   "source": [
    "### Problem 3: Merging Dictionaries\n",
    "\n",
    "**Problem Statement:** Combine two dictionaries into one. If there are overlapping keys, the value from the second dictionary should be used.\n",
    "\n",
    "**Why Dictionaries?** This is a fundamental dictionary operation. Python provides several ways to do this, including the `update()` method and dictionary unpacking (`**`)."
   ]
  },
  {
   "cell_type": "code",
   "execution_count": null,
   "metadata": {},
   "outputs": [],
   "source": [
    "dict1 = {'a': 1, 'b': 2, 'c': 3}\n",
    "dict2 = {'b': 20, 'd': 40}\n",
    "\n",
    "# Method 1: Using the update() method\n",
    "merged_dict1 = dict1.copy()\n",
    "merged_dict1.update(dict2)\n",
    "print(f\"Merged with update(): {merged_dict1}\")\n",
    "\n",
    "# Method 2: Using dictionary unpacking (Python 3.5+)\n",
    "merged_dict2 = {**dict1, **dict2}\n",
    "print(f\"Merged with unpacking: {merged_dict2}\")"
   ]
  },
  {
   "cell_type": "markdown",
   "metadata": {},
   "source": [
    "## 2. Set Problems"
   ]
  },
  {
   "cell_type": "markdown",
   "metadata": {},
   "source": [
    "### Problem 1: Finding Unique Elements\n",
    "\n",
    "**Problem Statement:** Given a list with duplicate elements, find all the unique elements.\n",
    "\n",
    "**Why Sets?** Sets by definition only store unique elements. Converting a list to a set is the most Pythonic and efficient way to get the unique items. [14]"
   ]
  },
  {
   "cell_type": "code",
   "execution_count": null,
   "metadata": {},
   "outputs": [],
   "source": [
    "numbers = [1, 2, 2, 3, 4, 4, 4, 5, 6, 1]\n",
    "\n",
    "unique_numbers = set(numbers)\n",
    "print(f\"Original list: {numbers}\")\n",
    "print(f\"Unique numbers (set): {unique_numbers}\")\n",
    "print(f\"Unique numbers (list): {list(unique_numbers)}\")"
   ]
  },
  {
   "cell_type": "markdown",
   "metadata": {},
   "source": [
    "### Problem 2: Finding Common and Different Elements\n",
    "\n",
    "**Problem Statement:** Given two lists, find the elements that are common to both, and the elements that are unique to each list.\n",
    "\n",
    "**Why Sets?** Sets provide built-in methods for these exact operations: intersection (`&`), union (`|`), difference (`-`), and symmetric difference (`^`). These operations are highly optimized."
   ]
  },
  {
   "cell_type": "code",
   "execution_count": null,
   "metadata": {},
   "outputs": [],
   "source": [
    "list1 = [1, 2, 3, 4, 5]\n",
    "list2 = [4, 5, 6, 7, 8]\n",
    "\n",
    "set1 = set(list1)\n",
    "set2 = set(list2)\n",
    "\n",
    "# Common elements (intersection)\n",
    "common_elements = set1.intersection(set2) # or set1 & set2\n",
    "print(f\"Common elements: {common_elements}\")\n",
    "\n",
    "# Elements only in list1 (difference)\n",
    "unique_to_list1 = set1.difference(set2) # or set1 - set2\n",
    "print(f\"Elements only in list1: {unique_to_list1}\")\n",
    "\n",
    "# Elements only in list2 (difference)\n",
    "unique_to_list2 = set2.difference(set1) # or set2 - set1\n",
    "print(f\"Elements only in list2: {unique_to_list2}\")\n",
    "\n",
    "# All unique elements from both lists (union)\n",
    "all_elements = set1.union(set2) # or set1 | set2\n",
    "print(f\"All unique elements: {all_elements}\")\n",
    "\n",
    "# Elements in one list but not both (symmetric difference)\n",
    "symmetric_difference = set1.symmetric_difference(set2) # or set1 ^ set2\n",
    "print(f\"Elements in one list but not both: {symmetric_difference}\")"
   ]
  },
  {
   "cell_type": "markdown",
   "metadata": {},
   "source": [
    "### Problem 3: Fast Membership Testing\n",
    "\n",
    "**Problem Statement:** You have a large collection of items, and you need to repeatedly check if a given item is in that collection.\n",
    "\n",
    "**Why Sets?** Checking for the existence of an element in a set is, on average, an O(1) operation (constant time). This is much faster than searching through a list, which is an O(n) operation (linear time), where n is the number of elements in the list. [14]"
   ]
  },
  {
   "cell_type": "code",
   "execution_count": null,
   "metadata": {},
   "outputs": [],
   "source": [
    "import time\n",
    "\n",
    "# Create a large list and a large set with the same elements\n",
    "large_list = list(range(10000000))\n",
    "large_set = set(large_list)\n",
    "\n",
    "element_to_find = 9999999\n",
    "\n",
    "# Time the search in the list\n",
    "start_time = time.time()\n",
    "result_list = element_to_find in large_list\n",
    "end_time = time.time()\n",
    "print(f\"Time to find in list: {end_time - start_time:.6f} seconds\")\n",
    "\n",
    "# Time the search in the set\n",
    "start_time = time.time()\n",
    "result_set = element_to_find in large_set\n",
    "end_time = time.time()\n",
    "print(f\"Time to find in set:  {end_time - start_time:.6f} seconds\")"
   ]
  }
 ],
 "metadata": {
  "kernelspec": {
   "display_name": "Python 3",
   "language": "python",
   "name": "python3"
  },
  "language_info": {
   "codemirror_mode": {
    "name": "ipython",
    "version": 3
   },
   "file_extension": ".py",
   "mimetype": "text/x-python",
   "name": "python",
   "nbconvert_exporter": "python",
   "pygments_lexer": "ipython3",
   "version": "3.9.7"
  }
 },
 "nbformat": 4,
 "nbformat_minor": 2
}
