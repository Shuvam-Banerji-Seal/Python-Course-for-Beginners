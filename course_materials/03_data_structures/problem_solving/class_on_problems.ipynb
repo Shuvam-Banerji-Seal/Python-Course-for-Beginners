{
  "cells": [
    {
      "cell_type": "markdown",
      "metadata": {},
      "source": [
        "# Exploring Number Problems in Python\n",
        "\n",
        "This notebook delves into several classic number-based problems and provides detailed explanations of their logic along with Python code implementations. We will cover Armstrong numbers, Happy numbers, Prime numbers, Palindrome numbers, and Perfect numbers."
      ]
    },
    {
      "cell_type": "markdown",
      "metadata": {},
      "source": [
        "## 1. Armstrong Number\n",
        "\n",
        "### Logic\n",
        "An Armstrong number (or narcissistic number) is an n-digit number that is equal to the sum of the nth powers of its individual digits.\n",
        "\n",
        "For example, **153** is an Armstrong number because it has 3 digits, and the sum of the cubes of its digits is:\n",
        "1³ + 5³ + 3³ = 1 + 125 + 27 = **153**\n",
        "\n",
        "Another example is **1634**:\n",
        "1⁴ + 6⁴ + 3⁴ + 4⁴ = 1 + 1296 + 81 + 256 = **1634**\n",
        "\n",
        "**To check for an Armstrong number:**\n",
        "1.  Count the number of digits (let's call it `n`).\n",
        "2.  Iterate through each digit of the number.\n",
        "3.  For each digit, raise it to the power of `n`.\n",
        "4.  Sum up the results from step 3.\n",
        "5.  Compare the sum with the original number. If they are equal, it's an Armstrong number."
      ]
    },
    {
      "cell_type": "code",
      "execution_count": null,
      "metadata": {},
      "outputs": [],
      "source": [
        "def is_armstrong(num):\n",
        "    \"\"\"Checks if a number is an Armstrong number.\"\"\"\n",
        "    if not isinstance(num, int) or num < 0:\n",
        "        return False\n",
        "\n",
        "    # Convert number to string to easily get digits and count them\n",
        "    s_num = str(num)\n",
        "    n_digits = len(s_num)\n",
        "    \n",
        "    armstrong_sum = 0\n",
        "    for digit in s_num:\n",
        "        armstrong_sum += int(digit) ** n_digits\n",
        "        \n",
        "    return armstrong_sum == num\n",
        "\n",
        "# --- Test Cases ---\n",
        "test_num1 = 153\n",
        "print(f\"Is {test_num1} an Armstrong number? {is_armstrong(test_num1)}\")\n",
        "\n",
        "test_num2 = 1634\n",
        "print(f\"Is {test_num2} an Armstrong number? {is_armstrong(test_num2)}\")\n",
        "\n",
        "test_num3 = 123\n",
        "print(f\"Is {test_num3} an Armstrong number? {is_armstrong(test_num3)}\")"
      ]
    },
    {
      "cell_type": "markdown",
      "metadata": {},
      "source": [
        "## 2. Happy Number\n",
        "\n",
        "### Logic\n",
        "A happy number is a number that eventually reaches 1 when replaced by the sum of the squares of its digits.\n",
        "\n",
        "The process is as follows:\n",
        "1.  Start with any positive integer.\n",
        "2.  Replace the number with the sum of the squares of its digits.\n",
        "3.  Repeat the process.\n",
        "\n",
        "If the number becomes 1, it's a **happy number**. If the process enters a cycle that does not include 1, it's an **unhappy number** (or sad number).\n",
        "\n",
        "For example, let's check if **19** is a happy number:\n",
        "- 1² + 9² = 1 + 81 = 82\n",
        "- 8² + 2² = 64 + 4 = 68\n",
        "- 6² + 8² = 36 + 64 = 100\n",
        "- 1² + 0² + 0² = 1\n",
        "\n",
        "Since the process reached 1, 19 is a happy number.\n",
        "\n",
        "To implement this, we must keep track of the numbers we've already seen in the sequence. If we encounter a number for a second time, it means we are in a loop, and the number is unhappy."
      ]
    },
    {
      "cell_type": "code",
      "execution_count": null,
      "metadata": {},
      "outputs": [],
      "source": [
        "def is_happy(num):\n",
        "    \"\"\"Checks if a number is a Happy Number.\"\"\"\n",
        "    seen = set() # Use a set to store numbers we've seen to detect cycles\n",
        "    \n",
        "    while num != 1 and num not in seen:\n",
        "        seen.add(num)\n",
        "        # Calculate the sum of the squares of the digits\n",
        "        num = sum(int(digit)**2 for digit in str(num))\n",
        "        \n",
        "    return num == 1\n",
        "\n",
        "# --- Test Cases ---\n",
        "test_num1 = 19\n",
        "print(f\"Is {test_num1} a Happy Number? {is_happy(test_num1)}\")\n",
        "\n",
        "test_num2 = 20\n",
        "print(f\"Is {test_num2} a Happy Number? {is_happy(test_num2)}\")\n",
        "\n",
        "test_num3 = 7\n",
        "print(f\"Is {test_num3} a Happy Number? {is_happy(test_num3)}\")"
      ]
    },
    {
      "cell_type": "markdown",
      "metadata": {},
      "source": [
        "## 3. Prime Number\n",
        "\n",
        "### Logic\n",
        "A prime number is a natural number greater than 1 that has no positive divisors other than 1 and itself. The first few prime numbers are 2, 3, 5, 7, 11, 13, 17, ...\n",
        "\n",
        "**To check for a prime number:**\n",
        "1. Handle the base cases: Numbers less than or equal to 1 are not prime. 2 is the only even prime number.\n",
        "2. For a number `n`, we only need to check for divisors from 2 up to the square root of `n`. If we find any divisor in this range, the number is not prime. \n",
        "3. If `n` is odd, we can skip checking all even numbers as potential divisors."
      ]
    },
    {
      "cell_type": "code",
      "execution_count": null,
      "metadata": {},
      "outputs": [],
      "source": [
        "import math\n",
        "\n",
        "def is_prime(num):\n",
        "    \"\"\"Checks if a number is a prime number.\"\"\"\n",
        "    # Prime numbers must be greater than 1\n",
        "    if num <= 1:\n",
        "        return False\n",
        "    # 2 is the only even prime number\n",
        "    if num == 2:\n",
        "        return True\n",
        "    # All other even numbers are not prime\n",
        "    if num % 2 == 0:\n",
        "        return False\n",
        "    \n",
        "    # Check for odd divisors from 3 up to the square root of the number\n",
        "    # We can step by 2 to check only odd numbers\n",
        "    for i in range(3, int(math.sqrt(num)) + 1, 2):\n",
        "        if num % i == 0:\n",
        "            return False\n",
        "            \n",
        "    return True\n",
        "\n",
        "# --- Test Cases ---\n",
        "print(f\"Is 2 a Prime Number? {is_prime(2)}\")\n",
        "print(f\"Is 29 a Prime Number? {is_prime(29)}\")\n",
        "print(f\"Is 10 a Prime Number? {is_prime(10)}\")\n",
        "print(f\"Is 1 a Prime Number? {is_prime(1)}\")"
      ]
    },
    {
      "cell_type": "markdown",
      "metadata": {},
      "source": [
        "## 4. Palindrome Number\n",
        "\n",
        "### Logic\n",
        "A palindrome is a number (or word) that reads the same forwards and backwards. For example, 121, 34543, and 9009 are palindrome numbers.\n",
        "\n",
        "The simplest way to check if a number is a palindrome is to:\n",
        "1. Convert the number to a string.\n",
        "2. Compare the string with its reverse."
      ]
    },
    {
      "cell_type": "code",
      "execution_count": null,
      "metadata": {},
      "outputs": [],
      "source": [
        "def is_palindrome(num):\n",
        "    \"\"\"Checks if a number is a palindrome.\"\"\"\n",
        "    s_num = str(num)\n",
        "    # Check if the string is equal to its reverse\n",
        "    return s_num == s_num[::-1]\n",
        "\n",
        "# --- Test Cases ---\n",
        "print(f\"Is 121 a Palindrome? {is_palindrome(121)}\")\n",
        "print(f\"Is 12321 a Palindrome? {is_palindrome(12321)}\")\n",
        "print(f\"Is 12345 a Palindrome? {is_palindrome(12345)}\")"
      ]
    },
    {
      "cell_type": "markdown",
      "metadata": {},
      "source": [
        "## 5. Perfect Number\n",
        "\n",
        "### Logic\n",
        "A perfect number is a positive integer that is equal to the sum of its proper positive divisors (the sum of its positive divisors, excluding the number itself). \n",
        "\n",
        "For example, the first perfect number is **6**.\n",
        "Its proper divisors are 1, 2, and 3. The sum is 1 + 2 + 3 = **6**.\n",
        "\n",
        "The next perfect number is **28**.\n",
        "Its proper divisors are 1, 2, 4, 7, and 14. The sum is 1 + 2 + 4 + 7 + 14 = **28**.\n",
        "\n",
        "**To check for a perfect number:**\n",
        "1. Find all proper divisors of the number.\n",
        "2. Sum the divisors.\n",
        "3. Compare the sum with the original number."
      ]
    },
    {
      "cell_type": "code",
      "execution_count": null,
      "metadata": {},
      "outputs": [],
      "source": [
        "def is_perfect(num):\n",
        "    \"\"\"Checks if a number is a Perfect Number.\"\"\"\n",
        "    if num <= 1:\n",
        "        return False\n",
        "        \n",
        "    # The sum of proper divisors starts at 1 (since 1 is a divisor for all n > 1)\n",
        "    divisor_sum = 1\n",
        "    \n",
        "    # Find other divisors up to the square root of the number\n",
        "    for i in range(2, int(math.sqrt(num)) + 1):\n",
        "        if num % i == 0:\n",
        "            divisor_sum += i\n",
        "            # If i is a divisor, then num/i is also a divisor\n",
        "            if i*i != num: # Avoid adding the sqrt twice\n",
        "                divisor_sum += num // i\n",
        "                \n",
        "    return divisor_sum == num\n",
        "\n",
        "# --- Test Cases ---\n",
        "print(f\"Is 6 a Perfect Number? {is_perfect(6)}\")\n",
        "print(f\"Is 28 a Perfect Number? {is_perfect(28)}\")\n",
        "print(f\"Is 29 a Perfect Number? {is_perfect(29)}\")"
      ]
    }
  ],
  "metadata": {
    "kernelspec": {
      "display_name": "Python 3",
      "language": "python",
      "name": "python3"
    },
    "language_info": {
      "codemirror_mode": {
        "name": "ipython",
        "version": 3
      },
      "file_extension": ".py",
      "mimetype": "text/x-python",
      "name": "python",
      "nbconvert_exporter": "python",
      "pygments_lexer": "ipython3",
      "version": "3.10.4"
    }
  },
  "nbformat": 4,
  "nbformat_minor": 2
}
