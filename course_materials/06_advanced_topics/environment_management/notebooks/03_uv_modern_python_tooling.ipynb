{
 "cells": [
  {
   "cell_type": "markdown",
   "metadata": {},
   "source": [
    "# uv: Modern Python Package and Project Management\n",
    "\n",
    "uv is a fast Python package installer and resolver, written in Rust. It's designed to be a drop-in replacement for pip and pip-tools."
   ]
  },
  {
   "cell_type": "markdown",
   "metadata": {},
   "source": [
    "## Why uv?\n",
    "\n",
    "### Speed\n",
    "- **10-100x faster** than pip\n",
    "- Written in Rust for performance\n",
    "- Parallel downloads and installations\n",
    "- Smart caching\n",
    "\n",
    "### Features\n",
    "- Drop-in replacement for pip\n",
    "- Built-in virtual environment management\n",
    "- Dependency resolution like pip-tools\n",
    "- Project management capabilities\n",
    "- Cross-platform support"
   ]
  },
  {
   "cell_type": "code",
   "execution_count": null,
   "metadata": {},
   "outputs": [],
   "source": [
    "# Basic uv commands (run in terminal)\n",
    "basic_commands = \"\"\"\n",
    "# Install uv\n",
    "pip install uv\n",
    "\n",
    "# Or using curl (recommended)\n",
    "curl -LsSf https://astral.sh/uv/install.sh | sh\n",
    "\n",
    "# Check version\n",
    "uv --version\n",
    "\n",
    "# Install packages (like pip)\n",
    "uv pip install requests\n",
    "uv pip install \"django>=4.0\"\n",
    "uv pip install -r requirements.txt\n",
    "\n",
    "# List installed packages\n",
    "uv pip list\n",
    "\n",
    "# Show package info\n",
    "uv pip show requests\n",
    "\n",
    "# Uninstall packages\n",
    "uv pip uninstall requests\n",
    "\"\"\"\n",
    "\n",
    "print(\"Basic uv Commands:\")\n",
    "print(basic_commands)"
   ]
  },
  {
   "cell_type": "markdown",
   "metadata": {},
   "source": [
    "## Virtual Environment Management with uv"
   ]
  },
  {
   "cell_type": "code",
   "execution_count": null,
   "metadata": {},
   "outputs": [],
   "source": [
    "# uv virtual environment commands\n",
    "venv_commands = \"\"\"\n",
    "# Create virtual environment\n",
    "uv venv myproject\n",
    "\n",
    "# Create with specific Python version\n",
    "uv venv --python 3.9 myproject39\n",
    "uv venv --python python3.11 myproject311\n",
    "\n",
    "# Create in current directory\n",
    "uv venv\n",
    "\n",
    "# Activate (same as regular venv)\n",
    "source myproject/bin/activate  # Linux/Mac\n",
    "myproject\\\\Scripts\\\\activate    # Windows\n",
    "\n",
    "# Install packages in virtual environment\n",
    "uv pip install --python myproject/bin/python requests\n",
    "\n",
    "# Or activate first, then install\n",
    "source myproject/bin/activate\n",
    "uv pip install requests\n",
    "\"\"\"\n",
    "\n",
    "print(\"uv Virtual Environment Commands:\")\n",
    "print(venv_commands)"
   ]
  },
  {
   "cell_type": "markdown",
   "metadata": {},
   "source": [
    "## Project Management with uv"
   ]
  },
  {
   "cell_type": "code",
   "execution_count": null,
   "metadata": {},
   "outputs": [],
   "source": [
    "# uv project management\n",
    "project_commands = \"\"\"\n",
    "# Initialize a new project\n",
    "uv init myproject\n",
    "cd myproject\n",
    "\n",
    "# Add dependencies\n",
    "uv add requests\n",
    "uv add \"django>=4.0\"\n",
    "uv add pytest --dev  # Development dependency\n",
    "\n",
    "# Remove dependencies\n",
    "uv remove requests\n",
    "\n",
    "# Install all dependencies\n",
    "uv sync\n",
    "\n",
    "# Run commands in project environment\n",
    "uv run python main.py\n",
    "uv run pytest\n",
    "\n",
    "# Lock dependencies\n",
    "uv lock\n",
    "\n",
    "# Export requirements\n",
    "uv export --format requirements-txt > requirements.txt\n",
    "\"\"\"\n",
    "\n",
    "print(\"uv Project Management:\")\n",
    "print(project_commands)"
   ]
  },
  {
   "cell_type": "markdown",
   "metadata": {},
   "source": [
    "## pyproject.toml with uv\n",
    "\n",
    "uv uses `pyproject.toml` for project configuration, following modern Python standards."
   ]
  },
  {
   "cell_type": "code",
   "execution_count": null,
   "metadata": {},
   "outputs": [],
   "source": [
    "# Example pyproject.toml\n",
    "pyproject_example = \"\"\"\n",
    "[project]\n",
    "name = \"my-awesome-project\"\n",
    "version = \"0.1.0\"\n",
    "description = \"A sample project using uv\"\n",
    "authors = [\n",
    "    {name = \"Your Name\", email = \"your.email@example.com\"}\n",
    "]\n",
    "dependencies = [\n",
    "    \"requests>=2.25.0\",\n",
    "    \"click>=8.0.0\",\n",
    "    \"rich>=10.0.0\",\n",
    "]\n",
    "requires-python = \">=3.8\"\n",
    "readme = \"README.md\"\n",
    "license = {text = \"MIT\"}\n",
    "\n",
    "[project.optional-dependencies]\n",
    "dev = [\n",
    "    \"pytest>=6.0\",\n",
    "    \"black>=22.0\",\n",
    "    \"flake8>=4.0\",\n",
    "    \"mypy>=0.900\",\n",
    "]\n",
    "docs = [\n",
    "    \"sphinx>=4.0\",\n",
    "    \"sphinx-rtd-theme>=1.0\",\n",
    "]\n",
    "\n",
    "[project.scripts]\n",
    "my-cli = \"my_project.cli:main\"\n",
    "\n",
    "[build-system]\n",
    "requires = [\"hatchling\"]\n",
    "build-backend = \"hatchling.build\"\n",
    "\n",
    "[tool.uv]\n",
    "dev-dependencies = [\n",
    "    \"pytest>=6.0\",\n",
    "    \"black>=22.0\",\n",
    "]\n",
    "\"\"\"\n",
    "\n",
    "print(\"Example pyproject.toml:\")\n",
    "print(pyproject_example)"
   ]
  },
  {
   "cell_type": "markdown",
   "metadata": {},
   "source": [
    "## Performance Comparison"
   ]
  },
  {
   "cell_type": "code",
   "execution_count": null,
   "metadata": {},
   "outputs": [],
   "source": [
    "# Performance comparison example\n",
    "performance_data = \"\"\"\n",
    "Installing Django + dependencies:\n",
    "\n",
    "Tool        Time     Packages\n",
    "----        ----     --------\n",
    "pip         45s      23 packages\n",
    "uv          3s       23 packages\n",
    "\n",
    "Installing NumPy + SciPy + Pandas:\n",
    "\n",
    "Tool        Time     Packages\n",
    "----        ----     --------\n",
    "pip         120s     15 packages\n",
    "uv          8s       15 packages\n",
    "\n",
    "Resolving complex dependency tree:\n",
    "\n",
    "Tool        Time     Resolution\n",
    "----        ----     ----------\n",
    "pip         300s     Success\n",
    "uv          12s      Success\n",
    "\"\"\"\n",
    "\n",
    "print(\"Performance Comparison:\")\n",
    "print(performance_data)"
   ]
  },
  {
   "cell_type": "markdown",
   "metadata": {},
   "source": [
    "## Migration from pip to uv"
   ]
  },
  {
   "cell_type": "code",
   "execution_count": null,
   "metadata": {},
   "outputs": [],
   "source": [
    "# Migration guide\n",
    "migration_guide = \"\"\"\n",
    "# Old pip workflow\n",
    "python -m venv venv\n",
    "source venv/bin/activate\n",
    "pip install -r requirements.txt\n",
    "pip freeze > requirements.txt\n",
    "\n",
    "# New uv workflow\n",
    "uv venv\n",
    "source .venv/bin/activate\n",
    "uv pip install -r requirements.txt\n",
    "uv pip freeze > requirements.txt\n",
    "\n",
    "# Or even better - project-based workflow\n",
    "uv init myproject\n",
    "cd myproject\n",
    "uv add requests pandas numpy\n",
    "uv run python main.py\n",
    "\n",
    "# Command mapping:\n",
    "pip install package     →  uv pip install package\n",
    "pip install -r req.txt  →  uv pip install -r req.txt\n",
    "pip list               →  uv pip list\n",
    "pip show package       →  uv pip show package\n",
    "pip uninstall package  →  uv pip uninstall package\n",
    "pip freeze             →  uv pip freeze\n",
    "\"\"\"\n",
    "\n",
    "print(\"Migration from pip to uv:\")\n",
    "print(migration_guide)"
   ]
  },
  {
   "cell_type": "markdown",
   "metadata": {},
   "source": [
    "## Advanced uv Features"
   ]
  },
  {
   "cell_type": "code",
   "execution_count": null,
   "metadata": {},
   "outputs": [],
   "source": [
    "# Advanced features\n",
    "advanced_features = \"\"\"\n",
    "# Install from Git\n",
    "uv pip install git+https://github.com/user/repo.git\n",
    "\n",
    "# Install from local path\n",
    "uv pip install -e ./my-local-package\n",
    "\n",
    "# Install with extras\n",
    "uv pip install \"requests[security,socks]\"\n",
    "\n",
    "# Compile requirements (like pip-tools)\n",
    "uv pip compile requirements.in\n",
    "uv pip compile pyproject.toml\n",
    "\n",
    "# Sync environment to match requirements exactly\n",
    "uv pip sync requirements.txt\n",
    "\n",
    "# Install to specific Python\n",
    "uv pip install --python /usr/bin/python3.9 requests\n",
    "\n",
    "# Cache management\n",
    "uv cache clean\n",
    "uv cache dir\n",
    "\n",
    "# Generate lock file\n",
    "uv lock\n",
    "\n",
    "# Install from lock file\n",
    "uv sync --locked\n",
    "\"\"\"\n",
    "\n",
    "print(\"Advanced uv Features:\")\n",
    "print(advanced_features)"
   ]
  },
  {
   "cell_type": "markdown",
   "metadata": {},
   "source": [
    "## Best Practices with uv\n",
    "\n",
    "1. **Use project-based workflow** for new projects\n",
    "2. **Leverage pyproject.toml** for modern Python packaging\n",
    "3. **Use lock files** for reproducible builds\n",
    "4. **Separate dev dependencies** from production\n",
    "5. **Use `uv run`** instead of activating environments\n",
    "6. **Cache is your friend** - uv's caching makes repeated installs very fast"
   ]
  }
 ],
 "metadata": {
  "kernelspec": {
   "display_name": "Python 3",
   "language": "python",
   "name": "python3"
  },
  "language_info": {
   "codemirror_mode": {
    "name": "ipython",
    "version": 3
   },
   "file_extension": ".py",
   "mimetype": "text/x-python",
   "name": "python",
   "nbconvert_exporter": "python",
   "pygments_lexer": "ipython3",
   "version": "3.9.0"
  }
 },
 "nbformat": 4,
 "nbformat_minor": 4
}