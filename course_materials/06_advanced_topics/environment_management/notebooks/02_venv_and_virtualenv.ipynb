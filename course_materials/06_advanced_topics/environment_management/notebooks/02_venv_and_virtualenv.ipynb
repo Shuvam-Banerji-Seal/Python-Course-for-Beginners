{
 "cells": [
  {
   "cell_type": "markdown",
   "metadata": {},
   "source": [
    "# venv vs virtualenv: Detailed Comparison\n",
    "\n",
    "This notebook compares the built-in `venv` module with the third-party `virtualenv` package."
   ]
  },
  {
   "cell_type": "markdown",
   "metadata": {},
   "source": [
    "## venv (Built-in Module)\n",
    "\n",
    "### Advantages:\n",
    "- Built into Python 3.3+\n",
    "- No additional installation required\n",
    "- Lightweight and fast\n",
    "- Official Python solution\n",
    "\n",
    "### Limitations:\n",
    "- Only works with the Python version it's installed with\n",
    "- Fewer customization options\n",
    "- Cannot create environments for different Python versions"
   ]
  },
  {
   "cell_type": "code",
   "execution_count": null,
   "metadata": {},
   "outputs": [],
   "source": [
    "# venv commands (run in terminal)\n",
    "venv_commands = \"\"\"\n",
    "# Basic usage\n",
    "python -m venv myenv\n",
    "\n",
    "# With specific Python version (if multiple installed)\n",
    "python3.9 -m venv myenv39\n",
    "\n",
    "# Without pip (faster creation)\n",
    "python -m venv --without-pip myenv_no_pip\n",
    "\n",
    "# System site packages access\n",
    "python -m venv --system-site-packages myenv_system\n",
    "\n",
    "# Clear existing environment\n",
    "python -m venv --clear myenv\n",
    "\"\"\"\n",
    "\n",
    "print(\"venv Commands:\")\n",
    "print(venv_commands)"
   ]
  },
  {
   "cell_type": "markdown",
   "metadata": {},
   "source": [
    "## virtualenv (Third-party Package)\n",
    "\n",
    "### Advantages:\n",
    "- Works with Python 2.7+ and 3.5+\n",
    "- Can create environments for different Python versions\n",
    "- More configuration options\n",
    "- Faster environment creation\n",
    "- Better cross-platform support\n",
    "\n",
    "### Disadvantages:\n",
    "- Requires separate installation\n",
    "- Slightly more complex"
   ]
  },
  {
   "cell_type": "code",
   "execution_count": null,
   "metadata": {},
   "outputs": [],
   "source": [
    "# virtualenv commands (run in terminal)\n",
    "virtualenv_commands = \"\"\"\n",
    "# Basic usage\n",
    "virtualenv myenv\n",
    "\n",
    "# Specify Python version\n",
    "virtualenv -p python3.9 myenv39\n",
    "virtualenv -p /usr/bin/python3.8 myenv38\n",
    "\n",
    "# Without pip\n",
    "virtualenv --no-pip myenv_no_pip\n",
    "\n",
    "# System site packages\n",
    "virtualenv --system-site-packages myenv_system\n",
    "\n",
    "# Specify download directory\n",
    "virtualenv --download myenv_download\n",
    "\n",
    "# Verbose output\n",
    "virtualenv -v myenv_verbose\n",
    "\"\"\"\n",
    "\n",
    "print(\"virtualenv Commands:\")\n",
    "print(virtualenv_commands)"
   ]
  },
  {
   "cell_type": "markdown",
   "metadata": {},
   "source": [
    "## Practical Example: Creating and Using Environments"
   ]
  },
  {
   "cell_type": "code",
   "execution_count": null,
   "metadata": {},
   "outputs": [],
   "source": [
    "# Example workflow script\n",
    "workflow_script = \"\"\"\n",
    "#!/bin/bash\n",
    "\n",
    "# Create project directory\n",
    "mkdir my_python_project\n",
    "cd my_python_project\n",
    "\n",
    "# Method 1: Using venv\n",
    "python -m venv venv\n",
    "source venv/bin/activate  # Linux/Mac\n",
    "# venv\\\\Scripts\\\\activate  # Windows\n",
    "\n",
    "# Install packages\n",
    "pip install requests numpy pandas\n",
    "\n",
    "# Save requirements\n",
    "pip freeze > requirements.txt\n",
    "\n",
    "# Deactivate\n",
    "deactivate\n",
    "\n",
    "# Method 2: Using virtualenv\n",
    "virtualenv venv_alt\n",
    "source venv_alt/bin/activate\n",
    "\n",
    "# Install from requirements\n",
    "pip install -r requirements.txt\n",
    "\n",
    "# Work on project...\n",
    "\n",
    "deactivate\n",
    "\"\"\"\n",
    "\n",
    "print(\"Complete Workflow:\")\n",
    "print(workflow_script)"
   ]
  },
  {
   "cell_type": "markdown",
   "metadata": {},
   "source": [
    "## Environment Structure Comparison"
   ]
  },
  {
   "cell_type": "code",
   "execution_count": null,
   "metadata": {},
   "outputs": [],
   "source": [
    "# Show typical virtual environment structure\n",
    "env_structure = \"\"\"\n",
    "myenv/\n",
    "├── bin/                    # Linux/Mac executables\n",
    "│   ├── activate           # Activation script\n",
    "│   ├── activate.csh       # C shell activation\n",
    "│   ├── activate.fish      # Fish shell activation\n",
    "│   ├── pip                # pip executable\n",
    "│   └── python             # Python executable (symlink)\n",
    "├── Scripts/               # Windows executables\n",
    "│   ├── activate.bat       # Windows activation\n",
    "│   ├── pip.exe           # pip executable\n",
    "│   └── python.exe        # Python executable\n",
    "├── lib/                   # Python libraries\n",
    "│   └── python3.x/\n",
    "│       └── site-packages/ # Installed packages\n",
    "├── include/               # C headers\n",
    "└── pyvenv.cfg            # Environment configuration\n",
    "\"\"\"\n",
    "\n",
    "print(\"Virtual Environment Structure:\")\n",
    "print(env_structure)"
   ]
  },
  {
   "cell_type": "markdown",
   "metadata": {},
   "source": [
    "## Best Practices\n",
    "\n",
    "1. **Use venv for simple projects** with single Python version\n",
    "2. **Use virtualenv for complex setups** requiring different Python versions\n",
    "3. **Always activate** before installing packages\n",
    "4. **Keep requirements.txt updated** for reproducibility\n",
    "5. **Don't commit virtual environments** to version control\n",
    "6. **Use descriptive names** for environments"
   ]
  },
  {
   "cell_type": "code",
   "execution_count": null,
   "metadata": {},
   "outputs": [],
   "source": [
    "# .gitignore entries for virtual environments\n",
    "gitignore_content = \"\"\"\n",
    "# Virtual environments\n",
    "venv/\n",
    "env/\n",
    "ENV/\n",
    "env.bak/\n",
    "venv.bak/\n",
    ".venv/\n",
    "\n",
    "# virtualenv\n",
    ".Python\n",
    "build/\n",
    "develop-eggs/\n",
    "dist/\n",
    "downloads/\n",
    "eggs/\n",
    ".eggs/\n",
    "lib/\n",
    "lib64/\n",
    "parts/\n",
    "sdist/\n",
    "var/\n",
    "wheels/\n",
    "*.egg-info/\n",
    ".installed.cfg\n",
    "*.egg\n",
    "\"\"\"\n",
    "\n",
    "print(\"Add to .gitignore:\")\n",
    "print(gitignore_content)"
   ]
  }
 ],
 "metadata": {
  "kernelspec": {
   "display_name": "Python 3",
   "language": "python",
   "name": "python3"
  },
  "language_info": {
   "codemirror_mode": {
    "name": "ipython",
    "version": 3
   },
   "file_extension": ".py",
   "mimetype": "text/x-python",
   "name": "python",
   "nbconvert_exporter": "python",
   "pygments_lexer": "ipython3",
   "version": "3.9.0"
  }
 },
 "nbformat": 4,
 "nbformat_minor": 4
}