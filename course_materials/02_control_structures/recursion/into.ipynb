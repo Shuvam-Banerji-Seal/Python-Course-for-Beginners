{
 "cells": [
  {
   "cell_type": "markdown",
   "metadata": {},
   "source": [
    "# A Deep Dive into Recursion with Visualizations\n",
    "\n",
    "Welcome! This notebook explores **recursion**, a fundamental programming concept where a function calls itself to solve a problem. We will tackle several classic problems and use **Mermaid diagrams** to visualize the function call stack, making the process easier to understand.\n",
    "\n",
    "### The Two Pillars of Recursion\n",
    "\n",
    "Every valid recursive function is built on two essential components:\n",
    "\n",
    "1.  **Base Case:** The simplest possible version of the problem that the function can solve directly, without calling itself again. This is the condition that **stops** the recursion.\n",
    "2.  **Recursive Step:** The part of the function that breaks the current problem down into a smaller, simpler version of itself and then calls itself to solve that smaller piece. This step must move the problem closer to the base case."
   ]
  },
  {
   "cell_type": "markdown",
   "metadata": {},
   "source": [
    "## Problem 1: The Factorial Function\n",
    "\n",
    "The factorial of a non-negative integer `n` (denoted `n!`) is the product of all positive integers up to `n`.\n",
    "- **Example:** `5! = 5 * 4 * 3 * 2 * 1 = 120`\n",
    "- **Recursive Definition:**\n",
    "  - **Base Case:** `factorial(0) = 1`\n",
    "  - **Recursive Step:** `factorial(n) = n * factorial(n-1)`"
   ]
  },
  {
   "cell_type": "code",
   "execution_count": null,
   "metadata": {},
   "outputs": [],
   "source": [
    "def factorial(n):\n",
    "    \"\"\"Calculates n! using recursion.\"\"\"\n",
    "    # Base Case\n",
    "    if n == 0:\n",
    "        print(f\"Base case for n={n}: returning 1\")\n",
    "        return 1\n",
    "    # Recursive Step\n",
    "    else:\n",
    "        print(f\"Recursive step for n={n}: needs factorial({n-1})\")\n",
    "        result = n * factorial(n - 1)\n",
    "        print(f\"Returning from n={n}: {n} * result of factorial({n-1}) = {result}\")\n",
    "        return result\n",
    "\n",
    "# Let's run it\n",
    "print(\"--- Calculating factorial(4) ---\")\n",
    "final_result = factorial(4)\n",
    "print(f\"\\nFinal Result: {final_result}\")"
   ]
  },
  {
   "cell_type": "markdown",
   "metadata": {},
   "source": [
    "### Factorial Call Stack Visualization\n",
    "\n",
    "The diagram below shows the \"call stack.\" Each call waits for the one below it to finish. Once the base case (`factorial(0)`) returns a value, the results are passed back up the stack.\n",
    "\n",
    "```mermaid\n",
    "graph TD\n",
    "    subgraph Call Phase\n",
    "        A[\"factorial(4)\"] --> B[\"factorial(3)\"]\n",
    "        B --> C[\"factorial(2)\"]\n",
    "        C --> D[\"factorial(1)\"]\n",
    "        D --> E[\"factorial(0)\"]\n",
    "    end\n",
    "\n",
    "    subgraph Return Phase\n",
    "        E -- returns 1 --> D\n",
    "        D -- returns 1*1=1 --> C\n",
    "        C -- returns 2*1=2 --> B\n",
    "        B -- returns 3*2=6 --> A\n",
    "        A -- returns 4*6=24 --> F[Final Result: 24]\n",
    "    end\n",
    "\n",
    "    style E fill:#f9f,stroke:#333,stroke-width:2px\n",
    "    style F fill:#bbf,stroke:#333,stroke-width:2px\n",
    "```"
   ]
  },
  {
   "cell_type": "markdown",
   "metadata": {},
   "source": [
    "## Problem 2: The Fibonacci Sequence\n",
    "\n",
    "The Fibonacci sequence is a series where each number is the sum of the two preceding ones, starting from 0 and 1.\n",
    "- **Sequence:** `0, 1, 1, 2, 3, 5, 8, ...`\n",
    "- **Recursive Definition:**\n",
    "  - **Base Cases:** `fib(0) = 0`, `fib(1) = 1`\n",
    "  - **Recursive Step:** `fib(n) = fib(n-1) + fib(n-2)`\n",
    "\n",
    "This is an example of **tree recursion** because it makes two recursive calls in the recursive step."
   ]
  },
  {
   "cell_type": "code",
   "execution_count": 1,
   "metadata": {},
   "outputs": [
    {
     "name": "stdout",
     "output_type": "stream",
     "text": [
      "The 6th Fibonacci number is: 8\n"
     ]
    }
   ],
   "source": [
    "def fibonacci(n):\n",
    "    \"\"\"Calculates the nth Fibonacci number.\"\"\"\n",
    "    if n <= 1:\n",
    "        return n\n",
    "    else:\n",
    "        return fibonacci(n - 1) + fibonacci(n - 2)\n",
    "\n",
    "print(f\"The 6th Fibonacci number is: {fibonacci(6)}\")"
   ]
  },
  {
   "cell_type": "markdown",
   "metadata": {},
   "source": [
    "### Fibonacci Call Tree Visualization\n",
    "\n",
    "Notice how many times the same calculations are repeated (e.g., `fib(2)` is calculated multiple times). This is why the simple recursive Fibonacci is elegant but very inefficient.\n",
    "\n",
    "```mermaid\n",
    "graph TD\n",
    "    subgraph fib(5)\n",
    "        A(fib_5) --> B(fib_4)\n",
    "        A --> C(fib_3)\n",
    "    end\n",
    "    \n",
    "    subgraph fib(4)\n",
    "        B --> D(fib_3)\n",
    "        B --> E(fib_2)\n",
    "    end\n",
    "    \n",
    "    subgraph fib(3)\n",
    "        C --> F(fib_2)\n",
    "        C --> G(fib_1)\n",
    "    end\n",
    "    \n",
    "    subgraph \"fib(3) repeated\"\n",
    "        D --> H(fib_2)\n",
    "        D --> I(fib_1)\n",
    "    end\n",
    "    \n",
    "    subgraph \"fib(2) repeated\"\n",
    "        E --> J(fib_1)\n",
    "        E --> K(fib_0)\n",
    "    end\n",
    "    \n",
    "    subgraph \"fib(2) repeated again\"\n",
    "        F --> L(fib_1)\n",
    "        F --> M(fib_0)\n",
    "    end\n",
    "    \n",
    "    subgraph \"fib(2) repeated again...\"\n",
    "        H --> N(fib_1)\n",
    "        H --> O(fib_0)\n",
    "    end\n",
    "\n",
    "    style G fill:#f9f\n",
    "    style I fill:#f9f\n",
    "    style J fill:#f9f\n",
    "    style L fill:#f9f\n",
    "    style N fill:#f9f\n",
    "    style K fill:#f9f\n",
    "    style M fill:#f9f\n",
    "    style O fill:#f9f\n",
    "```"
   ]
  },
  {
   "cell_type": "markdown",
   "metadata": {},
   "source": [
    "## Problem 3: String Reversal\n",
    "\n",
    "How can we reverse a string like `\"hello\"` to `\"olleh\"` using recursion?\n",
    "\n",
    "- **Logic:** Take the first character (`h`), and place it at the end of the reversed version of the rest of the string (`ello`).\n",
    "- **Recursive Definition:**\n",
    "  - **Base Case:** If the string is empty or has one character, it's already reversed.\n",
    "  - **Recursive Step:** `reverse(string) = reverse(string[1:]) + string[0]`"
   ]
  },
  {
   "cell_type": "code",
   "execution_count": null,
   "metadata": {},
   "outputs": [],
   "source": [
    "def reverse_string(s):\n",
    "    \"\"\"Reverses a string using recursion.\"\"\"\n",
    "    # Base Case\n",
    "    if len(s) <= 1:\n",
    "        return s\n",
    "    # Recursive Step\n",
    "    else:\n",
    "        first_char = s[0]\n",
    "        rest_of_string = s[1:]\n",
    "        return reverse_string(rest_of_string) + first_char\n",
    "\n",
    "print(f\"'hello' reversed is '{reverse_string('hello')}'\")\n",
    "print(f\"'python' reversed is '{reverse_string('python')}'\")"
   ]
  },
  {
   "cell_type": "markdown",
   "metadata": {},
   "source": [
    "### String Reversal Visualization for `\"cat\"`\n",
    "\n",
    "```mermaid\n",
    "graph TD\n",
    "    A[\"reverse('cat')\"] --> B[\"reverse('at') + 'c'\"]\n",
    "    B --> C[\"reverse('t') + 'a'\"]\n",
    "    C --> D[\"Base Case: reverse('t') returns 't'\"]\n",
    "    \n",
    "    D -- returns 't' --> C\n",
    "    C -- computes 't' + 'a' = 'ta' --> B\n",
    "    B -- computes 'ta' + 'c' = 'tac' --> A\n",
    "    A --> Final[Final Result: 'tac']\n",
    "    \n",
    "    style D fill:#f9f\n",
    "    style Final fill:#bbf\n",
    "```"
   ]
  },
  {
   "cell_type": "markdown",
   "metadata": {},
   "source": [
    "## Problem 4: Binary Search\n",
    "\n",
    "Binary search is a highly efficient algorithm for finding an item in a **sorted** list. It works by repeatedly dividing the search interval in half.\n",
    "\n",
    "- **Logic:** Compare the target value to the middle element. If they are not equal, the half in which the target cannot lie is eliminated, and the search continues on the remaining half.\n",
    "- **Recursive Definition:**\n",
    "  - **Base Cases:** \n",
    "    1. The list is empty (target not found).\n",
    "    2. The middle element is the target (target found).\n",
    "  - **Recursive Step:** Search in the left half if the target is smaller than the middle, or the right half if the target is larger."
   ]
  },
  {
   "cell_type": "code",
   "execution_count": null,
   "metadata": {},
   "outputs": [],
   "source": [
    "def binary_search_recursive(arr, target, low, high):\n",
    "    \"\"\"Performs a binary search on a sorted array.\"\"\"\n",
    "    if low > high:\n",
    "        # Base Case 1: Search space is empty\n",
    "        return -1 # Not found\n",
    "\n",
    "    mid = (low + high) // 2\n",
    "    \n",
    "    if arr[mid] == target:\n",
    "        # Base Case 2: Found the target\n",
    "        return mid\n",
    "    elif arr[mid] > target:\n",
    "        # Recursive Step: Search in the left half\n",
    "        return binary_search_recursive(arr, target, low, mid - 1)\n",
    "    else:\n",
    "        # Recursive Step: Search in the right half\n",
    "        return binary_search_recursive(arr, target, mid + 1, high)\n",
    "\n",
    "# Wrapper function for easier use\n",
    "def search(arr, target):\n",
    "    return binary_search_recursive(arr, target, 0, len(arr) - 1)\n",
    "\n",
    "my_sorted_list = [2, 5, 8, 12, 16, 23, 38, 56, 72, 91]\n",
    "target1 = 23\n",
    "target2 = 100\n",
    "\n",
    "print(f\"Searching for {target1} in {my_sorted_list}: Index {search(my_sorted_list, target1)}\")\n",
    "print(f\"Searching for {target2} in {my_sorted_list}: Index {search(my_sorted_list, target2)}\")"
   ]
  },
  {
   "cell_type": "markdown",
   "metadata": {},
   "source": [
    "### Binary Search Visualization for `target=23`\n",
    "\n",
    "The list is `[2, 5, 8, 12, 16, 23, 38, 56, 72, 91]`. Indexes `0-9`.\n",
    "\n",
    "```mermaid\n",
    "graph TD\n",
    "    A[\"Call 1: low=0, high=9, mid=4 (val=16)\"]\n",
    "    A -- 23 > 16, search right --> B[\"Call 2: low=5, high=9, mid=7 (val=56)\"]\n",
    "    B -- 23 < 56, search left --> C[\"Call 3: low=5, high=6, mid=5 (val=23)\"]\n",
    "    C --> D{\"Found! arr == 23\"}\n",
    "    D -- return index 5 --> C\n",
    "    C -- return 5 --> B\n",
    "    B -- return 5 --> A\n",
    "    A --> Final[Final Result: 5]\n",
    "    \n",
    "    style D fill:#f9f\n",
    "    style Final fill:#bbf\n",
    "```"
   ]
  },
  {
   "cell_type": "markdown",
   "metadata": {},
   "source": [
    "### Conclusion and Pitfalls\n",
    "\n",
    "Recursion is an elegant and powerful tool for solving problems that can be broken down into self-similar sub-problems, especially those involving tree-like data structures.\n",
    "\n",
    "**Key Pitfalls to Remember:**\n",
    "1.  **Missing or Incorrect Base Case:** This leads to infinite recursion, which Python stops with a `RecursionError`.\n",
    "2.  **Stack Overflow:** If the recursion goes too deep (e.g., `factorial(3000)`), it can exceed Python's recursion depth limit, also causing a `RecursionError`. This is a protection mechanism.\n",
    "3.  **Inefficiency:** For some problems like Fibonacci, a simple recursive solution can be very slow due to re-computing the same values. An iterative solution or memoization is often better in those cases."
   ]
  }
 ],
 "metadata": {
  "kernelspec": {
   "display_name": ".global",
   "language": "python",
   "name": "python3"
  },
  "language_info": {
   "codemirror_mode": {
    "name": "ipython",
    "version": 3
   },
   "file_extension": ".py",
   "mimetype": "text/x-python",
   "name": "python",
   "nbconvert_exporter": "python",
   "pygments_lexer": "ipython3",
   "version": "3.13.5"
  }
 },
 "nbformat": 4,
 "nbformat_minor": 4
}
