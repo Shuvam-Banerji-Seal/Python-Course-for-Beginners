{
 "cells": [
  {
   "cell_type": "markdown",
   "metadata": {},
   "source": [
    "# A Comprehensive Guide to Python Operators\n",
    "\n",
    "Welcome to this interactive tutorial on Python operators! Operators are special symbols in Python that carry out arithmetic or logical computation. The value that the operator operates on is called the operand.\n",
    "\n",
    "This notebook will cover all the major categories of operators in Python. We'll explore each one with clear explanations and executable code examples."
   ]
  },
  {
   "cell_type": "markdown",
   "metadata": {},
   "source": [
    "### Table of Contents\n",
    "\n",
    "1.  [Arithmetic Operators](#arithmetic)\n",
    "2.  [Comparison (Relational) Operators](#comparison)\n",
    "3.  [Logical Operators](#logical)\n",
    "4.  [Assignment Operators](#assignment)\n",
    "5.  [Bitwise Operators](#bitwise)\n",
    "6.  [Identity Operators](#identity)\n",
    "7.  [Membership Operators](#membership)\n",
    "8.  [Operator Precedence](#precedence)"
   ]
  },
  {
   "cell_type": "markdown",
   "metadata": {},
   "source": [
    "<a id='arithmetic'></a>\n",
    "## 1. Arithmetic Operators\n",
    "\n",
    "Arithmetic operators are used to perform mathematical operations like addition, subtraction, multiplication, etc."
   ]
  },
  {
   "cell_type": "markdown",
   "metadata": {},
   "source": [
    "| Operator | Name             | Description                                      |\n",
    "|----------|------------------|--------------------------------------------------|\n",
    "| `+`      | Addition         | Adds two operands                                |\n",
    "| `-`      | Subtraction      | Subtracts the right operand from the left        |\n",
    "| `*`      | Multiplication   | Multiplies two operands                          |\n",
    "| `/`      | Division         | Divides the left operand by the right (result is always a float) |\n",
    "| `//`     | Floor Division   | Divides and returns the integer value of the quotient |\n",
    "| `%`      | Modulus          | Divides and returns the remainder                |\n",
    "| `**`     | Exponentiation   | Raises the left operand to the power of the right|"
   ]
  },
  {
   "cell_type": "code",
   "execution_count": 1,
   "metadata": {},
   "outputs": [
    {
     "name": "stdout",
     "output_type": "stream",
     "text": [
      "10 + 3 = 13\n",
      "10 - 3 = 7\n",
      "10 * 3 = 30\n",
      "10 / 3 = 3.3333333333333335\n",
      "10 // 3 = 3\n",
      "10 % 3 = 1\n",
      "10 ** 3 = 1000\n"
     ]
    }
   ],
   "source": [
    "a = 10\n",
    "b = 3\n",
    "\n",
    "# Addition\n",
    "print(f'{a} + {b} = {a + b}')\n",
    "\n",
    "# Subtraction\n",
    "print(f'{a} - {b} = {a - b}')\n",
    "\n",
    "# Multiplication\n",
    "print(f'{a} * {b} = {a * b}')\n",
    "\n",
    "# Division (always results in a float)\n",
    "print(f'{a} / {b} = {a / b}')\n",
    "\n",
    "# Floor Division (discards the fractional part)\n",
    "print(f'{a} // {b} = {a // b}')\n",
    "\n",
    "# Modulus (remainder of the division)\n",
    "print(f'{a} % {b} = {a % b}')\n",
    "\n",
    "# Exponentiation (a to the power of b)\n",
    "print(f'{a} ** {b} = {a ** b}')"
   ]
  },
  {
   "cell_type": "markdown",
   "metadata": {},
   "source": [
    "<a id='comparison'></a>\n",
    "## 2. Comparison (Relational) Operators\n",
    "\n",
    "Comparison operators are used to compare two values. They return a Boolean value: either `True` or `False`."
   ]
  },
  {
   "cell_type": "markdown",
   "metadata": {},
   "source": [
    "| Operator | Name                     | Description                                            |\n",
    "|----------|--------------------------|--------------------------------------------------------|\n",
    "| `==`     | Equal to                 | Returns `True` if both operands are equal              |\n",
    "| `!=`     | Not equal to             | Returns `True` if operands are not equal               |\n",
    "| `>`      | Greater than             | Returns `True` if the left operand is greater          |\n",
    "| `<`      | Less than                | Returns `True` if the left operand is less             |\n",
    "| `>=`     | Greater than or equal to | Returns `True` if the left operand is greater or equal |\n",
    "| `<=`     | Less than or equal to    | Returns `True` if the left operand is less or equal    |"
   ]
  },
  {
   "cell_type": "code",
   "execution_count": 2,
   "metadata": {},
   "outputs": [
    {
     "name": "stdout",
     "output_type": "stream",
     "text": [
      "Is 5 equal to 8? \t\t False\n",
      "Is 5 not equal to 8? \t\t True\n",
      "Is 5 greater than 8? \t\t False\n",
      "Is 5 less than 8? \t\t True\n",
      "Is 5 greater than or equal to 5? \t True\n",
      "Is 8 less than or equal to 8? \t\t True\n"
     ]
    }
   ],
   "source": [
    "x = 5\n",
    "y = 8\n",
    "\n",
    "print(f'Is {x} equal to {y}? \\t\\t {x == y}')\n",
    "print(f'Is {x} not equal to {y}? \\t\\t {x != y}')\n",
    "print(f'Is {x} greater than {y}? \\t\\t {x > y}')\n",
    "print(f'Is {x} less than {y}? \\t\\t {x < y}')\n",
    "print(f'Is {x} greater than or equal to 5? \\t {x >= 5}')\n",
    "print(f'Is {y} less than or equal to 8? \\t\\t {y <= 8}')"
   ]
  },
  {
   "cell_type": "markdown",
   "metadata": {},
   "source": [
    "<a id='logical'></a>\n",
    "## 3. Logical Operators\n",
    "\n",
    "Logical operators are used to combine conditional statements (i.e., combine Boolean values)."
   ]
  },
  {
   "cell_type": "markdown",
   "metadata": {},
   "source": [
    "| Operator | Description                                     | Example               |\n",
    "|----------|-------------------------------------------------|-----------------------|\n",
    "| `and`    | Returns `True` if both statements are true      | `x < 5 and x < 10`    |\n",
    "| `or`     | Returns `True` if one of the statements is true | `x < 5 or y < 4`      |\n",
    "| `not`    | Reverses the result; returns `False` if the result is true | `not(x < 5 and x < 10)` |"
   ]
  },
  {
   "cell_type": "code",
   "execution_count": 3,
   "metadata": {},
   "outputs": [
    {
     "name": "stdout",
     "output_type": "stream",
     "text": [
      "Can access sensitive data (permission AND logged in)? False\n",
      "Can view the homepage (permission OR logged in)? True\n",
      "Is NOT logged in? True\n"
     ]
    }
   ],
   "source": [
    "has_permission = True\n",
    "is_logged_in = False\n",
    "\n",
    "# and: both must be True\n",
    "print(f'Can access sensitive data (permission AND logged in)? {has_permission and is_logged_in}')\n",
    "\n",
    "# or: at least one must be True\n",
    "print(f'Can view the homepage (permission OR logged in)? {has_permission or is_logged_in}')\n",
    "\n",
    "# not: inverts the boolean value\n",
    "print(f'Is NOT logged in? {not is_logged_in}')"
   ]
  },
  {
   "cell_type": "markdown",
   "metadata": {},
   "source": [
    "<a id='assignment'></a>\n",
    "## 4. Assignment Operators\n",
    "\n",
    "Assignment operators are used to assign values to variables. The basic one is `=`, but there are also compound operators that perform an arithmetic operation and assign the result in one step."
   ]
  },
  {
   "cell_type": "markdown",
   "metadata": {},
   "source": [
    "| Operator | Example  | Same As     |\n",
    "|----------|----------|-------------|\n",
    "| `=`      | `x = 5`  | `x = 5`     |\n",
    "| `+=`     | `x += 3` | `x = x + 3` |\n",
    "| `-=`     | `x -= 3` | `x = x - 3` |\n",
    "| `*=`     | `x *= 3` | `x = x * 3` |\n",
    "| `/=`     | `x /= 3` | `x = x / 3` |\n",
    "| `//=`    | `x //= 3`| `x = x // 3`|\n",
    "| `%=`     | `x %= 3` | `x = x % 3` |\n",
    "| `**=`    | `x **= 3`| `x = x ** 3`|"
   ]
  },
  {
   "cell_type": "code",
   "execution_count": 4,
   "metadata": {},
   "outputs": [
    {
     "name": "stdout",
     "output_type": "stream",
     "text": [
      "Initial count: 10\n",
      "After += 5: 15\n",
      "After -= 3: 12\n",
      "After *= 2: 24\n",
      "After //= 3: 8\n"
     ]
    }
   ],
   "source": [
    "count = 10\n",
    "print(f'Initial count: {count}')\n",
    "\n",
    "count += 5  # count = count + 5\n",
    "print(f'After += 5: {count}')\n",
    "\n",
    "count -= 3  # count = count - 3\n",
    "print(f'After -= 3: {count}')\n",
    "\n",
    "count *= 2  # count = count * 2\n",
    "print(f'After *= 2: {count}')\n",
    "\n",
    "count //= 3 # count = count // 3\n",
    "print(f'After //= 3: {count}')"
   ]
  },
  {
   "cell_type": "markdown",
   "metadata": {},
   "source": [
    "<a id='bitwise'></a>\n",
    "## 5. Bitwise Operators\n",
    "\n",
    "Bitwise operators act on operands as if they were strings of binary digits. They are less common in day-to-day programming but are crucial for low-level systems programming, image processing, and certain algorithms."
   ]
  },
  {
   "cell_type": "markdown",
   "metadata": {},
   "source": [
    "| Operator | Name                 | Description                                                              |\n",
    "|----------|----------------------|--------------------------------------------------------------------------|\n",
    "| `&`      | Bitwise AND          | Sets each bit to 1 if both bits are 1                                    |\n",
    "| `|`      | Bitwise OR           | Sets each bit to 1 if one of two bits is 1                               |\n",
    "| `^`      | Bitwise XOR          | Sets each bit to 1 if only one of two bits is 1                          |\n",
    "| `~`      | Bitwise NOT (Invert) | Inverts all the bits                                                     |\n",
    "| `<<`     | Left Shift           | Shifts bits to the left, pushing zeros in from the right                 |\n",
    "| `>>`     | Right Shift          | Shifts bits to the right, pushing copies of the leftmost bit in from the left |"
   ]
  },
  {
   "cell_type": "code",
   "execution_count": 7,
   "metadata": {},
   "outputs": [
    {
     "name": "stdout",
     "output_type": "stream",
     "text": [
      "Binary of m and n: 0b111100, 0b1101\n",
      "m = 60 (0b111100)\n",
      "n = 13 (0b1101)\n",
      "------------------------------\n",
      "m & n = 12 (0b1100)\n",
      "m | n = 61 (0b111101)\n",
      "m ^ n = 49 (0b110001)\n",
      "~m    = -61 (-0b111101)\n",
      "m << 2 = 240 (0b11110000)\n",
      "m >> 2 = 15 (0b1111)\n"
     ]
    }
   ],
   "source": [
    "m = 60  # Binary: 0011 1100\n",
    "n = 13  # Binary: 0000 1101\n",
    "\n",
    "print(f\"Binary of m and n: {bin(m)}, {bin(n)}\")\n",
    "print(f'm = {m} ({bin(m)})')\n",
    "print(f'n = {n} ({bin(n)})')\n",
    "print('-'*30)\n",
    "\n",
    "# Bitwise AND\n",
    "result = m & n  # Binary: 0000 1100\n",
    "print(f'm & n = {result} ({bin(result)})')\n",
    "\n",
    "# Bitwise OR\n",
    "result = m | n  # Binary: 0011 1101\n",
    "print(f'm | n = {result} ({bin(result)})')\n",
    "\n",
    "# Bitwise XOR\n",
    "result = m ^ n  # Binary: 0011 0001\n",
    "print(f'm ^ n = {result} ({bin(result)})')\n",
    "\n",
    "# Bitwise NOT\n",
    "result = ~m     # Inverts all bits. The result is -(m+1) in 2's complement\n",
    "print(f'~m    = {result} ({bin(result)})')\n",
    "\n",
    "# Left Shift\n",
    "result = m << 2 # Binary: 1111 0000 (equivalent to m * 2**2)\n",
    "print(f'm << 2 = {result} ({bin(result)})')\n",
    "\n",
    "# Right Shift\n",
    "result = m >> 2 # Binary: 0000 1111 (equivalent to m // 2**2)\n",
    "print(f'm >> 2 = {result} ({bin(result)})')"
   ]
  },
  {
   "cell_type": "markdown",
   "metadata": {},
   "source": [
    "<a id='identity'></a>\n",
    "## 6. Identity Operators\n",
    "\n",
    "Identity operators are used to compare the objects, not if they are equal, but if they are actually the same object, with the same memory location.\n",
    "\n",
    "This is different from `==` (equality), which compares the *values* of the objects."
   ]
  },
  {
   "cell_type": "markdown",
   "metadata": {},
   "source": [
    "| Operator | Description                                                      |\n",
    "|----------|------------------------------------------------------------------|\n",
    "| `is`     | Returns `True` if both variables are the same object (same memory location) |\n",
    "| `is not` | Returns `True` if both variables are not the same object        |"
   ]
  },
  {
   "cell_type": "code",
   "execution_count": 8,
   "metadata": {},
   "outputs": [
    {
     "name": "stdout",
     "output_type": "stream",
     "text": [
      "p1 == p2: True\n",
      "p1 is p2: True\n",
      "p1 is p3: False\n",
      "p1 is not p3: True\n",
      "Memory location of p1: 139959630823360\n",
      "Memory location of p2: 139959630823360\n",
      "Memory location of p3: 139959256690160\n",
      "\n",
      "------------------------------\n",
      "\n",
      "list1 == list2: True\n",
      "list1 is list2: False\n",
      "list1 is list3: True\n",
      "Memory location of list1: 139959262871616\n",
      "Memory location of list2: 139959262771648\n",
      "Memory location of list3: 139959262871616\n"
     ]
    }
   ],
   "source": [
    "# For immutable types like strings and integers, Python often reuses objects\n",
    "p1 = \"hello\"\n",
    "p2 = \"hello\"\n",
    "p3 = \"world\"\n",
    "\n",
    "print(f'p1 == p2: {p1 == p2}') # Equality: checks if values are the same\n",
    "print(f'p1 is p2: {p1 is p2}')   # Identity: checks if they are the SAME object in memory\n",
    "\n",
    "print(f'p1 is p3: {p1 is p3}')\n",
    "print(f'p1 is not p3: {p1 is not p3}')\n",
    "\n",
    "print(f'Memory location of p1: {id(p1)}')\n",
    "print(f'Memory location of p2: {id(p2)}')\n",
    "print(f'Memory location of p3: {id(p3)}')\n",
    "\n",
    "print('\\n' + '-'*30 + '\\n')\n",
    "\n",
    "# For mutable types like lists, a new object is created each time\n",
    "list1 = [1, 2, 3]\n",
    "list2 = [1, 2, 3]\n",
    "list3 = list1\n",
    "\n",
    "print(f'list1 == list2: {list1 == list2}') # Equality: True, values are the same\n",
    "print(f'list1 is list2: {list1 is list2}')   # Identity: False, they are different objects\n",
    "\n",
    "print(f'list1 is list3: {list1 is list3}')   # Identity: True, list3 is just another name for list1\n",
    "\n",
    "print(f'Memory location of list1: {id(list1)}')\n",
    "print(f'Memory location of list2: {id(list2)}')\n",
    "print(f'Memory location of list3: {id(list3)}')"
   ]
  },
  {
   "cell_type": "markdown",
   "metadata": {},
   "source": [
    "<a id='membership'></a>\n",
    "## 7. Membership Operators\n",
    "\n",
    "Membership operators are used to test if a sequence is presented in an object, such as strings, lists, tuples, sets, or dictionaries."
   ]
  },
  {
   "cell_type": "markdown",
   "metadata": {},
   "source": [
    "| Operator  | Description                                                              |\n",
    "|-----------|--------------------------------------------------------------------------|\n",
    "| `in`      | Returns `True` if a value is found in the sequence                       |\n",
    "| `not in`  | Returns `True` if a value is not found in the sequence                   |"
   ]
  },
  {
   "cell_type": "code",
   "execution_count": 9,
   "metadata": {},
   "outputs": [
    {
     "name": "stdout",
     "output_type": "stream",
     "text": [
      "Is 'apple' in my_list? True\n",
      "Is 'grape' in my_list? False\n",
      "Is 'grape' not in my_list? True\n",
      "\n",
      "------------------------------\n",
      "\n",
      "Is 'world' in my_string? True\n",
      "Is 'World' in my_string? False\n",
      "\n",
      "------------------------------\n",
      "\n",
      "Is 'name' a key in my_dict? True\n",
      "Is 'Alice' a key in my_dict? False\n"
     ]
    }
   ],
   "source": [
    "my_list = [1, 'apple', 3.14, 'banana']\n",
    "my_string = \"Hello world\"\n",
    "my_dict = {\"name\": \"Alice\", \"age\": 30}\n",
    "\n",
    "# Test membership in a list\n",
    "print(f\"Is 'apple' in my_list? {'apple' in my_list}\")\n",
    "print(f\"Is 'grape' in my_list? {'grape' in my_list}\")\n",
    "print(f\"Is 'grape' not in my_list? {'grape' not in my_list}\")\n",
    "\n",
    "print('\\n' + '-'*30 + '\\n')\n",
    "\n",
    "# Test membership in a string (substrings)\n",
    "print(f\"Is 'world' in my_string? {'world' in my_string}\")\n",
    "print(f\"Is 'World' in my_string? {'World' in my_string}\") # Membership is case-sensitive\n",
    "\n",
    "print('\\n' + '-'*30 + '\\n')\n",
    "\n",
    "# Test membership in a dictionary (checks keys by default)\n",
    "print(f\"Is 'name' a key in my_dict? {'name' in my_dict}\")\n",
    "print(f\"Is 'Alice' a key in my_dict? {'Alice' in my_dict}\") # False, 'Alice' is a value"
   ]
  },
  {
   "cell_type": "markdown",
   "metadata": {},
   "source": [
    "<a id='precedence'></a>\n",
    "## 8. Operator Precedence\n",
    "\n",
    "Operator precedence determines the order in which operators are evaluated. For example, in `2 + 3 * 4`, the multiplication (`*`) is performed before the addition (`+`). You can use parentheses `()` to override the default precedence.\n",
    "\n",
    "Here is a list of operators from highest precedence to lowest:"
   ]
  },
  {
   "cell_type": "markdown",
   "metadata": {},
   "source": [
    "| Precedence | Operator                                           | Description                 |\n",
    "|------------|----------------------------------------------------|-----------------------------|\n",
    "| Highest    | `()`                                               | Parentheses                 |\n",
    "|            | `**`                                               | Exponentiation              |\n",
    "|            | `~`, `+x`, `-x`                                    | Bitwise NOT, Unary Plus/Minus |\n",
    "|            | `*`, `/`, `//`, `%`                                | Multiplication/Division     |\n",
    "|            | `+`, `-`                                           | Addition/Subtraction        |\n",
    "|            | `>>`, `<<`                                         | Bitwise Shifts              |\n",
    "|            | `&`                                                | Bitwise AND                 |\n",
    "|            | `^`, `|`                                          | Bitwise XOR and OR          |\n",
    "|            | `in`, `not in`, `is`, `is not`, `<`, `<=`, `>`, `>=`, `!=`, `==` | Comparisons, Identity, Membership |\n",
    "|            | `not`                                              | Logical NOT                 |\n",
    "|            | `and`                                              | Logical AND                 |\n",
    "| Lowest     | `or`                                               | Logical OR                  |"
   ]
  },
  {
   "cell_type": "code",
   "execution_count": 11,
   "metadata": {},
   "outputs": [
    {
     "name": "stdout",
     "output_type": "stream",
     "text": [
      "5 + 3 * 4 - 100 / 10 = 7.0\n",
      "(5 + 3) * (4 - 100) / 10 = -76.8\n",
      "\n",
      "Rule of thumb: When in doubt, use parentheses `()` to make your code's intent clear and avoid bugs!\n"
     ]
    }
   ],
   "source": [
    "# Example without parentheses\n",
    "# 1. `3 * 4` is 12\n",
    "# 2. `100 / 10` is 10.0\n",
    "# 3. `5 + 12 - 10.0` is 7.0\n",
    "result = 5 + 3 * 4 - 100 / 10\n",
    "print(f'5 + 3 * 4 - 100 / 10 = {result}')\n",
    "\n",
    "# Example with parentheses to change the order\n",
    "# 1. `(5 + 3)` is 8\n",
    "# 2. `(4 - 100)` is -96\n",
    "# 3. `8 * -96` is -768\n",
    "# 4. `-768 / 10` is -76.8\n",
    "result_paren = (5 + 3) * (4 - 100) / 10\n",
    "print(f'(5 + 3) * (4 - 100) / 10 = {result_paren}')\n",
    "\n",
    "print(\"\\nRule of thumb: When in doubt, use parentheses `()` to make your code's intent clear and avoid bugs!\")"
   ]
  },
  {
   "cell_type": "markdown",
   "metadata": {},
   "source": [
    "## Conclusion\n",
    "\n",
    "Congratulations! You've now seen all the major operators available in Python. Understanding them is fundamental to writing effective and efficient Python code.\n",
    "\n",
    "The best way to learn is by doing. Try changing the values in the code cells above and see how the output changes. Experiment with combining different operators and see if you can predict the result based on the precedence rules."
   ]
  }
 ],
 "metadata": {
  "kernelspec": {
   "display_name": ".venv",
   "language": "python",
   "name": "python3"
  },
  "language_info": {
   "codemirror_mode": {
    "name": "ipython",
    "version": 3
   },
   "file_extension": ".py",
   "mimetype": "text/x-python",
   "name": "python",
   "nbconvert_exporter": "python",
   "pygments_lexer": "ipython3",
   "version": "3.12.7"
  }
 },
 "nbformat": 4,
 "nbformat_minor": 4
}
