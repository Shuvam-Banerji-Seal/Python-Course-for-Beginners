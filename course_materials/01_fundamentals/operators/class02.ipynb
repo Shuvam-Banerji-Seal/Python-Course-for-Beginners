{
 "cells": [
  {
   "cell_type": "markdown",
   "id": "11aa0716",
   "metadata": {},
   "source": [
    "# Advanced Python Operators: Precedence, Identity, and More\n",
    "\n",
    "Welcome! This notebook dives deeper into how Python evaluates expressions and explores some of its more unique operators. Understanding these concepts is key to writing bug-free, efficient, and 'Pythonic' code.\n",
    "\n",
    "### Table of Contents\n",
    "\n",
    "1.  [**Operator Precedence**](#precedence): The rules that determine the order of operations.\n",
    "2.  [**Identity vs. Equality (`is` vs. `==`)**](#identity-vs-equality): A crucial distinction about *what* you are comparing.\n",
    "3.  [**The `id()` Function**](#id-function): The tool that reveals an object's identity.\n",
    "4.  [**Python-Exclusive and Pythonic Operators**](#pythonic): A look at operators like `in`, `not in`, and the Walrus operator `:=`."
   ]
  },
  {
   "cell_type": "markdown",
   "id": "2c9bc4f7",
   "metadata": {},
   "source": [
    "<a id='precedence'></a>\n",
    "## 1. Operator Precedence\n",
    "\n",
    "Operator precedence determines the order in which operators are evaluated in a complex expression. For example, multiplication has a higher precedence than addition, so `5 + 2 * 3` is evaluated as `5 + 6`, not `7 * 3`.\n",
    "\n",
    "Think of it as an expanded version of **PEMDAS/BODMAS** from math class.\n",
    "\n",
    "You can **always** use parentheses `()` to explicitly control the order of evaluation. When in doubt, use parentheses to make your code's intent clear!\n",
    "\n",
    "### Precedence Table (Highest to Lowest)"
   ]
  },
  {
   "cell_type": "markdown",
   "id": "ccf6aa23",
   "metadata": {},
   "source": [
    "| Precedence | Operator                                           | Description                 |\n",
    "|------------|----------------------------------------------------|-----------------------------|\n",
    "| **Highest**| `()`                                               | Parentheses (Grouping)      |\n",
    "|            | `f(args...)`, `x[index]`, `x.attribute`            | Function calls, Slicing, Attributes |\n",
    "|            | `**`                                               | Exponentiation              |\n",
    "|            | `~x`, `+x`, `-x`                                   | Bitwise NOT, Unary Plus/Minus |\n",
    "|            | `*`, `/`, `//`, `%`                                | Multiplication, Division, Floor Division, Modulus |\n",
    "|            | `+`, `-`                                           | Addition, Subtraction       |\n",
    "|            | `>>`, `<<`                                         | Bitwise Shifts              |\n",
    "|            | `&`                                                | Bitwise AND                 |\n",
    "|            | `^`                                                | Bitwise XOR                 |\n",
    "|            | `|`                                                | Bitwise OR                  |\n",
    "|            | `in`, `not in`, `is`, `is not`, `<`, `<=`, `>`, `>=`, `!=`, `==` | Comparisons, Membership, Identity |\n",
    "|            | `not`                                              | Logical NOT                 |\n",
    "|            | `and`                                              | Logical AND                 |\n",
    "| **Lowest** | `or`                                               | Logical OR                  |\n",
    "|            | `:=`                                               | Assignment Expression (Walrus) |"
   ]
  },
  {
   "cell_type": "code",
   "execution_count": 1,
   "id": "80676817",
   "metadata": {},
   "outputs": [
    {
     "name": "stdout",
     "output_type": "stream",
     "text": [
      "5 + 10 * 4 // 2 ** 3  =  10\n",
      "(5 + 10) * 4 // (2 ** 3)  =  7\n"
     ]
    }
   ],
   "source": [
    "# Example 1: A complex expression\n",
    "\n",
    "# How Python evaluates this:\n",
    "# 1. `2 ** 3` is 8 (Exponentiation has high precedence)\n",
    "# 2. `10 * 4` is 40 (Multiplication)\n",
    "# 3. `40 // 8` is 5 (Floor Division)\n",
    "# 4. `5 + 5` is 10 (Addition)\n",
    "result = 5 + 10 * 4 // 2 ** 3\n",
    "print(f'5 + 10 * 4 // 2 ** 3  =  {result}')\n",
    "\n",
    "# Example 2: Using parentheses to change the order\n",
    "\n",
    "# How this is evaluated:\n",
    "# 1. `(5 + 10)` is 15 (Parentheses first)\n",
    "# 2. `(2 ** 3)` is 8 (Parentheses first)\n",
    "# 3. `15 * 4` is 60 (Multiplication)\n",
    "# 4. `60 // 8` is 7 (Floor Division)\n",
    "result_paren = (5 + 10) * 4 // (2 ** 3)\n",
    "print(f'(5 + 10) * 4 // (2 ** 3)  =  {result_paren}')"
   ]
  },
  {
   "cell_type": "markdown",
   "id": "31e2a690",
   "metadata": {},
   "source": [
    "<a id='identity-vs-equality'></a>\n",
    "## 2. Identity vs. Equality: `is` vs. `==`\n",
    "\n",
    "This is one of the most important distinctions for a new Python programmer to learn. While they can sometimes produce the same result, they are asking fundamentally different questions.\n",
    "\n",
    "- **`==` (Equality Operator)**: Checks if the **values** of two operands are equal. It answers the question: \"Do these two variables contain the same data?\"\n",
    "\n",
    "- **`is` (Identity Operator)**: Checks if two variables refer to the **exact same object in memory**. It answers the question: \"Are these two variables pointing to the same memory location?\""
   ]
  },
  {
   "cell_type": "markdown",
   "id": "cfba2a82",
   "metadata": {},
   "source": [
    "<a id='id-function'></a>\n",
    "### The `id()` Function: Our Key to Understanding\n",
    "\n",
    "To prove the difference between `is` and `==`, we need a way to see an object's \"memory location\". Python provides the built-in `id()` function for this.\n",
    "\n",
    "`id(object)` returns a unique integer that represents the identity of that specific object for its lifetime. If `id(a) == id(b)`, then `a is b` will be `True`."
   ]
  },
  {
   "cell_type": "code",
   "execution_count": null,
   "id": "c5723db9",
   "metadata": {},
   "outputs": [],
   "source": [
    "print(\"--- Comparing Mutable Objects (Lists) ---\")\n",
    "# list1 and list2 are two separate list objects, even though they contain the same values.\n",
    "list_a = [1, 2, 3]\n",
    "list_b = [1, 2, 3]\n",
    "\n",
    "print(f\"list_a value: {list_a}\")\n",
    "print(f\"list_b value: {list_b}\")\n",
    "\n",
    "# Let's check their IDs\n",
    "print(f\"ID of list_a: {id(list_a)}\")\n",
    "print(f\"ID of list_b: {id(list_b)}\") # The IDs will be DIFFERENT\n",
    "\n",
    "# Now let's compare them\n",
    "print(f\"\\nAre their values equal? (list_a == list_b) -> {list_a == list_b}\") # This will be True\n",
    "print(f\"Are they the same object? (list_a is list_b) -> {list_a is list_b}\")  # This will be False\n",
    "\n",
    "print(\"\\n--- Assigning an object to another variable ---\")\n",
    "# list_c is not a new list; it's just another name/label pointing to the *same* object as list_a.\n",
    "list_c = list_a\n",
    "print(f\"ID of list_a: {id(list_a)}\")\n",
    "print(f\"ID of list_c: {id(list_c)}\") # The IDs will be THE SAME\n",
    "\n",
    "print(f\"\\nAre their values equal? (list_a == list_c) -> {list_a == list_c}\") # True\n",
    "print(f\"Are they the same object? (list_a is list_c) -> {list_a is list_c}\")  # Also True!"
   ]
  },
  {
   "cell_type": "markdown",
   "id": "a07e6262",
   "metadata": {},
   "source": [
    "#### An Important Note: Caching of Immutable Types\n",
    "\n",
    "For performance reasons, Python pre-allocates and reuses small integers (usually -5 to 256) and short strings. This is an implementation detail and you should **not** rely on it, but it explains why `is` might sometimes work for them when you don't expect it to."
   ]
  },
  {
   "cell_type": "code",
   "execution_count": 3,
   "id": "02fdc60c",
   "metadata": {},
   "outputs": [
    {
     "name": "stdout",
     "output_type": "stream",
     "text": [
      "--- Small Integers (-5 to 256) ---\n",
      "ID of a (256): 140332365669296\n",
      "ID of b (256): 140332365669296\n",
      "a is b: True\n",
      "\n",
      "--- Larger Integers ---\n",
      "ID of x (257): 140331804804080\n",
      "ID of y (257): 140331804803856\n",
      "x is y: False\n"
     ]
    }
   ],
   "source": [
    "a = 256\n",
    "b = 256\n",
    "print(f\"--- Small Integers (-5 to 256) ---\")\n",
    "print(f\"ID of a (256): {id(a)}\")\n",
    "print(f\"ID of b (256): {id(b)}\")\n",
    "print(f\"a is b: {a is b}\") # This is often True due to caching\n",
    "\n",
    "x = 257\n",
    "y = 257\n",
    "print(f\"\\n--- Larger Integers ---\")\n",
    "print(f\"ID of x (257): {id(x)}\")\n",
    "print(f\"ID of y (257): {id(y)}\")\n",
    "print(f\"x is y: {x is y}\") # This is often False, as they are separate objects\n",
    "\n",
    "#print(\"\\n**Rule of thumb:** Use `==` for comparing values. Use `is` *only* when you specifically need to check if two variables are the exact same object, most commonly when comparing to `None` (e.g., `if my_var is None:`).\""
   ]
  },
  {
   "cell_type": "markdown",
   "id": "872f5aeb",
   "metadata": {},
   "source": [
    "<a id='pythonic'></a>\n",
    "## 4. Python-Exclusive and \"Pythonic\" Operators\n",
    "\n",
    "Python has several operators that are either unique or used in a way that gives the language its characteristic readability and expressiveness."
   ]
  },
  {
   "cell_type": "markdown",
   "id": "b5465436",
   "metadata": {},
   "source": [
    "### Membership Operators: `in` and `not in`\n",
    "\n",
    "These operators test for membership in a sequence (like a string, list, or tuple) or a collection (like a set or dictionary).\n",
    "\n",
    "- `value in sequence`: Returns `True` if `value` is found in the `sequence`.\n",
    "- `value not in sequence`: Returns `True` if `value` is **not** found in the `sequence`.\n",
    "\n",
    "This is far more readable than writing a `for` loop to check for an element's existence."
   ]
  },
  {
   "cell_type": "code",
   "execution_count": 4,
   "id": "929d7e79",
   "metadata": {},
   "outputs": [
    {
     "name": "stdout",
     "output_type": "stream",
     "text": [
      "Do I need to buy milk? True\n",
      "Do I need to buy eggs? False\n",
      "I am glad I don't need to buy eggs: True\n",
      "\n",
      "Is 'admin' a key in permissions? True\n"
     ]
    }
   ],
   "source": [
    "my_shopping_list = ['apples', 'bread', 'milk', 'cheese']\n",
    "user_to_find = 'admin'\n",
    "permissions = {'user': 'read', 'admin': 'write', 'guest': 'none'}\n",
    "\n",
    "# Check for an item in a list\n",
    "print(f\"Do I need to buy milk? {'milk' in my_shopping_list}\")\n",
    "print(f\"Do I need to buy eggs? {'eggs' in my_shopping_list}\")\n",
    "print(f\"I am glad I don't need to buy eggs: {'eggs' not in my_shopping_list}\")\n",
    "\n",
    "# Check for a key in a dictionary (it checks keys, not values!)\n",
    "print(f\"\\nIs '{user_to_find}' a key in permissions? {user_to_find in permissions}\")"
   ]
  },
  {
   "cell_type": "markdown",
   "id": "c9c53182",
   "metadata": {},
   "source": [
    "### The Walrus Operator: `:=` (Assignment Expression)\n",
    "\n",
    "Introduced in Python 3.8, the \"walrus operator\" `:=` allows you to assign a value to a variable as part of a larger expression. Its main purpose is to simplify code patterns where you need to use a value right after computing it, such as in the condition of a `while` loop or an `if` statement.\n",
    "\n",
    "It can help avoid redundant calculations or variable assignments."
   ]
  },
  {
   "cell_type": "code",
   "execution_count": 1,
   "id": "7fa4f4bb",
   "metadata": {},
   "outputs": [
    {
     "name": "stdout",
     "output_type": "stream",
     "text": [
      "\n",
      "Old way collected: ['100']\n",
      "\n",
      "--- Now using the Walrus Operator `:=` ---\n",
      "\n",
      "Walrus way collected: ['200']\n"
     ]
    }
   ],
   "source": [
    "# The 'old' way: A common pattern\n",
    "inputs = []\n",
    "while True:\n",
    "    user_input = input(\"Enter a value (or 'quit' to stop): \")\n",
    "    if user_input == 'quit':\n",
    "        break\n",
    "    inputs.append(user_input)\n",
    "print(f\"\\nOld way collected: {inputs}\")\n",
    "\n",
    "# The 'new' way using the walrus operator\n",
    "print(\"\\n--- Now using the Walrus Operator `:=` ---\")\n",
    "inputs_walrus = []\n",
    "# The assignment (user_input := ...) happens FIRST, then the comparison (... != 'quit') is checked.\n",
    "while (user_input := input(\"Enter a value (or 'quit' to stop): \")) != 'quit':\n",
    "    inputs_walrus.append(user_input)\n",
    "print(f\"\\nWalrus way collected: {inputs_walrus}\")"
   ]
  },
  {
   "cell_type": "markdown",
   "id": "297d975c",
   "metadata": {},
   "source": [
    "## Conclusion\n",
    "\n",
    "In this notebook, we've covered:\n",
    "\n",
    "- **Operator Precedence**: The fixed order of operations that Python follows. Use `()` to enforce your own order.\n",
    "- **`is` vs `==`**: A critical concept where `==` checks for equal values and `is` checks for the exact same object in memory.\n",
    "- **`id()`**: The function that reveals an object's unique identity, proving the difference between `is` and `==`.\n",
    "- **Pythonic Operators**: How operators like `in`, `not in`, and `:=` can make your code more concise and readable.\n",
    "\n",
    "Mastering these concepts will significantly improve your Python skills and help you write more robust and professional code. Keep experimenting!"
   ]
  }
 ],
 "metadata": {
  "kernelspec": {
   "display_name": ".venv",
   "language": "python",
   "name": "python3"
  },
  "language_info": {
   "codemirror_mode": {
    "name": "ipython",
    "version": 3
   },
   "file_extension": ".py",
   "mimetype": "text/x-python",
   "name": "python",
   "nbconvert_exporter": "python",
   "pygments_lexer": "ipython3",
   "version": "3.12.7"
  }
 },
 "nbformat": 4,
 "nbformat_minor": 5
}
