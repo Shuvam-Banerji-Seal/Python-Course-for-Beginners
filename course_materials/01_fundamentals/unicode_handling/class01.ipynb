{
 "cells": [
  {
   "cell_type": "code",
   "execution_count": 9,
   "id": "807a039d",
   "metadata": {},
   "outputs": [
    {
     "ename": "ValueError",
     "evalue": "invalid literal for int() with base 10: 'U+1F644'",
     "output_type": "error",
     "traceback": [
      "\u001b[31m---------------------------------------------------------------------------\u001b[39m",
      "\u001b[31mValueError\u001b[39m                                Traceback (most recent call last)",
      "\u001b[36mCell\u001b[39m\u001b[36m \u001b[39m\u001b[32mIn[9]\u001b[39m\u001b[32m, line 3\u001b[39m\n\u001b[32m      1\u001b[39m info = \u001b[33m\"\u001b[39m\u001b[33m🙄\u001b[39m\u001b[33m\"\u001b[39m\n\u001b[32m      2\u001b[39m info1 = \u001b[33m\"\u001b[39m\u001b[33mU+1F644\u001b[39m\u001b[33m\"\u001b[39m\n\u001b[32m----> \u001b[39m\u001b[32m3\u001b[39m \u001b[38;5;28mprint\u001b[39m(\u001b[38;5;28mchr\u001b[39m(\u001b[38;5;28;43mint\u001b[39;49m\u001b[43m(\u001b[49m\u001b[43minfo1\u001b[49m\u001b[43m)\u001b[49m))\n\u001b[32m      4\u001b[39m \u001b[38;5;28mprint\u001b[39m(info1.encode(\u001b[33m\"\u001b[39m\u001b[33mUTF-8\u001b[39m\u001b[33m\"\u001b[39m))\n\u001b[32m      5\u001b[39m \u001b[38;5;28mprint\u001b[39m(\u001b[38;5;28mtype\u001b[39m(info1.encode(\u001b[33m\"\u001b[39m\u001b[33mUTF-8\u001b[39m\u001b[33m\"\u001b[39m)))\n",
      "\u001b[31mValueError\u001b[39m: invalid literal for int() with base 10: 'U+1F644'"
     ]
    }
   ],
   "source": [
    "info = \"🙄\"\n",
    "info1 = \"U+1F644\"\n",
    "print(chr(int(info1)))\n",
    "print(info1.encode(\"UTF-8\"))\n",
    "print(type(info1.encode(\"UTF-8\")))"
   ]
  },
  {
   "cell_type": "code",
   "execution_count": 15,
   "id": "c6054bea",
   "metadata": {},
   "outputs": [
    {
     "ename": "SyntaxError",
     "evalue": "(unicode error) 'unicodeescape' codec can't decode bytes in position 0-1: truncated \\uXXXX escape (921047447.py, line 1)",
     "output_type": "error",
     "traceback": [
      "  \u001b[36mCell\u001b[39m\u001b[36m \u001b[39m\u001b[32mIn[15]\u001b[39m\u001b[32m, line 1\u001b[39m\n\u001b[31m    \u001b[39m\u001b[31minfo2 = '\\uU+1F638'\u001b[39m\n            ^\n\u001b[31mSyntaxError\u001b[39m\u001b[31m:\u001b[39m (unicode error) 'unicodeescape' codec can't decode bytes in position 0-1: truncated \\uXXXX escape\n"
     ]
    }
   ],
   "source": [
    "info2 = '\\uU+1F638'\n",
    "print(info2)\n",
    "print(info2.encode(\"UTF-8\"))\n",
    "print(info2.decode(\"UTF-8\"))\n",
    "print(type(info2))"
   ]
  },
  {
   "cell_type": "code",
   "execution_count": 22,
   "id": "fea60184",
   "metadata": {},
   "outputs": [
    {
     "name": "stdout",
     "output_type": "stream",
     "text": [
      "😸\n",
      "b'\\xf0\\x9f\\x98\\xb8'\n",
      "<class 'str'>\n"
     ]
    }
   ],
   "source": [
    "info2 = '\\U0001F638'\n",
    "print(info2)\n",
    "print(info2.encode(\"UTF-8\"))\n",
    "# print(info2.decode(\"UTF-8\"))\n",
    "print(type(info2))"
   ]
  },
  {
   "cell_type": "code",
   "execution_count": null,
   "id": "56f10547",
   "metadata": {},
   "outputs": [],
   "source": []
  }
 ],
 "metadata": {
  "kernelspec": {
   "display_name": ".venv",
   "language": "python",
   "name": "python3"
  },
  "language_info": {
   "codemirror_mode": {
    "name": "ipython",
    "version": 3
   },
   "file_extension": ".py",
   "mimetype": "text/x-python",
   "name": "python",
   "nbconvert_exporter": "python",
   "pygments_lexer": "ipython3",
   "version": "3.12.7"
  }
 },
 "nbformat": 4,
 "nbformat_minor": 5
}
