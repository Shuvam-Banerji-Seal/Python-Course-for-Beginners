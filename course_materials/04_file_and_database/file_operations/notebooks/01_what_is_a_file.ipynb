{
 "cells": [
  {
   "cell_type": "markdown",
   "metadata": {},
   "source": [
    "# What is a File? Understanding Files at the Fundamental Level\n",
    "\n",
    "Before we dive into Python file programming, let's understand what a file actually is. This foundational knowledge will help you become a better programmer and avoid common misconceptions."
   ]
  },
  {
   "cell_type": "markdown",
   "metadata": {},
   "source": [
    "## 🔍 What is a File Really?\n",
    "\n",
    "At its core, a **file** is simply:\n",
    "- A **sequence of bytes** stored on a storage device (hard drive, SSD, etc.)\n",
    "- A **memory location** that can store information\n",
    "- **Data** that persists even when your program stops running\n",
    "\n",
    "Think of it like a container that holds information, just like a box holds objects."
   ]
  },
  {
   "cell_type": "markdown",
   "metadata": {},
   "source": [
    "## 🎭 The Great Extension Myth\n",
    "\n",
    "**Important Truth**: File extensions (like `.txt`, `.jpg`, `.mp4`) are just **suggestions** for humans and programs. They don't actually change what the file contains!\n",
    "\n",
    "Let's prove this with a practical demonstration:"
   ]
  },
  {
   "cell_type": "code",
   "execution_count": 4,
   "metadata": {},
   "outputs": [
    {
     "name": "stdout",
     "output_type": "stream",
     "text": [
      "✅ Created a text file with extension '.random_extension'\n",
      "📖 Content: Hello! I'm actually a text file, despite my weird extension.\n",
      "\n",
      "💡 The file extension didn't matter at all!\n"
     ]
    }
   ],
   "source": [
    "# Let's create a text file with a \"wrong\" extension\n",
    "text_content = \"Hello! I'm actually a text file, despite my weird extension.\"\n",
    "\n",
    "# Save it with a completely random extension\n",
    "with open('../sample_files/my_text.random_extension', 'w') as f:\n",
    "    f.write(text_content)\n",
    "\n",
    "print(\"✅ Created a text file with extension '.random_extension'\")\n",
    "\n",
    "# Now let's read it back - it works perfectly!\n",
    "with open('../sample_files/my_text.random_extension', 'r') as f:\n",
    "    content = f.read()\n",
    "    print(f\"📖 Content: {content}\")\n",
    "\n",
    "print(\"\\n💡 The file extension didn't matter at all!\")"
   ]
  },
  {
   "cell_type": "markdown",
   "metadata": {},
   "source": [
    "### Real-World Example: Video File with Wrong Extension\n",
    "\n",
    "Let's demonstrate this with a more dramatic example. We'll create a simple \"video-like\" file and show that VLC (or any media player) can still play it regardless of the extension."
   ]
  },
  {
   "cell_type": "code",
   "execution_count": 7,
   "metadata": {},
   "outputs": [
    {
     "name": "stdout",
     "output_type": "stream",
     "text": [
      "✅ Created 'video.random_world'\n",
      "📖 Content of 'video.random_world':\n",
      "\n",
      "This file has a .random_world extension,\n",
      "but it's actually just a text file!\n",
      "\n",
      "If this were a real video file (like an MP4),\n",
      "a media player like VLC would be able to play it\n",
      "regardless of what extension we give it.\n",
      "\n",
      "The extension is just a hint for the operating system\n",
      "and applications - it doesn't change the actual content!\n",
      "\n"
     ]
    }
   ],
   "source": [
    "# Let's create a simple text file that pretends to be a video\n",
    "fake_video_content = \"\"\"\n",
    "This file has a .random_world extension,\n",
    "but it's actually just a text file!\n",
    "\n",
    "If this were a real video file (like an MP4),\n",
    "a media player like VLC would be able to play it\n",
    "regardless of what extension we give it.\n",
    "\n",
    "The extension is just a hint for the operating system\n",
    "and applications - it doesn't change the actual content!\n",
    "\"\"\"\n",
    "\n",
    "# Save with a completely made-up extension\n",
    "with open('../sample_files/video.random_world', 'w') as f:\n",
    "    f.write(fake_video_content)\n",
    "\n",
    "print(\"✅ Created 'video.random_world'\")\n",
    "\n",
    "# Read it back to prove it's still readable\n",
    "with open('../sample_files/video.random_world', 'r') as f:\n",
    "    content = f.read()\n",
    "    print(\"📖 Content of 'video.random_world':\")\n",
    "    print(content)"
   ]
  },
  {
   "cell_type": "markdown",
   "metadata": {},
   "source": [
    "## 🔬 Looking Inside Files: The Byte Level\n",
    "\n",
    "Every file, whether it's text, image, video, or executable, is ultimately just a sequence of bytes (numbers from 0-255). Let's examine this:"
   ]
  },
  {
   "cell_type": "code",
   "execution_count": 1,
   "metadata": {},
   "outputs": [
    {
     "name": "stdout",
     "output_type": "stream",
     "text": [
      "📄 Text content: 'Hello World!'\n",
      "🔢 Raw bytes: b'Hello World!'\n",
      "📊 Byte values: [72, 101, 108, 108, 111, 32, 87, 111, 114, 108, 100, 33]\n",
      "📏 File size: 12 bytes\n",
      "\n",
      "🔤 Character to byte mapping:\n",
      "  'H' → 72\n",
      "  'e' → 101\n",
      "  'l' → 108\n",
      "  'l' → 108\n",
      "  'o' → 111\n",
      "  ' ' → 32\n",
      "  'W' → 87\n",
      "  'o' → 111\n",
      "  'r' → 114\n",
      "  'l' → 108\n",
      "  'd' → 100\n",
      "  '!' → 33\n"
     ]
    }
   ],
   "source": [
    "# Create a simple text file\n",
    "simple_text = \"Hello World!\"\n",
    "with open('../sample_files/hello.txt', 'w') as f:\n",
    "    f.write(simple_text)\n",
    "\n",
    "# Now let's look at it as raw bytes\n",
    "with open('../sample_files/hello.txt', 'rb') as f:  # 'rb' = read binary\n",
    "    raw_bytes = f.read()\n",
    "    print(f\"📄 Text content: '{simple_text}'\")\n",
    "    print(f\"🔢 Raw bytes: {raw_bytes}\")\n",
    "    print(f\"📊 Byte values: {list(raw_bytes)}\")\n",
    "    print(f\"📏 File size: {len(raw_bytes)} bytes\")\n",
    "\n",
    "# Let's see what each character becomes\n",
    "print(\"\\n🔤 Character to byte mapping:\")\n",
    "for char in simple_text:\n",
    "    byte_value = ord(char)  # Get the numeric value\n",
    "    print(f\"  '{char}' → {byte_value}\")"
   ]
  },
  {
   "cell_type": "markdown",
   "metadata": {},
   "source": [
    "## 🌍 File Types: It's All About Content, Not Extension\n",
    "\n",
    "Files are typically categorized by their **content structure**, not their extension:\n",
    "\n",
    "### Text Files\n",
    "- Contain human-readable characters\n",
    "- Can be opened in any text editor\n",
    "- Examples: `.txt`, `.py`, `.html`, `.css`, `.json`\n",
    "\n",
    "### Binary Files\n",
    "- Contain data that's not meant to be read as text\n",
    "- Require specific programs to interpret\n",
    "- Examples: `.jpg`, `.mp4`, `.exe`, `.pdf`"
   ]
  },
  {
   "cell_type": "code",
   "execution_count": 2,
   "metadata": {},
   "outputs": [
    {
     "name": "stdout",
     "output_type": "stream",
     "text": [
      "Created both text and binary files\n",
      "\n",
      "📄 Text file content:\n",
      "  This is readable text! 😊\n",
      "\n",
      "🔢 Binary file content (as bytes):\n",
      "  b'\\x89PNG\\r\\n\\x1a\\n'\n",
      "  Hex representation: 89504e470d0a1a0a\n"
     ]
    }
   ],
   "source": [
    "# Let's create both types and compare\n",
    "\n",
    "# 1. Text file\n",
    "text_data = \"This is readable text! 😊\"\n",
    "with open('../sample_files/readable.txt', 'w', encoding='utf-8') as f:\n",
    "    f.write(text_data)\n",
    "\n",
    "# 2. Binary file (let's create some random binary data)\n",
    "binary_data = bytes([0x89, 0x50, 0x4E, 0x47, 0x0D, 0x0A, 0x1A, 0x0A])  # PNG file header\n",
    "with open('../sample_files/fake_image.png', 'wb') as f:\n",
    "    f.write(binary_data)\n",
    "\n",
    "print(\"Created both text and binary files\")\n",
    "\n",
    "# Read them back and compare\n",
    "print(\"\\n📄 Text file content:\")\n",
    "with open('../sample_files/readable.txt', 'r', encoding='utf-8') as f:\n",
    "    print(f\"  {f.read()}\")\n",
    "\n",
    "print(\"\\n🔢 Binary file content (as bytes):\")\n",
    "with open('../sample_files/fake_image.png', 'rb') as f:\n",
    "    content = f.read()\n",
    "    print(f\"  {content}\")\n",
    "    print(f\"  Hex representation: {content.hex()}\")"
   ]
  },
  {
   "cell_type": "markdown",
   "metadata": {},
   "source": [
    "## 🎯 How Programs Determine File Types\n",
    "\n",
    "Since extensions can lie, how do programs actually determine what type of file they're dealing with?\n",
    "\n",
    "### 1. Magic Numbers (File Signatures)\n",
    "Many file formats start with specific byte sequences called \"magic numbers\" or \"file signatures\"."
   ]
  },
  {
   "cell_type": "code",
   "execution_count": 8,
   "metadata": {},
   "outputs": [
    {
     "name": "stdout",
     "output_type": "stream",
     "text": [
      "🔍 File type detection results:\n",
      "  ../sample_files/hello.txt → TEXT\n",
      "  ../sample_files/fake_image.png → PNG\n",
      "  ../sample_files/video.random_world → TEXT\n"
     ]
    }
   ],
   "source": [
    "# Common file signatures\n",
    "file_signatures = {\n",
    "    'PNG': [0x89, 0x50, 0x4E, 0x47, 0x0D, 0x0A, 0x1A, 0x0A],\n",
    "    'JPEG': [0xFF, 0xD8, 0xFF],\n",
    "    'PDF': [0x25, 0x50, 0x44, 0x46],  # \"%PDF\"\n",
    "    'ZIP': [0x50, 0x4B, 0x03, 0x04],\n",
    "    'GIF': [0x47, 0x49, 0x46, 0x38]   # \"GIF8\"\n",
    "}\n",
    "\n",
    "def identify_file_type(filepath):\n",
    "    \"\"\"Try to identify file type by reading its magic number\"\"\"\n",
    "    try:\n",
    "        with open(filepath, 'rb') as f:\n",
    "            header = f.read(8)  # Read first 8 bytes\n",
    "            \n",
    "        for file_type, signature in file_signatures.items():\n",
    "            if header[:len(signature)] == bytes(signature):\n",
    "                return file_type\n",
    "        \n",
    "        # If no signature matches, try to decode as text\n",
    "        try:\n",
    "            header.decode('utf-8')\n",
    "            return 'TEXT'\n",
    "        except UnicodeDecodeError:\n",
    "            return 'UNKNOWN_BINARY'\n",
    "            \n",
    "    except Exception as e:\n",
    "        return f'ERROR: {e}'\n",
    "\n",
    "# Test our function\n",
    "test_files = [\n",
    "    '../sample_files/hello.txt',\n",
    "    '../sample_files/fake_image.png',\n",
    "    '../sample_files/video.random_world'\n",
    "]\n",
    "\n",
    "print(\"🔍 File type detection results:\")\n",
    "for filepath in test_files:\n",
    "    file_type = identify_file_type(filepath)\n",
    "    print(f\"  {filepath} → {file_type}\")"
   ]
  },
  {
   "cell_type": "markdown",
   "metadata": {},
   "source": [
    "## 🧠 Key Takeaways\n",
    "\n",
    "1. **Files are just sequences of bytes** stored on disk\n",
    "2. **Extensions are hints, not rules** - they don't change the actual content\n",
    "3. **Content determines file type**, not the extension\n",
    "4. **Programs use various methods** to determine file types:\n",
    "   - Magic numbers/file signatures\n",
    "   - Content analysis\n",
    "   - MIME type detection\n",
    "5. **Understanding this helps you debug** file-related issues\n",
    "\n",
    "## 🔬 Practical Implications\n",
    "\n",
    "- You can rename a `.jpg` to `.txt` and it's still an image\n",
    "- A corrupted file might have the right extension but wrong content\n",
    "- Some malware tries to hide by using innocent-looking extensions\n",
    "- Professional tools often ignore extensions and analyze content directly\n",
    "\n",
    "## 🎯 What's Next?\n",
    "\n",
    "Now that you understand what files really are, we'll explore:\n",
    "- How text is encoded into bytes (UTF-8, ASCII, etc.)\n",
    "- Different ways to open and read files in Python\n",
    "- How to handle both text and binary files properly\n",
    "\n",
    "This foundation will make you a much more effective file programmer!"
   ]
  }
 ],
 "metadata": {
  "kernelspec": {
   "display_name": ".global",
   "language": "python",
   "name": "python3"
  },
  "language_info": {
   "codemirror_mode": {
    "name": "ipython",
    "version": 3
   },
   "file_extension": ".py",
   "mimetype": "text/x-python",
   "name": "python",
   "nbconvert_exporter": "python",
   "pygments_lexer": "ipython3",
   "version": "3.13.5"
  }
 },
 "nbformat": 4,
 "nbformat_minor": 4
}
