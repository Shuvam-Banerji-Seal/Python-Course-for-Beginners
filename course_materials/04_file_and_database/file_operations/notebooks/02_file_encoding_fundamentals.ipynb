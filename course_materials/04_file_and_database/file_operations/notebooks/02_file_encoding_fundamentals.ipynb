{
 "cells": [
  {
   "cell_type": "markdown",
   "metadata": {},
   "source": [
    "# File Encoding Fundamentals: How Text Becomes Bytes\n",
    "\n",
    "In our previous lesson, we learned that files are sequences of bytes. But how does text like \"Hello World\" become bytes? This is where **encoding** comes in - one of the most important concepts in file programming."
   ]
  },
  {
   "cell_type": "markdown",
   "metadata": {},
   "source": [
    "## 🔤 The Encoding Problem\n",
    "\n",
    "Computers only understand numbers (bytes: 0-255). When we want to store text, we need a **translation system** that converts:\n",
    "- Characters → Numbers (encoding)\n",
    "- Numbers → Characters (decoding)\n",
    "\n",
    "This translation system is called a **character encoding**."
   ]
  },
  {
   "cell_type": "markdown",
   "metadata": {},
   "source": [
    "## 📜 A Brief History of Encodings\n",
    "\n",
    "### ASCII (1960s)\n",
    "- **American Standard Code for Information Interchange**\n",
    "- Uses 7 bits (0-127) to represent characters\n",
    "- Only covers English letters, numbers, and basic symbols\n",
    "- Still widely used as a foundation"
   ]
  },
  {
   "cell_type": "code",
   "execution_count": null,
   "metadata": {},
   "outputs": [],
   "source": [
    "# Let's explore ASCII encoding\n",
    "text = \"Hello World!\"\n",
    "\n",
    "print(f\"📝 Text: '{text}'\")\n",
    "print(\"🔢 ASCII values:\")\n",
    "\n",
    "for char in text:\n",
    "    ascii_value = ord(char)  # Get ASCII value\n",
    "    binary = format(ascii_value, '08b')  # Convert to 8-bit binary\n",
    "    print(f\"  '{char}' → {ascii_value:3d} → {binary}\")\n",
    "\n",
    "# Encode as ASCII bytes\n",
    "ascii_bytes = text.encode('ascii')\n",
    "print(f\"\\n💾 As ASCII bytes: {ascii_bytes}\")\n",
    "print(f\"📏 Size: {len(ascii_bytes)} bytes\")"
   ]
  },
  {
   "cell_type": "markdown",
   "metadata": {},
   "source": [
    "### The ASCII Limitation Problem"
   ]
  },
  {
   "cell_type": "code",
   "execution_count": null,
   "metadata": {},
   "outputs": [],
   "source": [
    "# ASCII can't handle international characters\n",
    "international_text = \"Café, naïve, résumé, 北京, العربية, 🚀\"\n",
    "\n",
    "print(f\"🌍 International text: {international_text}\")\n",
    "\n",
    "# Try to encode with ASCII - this will fail!\n",
    "try:\n",
    "    ascii_bytes = international_text.encode('ascii')\n",
    "    print(\"✅ ASCII encoding successful\")\n",
    "except UnicodeEncodeError as e:\n",
    "    print(f\"❌ ASCII encoding failed: {e}\")\n",
    "    print(\"💡 ASCII can't represent these characters!\")"
   ]
  },
  {
   "cell_type": "markdown",
   "metadata": {},
   "source": [
    "## 🌐 UTF-8: The Universal Solution\n",
    "\n",
    "**UTF-8** (Unicode Transformation Format - 8 bit) solves the international character problem:\n",
    "- Can represent **any character** from any language\n",
    "- **Backward compatible** with ASCII\n",
    "- **Variable length**: uses 1-4 bytes per character\n",
    "- **Most common encoding** on the web and in modern systems"
   ]
  },
  {
   "cell_type": "code",
   "execution_count": null,
   "metadata": {},
   "outputs": [],
   "source": [
    "# UTF-8 can handle everything!\n",
    "international_text = \"Hello! Café 北京 🚀 العربية\"\n",
    "\n",
    "print(f\"🌍 Text: {international_text}\")\n",
    "\n",
    "# Encode with UTF-8\n",
    "utf8_bytes = international_text.encode('utf-8')\n",
    "print(f\"💾 UTF-8 bytes: {utf8_bytes}\")\n",
    "print(f\"📏 Size: {len(utf8_bytes)} bytes\")\n",
    "\n",
    "# Decode back to text\n",
    "decoded_text = utf8_bytes.decode('utf-8')\n",
    "print(f\"📖 Decoded: {decoded_text}\")\n",
    "print(f\"✅ Perfect match: {decoded_text == international_text}\")"
   ]
  },
  {
   "cell_type": "markdown",
   "metadata": {},
   "source": [
    "### UTF-8 Variable Length Demonstration"
   ]
  },
  {
   "cell_type": "code",
   "execution_count": null,
   "metadata": {},
   "outputs": [],
   "source": [
    "# Different characters use different numbers of bytes in UTF-8\n",
    "characters = ['A', 'é', '北', '🚀']\n",
    "\n",
    "print(\"🔍 UTF-8 byte usage per character:\")\n",
    "for char in characters:\n",
    "    utf8_bytes = char.encode('utf-8')\n",
    "    byte_count = len(utf8_bytes)\n",
    "    hex_repr = ' '.join(f'{b:02x}' for b in utf8_bytes)\n",
    "    print(f\"  '{char}' → {byte_count} byte(s) → {hex_repr}\")\n",
    "\n",
    "print(\"\\n💡 Notice how:\")\n",
    "print(\"  - ASCII characters (A) use 1 byte\")\n",
    "print(\"  - European characters (é) use 2 bytes\")\n",
    "print(\"  - Chinese characters (北) use 3 bytes\")\n",
    "print(\"  - Emojis (🚀) use 4 bytes\")"
   ]
  },
  {
   "cell_type": "markdown",
   "metadata": {},
   "source": [
    "## ⚠️ The Encoding Mismatch Problem\n",
    "\n",
    "One of the most common file programming errors occurs when you try to decode bytes with the wrong encoding. Let's see what happens:"
   ]
  },
  {
   "cell_type": "code",
   "execution_count": null,
   "metadata": {},
   "outputs": [],
   "source": [
    "# Create a file with UTF-8 encoding\n",
    "text_with_accents = \"Café naïve résumé\"\n",
    "\n",
    "# Write with UTF-8\n",
    "with open('../sample_files/utf8_text.txt', 'w', encoding='utf-8') as f:\n",
    "    f.write(text_with_accents)\n",
    "\n",
    "print(f\"✅ Wrote: '{text_with_accents}' using UTF-8\")\n",
    "\n",
    "# Read with correct encoding (UTF-8)\n",
    "with open('../sample_files/utf8_text.txt', 'r', encoding='utf-8') as f:\n",
    "    correct_content = f.read()\n",
    "print(f\"✅ Read with UTF-8: '{correct_content}'\")\n",
    "\n",
    "# Try to read with wrong encoding (ASCII)\n",
    "try:\n",
    "    with open('../sample_files/utf8_text.txt', 'r', encoding='ascii') as f:\n",
    "        wrong_content = f.read()\n",
    "    print(f\"Read with ASCII: '{wrong_content}'\")\n",
    "except UnicodeDecodeError as e:\n",
    "    print(f\"❌ ASCII decoding failed: {e}\")\n",
    "\n",
    "# Try with Latin-1 (will succeed but give wrong results)\n",
    "with open('../sample_files/utf8_text.txt', 'r', encoding='latin-1') as f:\n",
    "    garbled_content = f.read()\n",
    "print(f\"🗑️ Read with Latin-1 (wrong!): '{garbled_content}'\")\n",
    "print(\"💡 No error, but the content is corrupted!\")"
   ]
  },
  {
   "cell_type": "markdown",
   "metadata": {},
   "source": [
    "## 🔧 Practical Encoding Detection\n",
    "\n",
    "Sometimes you receive files with unknown encoding. Here's how to handle this:"
   ]
  },
  {
   "cell_type": "code",
   "execution_count": null,
   "metadata": {},
   "outputs": [],
   "source": [
    "def try_read_with_encodings(filepath, encodings=['utf-8', 'latin-1', 'cp1252', 'ascii']):\n",
    "    \"\"\"Try to read a file with different encodings until one works\"\"\"\n",
    "    \n",
    "    for encoding in encodings:\n",
    "        try:\n",
    "            with open(filepath, 'r', encoding=encoding) as f:\n",
    "                content = f.read()\n",
    "            print(f\"✅ Successfully read with {encoding}: '{content[:50]}...'\")\n",
    "            return content, encoding\n",
    "        except UnicodeDecodeError:\n",
    "            print(f\"❌ Failed with {encoding}\")\n",
    "        except Exception as e:\n",
    "            print(f\"❌ Error with {encoding}: {e}\")\n",
    "    \n",
    "    return None, None\n",
    "\n",
    "# Test with our UTF-8 file\n",
    "print(\"🔍 Trying to detect encoding:\")\n",
    "content, detected_encoding = try_read_with_encodings('../sample_files/utf8_text.txt')\n",
    "print(f\"\\n🎯 Best encoding appears to be: {detected_encoding}\")"
   ]
  },
  {
   "cell_type": "markdown",
   "metadata": {},
   "source": [
    "## 🌍 Common Encodings Around the World\n",
    "\n",
    "Different regions historically used different encodings:"
   ]
  },
  {
   "cell_type": "code",
   "execution_count": null,
   "metadata": {},
   "outputs": [],
   "source": [
    "# Examples of different encodings\n",
    "encoding_examples = {\n",
    "    'ascii': 'Hello World',\n",
    "    'utf-8': 'Hello 世界 🌍',\n",
    "    'latin-1': 'Café naïve',\n",
    "    'cp1252': 'Windows "smart quotes"',  # Windows Western European\n",
    "}\n",
    "\n",
    "print(\"🌍 Different encodings and their capabilities:\")\n",
    "for encoding, text in encoding_examples.items():\n",
    "    try:\n",
    "        encoded = text.encode(encoding)\n",
    "        decoded = encoded.decode(encoding)\n",
    "        print(f\"  {encoding:8} → ✅ '{text}' ({len(encoded)} bytes)\")\n",
    "    except UnicodeEncodeError:\n",
    "        print(f\"  {encoding:8} → ❌ Can't encode '{text}'\")\n",
    "    except UnicodeDecodeError:\n",
    "        print(f\"  {encoding:8} → ❌ Can't decode '{text}'\")"
   ]
  },
  {
   "cell_type": "markdown",
   "metadata": {},
   "source": [
    "## 🛠️ Best Practices for File Encoding\n",
    "\n",
    "### 1. Always Specify Encoding Explicitly"
   ]
  },
  {
   "cell_type": "code",
   "execution_count": null,
   "metadata": {},
   "outputs": [],
   "source": [
    "# ❌ BAD: Relies on system default (dangerous!)\n",
    "# with open('file.txt', 'r') as f:\n",
    "#     content = f.read()\n",
    "\n",
    "# ✅ GOOD: Always specify encoding\n",
    "with open('../sample_files/example.txt', 'w', encoding='utf-8') as f:\n",
    "    f.write('Always specify encoding! 🎯')\n",
    "\n",
    "with open('../sample_files/example.txt', 'r', encoding='utf-8') as f:\n",
    "    content = f.read()\n",
    "    print(f\"✅ Content: {content}\")"
   ]
  },
  {
   "cell_type": "markdown",
   "metadata": {},
   "source": [
    "### 2. Use UTF-8 as Default"
   ]
  },
  {
   "cell_type": "code",
   "execution_count": null,
   "metadata": {},
   "outputs": [],
   "source": [
    "# UTF-8 is the safest choice for new files\n",
    "multilingual_content = \"\"\"\n",
    "English: Hello World\n",
    "Spanish: Hola Mundo\n",
    "French: Bonjour le Monde\n",
    "Chinese: 你好世界\n",
    "Arabic: مرحبا بالعالم\n",
    "Emoji: 🌍🚀💻\n",
    "\"\"\"\n",
    "\n",
    "with open('../sample_files/multilingual.txt', 'w', encoding='utf-8') as f:\n",
    "    f.write(multilingual_content)\n",
    "\n",
    "print(\"✅ Saved multilingual content with UTF-8\")\n",
    "\n",
    "# Verify it reads back correctly\n",
    "with open('../sample_files/multilingual.txt', 'r', encoding='utf-8') as f:\n",
    "    read_content = f.read()\n",
    "    print(\"📖 Content:\")\n",
    "    print(read_content)"
   ]
  },
  {
   "cell_type": "markdown",
   "metadata": {},
   "source": [
    "### 3. Handle Encoding Errors Gracefully"
   ]
  },
  {
   "cell_type": "code",
   "execution_count": null,
   "metadata": {},
   "outputs": [],
   "source": [
    "def safe_read_file(filepath, encoding='utf-8', fallback_encoding='latin-1'):\n",
    "    \"\"\"Safely read a file with encoding fallback\"\"\"\n",
    "    try:\n",
    "        with open(filepath, 'r', encoding=encoding) as f:\n",
    "            return f.read(), encoding\n",
    "    except UnicodeDecodeError:\n",
    "        print(f\"⚠️ {encoding} failed, trying {fallback_encoding}\")\n",
    "        try:\n",
    "            with open(filepath, 'r', encoding=fallback_encoding) as f:\n",
    "                return f.read(), fallback_encoding\n",
    "        except UnicodeDecodeError:\n",
    "            print(f\"❌ Both encodings failed, reading as binary\")\n",
    "            with open(filepath, 'rb') as f:\n",
    "                return f.read(), 'binary'\n",
    "\n",
    "# Test the safe reader\n",
    "content, used_encoding = safe_read_file('../sample_files/multilingual.txt')\n",
    "print(f\"📖 Read file using: {used_encoding}\")\n",
    "print(f\"📏 Content length: {len(content)} characters\")"
   ]
  },
  {
   "cell_type": "markdown",
   "metadata": {},
   "source": [
    "## 🔍 Debugging Encoding Issues\n",
    "\n",
    "When you encounter encoding problems, here are some debugging techniques:"
   ]
  },
  {
   "cell_type": "code",
   "execution_count": null,
   "metadata": {},
   "outputs": [],
   "source": [
    "def analyze_file_encoding(filepath):\n",
    "    \"\"\"Analyze a file to understand its encoding\"\"\"\n",
    "    print(f\"🔍 Analyzing: {filepath}\")\n",
    "    \n",
    "    # Read as binary first\n",
    "    with open(filepath, 'rb') as f:\n",
    "        raw_bytes = f.read(100)  # First 100 bytes\n",
    "    \n",
    "    print(f\"📊 First 100 bytes: {raw_bytes}\")\n",
    "    print(f\"🔢 Hex representation: {raw_bytes.hex()}\")\n",
    "    \n",
    "    # Check for BOM (Byte Order Mark)\n",
    "    if raw_bytes.startswith(b'\\xef\\xbb\\xbf'):\n",
    "        print(\"🏷️ UTF-8 BOM detected\")\n",
    "    elif raw_bytes.startswith(b'\\xff\\xfe'):\n",
    "        print(\"🏷️ UTF-16 LE BOM detected\")\n",
    "    elif raw_bytes.startswith(b'\\xfe\\xff'):\n",
    "        print(\"🏷️ UTF-16 BE BOM detected\")\n",
    "    else:\n",
    "        print(\"🏷️ No BOM detected\")\n",
    "    \n",
    "    # Try different encodings\n",
    "    encodings_to_try = ['utf-8', 'latin-1', 'cp1252', 'ascii']\n",
    "    for encoding in encodings_to_try:\n",
    "        try:\n",
    "            decoded = raw_bytes.decode(encoding)\n",
    "            print(f\"✅ {encoding:8}: '{decoded[:50]}...'\")\n",
    "        except UnicodeDecodeError as e:\n",
    "            print(f\"❌ {encoding:8}: {e}\")\n",
    "\n",
    "# Analyze our multilingual file\n",
    "analyze_file_encoding('../sample_files/multilingual.txt')"
   ]
  },
  {
   "cell_type": "markdown",
   "metadata": {},
   "source": [
    "## 🎯 Key Takeaways\n",
    "\n",
    "1. **Encoding converts text to bytes** and vice versa\n",
    "2. **UTF-8 is the modern standard** - use it by default\n",
    "3. **Always specify encoding explicitly** in your code\n",
    "4. **Encoding mismatches cause errors or corruption**\n",
    "5. **ASCII is limited** to English characters only\n",
    "6. **Different characters use different byte counts** in UTF-8\n",
    "7. **Handle encoding errors gracefully** in production code\n",
    "\n",
    "## 🚨 Common Pitfalls to Avoid\n",
    "\n",
    "- ❌ Not specifying encoding (relies on system default)\n",
    "- ❌ Assuming all text files are ASCII\n",
    "- ❌ Ignoring encoding errors\n",
    "- ❌ Mixing different encodings in the same application\n",
    "- ❌ Not handling international characters\n",
    "\n",
    "## 🔜 What's Next?\n",
    "\n",
    "Now that you understand how text becomes bytes, we'll explore:\n",
    "- Different file modes and when to use them\n",
    "- How to properly open, read, and write files\n",
    "- Context managers and resource management\n",
    "- Working with both text and binary files\n",
    "\n",
    "Understanding encoding is crucial for avoiding the dreaded `UnicodeDecodeError` and ensuring your programs work with international text!"
   ]
  }
 ],
 "metadata": {
  "kernelspec": {
   "display_name": "Python 3",
   "language": "python",
   "name": "python3"
  },
  "language_info": {
   "codemirror_mode": {
    "name": "ipython",
    "version": 3
   },
   "file_extension": ".py",
   "mimetype": "text/x-python",
   "name": "python",
   "nbconvert_exporter": "python",
   "pygments_lexer": "ipython3",
   "version": "3.9.0"
  }
 },
 "nbformat": 4,
 "nbformat_minor": 4
}