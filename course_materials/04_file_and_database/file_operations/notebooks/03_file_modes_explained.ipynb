{
 "cells": [
  {
   "cell_type": "markdown",
   "metadata": {},
   "source": [
    "# File Modes Explained: Your Gateway to File Operations\n",
    "\n",
    "The `mode` parameter in Python's `open()` function is like choosing the right tool for the job. Each mode gives you different capabilities and behaviors. Let's master them all!"
   ]
  },
  {
   "cell_type": "markdown",
   "metadata": {},
   "source": [
    "## 🔧 The Anatomy of File Modes\n",
    "\n",
    "File modes consist of:\n",
    "1. **Primary mode**: What you want to do (read, write, append)\n",
    "2. **Data type**: Text or binary\n",
    "3. **Additional flags**: Extra capabilities\n",
    "\n",
    "### Basic Mode Characters\n",
    "| Mode | Purpose | File Position | Creates File? | Truncates? |\n",
    "|------|---------|---------------|---------------|------------|\n",
    "| `r`  | Read    | Beginning     | No (Error)    | No         |\n",
    "| `w`  | Write   | Beginning     | Yes           | Yes        |\n",
    "| `a`  | Append  | End           | Yes           | No         |\n",
    "| `x`  | Create  | Beginning     | Yes (Error if exists) | No |\n",
    "\n",
    "### Type Modifiers\n",
    "| Modifier | Meaning |\n",
    "|----------|----------|\n",
    "| `t`      | Text mode (default) |\n",
    "| `b`      | Binary mode |\n",
    "\n",
    "### Additional Flags\n",
    "| Flag | Meaning |\n",
    "|------|----------|\n",
    "| `+`  | Read and write |\n"
   ]
  },
  {
   "cell_type": "markdown",
   "metadata": {},
   "source": [
    "## 📖 Mode 'r' - Read Only\n",
    "\n",
    "The most common mode - opens a file for reading only."
   ]
  },
  {
   "cell_type": "code",
   "execution_count": null,
   "metadata": {},
   "outputs": [
    {
     "name": "stdout",
     "output_type": "stream",
     "text": [
      "✅ Created sample file\n",
      "\n",
      "--- Mode 'r' (Read) ---\n",
      "📖 File content:\n",
      "Line 1: Hello World!\n",
      "Line 2: This is a sample file.\n",
      "Line 3: We'll use this for testing.\n",
      "Line 4: File modes are important!\n"
     ]
    },
    {
     "ename": "NameError",
     "evalue": "name 'io' is not defined",
     "output_type": "error",
     "traceback": [
      "\u001b[31m---------------------------------------------------------------------------\u001b[39m",
      "\u001b[31mUnsupportedOperation\u001b[39m                      Traceback (most recent call last)",
      "\u001b[36mCell\u001b[39m\u001b[36m \u001b[39m\u001b[32mIn[1]\u001b[39m\u001b[32m, line 20\u001b[39m\n\u001b[32m     19\u001b[39m \u001b[38;5;28;01mtry\u001b[39;00m:\n\u001b[32m---> \u001b[39m\u001b[32m20\u001b[39m     \u001b[43mf\u001b[49m\u001b[43m.\u001b[49m\u001b[43mwrite\u001b[49m\u001b[43m(\u001b[49m\u001b[33;43m\"\u001b[39;49m\u001b[33;43mCan\u001b[39;49m\u001b[33;43m'\u001b[39;49m\u001b[33;43mt write in read mode!\u001b[39;49m\u001b[33;43m\"\u001b[39;49m\u001b[43m)\u001b[49m\n\u001b[32m     21\u001b[39m \u001b[38;5;28;01mexcept\u001b[39;00m io.UnsupportedOperation \u001b[38;5;28;01mas\u001b[39;00m e:\n",
      "\u001b[31mUnsupportedOperation\u001b[39m: not writable",
      "\nDuring handling of the above exception, another exception occurred:\n",
      "\u001b[31mNameError\u001b[39m                                 Traceback (most recent call last)",
      "\u001b[36mCell\u001b[39m\u001b[36m \u001b[39m\u001b[32mIn[1]\u001b[39m\u001b[32m, line 21\u001b[39m\n\u001b[32m     19\u001b[39m     \u001b[38;5;28;01mtry\u001b[39;00m:\n\u001b[32m     20\u001b[39m         f.write(\u001b[33m\"\u001b[39m\u001b[33mCan\u001b[39m\u001b[33m'\u001b[39m\u001b[33mt write in read mode!\u001b[39m\u001b[33m\"\u001b[39m)\n\u001b[32m---> \u001b[39m\u001b[32m21\u001b[39m     \u001b[38;5;28;01mexcept\u001b[39;00m \u001b[43mio\u001b[49m.UnsupportedOperation \u001b[38;5;28;01mas\u001b[39;00m e:\n\u001b[32m     22\u001b[39m         \u001b[38;5;28mprint\u001b[39m(\u001b[33mf\u001b[39m\u001b[33m\"\u001b[39m\u001b[33m❌ Writing failed as expected: \u001b[39m\u001b[38;5;132;01m{\u001b[39;00me\u001b[38;5;132;01m}\u001b[39;00m\u001b[33m\"\u001b[39m)\n\u001b[32m     24\u001b[39m \u001b[38;5;28;01mimport\u001b[39;00m\u001b[38;5;250m \u001b[39m\u001b[34;01mio\u001b[39;00m  \u001b[38;5;66;03m# Import for the exception handling above\u001b[39;00m\n",
      "\u001b[31mNameError\u001b[39m: name 'io' is not defined"
     ]
    }
   ],
   "source": [
    "# First, let's create a sample file to work with\n",
    "sample_content = \"\"\"Line 1: Hello World!\n",
    "Line 2: This is a sample file.\n",
    "Line 3: We'll use this for testing.\n",
    "Line 4: File modes are important!\"\"\"\n",
    "\n",
    "with open('../sample_files/sample.txt', 'w', encoding='utf-8') as f:\n",
    "    f.write(sample_content)\n",
    "\n",
    "print(\"✅ Created sample file\")\n",
    "\n",
    "# Now let's read it with 'r' mode\n",
    "print(\"\\n--- Mode 'r' (Read) ---\")\n",
    "with open('../sample_files/sample.txt', 'r', encoding='utf-8') as f:\n",
    "    content = f.read()\n",
    "    print(f\"📖 File content:\\n{content}\")\n",
    "    \n",
    "    # Try to write (this will fail)\n",
    "    try:\n",
    "        f.write(\"Can't write in read mode!\")\n",
    "    except io.UnsupportedOperation as e:\n",
    "        print(f\"❌ Writing failed as expected: {e}\")\n",
    "\n",
    "# import io  # Import for the exception handling above"
   ]
  },
  {
   "cell_type": "code",
   "execution_count": 2,
   "metadata": {},
   "outputs": [
    {
     "name": "stdout",
     "output_type": "stream",
     "text": [
      "--- Trying to read non-existent file ---\n",
      "❌ Expected error: [Errno 2] No such file or directory: '../sample_files/nonexistent.txt'\n",
      "💡 'r' mode requires the file to exist!\n"
     ]
    }
   ],
   "source": [
    "# What happens when file doesn't exist?\n",
    "print(\"--- Trying to read non-existent file ---\")\n",
    "try:\n",
    "    with open('../sample_files/nonexistent.txt', 'r') as f:\n",
    "        content = f.read()\n",
    "except FileNotFoundError as e:\n",
    "    print(f\"❌ Expected error: {e}\")\n",
    "    print(\"💡 'r' mode requires the file to exist!\")"
   ]
  },
  {
   "cell_type": "markdown",
   "metadata": {},
   "source": [
    "## ✏️ Mode 'w' - Write (Destructive!)\n",
    "\n",
    "Opens a file for writing. **Warning**: This mode truncates (empties) the file if it exists!"
   ]
  },
  {
   "cell_type": "code",
   "execution_count": 3,
   "metadata": {},
   "outputs": [
    {
     "name": "stdout",
     "output_type": "stream",
     "text": [
      "--- Mode 'w' (Write) ---\n",
      "📄 Original content (first 50 chars): Line 1: Hello World!\n",
      "Line 2: This is a sample file...\n",
      "✅ Wrote new content\n",
      "📄 New content: This completely replaces the original content!\n",
      "⚠️ Original content was completely erased!\n"
     ]
    }
   ],
   "source": [
    "print(\"--- Mode 'w' (Write) ---\")\n",
    "\n",
    "# First, let's see what's in our sample file\n",
    "with open('../sample_files/sample.txt', 'r', encoding='utf-8') as f:\n",
    "    original_content = f.read()\n",
    "    print(f\"📄 Original content (first 50 chars): {original_content[:50]}...\")\n",
    "\n",
    "# Now open in 'w' mode and write something\n",
    "with open('../sample_files/sample.txt', 'w', encoding='utf-8') as f:\n",
    "    f.write(\"This completely replaces the original content!\")\n",
    "    print(\"✅ Wrote new content\")\n",
    "\n",
    "# Check what happened to the original content\n",
    "with open('../sample_files/sample.txt', 'r', encoding='utf-8') as f:\n",
    "    new_content = f.read()\n",
    "    print(f\"📄 New content: {new_content}\")\n",
    "    print(\"⚠️ Original content was completely erased!\")"
   ]
  },
  {
   "cell_type": "code",
   "execution_count": 4,
   "metadata": {},
   "outputs": [
    {
     "name": "stdout",
     "output_type": "stream",
     "text": [
      "\n",
      "--- Creating new file with 'w' mode ---\n",
      "✅ Created new file successfully\n",
      "✅ File exists and can be read\n",
      "📖 Content: This file was created by 'w' mode!\n"
     ]
    }
   ],
   "source": [
    "# 'w' mode creates files if they don't exist\n",
    "print(\"\\n--- Creating new file with 'w' mode ---\")\n",
    "with open('../sample_files/new_file.txt', 'w', encoding='utf-8') as f:\n",
    "    f.write(\"This file was created by 'w' mode!\")\n",
    "    print(\"✅ Created new file successfully\")\n",
    "\n",
    "# Verify it exists\n",
    "import os\n",
    "if os.path.exists('../sample_files/new_file.txt'):\n",
    "    print(\"✅ File exists and can be read\")\n",
    "    with open('../sample_files/new_file.txt', 'r', encoding='utf-8') as f:\n",
    "        print(f\"📖 Content: {f.read()}\")"
   ]
  },
  {
   "cell_type": "markdown",
   "metadata": {},
   "source": [
    "## ➕ Mode 'a' - Append (Safe Addition)\n",
    "\n",
    "Opens a file for writing, but adds content to the end instead of replacing it."
   ]
  },
  {
   "cell_type": "code",
   "execution_count": 5,
   "metadata": {},
   "outputs": [
    {
     "name": "stdout",
     "output_type": "stream",
     "text": [
      "--- Mode 'a' (Append) ---\n",
      "📄 Created file with initial content\n",
      "✅ Appended line 1\n",
      "✅ Appended line 2\n",
      "✅ Appended line 3\n",
      "\n",
      "📖 Final content:\n",
      "Initial content.\n",
      "Appended line 1\n",
      "Appended line 2\n",
      "Appended line 3\n",
      "\n",
      "💡 Notice how all content was preserved!\n"
     ]
    }
   ],
   "source": [
    "print(\"--- Mode 'a' (Append) ---\")\n",
    "\n",
    "# First, create a file with some initial content\n",
    "with open('../sample_files/append_test.txt', 'w', encoding='utf-8') as f:\n",
    "    f.write(\"Initial content.\\n\")\n",
    "\n",
    "print(\"📄 Created file with initial content\")\n",
    "\n",
    "# Now append to it multiple times\n",
    "for i in range(3):\n",
    "    with open('../sample_files/append_test.txt', 'a', encoding='utf-8') as f:\n",
    "        f.write(f\"Appended line {i+1}\\n\")\n",
    "    print(f\"✅ Appended line {i+1}\")\n",
    "\n",
    "# Read the final result\n",
    "with open('../sample_files/append_test.txt', 'r', encoding='utf-8') as f:\n",
    "    final_content = f.read()\n",
    "    print(f\"\\n📖 Final content:\\n{final_content}\")\n",
    "    print(\"💡 Notice how all content was preserved!\")"
   ]
  },
  {
   "cell_type": "markdown",
   "metadata": {},
   "source": [
    "## 🆕 Mode 'x' - Exclusive Creation\n",
    "\n",
    "Creates a new file, but fails if the file already exists. Great for preventing accidental overwrites!"
   ]
  },
  {
   "cell_type": "code",
   "execution_count": 6,
   "metadata": {},
   "outputs": [
    {
     "name": "stdout",
     "output_type": "stream",
     "text": [
      "--- Mode 'x' (Exclusive Creation) ---\n",
      "✅ Successfully created exclusive file\n",
      "❌ Expected failure: [Errno 17] File exists: '../sample_files/exclusive_file.txt'\n",
      "💡 'x' mode prevents accidental overwrites!\n"
     ]
    }
   ],
   "source": [
    "print(\"--- Mode 'x' (Exclusive Creation) ---\")\n",
    "\n",
    "# Try to create a new file\n",
    "try:\n",
    "    with open('../sample_files/exclusive_file.txt', 'x', encoding='utf-8') as f:\n",
    "        f.write(\"This file was created exclusively!\")\n",
    "    print(\"✅ Successfully created exclusive file\")\n",
    "except FileExistsError as e:\n",
    "    print(f\"❌ File already exists: {e}\")\n",
    "\n",
    "# Try to create the same file again (this should fail)\n",
    "try:\n",
    "    with open('../sample_files/exclusive_file.txt', 'x', encoding='utf-8') as f:\n",
    "        f.write(\"This won't work!\")\n",
    "    print(\"This shouldn't print\")\n",
    "except FileExistsError as e:\n",
    "    print(f\"❌ Expected failure: {e}\")\n",
    "    print(\"💡 'x' mode prevents accidental overwrites!\")"
   ]
  },
  {
   "cell_type": "markdown",
   "metadata": {},
   "source": [
    "## 🔄 Mode '+' - Read and Write Combined\n",
    "\n",
    "The `+` flag adds read/write capability to other modes."
   ]
  },
  {
   "cell_type": "code",
   "execution_count": 7,
   "metadata": {},
   "outputs": [
    {
     "name": "stdout",
     "output_type": "stream",
     "text": [
      "--- Mode 'r+' (Read and Write) ---\n",
      "📖 Original: Original content that we'll modify.\n",
      "✅ Modified beginning of file\n",
      "📖 Modified: MODIFIED content that we'll modify.\n"
     ]
    }
   ],
   "source": [
    "print(\"--- Mode 'r+' (Read and Write) ---\")\n",
    "\n",
    "# Create a file first\n",
    "with open('../sample_files/readwrite_test.txt', 'w', encoding='utf-8') as f:\n",
    "    f.write(\"Original content that we'll modify.\")\n",
    "\n",
    "# Open in 'r+' mode\n",
    "with open('../sample_files/readwrite_test.txt', 'r+', encoding='utf-8') as f:\n",
    "    # Read the current content\n",
    "    original = f.read()\n",
    "    print(f\"📖 Original: {original}\")\n",
    "    \n",
    "    # Move cursor back to beginning\n",
    "    f.seek(0)\n",
    "    \n",
    "    # Overwrite part of the content\n",
    "    f.write(\"MODIFIED\")\n",
    "    print(\"✅ Modified beginning of file\")\n",
    "\n",
    "# Read the result\n",
    "with open('../sample_files/readwrite_test.txt', 'r', encoding='utf-8') as f:\n",
    "    modified = f.read()\n",
    "    print(f\"📖 Modified: {modified}\")"
   ]
  },
  {
   "cell_type": "code",
   "execution_count": 8,
   "metadata": {},
   "outputs": [
    {
     "name": "stdout",
     "output_type": "stream",
     "text": [
      "\n",
      "--- Mode 'w+' (Write and Read) ---\n",
      "📖 Read back: Hello from w+ mode!\n",
      "✅ Added more content\n",
      "📖 Final content: Hello from w+ mode! Additional text.\n"
     ]
    }
   ],
   "source": [
    "print(\"\\n--- Mode 'w+' (Write and Read) ---\")\n",
    "\n",
    "# 'w+' truncates the file but allows reading\n",
    "with open('../sample_files/writeread_test.txt', 'w+', encoding='utf-8') as f:\n",
    "    # Write some content\n",
    "    f.write(\"Hello from w+ mode!\")\n",
    "    \n",
    "    # Move cursor back to beginning to read\n",
    "    f.seek(0)\n",
    "    \n",
    "    # Read what we just wrote\n",
    "    content = f.read()\n",
    "    print(f\"📖 Read back: {content}\")\n",
    "    \n",
    "    # Add more content\n",
    "    f.write(\" Additional text.\")\n",
    "    print(\"✅ Added more content\")\n",
    "\n",
    "# Verify final content\n",
    "with open('../sample_files/writeread_test.txt', 'r', encoding='utf-8') as f:\n",
    "    final = f.read()\n",
    "    print(f\"📖 Final content: {final}\")"
   ]
  },
  {
   "cell_type": "markdown",
   "metadata": {},
   "source": [
    "## 🔢 Binary Modes - Adding 'b'\n",
    "\n",
    "Adding 'b' to any mode switches to binary mode, which works with bytes instead of text."
   ]
  },
  {
   "cell_type": "code",
   "execution_count": 10,
   "metadata": {},
   "outputs": [
    {
     "name": "stdout",
     "output_type": "stream",
     "text": [
      "--- Binary Modes ---\n",
      "✅ Wrote binary data: b'Hello World!'\n",
      "📖 Read binary data: b'Hello World!'\n",
      "📝 Decoded as text: Hello World!\n",
      "\n",
      "--- Text vs Binary Mode Comparison ---\n",
      "📝 Text mode result: Hello World! 🌍 (type: <class 'str'>)\n",
      "🔢 Binary mode result: b'Hello World! \\xf0\\x9f\\x8c\\x8d' (type: <class 'bytes'>)\n",
      "📝 Binary decoded: Hello World! 🌍\n"
     ]
    }
   ],
   "source": [
    "print(\"--- Binary Modes ---\")\n",
    "\n",
    "# Write binary data\n",
    "binary_data = b'\\x48\\x65\\x6c\\x6c\\x6f\\x20\\x57\\x6f\\x72\\x6c\\x64\\x21'  # \"Hello World!\" in bytes\n",
    "\n",
    "with open('../sample_files/binary_test.bin', 'wb') as f:\n",
    "    f.write(binary_data)\n",
    "    print(f\"✅ Wrote binary data: {binary_data}\")\n",
    "\n",
    "# Read binary data\n",
    "with open('../sample_files/binary_test.bin', 'rb') as f:\n",
    "    read_data = f.read()\n",
    "    print(f\"📖 Read binary data: {read_data}\")\n",
    "    print(f\"📝 Decoded as text: {read_data.decode('utf-8')}\")\n",
    "\n",
    "# Compare with text mode\n",
    "print(\"\\n--- Text vs Binary Mode Comparison ---\")\n",
    "text_content = \"Hello World! 🌍\"\n",
    "\n",
    "# Write in text mode\n",
    "with open('../sample_files/text_mode.txt', 'w', encoding='utf-8') as f:\n",
    "    f.write(text_content)\n",
    "\n",
    "# Write in binary mode\n",
    "with open('../sample_files/binary_mode.txt', 'wb') as f:\n",
    "    f.write(text_content.encode('utf-8'))\n",
    "\n",
    "# Read both and compare\n",
    "with open('../sample_files/text_mode.txt', 'r', encoding='utf-8') as f:\n",
    "    text_result = f.read()\n",
    "    print(f\"📝 Text mode result: {text_result} (type: {type(text_result)})\")\n",
    "\n",
    "with open('../sample_files/binary_mode.txt', 'rb') as f:\n",
    "    binary_result = f.read()\n",
    "    print(f\"🔢 Binary mode result: {binary_result} (type: {type(binary_result)})\")\n",
    "    print(f\"📝 Binary decoded: {binary_result.decode('utf-8')}\")"
   ]
  },
  {
   "cell_type": "markdown",
   "metadata": {},
   "source": [
    "## 🎯 Practical Mode Selection Guide\n",
    "\n",
    "Here's when to use each mode:"
   ]
  },
  {
   "cell_type": "code",
   "execution_count": 11,
   "metadata": {},
   "outputs": [
    {
     "name": "stdout",
     "output_type": "stream",
     "text": [
      "🎯 Practical Mode Selection Examples:\n",
      "\n",
      "1. Reading a configuration file:\n",
      "   Mode 'r': debug=True, port=8080, host=localhost\n",
      "\n",
      "2. Writing a daily report (replace existing):\n",
      "   Mode 'w': Report written (old report replaced)\n",
      "\n",
      "3. Adding entries to a log file:\n",
      "   Mode 'a': Log entry added (preserving history)\n",
      "\n",
      "4. Creating a unique backup file:\n",
      "   Mode 'x': Backup file backup_1754143778.txt created safely\n",
      "\n",
      "5. Updating a counter in a file:\n",
      "   Mode 'r+': Counter updated from 42 to 43\n",
      "\n",
      "6. Copying a binary file:\n",
      "   Mode 'rb'/'wb': Binary file copied successfully\n"
     ]
    }
   ],
   "source": [
    "# Practical examples of mode selection\n",
    "\n",
    "def demonstrate_mode_usage():\n",
    "    \"\"\"Show practical examples of when to use each mode\"\"\"\n",
    "    \n",
    "    print(\"🎯 Practical Mode Selection Examples:\")\n",
    "    print()\n",
    "    \n",
    "    # Reading a configuration file\n",
    "    print(\"1. Reading a configuration file:\")\n",
    "    config_content = \"debug=True\\nport=8080\\nhost=localhost\"\n",
    "    with open('../sample_files/config.txt', 'w') as f:\n",
    "        f.write(config_content)\n",
    "    \n",
    "    with open('../sample_files/config.txt', 'r', encoding='utf-8') as f:\n",
    "        config = f.read()\n",
    "        print(f\"   Mode 'r': {config.replace(chr(10), ', ')}\")\n",
    "    \n",
    "    # Writing a report (replace existing)\n",
    "    print(\"\\n2. Writing a daily report (replace existing):\")\n",
    "    with open('../sample_files/daily_report.txt', 'w', encoding='utf-8') as f:\n",
    "        f.write(\"Daily Report - 2024-01-15\\nSales: $1000\\nVisitors: 500\")\n",
    "        print(\"   Mode 'w': Report written (old report replaced)\")\n",
    "    \n",
    "    # Appending to a log file\n",
    "    print(\"\\n3. Adding entries to a log file:\")\n",
    "    with open('../sample_files/app.log', 'a', encoding='utf-8') as f:\n",
    "        f.write(\"2024-01-15 10:30:00 - User logged in\\n\")\n",
    "        print(\"   Mode 'a': Log entry added (preserving history)\")\n",
    "    \n",
    "    # Creating a unique file\n",
    "    print(\"\\n4. Creating a unique backup file:\")\n",
    "    import time\n",
    "    timestamp = int(time.time())\n",
    "    try:\n",
    "        with open(f'../sample_files/backup_{timestamp}.txt', 'x', encoding='utf-8') as f:\n",
    "            f.write(\"Backup data here\")\n",
    "            print(f\"   Mode 'x': Backup file backup_{timestamp}.txt created safely\")\n",
    "    except FileExistsError:\n",
    "        print(\"   Mode 'x': File already exists, backup prevented\")\n",
    "    \n",
    "    # Modifying a file in place\n",
    "    print(\"\\n5. Updating a counter in a file:\")\n",
    "    with open('../sample_files/counter.txt', 'w') as f:\n",
    "        f.write(\"42\")\n",
    "    \n",
    "    with open('../sample_files/counter.txt', 'r+', encoding='utf-8') as f:\n",
    "        current_value = int(f.read())\n",
    "        f.seek(0)\n",
    "        f.write(str(current_value + 1))\n",
    "        f.truncate()  # Remove any leftover content\n",
    "        print(f\"   Mode 'r+': Counter updated from {current_value} to {current_value + 1}\")\n",
    "    \n",
    "    # Working with binary data (image, etc.)\n",
    "    print(\"\\n6. Copying a binary file:\")\n",
    "    # Create a fake binary file\n",
    "    fake_image_data = b'\\x89PNG\\r\\n\\x1a\\n' + b'fake image data here'\n",
    "    with open('../sample_files/original.png', 'wb') as f:\n",
    "        f.write(fake_image_data)\n",
    "    \n",
    "    # Copy it\n",
    "    with open('../sample_files/original.png', 'rb') as src:\n",
    "        with open('../sample_files/copy.png', 'wb') as dst:\n",
    "            dst.write(src.read())\n",
    "    print(\"   Mode 'rb'/'wb': Binary file copied successfully\")\n",
    "\n",
    "demonstrate_mode_usage()"
   ]
  },
  {
   "cell_type": "markdown",
   "metadata": {},
   "source": [
    "## ⚠️ Common Mode Mistakes and How to Avoid Them"
   ]
  },
  {
   "cell_type": "code",
   "execution_count": 12,
   "metadata": {},
   "outputs": [
    {
     "name": "stdout",
     "output_type": "stream",
     "text": [
      "⚠️ Common Mistakes and Solutions:\n",
      "\n",
      "1. Accidentally erasing files with 'w' mode:\n",
      "   ❌ Result: 'Just a small addition' (original data lost!)\n",
      "   ✅ Solution: Use 'a' mode for additions\n",
      "\n",
      "2. Platform-dependent encoding issues:\n",
      "   Current system default encoding: utf-8\n",
      "   ❌ Problem: open('file.txt', 'r') # Uses system default\n",
      "   ✅ Solution: open('file.txt', 'r', encoding='utf-8')\n",
      "\n",
      "3. Using text mode for binary data:\n",
      "   ❌ Error: write() argument must be str, not bytes\n",
      "   ✅ Solution: Use 'wb' mode for binary data\n",
      "\n",
      "4. Not checking if file exists:\n",
      "   ❌ File doesn't exist\n",
      "   ✅ Solutions:\n",
      "      - Use 'a' mode (creates if doesn't exist)\n",
      "      - Check with os.path.exists() first\n",
      "      - Use try/except blocks\n"
     ]
    }
   ],
   "source": [
    "print(\"⚠️ Common Mistakes and Solutions:\")\n",
    "print()\n",
    "\n",
    "# Mistake 1: Using 'w' when you meant 'a'\n",
    "print(\"1. Accidentally erasing files with 'w' mode:\")\n",
    "with open('../sample_files/important_data.txt', 'w') as f:\n",
    "    f.write(\"Important data that took hours to create\")\n",
    "\n",
    "# Oops! Someone uses 'w' instead of 'a'\n",
    "with open('../sample_files/important_data.txt', 'w') as f:  # Should be 'a'!\n",
    "    f.write(\"Just a small addition\")\n",
    "\n",
    "with open('../sample_files/important_data.txt', 'r') as f:\n",
    "    result = f.read()\n",
    "    print(f\"   ❌ Result: '{result}' (original data lost!)\")\n",
    "    print(\"   ✅ Solution: Use 'a' mode for additions\")\n",
    "\n",
    "# Mistake 2: Forgetting to specify encoding\n",
    "print(\"\\n2. Platform-dependent encoding issues:\")\n",
    "import sys\n",
    "print(f\"   Current system default encoding: {sys.getdefaultencoding()}\")\n",
    "print(\"   ❌ Problem: open('file.txt', 'r') # Uses system default\")\n",
    "print(\"   ✅ Solution: open('file.txt', 'r', encoding='utf-8')\")\n",
    "\n",
    "# Mistake 3: Using text mode for binary data\n",
    "print(\"\\n3. Using text mode for binary data:\")\n",
    "binary_data = bytes([0, 1, 2, 255, 254, 253])\n",
    "try:\n",
    "    with open('../sample_files/binary_mistake.txt', 'w') as f:\n",
    "        f.write(binary_data)  # This will fail!\n",
    "except TypeError as e:\n",
    "    print(f\"   ❌ Error: {e}\")\n",
    "    print(\"   ✅ Solution: Use 'wb' mode for binary data\")\n",
    "\n",
    "# Mistake 4: Not handling file existence properly\n",
    "print(\"\\n4. Not checking if file exists:\")\n",
    "try:\n",
    "    with open('../sample_files/maybe_exists.txt', 'r') as f:\n",
    "        content = f.read()\n",
    "except FileNotFoundError:\n",
    "    print(\"   ❌ File doesn't exist\")\n",
    "    print(\"   ✅ Solutions:\")\n",
    "    print(\"      - Use 'a' mode (creates if doesn't exist)\")\n",
    "    print(\"      - Check with os.path.exists() first\")\n",
    "    print(\"      - Use try/except blocks\")"
   ]
  },
  {
   "cell_type": "markdown",
   "metadata": {},
   "source": [
    "## 📊 Mode Comparison Summary\n",
    "\n",
    "Let's create a comprehensive comparison:"
   ]
  },
  {
   "cell_type": "code",
   "execution_count": 13,
   "metadata": {},
   "outputs": [
    {
     "name": "stdout",
     "output_type": "stream",
     "text": [
      "📊 Complete File Mode Comparison:\n",
      "Mode Read Write Creates File Truncates Position Data Type            Use Case\n",
      "   r    ✅     ❌            ❌         ❌    Start      Text   Read config files\n",
      "   w    ❌     ✅            ✅         ✅    Start      Text       Write reports\n",
      "   a    ❌     ✅            ✅         ❌      End      Text         Add to logs\n",
      "   x    ❌     ✅            ✅         ❌    Start      Text Create unique files\n",
      "  r+    ✅     ✅            ❌         ❌    Start      Text        Update files\n",
      "  w+    ✅     ✅            ✅         ✅    Start      Text          Temp files\n",
      "  a+    ✅     ✅            ✅         ❌      End      Text    Read/append logs\n",
      "  rb    ✅     ❌            ❌         ❌    Start    Binary         Read images\n",
      "  wb    ❌     ✅            ✅         ✅    Start    Binary        Write images\n",
      "  ab    ❌     ✅            ✅         ❌      End    Binary  Append binary data\n"
     ]
    }
   ],
   "source": [
    "import pandas as pd\n",
    "\n",
    "# Create a comprehensive mode comparison table\n",
    "mode_data = {\n",
    "    'Mode': ['r', 'w', 'a', 'x', 'r+', 'w+', 'a+', 'rb', 'wb', 'ab'],\n",
    "    'Read': ['✅', '❌', '❌', '❌', '✅', '✅', '✅', '✅', '❌', '❌'],\n",
    "    'Write': ['❌', '✅', '✅', '✅', '✅', '✅', '✅', '❌', '✅', '✅'],\n",
    "    'Creates File': ['❌', '✅', '✅', '✅', '❌', '✅', '✅', '❌', '✅', '✅'],\n",
    "    'Truncates': ['❌', '✅', '❌', '❌', '❌', '✅', '❌', '❌', '✅', '❌'],\n",
    "    'Position': ['Start', 'Start', 'End', 'Start', 'Start', 'Start', 'End', 'Start', 'Start', 'End'],\n",
    "    'Data Type': ['Text', 'Text', 'Text', 'Text', 'Text', 'Text', 'Text', 'Binary', 'Binary', 'Binary'],\n",
    "    'Use Case': [\n",
    "        'Read config files',\n",
    "        'Write reports',\n",
    "        'Add to logs',\n",
    "        'Create unique files',\n",
    "        'Update files',\n",
    "        'Temp files',\n",
    "        'Read/append logs',\n",
    "        'Read images',\n",
    "        'Write images',\n",
    "        'Append binary data'\n",
    "    ]\n",
    "}\n",
    "\n",
    "df = pd.DataFrame(mode_data)\n",
    "print(\"📊 Complete File Mode Comparison:\")\n",
    "print(df.to_string(index=False))"
   ]
  },
  {
   "cell_type": "markdown",
   "metadata": {},
   "source": [
    "## 🎯 Key Takeaways\n",
    "\n",
    "1. **Choose the right mode** for your specific use case\n",
    "2. **'w' mode is destructive** - it erases existing content\n",
    "3. **'a' mode is safe** for adding content\n",
    "4. **'x' mode prevents accidents** by failing if file exists\n",
    "5. **'+' modes allow both reading and writing**\n",
    "6. **'b' modes work with bytes**, not text\n",
    "7. **Always specify encoding** for text modes\n",
    "8. **Handle FileNotFoundError** appropriately\n",
    "\n",
    "## 🚨 Critical Safety Rules\n",
    "\n",
    "- ⚠️ **Never use 'w' mode** unless you want to erase the file\n",
    "- ✅ **Use 'a' mode** when adding to existing files\n",
    "- ✅ **Use 'x' mode** when creating new files safely\n",
    "- ✅ **Always specify encoding** for text files\n",
    "- ✅ **Use 'b' modes** for binary data (images, videos, etc.)\n",
    "\n",
    "## 🔜 What's Next?\n",
    "\n",
    "Now that you understand file modes, we'll explore:\n",
    "- Context managers and the `with` statement\n",
    "- Proper error handling for file operations\n",
    "- Reading and writing techniques\n",
    "- Working with file paths using `pathlib`\n",
    "\n",
    "Understanding file modes is crucial for safe and effective file programming!"
   ]
  }
 ],
 "metadata": {
  "kernelspec": {
   "display_name": ".global",
   "language": "python",
   "name": "python3"
  },
  "language_info": {
   "codemirror_mode": {
    "name": "ipython",
    "version": 3
   },
   "file_extension": ".py",
   "mimetype": "text/x-python",
   "name": "python",
   "nbconvert_exporter": "python",
   "pygments_lexer": "ipython3",
   "version": "3.13.5"
  }
 },
 "nbformat": 4,
 "nbformat_minor": 4
}
