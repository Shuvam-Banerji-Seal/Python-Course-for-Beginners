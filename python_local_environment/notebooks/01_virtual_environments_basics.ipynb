{
 "cells": [
  {
   "cell_type": "markdown",
   "metadata": {},
   "source": [
    "# Virtual Environments in Python - The Basics\n",
    "\n",
    "This notebook covers the fundamentals of Python virtual environments and why they're essential for Python development."
   ]
  },
  {
   "cell_type": "markdown",
   "metadata": {},
   "source": [
    "## What are Virtual Environments?\n",
    "\n",
    "Virtual environments are isolated Python environments that allow you to:\n",
    "- Install packages without affecting the system Python\n",
    "- Use different Python versions for different projects\n",
    "- Avoid dependency conflicts between projects\n",
    "- Create reproducible development environments"
   ]
  },
  {
   "cell_type": "markdown",
   "metadata": {},
   "source": [
    "## The Problem Without Virtual Environments\n",
    "\n",
    "```bash\n",
    "# System-wide installation (NOT recommended)\n",
    "pip install django==3.2\n",
    "pip install flask==2.0\n",
    "\n",
    "# Later, another project needs different versions\n",
    "pip install django==4.1  # This overwrites the previous version!\n",
    "```\n",
    "\n",
    "This creates version conflicts and can break existing projects."
   ]
  },
  {
   "cell_type": "code",
   "execution_count": null,
   "metadata": {},
   "outputs": [],
   "source": [
    "# Check current Python version and location\n",
    "import sys\n",
    "print(f\"Python version: {sys.version}\")\n",
    "print(f\"Python executable: {sys.executable}\")\n",
    "print(f\"Python path: {sys.path[:3]}...\")  # Show first 3 paths"
   ]
  },
  {
   "cell_type": "markdown",
   "metadata": {},
   "source": [
    "## Built-in venv Module\n",
    "\n",
    "Python 3.3+ includes the `venv` module for creating virtual environments."
   ]
  },
  {
   "cell_type": "code",
   "execution_count": null,
   "metadata": {},
   "outputs": [],
   "source": [
    "# Create a virtual environment using venv\n",
    "# Run this in terminal, not in notebook\n",
    "\n",
    "commands = \"\"\"\n",
    "# Create virtual environment\n",
    "python -m venv myproject_env\n",
    "\n",
    "# Activate (Linux/Mac)\n",
    "source myproject_env/bin/activate\n",
    "\n",
    "# Activate (Windows)\n",
    "myproject_env\\\\Scripts\\\\activate\n",
    "\n",
    "# Check if activated\n",
    "which python  # Should point to venv\n",
    "pip list      # Should show minimal packages\n",
    "\n",
    "# Deactivate\n",
    "deactivate\n",
    "\"\"\"\n",
    "\n",
    "print(commands)"
   ]
  },
  {
   "cell_type": "markdown",
   "metadata": {},
   "source": [
    "## Environment Variables and Activation\n",
    "\n",
    "When you activate a virtual environment, several things happen:\n",
    "1. `PATH` is modified to prioritize the venv's Python\n",
    "2. `VIRTUAL_ENV` environment variable is set\n",
    "3. The shell prompt is modified to show the active environment"
   ]
  },
  {
   "cell_type": "code",
   "execution_count": null,
   "metadata": {},
   "outputs": [],
   "source": [
    "import os\n",
    "\n",
    "# Check if we're in a virtual environment\n",
    "venv_path = os.environ.get('VIRTUAL_ENV')\n",
    "if venv_path:\n",
    "    print(f\"Currently in virtual environment: {venv_path}\")\n",
    "else:\n",
    "    print(\"Not in a virtual environment\")\n",
    "\n",
    "# Show PATH (first few entries)\n",
    "path_entries = os.environ.get('PATH', '').split(os.pathsep)\n",
    "print(f\"\\nFirst 3 PATH entries:\")\n",
    "for i, path in enumerate(path_entries[:3]):\n",
    "    print(f\"{i+1}. {path}\")"
   ]
  }
 ],
 "metadata": {
  "kernelspec": {
   "display_name": "Python 3",
   "language": "python",
   "name": "python3"
  },
  "language_info": {
   "codemirror_mode": {
    "name": "ipython",
    "version": 3
   },
   "file_extension": ".py",
   "mimetype": "text/x-python",
   "name": "python",
   "nbconvert_exporter": "python",
   "pygments_lexer": "ipython3",
   "version": "3.9.0"
  }
 },
 "nbformat": 4,
 "nbformat_minor": 4
}