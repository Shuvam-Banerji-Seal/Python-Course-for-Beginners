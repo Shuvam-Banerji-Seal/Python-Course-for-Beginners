{
 "cells": [
  {
   "cell_type": "code",
   "execution_count": 11,
   "metadata": {},
   "outputs": [
    {
     "name": "stdout",
     "output_type": "stream",
     "text": [
      "['Niket', 'is', 'a', 'good', 'boy']\n",
      "Word: <Niket> and sum of vowels: 2\n",
      "Word: <is> and sum of vowels: 1\n",
      "Word: <a> and sum of vowels: 1\n",
      "Word: <good> and sum of vowels: 2\n",
      "Word: <boy> and sum of vowels: 1\n",
      "is a boy Niket good\n"
     ]
    }
   ],
   "source": [
    "def sort_by_vowel_count(sentence):\n",
    "\n",
    "    # Define vowels as a list\n",
    "    vowels = ['a', 'e', 'i', 'o', 'u', 'A', 'E', 'I', 'O', 'U']\n",
    "    \n",
    "    # Function to count vowels in a word\n",
    "    def count_vowels(word):\n",
    "        sum1 =0\n",
    "        # sum1 = sum(1 for char in word if char in vowels)\n",
    "        for char1 in word:\n",
    "            if char1 in vowels:\n",
    "                sum1 = sum1 +1\n",
    "        print(f\"Word: <{word}> and sum of vowels: {sum1}\")\n",
    "        return sum1\n",
    "    \n",
    "    # Split sentence into words\n",
    "    words = sentence.split()\n",
    "    print(words)\n",
    "    \n",
    "    # Sort words based on vowel count\n",
    "    sorted_words = sorted(words, key=count_vowels)\n",
    "    \n",
    "    # Join words back into sentence\n",
    "    return ' '.join(sorted_words)\n",
    "\n",
    "\n",
    "\n",
    "print(f\"{sort_by_vowel_count(\"Niket is a good boy\")}\")"
   ]
  }
 ],
 "metadata": {
  "kernelspec": {
   "display_name": "Python 3",
   "language": "python",
   "name": "python3"
  },
  "language_info": {
   "codemirror_mode": {
    "name": "ipython",
    "version": 3
   },
   "file_extension": ".py",
   "mimetype": "text/x-python",
   "name": "python",
   "nbconvert_exporter": "python",
   "pygments_lexer": "ipython3",
   "version": "3.12.7"
  }
 },
 "nbformat": 4,
 "nbformat_minor": 2
}
