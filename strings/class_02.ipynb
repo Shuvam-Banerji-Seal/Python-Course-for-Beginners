{
 "cells": [
  {
   "cell_type": "markdown",
   "metadata": {},
   "source": [
    "# Exploring More Python String Methods\n",
    "\n",
    "This notebook delves into additional string methods in Python, expanding on the foundational ones. These methods offer more specialized functionalities for string manipulation, formatting, and inspection."
   ]
  },
  {
   "cell_type": "markdown",
   "metadata": {},
   "source": [
    "## 1. `center(width[, fillchar])`\n",
    "\n",
    "Returns a string centered in a string of length `width`. Padding is done using the specified `fillchar` (default is an ASCII space). The original string is returned if `width` is less than or equal to `len(s)`."
   ]
  },
  {
   "cell_type": "code",
   "execution_count": null,
   "metadata": {},
   "outputs": [],
   "source": [
    "text = \"Python\"\n",
    "centered_text_space = text.center(20)\n",
    "centered_text_char = text.center(20, '*')\n",
    "\n",
    "print(f\"Original: '{text}'\")\n",
    "print(f\"Centered (space): 'END{centered_text_space}END'\")\n",
    "print(f\"Centered ('*'):  'END{centered_text_char}END'\")\n",
    "\n",
    "short_center = text.center(3)\n",
    "print(f\"Centered (width < len): '{short_center}'\")"
   ]
  },
  {
   "cell_type": "markdown",
   "metadata": {},
   "source": [
    "## 2. `ljust(width[, fillchar])`\n",
    "\n",
    "Returns the string left justified in a string of length `width`. Padding is done using the specified `fillchar` (default is an ASCII space). The original string is returned if `width` is less than or equal to `len(s)`."
   ]
  },
  {
   "cell_type": "code",
   "execution_count": null,
   "metadata": {},
   "outputs": [],
   "source": [
    "text = \"Python\"\n",
    "ljust_text_space = text.ljust(20)\n",
    "ljust_text_char = text.ljust(20, '-')\n",
    "\n",
    "print(f\"Original: '{text}'\")\n",
    "print(f\"Left Justified (space): 'END{ljust_text_space}END'\")\n",
    "print(f\"Left Justified ('-'):  'END{ljust_text_char}END'\")"
   ]
  },
  {
   "cell_type": "markdown",
   "metadata": {},
   "source": [
    "## 3. `rjust(width[, fillchar])`\n",
    "\n",
    "Returns the string right justified in a string of length `width`. Padding is done using the specified `fillchar` (default is an ASCII space). The original string is returned if `width` is less than or equal to `len(s)`."
   ]
  },
  {
   "cell_type": "code",
   "execution_count": null,
   "metadata": {},
   "outputs": [],
   "source": [
    "text = \"Python\"\n",
    "rjust_text_space = text.rjust(20)\n",
    "rjust_text_char = text.rjust(20, '=')\n",
    "\n",
    "print(f\"Original: '{text}'\")\n",
    "print(f\"Right Justified (space): 'END{rjust_text_space}END'\")\n",
    "print(f\"Right Justified ('='):  'END{rjust_text_char}END'\")"
   ]
  },
  {
   "cell_type": "markdown",
   "metadata": {},
   "source": [
    "## 4. `zfill(width)`\n",
    "\n",
    "Pads a numeric string on the left with zeros to fill `width`. A sign prefix (`+` or `-`) is handled correctly. The original string is returned if `width` is less than or equal to `len(s)`."
   ]
  },
  {
   "cell_type": "code",
   "execution_count": null,
   "metadata": {},
   "outputs": [],
   "source": [
    "num_str1 = \"42\"\n",
    "num_str2 = \"-123\"\n",
    "num_str3 = \"+5000\"\n",
    "text_str = \"abc\"\n",
    "\n",
    "print(f\"'{num_str1}'.zfill(5): '{num_str1.zfill(5)}'\")\n",
    "print(f\"'{num_str2}'.zfill(5): '{num_str2.zfill(5)}'\")\n",
    "print(f\"'{num_str3}'.zfill(5): '{num_str3.zfill(5)}'\") # Sign moves to the left\n",
    "print(f\"'{num_str1}'.zfill(1): '{num_str1.zfill(1)}'\") # Width too small\n",
    "print(f\"'{text_str}'.zfill(5): '{text_str.zfill(5)}'\") # Works on non-numeric, but typically used for numbers"
   ]
  },
  {
   "cell_type": "markdown",
   "metadata": {},
   "source": [
    "## 5. `swapcase()`\n",
    "\n",
    "Returns a copy of the string with uppercase characters converted to lowercase and vice versa. Non-alphabetic characters are unchanged."
   ]
  },
  {
   "cell_type": "code",
   "execution_count": null,
   "metadata": {},
   "outputs": [],
   "source": [
    "text1 = \"Hello World\"\n",
    "text2 = \"PYTHON is FUN 123!\"\n",
    "\n",
    "print(f\"'{text1}'.swapcase(): '{text1.swapcase()}'\")\n",
    "print(f\"'{text2}'.swapcase(): '{text2.swapcase()}'\")"
   ]
  },
  {
   "cell_type": "markdown",
   "metadata": {},
   "source": [
    "## 6. `expandtabs(tabsize=8)`\n",
    "\n",
    "Returns a copy of the string where all tab characters (`\\t`) are replaced by one or more spaces, depending on the current column and the given `tabsize`. Tab stops are every `tabsize` characters (default is 8)."
   ]
  },
  {
   "cell_type": "code",
   "execution_count": null,
   "metadata": {},
   "outputs": [],
   "source": [
    "tabbed_string = \"col1\\tcol2\\tcol3\"\n",
    "data_string = \"a\\tb\\tcde\\tf\"\n",
    "\n",
    "print(f\"Original: '{tabbed_string}'\")\n",
    "print(f\"Expanded (default tabsize 8): '{tabbed_string.expandtabs()}'\")\n",
    "print(f\"Expanded (tabsize 4): '{tabbed_string.expandtabs(4)}'\")\n",
    "print(f\"Expanded (tabsize 10): '{tabbed_string.expandtabs(10)}'\")\n",
    "\n",
    "print(f\"\\nOriginal data: '{data_string}'\")\n",
    "print(f\"Data expanded (tabsize 4): '{data_string.expandtabs(4)}'\")\n",
    "print(f\"Compare with fixed spaces: 'a   b   cde f'\") # For visual check"
   ]
  },
  {
   "cell_type": "markdown",
   "metadata": {},
   "source": [
    "## 7. `rsplit(sep=None, maxsplit=-1)`\n",
    "\n",
    "Similar to `split()`, but splits from the right. \n",
    "*   If `sep` is not specified or `None`, splits by whitespace from the right.\n",
    "*   `maxsplit` is the maximum number of splits to do (from the right)."
   ]
  },
  {
   "cell_type": "code",
   "execution_count": null,
   "metadata": {},
   "outputs": [],
   "source": [
    "text = \"apple,banana,cherry,date\"\n",
    "print(f\"Original: '{text}'\")\n",
    "print(f\"rsplit(','): {text.rsplit(',')}\")\n",
    "print(f\"rsplit(',', 1): {text.rsplit(',', 1)}\") # Useful for getting filename and extension\n",
    "print(f\"rsplit(',', 2): {text.rsplit(',', 2)}\")\n",
    "\n",
    "path = \"/usr/local/bin/python\"\n",
    "print(f\"\\nPath: '{path}'\")\n",
    "print(f\"path.rsplit('/', 1): {path.rsplit('/', 1)}\") # [directory, filename]"
   ]
  },
  {
   "cell_type": "markdown",
   "metadata": {},
   "source": [
    "## 8. `splitlines(keepends=False)`\n",
    "\n",
    "Returns a list of the lines in the string, breaking at line boundaries. Line breaks are not included in the resulting list unless `keepends` is true."
   ]
  },
  {
   "cell_type": "code",
   "execution_count": null,
   "metadata": {},
   "outputs": [],
   "source": [
    "multi_line_text = \"Hello\\nWorld\\nThis is Python\\r\\nAnd NLTK!\\rLast line.\"\n",
    "print(f\"Original Text:\\n{multi_line_text}\")\n",
    "\n",
    "lines_no_ends = multi_line_text.splitlines()\n",
    "print(f\"\\nsplitlines(): {lines_no_ends}\")\n",
    "\n",
    "lines_with_ends = multi_line_text.splitlines(keepends=True)\n",
    "print(f\"\\nsplitlines(keepends=True): {lines_with_ends}\")\n",
    "\n",
    "empty_string = \"\"\n",
    "print(f\"\\n'{empty_string}'.splitlines(): {empty_string.splitlines()}\")\n",
    "string_with_final_newline = \"Line1\\nLine2\\n\"\n",
    "print(f\"'{string_with_final_newline}'.splitlines(): {string_with_final_newline.splitlines()}\")"
   ]
  },
  {
   "cell_type": "markdown",
   "metadata": {},
   "source": [
    "## 9. `rfind(sub[, start[, end]])`\n",
    "\n",
    "Returns the highest index in the string where substring `sub` is found, such that `sub` is contained within `s[start:end]`. Returns -1 if `sub` is not found. Similar to `find()`, but searches from the right."
   ]
  },
  {
   "cell_type": "code",
   "execution_count": null,
   "metadata": {},
   "outputs": [],
   "source": [
    "text = \"banana bandana\"\n",
    "print(f\"String: '{text}'\")\n",
    "print(f\"rfind('na'): {text.rfind('na')}\") # Output: 10\n",
    "print(f\"find('na'): {text.find('na')}\")   # Output: 2\n",
    "print(f\"rfind('na', 0, 10): {text.rfind('na', 0, 10)}\") # Searches in 'banana ban', finds 'na' at index 4\n",
    "print(f\"rfind('xyz'): {text.rfind('xyz')}\")"
   ]
  },
  {
   "cell_type": "markdown",
   "metadata": {},
   "source": [
    "## 10. `rindex(sub[, start[, end]])`\n",
    "\n",
    "Like `rfind()` but raises `ValueError` if the substring `sub` is not found."
   ]
  },
  {
   "cell_type": "code",
   "execution_count": null,
   "metadata": {},
   "outputs": [],
   "source": [
    "text = \"banana bandana\"\n",
    "print(f\"String: '{text}'\")\n",
    "print(f\"rindex('na'): {text.rindex('na')}\")\n",
    "try:\n",
    "    print(f\"rindex('xyz'): {text.rindex('xyz')}\")\n",
    "except ValueError as e:\n",
    "    print(f\"Error finding 'xyz': {e}\")"
   ]
  },
  {
   "cell_type": "markdown",
   "metadata": {},
   "source": [
    "## 11. `rpartition(sep)`\n",
    "\n",
    "Splits the string at the last occurrence of `sep`, and returns a 3-tuple containing the part before the separator, the separator itself, and the part after the separator. If the separator is not found, returns a 3-tuple containing two empty strings, followed by the original string."
   ]
  },
  {
   "cell_type": "code",
   "execution_count": null,
   "metadata": {},
   "outputs": [],
   "source": [
    "text = \"user@example.com@backup\"\n",
    "print(f\"String: '{text}'\")\n",
    "print(f\"rpartition('@'): {text.rpartition('@')}\")\n",
    "print(f\"partition('@'): {text.partition('@')}\") # Compare with partition\n",
    "\n",
    "no_sep_text = \"nodomain\"\n",
    "print(f\"\\nString: '{no_sep_text}'\")\n",
    "print(f\"rpartition('@'): {no_sep_text.rpartition('@')}\")"
   ]
  },
  {
   "cell_type": "markdown",
   "metadata": {},
   "source": [
    "## 12. `maketrans(x[, y[, z]])` and `translate(table)`\n",
    "\n",
    "*   `str.maketrans(x[, y[, z]])`: This static method returns a translation table usable for `str.translate()`.\n",
    "    *   If one argument: it must be a dictionary mapping Unicode ordinals (integers) or characters to Unicode ordinals, strings, or `None`.\n",
    "    *   If two arguments: they must be strings of equal length, and in the resulting dictionary, each character in `x` will be mapped to the character at the same position in `y`.\n",
    "    *   If three arguments: each character in `z` will be mapped to `None` (characters in `z` are deleted).\n",
    "*   `translate(table)`: Returns a copy of the string where each character has been mapped through the given translation `table`."
   ]
  },
  {
   "cell_type": "code",
   "execution_count": null,
   "metadata": {},
   "outputs": [],
   "source": [
    "# Example 1: Two arguments (character replacement)\n",
    "table1 = str.maketrans(\"aeiou\", \"12345\")\n",
    "text1 = \"hello beautiful world\"\n",
    "translated_text1 = text1.translate(table1)\n",
    "print(f\"Original: '{text1}'\")\n",
    "print(f\"Translated (vowels to numbers): '{translated_text1}'\")\n",
    "\n",
    "# Example 2: Three arguments (replacement and deletion)\n",
    "table2 = str.maketrans(\"aeiou\", \"AEIOU\", \"lrd\") # Replace vowels, delete 'l', 'r', 'd'\n",
    "text2 = \"hello beautiful world\"\n",
    "translated_text2 = text2.translate(table2)\n",
    "print(f\"\\nOriginal: '{text2}'\")\n",
    "print(f\"Translated (vowels to uppercase, l,r,d deleted): '{translated_text2}'\")\n",
    "\n",
    "# Example 3: One argument (dictionary mapping)\n",
    "mapping_dict = {ord('a'): 'APPLE', ord(' '): '_'}\n",
    "table3 = str.maketrans(mapping_dict)\n",
    "text3 = \"a cat and a bat\"\n",
    "translated_text3 = text3.translate(table3)\n",
    "print(f\"\\nOriginal: '{text3}'\")\n",
    "print(f\"Translated (dictionary mapping): '{translated_text3}'\")"
   ]
  },
  {
   "cell_type": "markdown",
   "metadata": {},
   "source": [
    "## 13. `encode(encoding='utf-8', errors='strict')`\n",
    "\n",
    "Returns an encoded version of the string as a `bytes` object. \n",
    "*   `encoding`: The encoding to use (e.g., 'utf-8', 'ascii', 'latin-1'). Default is 'utf-8'.\n",
    "*   `errors`: Specifies how encoding errors are handled. \n",
    "    *   `'strict'` (default): Raises `UnicodeEncodeError`.\n",
    "    *   `'ignore'`: Ignores unencodable characters.\n",
    "    *   `'replace'`: Replaces with a replacement marker (often '?').\n",
    "    *   `'xmlcharrefreplace'`: Replaces with XML character references.\n",
    "    *   `'backslashreplace'`: Replaces with Python's backslashed escape sequences.\n",
    "\n",
    "The counterpart `bytes.decode()` converts bytes back to a string."
   ]
  },
  {
   "cell_type": "code",
   "execution_count": null,
   "metadata": {},
   "outputs": [],
   "source": [
    "text = \"Python is fun! 😊\"\n",
    "\n",
    "utf8_encoded = text.encode('utf-8')\n",
    "print(f\"Original text: '{text}'\")\n",
    "print(f\"UTF-8 encoded: {utf8_encoded}\")\n",
    "print(f\"Decoded back: {utf8_encoded.decode('utf-8')}\")\n",
    "\n",
    "try:\n",
    "    ascii_encoded_strict = text.encode('ascii') # Will fail due to emoji\n",
    "    print(f\"ASCII encoded (strict): {ascii_encoded_strict}\")\n",
    "except UnicodeEncodeError as e:\n",
    "    print(f\"\\nError with ASCII strict encoding: {e}\")\n",
    "\n",
    "ascii_encoded_replace = text.encode('ascii', errors='replace')\n",
    "print(f\"ASCII encoded (replace): {ascii_encoded_replace}\")\n",
    "print(f\"Decoded from ASCII (replace): {ascii_encoded_replace.decode('ascii')}\")\n",
    "\n",
    "ascii_encoded_ignore = text.encode('ascii', errors='ignore')\n",
    "print(f\"ASCII encoded (ignore): {ascii_encoded_ignore}\")\n",
    "print(f\"Decoded from ASCII (ignore): {ascii_encoded_ignore.decode('ascii')}\")\n",
    "\n",
    "ascii_encoded_xml = text.encode('ascii', errors='xmlcharrefreplace')\n",
    "print(f\"ASCII encoded (xmlcharrefreplace): {ascii_encoded_xml}\")\n",
    "print(f\"Decoded from ASCII (xmlcharrefreplace): {ascii_encoded_xml.decode('ascii')}\") # Note: this decodes XML entities to their char"
   ]
  },
  {
   "cell_type": "markdown",
   "metadata": {},
   "source": [
    "## 14. `isidentifier()`\n",
    "\n",
    "Returns `True` if the string is a valid identifier according to the language definition, section [Identifiers and keywords](https://docs.python.org/3/reference/lexical_analysis.html#identifiers). For example, it must start with a letter or underscore, followed by letters, digits, or underscores. Keywords are also valid identifiers."
   ]
  },
  {
   "cell_type": "code",
   "execution_count": null,
   "metadata": {},
   "outputs": [],
   "source": [
    "print(f\"'variable_name'.isidentifier(): {'variable_name'.isidentifier()}\")\n",
    "print(f\"'_my_var'.isidentifier(): {'_my_var'.isidentifier()}\")\n",
    "print(f\"'var123'.isidentifier(): {'var123'.isidentifier()}\")\n",
    "print(f\"'class'.isidentifier(): {'class'.isidentifier()}\") # 'class' is a keyword, but also a valid identifier syntactically\n",
    "import keyword\n",
    "print(f\"'class' is a keyword: {keyword.iskeyword('class')}\")\n",
    "\n",
    "print(f\"'123var'.isidentifier(): {'123var'.isidentifier()}\")\n",
    "print(f\"'var-name'.isidentifier(): {'var-name'.isidentifier()}\")\n",
    "print(f\"'var name'.isidentifier(): {'var name'.isidentifier()}\")\n",
    "print(f\"''.isidentifier(): {''.isidentifier()}\")"
   ]
  },
  {
   "cell_type": "markdown",
   "metadata": {},
   "source": [
    "## 15. `isprintable()`\n",
    "\n",
    "Returns `True` if all characters in the string are printable or the string is empty. Non-printable characters are those characters defined in the Unicode character database as \"Other\" or \"Separator\", excepting the ASCII space (0x20) which is considered printable."
   ]
  },
  {
   "cell_type": "code",
   "execution_count": null,
   "metadata": {},
   "outputs": [],
   "source": [
    "printable_str = \"Hello World 123!@#\"\n",
    "empty_str = \"\"\n",
    "non_printable_str1 = \"Hello\\nWorld\" # newline character \\n\n",
    "non_printable_str2 = \"Hello\\tWorld\" # tab character \\t\n",
    "non_printable_str3 = \"Hello\\x0bWorld\" # vertical tab \\x0b\n",
    "\n",
    "print(f\"'{printable_str}'.isprintable(): {printable_str.isprintable()}\")\n",
    "print(f\"'{empty_str}'.isprintable(): {empty_str.isprintable()}\")\n",
    "print(f\"'Hello World'.isprintable(): {'Hello World'.isprintable()}\") # Space is printable\n",
    "print(f\"'{non_printable_str1}'.isprintable(): {non_printable_str1.isprintable()}\")\n",
    "print(f\"'{non_printable_str2}'.isprintable(): {non_printable_str2.isprintable()}\")\n",
    "print(f\"'{non_printable_str3}'.isprintable(): {non_printable_str3.isprintable()}\")"
   ]
  },
  {
   "cell_type": "markdown",
   "metadata": {},
   "source": [
    "## 16. Differentiating `isdecimal()`, `isdigit()`, `isnumeric()`\n",
    "\n",
    "These methods check if a string consists of certain types of numeric characters. Their distinctions are subtle and relate to Unicode character properties.\n",
    "\n",
    "*   `isdecimal()`: Returns `True` if all characters in the string are decimal characters and there is at least one character. Decimal characters are those that can be used to form numbers in base 10 (e.g., U+0660 ARABIC-INDIC DIGIT ZERO). Strictly digits used for base-10 numbers.\n",
    "*   `isdigit()`: Returns `True` if all characters in the string are digits and there is at least one character. This is a broader category than `isdecimal()`. It includes decimal characters and also digits that need special handling, like superscript/subscript digits.\n",
    "*   `isnumeric()`: Returns `True` if all characters in the string are numeric characters and there is at least one character. This is the broadest category. It includes digit characters, and all characters that have the Unicode numeric value property (e.g., U+2155, VULGAR FRACTION ONE FIFTH, Roman numerals, currency numerators)."
   ]
  },
  {
   "cell_type": "code",
   "execution_count": null,
   "metadata": {},
   "outputs": [],
   "source": [
    "s1 = \"12345\"       # Basic digits\n",
    "s2 = \"\\u00B2\"      # Superscript two (²)\n",
    "s3 = \"\\u2155\"      # Vulgar fraction one fifth (⅕)\n",
    "s4 = \"\\u0661\\u0662\" # Arabic-Indic digits one and two (١٢)\n",
    "s5 = \"-1.23\"       # Contains non-numeric characters (period, minus)\n",
    "s6 = \"Ⅳ\"          # Roman numeral four\n",
    "\n",
    "def check_numeric_types(s, description):\n",
    "    print(f\"\\nString: '{s}' ({description})\")\n",
    "    print(f\"  isdecimal(): {s.isdecimal()}\")\n",
    "    print(f\"  isdigit():   {s.isdigit()}\")\n",
    "    print(f\"  isnumeric(): {s.isnumeric()}\")\n",
    "\n",
    "check_numeric_types(s1, \"Basic digits\")\n",
    "check_numeric_types(s2, \"Superscript two\")\n",
    "check_numeric_types(s3, \"Vulgar fraction\")\n",
    "check_numeric_types(s4, \"Arabic-Indic digits\")\n",
    "check_numeric_types(s5, \"Floating point number string\")\n",
    "check_numeric_types(s6, \"Roman numeral\")\n",
    "\n",
    "print(\"\\nSummary of True conditions for these examples:\")\n",
    "print(\"s.isdecimal(): Only s1 ('12345') and s4 ('١٢')\")\n",
    "print(\"s.isdigit():   s1 ('12345'), s2 ('²'), and s4 ('١٢')\")\n",
    "print(\"s.isnumeric(): s1 ('12345'), s2 ('²'), s3 ('⅕'), s4 ('١٢'), and s6 ('Ⅳ')\")"
   ]
  },
  {
   "cell_type": "markdown",
   "metadata": {},
   "source": [
    "This notebook has covered a range of additional string methods that provide more fine-grained control over string manipulation, formatting, and validation in Python."
   ]
  }
 ],
 "metadata": {
  "kernelspec": {
   "display_name": "Python 3 (ipykernel)",
   "language": "python",
   "name": "python3"
  },
  "language_info": {
   "codemirror_mode": {
    "name": "ipython",
    "version": 3
   },
   "file_extension": ".py",
   "mimetype": "text/x-python",
   "name": "python",
   "nbconvert_exporter": "python",
   "pygments_lexer": "ipython3",
   "version": "3.9.12"
  }
 },
 "nbformat": 4,
 "nbformat_minor": 5
}