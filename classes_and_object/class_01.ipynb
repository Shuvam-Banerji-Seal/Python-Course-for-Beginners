{
 "cells": [
  {
   "cell_type": "markdown",
   "metadata": {},
   "source": [
    "# Data Structures in Python: Stacks, Queues, and Linked Lists\n",
    "\n",
    "Welcome to this tutorial on fundamental data structures! Data structures are a way of organizing and storing data so that they can be accessed and worked with efficiently. Understanding them is a crucial step in becoming a proficient programmer.\n",
    "\n",
    "In this notebook, we will cover:\n",
    "1.  **Classes and Objects**: The foundation for creating our own data structures.\n",
    "2.  **The Stack**: A Last-In, First-Out (LIFO) data structure.\n",
    "3.  **The Queue**: A First-In, First-Out (FIFO) data structure.\n",
    "4.  **The Linked List**: A dynamic data structure based on nodes and pointers."
   ]
  },
  {
   "cell_type": "markdown",
   "metadata": {},
   "source": [
    "## Part 1: The Foundation - Classes and Objects in Python\n",
    "\n",
    "Before we build our own data structures, we need to understand the tools we'll use to build them: **classes** and **objects**.\n",
    "\n",
    "### What is a Class?\n",
    "A **class** is like a blueprint or a template for creating things. For example, you could have a class called `Car`. This blueprint would define the properties (attributes) that all cars have (like `color`, `brand`, `model`) and the actions (methods) that all cars can perform (like `start_engine()`, `drive()`, `brake()`). The class itself is not a car; it's just the description of what a car is.\n",
    "\n",
    "### What is an Object?\n",
    "An **object** (also called an **instance**) is a specific thing created from a class. If `Car` is the blueprint, then a red Toyota Camry is an object. A blue Ford Mustang is another object. Each object has its own set of attributes based on the class template (e.g., one object's `color` can be 'red' while another's is 'blue').\n",
    "\n",
    "### Key Concepts:\n",
    "-   `class`: The keyword to define a class.\n",
    "-   `__init__(self, ...)`: The special **constructor** method. It's called automatically when a new object is created. It's used to initialize the object's attributes.\n",
    "-   `self`: A special variable that represents the instance of the object itself. It allows you to access the object's attributes and methods from within the class definition. For example, `self.color` refers to the `color` attribute of the specific object being worked on.\n",
    "-   **Attribute**: A variable that belongs to an object (e.g., `my_car.color`).\n",
    "-   **Method**: A function that belongs to an object (e.g., `my_car.drive()`)."
   ]
  },
  {
   "cell_type": "markdown",
   "metadata": {},
   "source": [
    "### Example: A `Dog` Class"
   ]
  },
  {
   "cell_type": "code",
   "execution_count": 1,
   "metadata": {},
   "outputs": [],
   "source": [
    "# 1. Define the class (the blueprint)\n",
    "class Dog:\n",
    "    # The constructor method to initialize a new Dog object\n",
    "    def __init__(self, name, breed, age):\n",
    "        # Attributes\n",
    "        self.name = name\n",
    "        self.breed = breed\n",
    "        self.age = age\n",
    "        print(f\"A new dog named {self.name} has been created!\")\n",
    "\n",
    "    # A method (an action the dog can perform)\n",
    "    def bark(self):\n",
    "        return f\"{self.name} says: Woof!\"\n",
    "    \n",
    "    # Another method\n",
    "    def have_birthday(self):\n",
    "        self.age += 1\n",
    "        return f\"Happy birthday, {self.name}! You are now {self.age} years old.\""
   ]
  },
  {
   "cell_type": "markdown",
   "metadata": {},
   "source": [
    "Now, let's create some `Dog` **objects** from our `Dog` **class**."
   ]
  },
  {
   "cell_type": "code",
   "execution_count": 2,
   "metadata": {},
   "outputs": [
    {
     "name": "stdout",
     "output_type": "stream",
     "text": [
      "A new dog named Buddy has been created!\n",
      "A new dog named Lucy has been created!\n",
      "\n",
      "Buddy is a Golden Retriever and is 3 years old.\n",
      "Lucy is a Poodle and is 5 years old.\n",
      "\n",
      "--- Actions ---\n",
      "Buddy says: Woof!\n",
      "Lucy says: Woof!\n",
      "\n",
      "--- Birthday Time ---\n",
      "Happy birthday, Buddy! You are now 4 years old.\n",
      "Buddy's new age is: 4\n",
      "Lucy's age is still: 5\n"
     ]
    }
   ],
   "source": [
    "# 2. Create objects (instances) from the class\n",
    "dog1 = Dog(\"Buddy\", \"Golden Retriever\", 3)\n",
    "dog2 = Dog(\"Lucy\", \"Poodle\", 5)\n",
    "\n",
    "# 3. Access the attributes of each object\n",
    "print(f\"\\n{dog1.name} is a {dog1.breed} and is {dog1.age} years old.\")\n",
    "print(f\"{dog2.name} is a {dog2.breed} and is {dog2.age} years old.\")\n",
    "\n",
    "# 4. Call the methods of each object\n",
    "print(\"\\n--- Actions ---\")\n",
    "print(dog1.bark())\n",
    "print(dog2.bark())\n",
    "\n",
    "# Let's celebrate Buddy's birthday\n",
    "print(\"\\n--- Birthday Time ---\")\n",
    "print(dog1.have_birthday())\n",
    "print(f\"Buddy's new age is: {dog1.age}\")\n",
    "print(f\"Lucy's age is still: {dog2.age}\")"
   ]
  },
  {
   "cell_type": "markdown",
   "metadata": {},
   "source": [
    "Notice how each object (`dog1`, `dog2`) has its own independent state (name, age, etc.). This concept of bundling data (attributes) and functions (methods) into a self-contained unit is called **encapsulation**, and it's perfect for creating data structures."
   ]
  },
  {
   "cell_type": "markdown",
   "metadata": {},
   "source": [
    "---"
   ]
  },
  {
   "cell_type": "markdown",
   "metadata": {},
   "source": [
    "## Part 2: The Stack\n",
    "\n",
    "A stack is a linear data structure that follows the **Last-In, First-Out (LIFO)** principle. The last element added to the stack will be the first element to be removed.\n",
    "\n",
    "**Analogy:** Think of a stack of plates. You place a new plate on top of the stack, and when you need a plate, you take one from the top. You can't take a plate from the bottom without removing all the plates on top of it first.\n",
    "\n",
    "### Core Operations\n",
    "-   **Push**: Add an element to the top of the stack.\n",
    "-   **Pop**: Remove and return the element from the top of the stack.\n",
    "-   **Peek** (or Top): Return the top element without removing it.\n",
    "-   **isEmpty**: Check if the stack is empty.\n",
    "-   **Size**: Get the number of elements in the stack."
   ]
  },
  {
   "cell_type": "markdown",
   "metadata": {},
   "source": [
    "### Implementation of a Stack using a Python List\n",
    "\n",
    "Python's built-in `list` type makes it very easy to implement a stack. \n",
    "-   `list.append()` can be used for the **push** operation.\n",
    "-   `list.pop()` can be used for the **pop** operation.\n",
    "\n",
    "Let's create a proper `Stack` class that encapsulates this logic."
   ]
  },
  {
   "cell_type": "code",
   "execution_count": 5,
   "metadata": {},
   "outputs": [],
   "source": [
    "class Stack:\n",
    "    \"\"\"A simple Stack implementation using a Python list.\"\"\"\n",
    "    \n",
    "    def __init__(self):\n",
    "        \"\"\"Initializes an empty stack.\"\"\"\n",
    "        self.items = [] # Use a list to store stack items\n",
    "        self.limit = 10 # Optional: Set a limit for the stack size (not enforced in this implementation)\n",
    "\n",
    "    def is_empty(self):\n",
    "        \"\"\"Returns True if the stack is empty, False otherwise.\"\"\"\n",
    "        return len(self.items) == 0\n",
    "    \n",
    "    def is_full(self):\n",
    "        \"\"\"Returns True if the stack is full, False otherwise.\"\"\"\n",
    "        return len(self.items) >= self.limit\n",
    "    \n",
    "    def push(self, item):\n",
    "        \"\"\"Adds an item to the top of the stack.\"\"\"\n",
    "        if self.is_full():\n",
    "            print(\"Stack is full. Cannot push new item.\")\n",
    "            return\n",
    "        else:\n",
    "            print(f\"Current stack: {self.items}\")\n",
    "            self.items.append(item)\n",
    "            print(f\"Pushed {item} onto the stack. Current stack: {self.items}\")\n",
    "        \n",
    "    def pop(self):\n",
    "        \"\"\"Removes and returns the item from the top of the stack.\"\"\"\n",
    "        if self.is_empty():\n",
    "            print(\"Stack is empty. Cannot pop.\")\n",
    "            return None\n",
    "        \n",
    "        item = self.items.pop()\n",
    "        print(f\"Popped {item} from the stack. Current stack: {self.items}\")\n",
    "        return item\n",
    "        \n",
    "    def peek(self):\n",
    "        \"\"\"Returns the top item of the stack without removing it.\"\"\"\n",
    "        if self.is_empty():\n",
    "            print(\"Stack is empty. Cannot peek.\")\n",
    "            return None\n",
    "        \n",
    "        return self.items[-1] # The last item in the list is the top of the stack\n",
    "    \n",
    "    def size(self):\n",
    "        \"\"\"Returns the number of items in the stack.\"\"\"\n",
    "        return len(self.items)"
   ]
  },
  {
   "cell_type": "markdown",
   "metadata": {},
   "source": [
    "### Using Our Stack Class"
   ]
  },
  {
   "cell_type": "code",
   "execution_count": 6,
   "metadata": {},
   "outputs": [
    {
     "name": "stdout",
     "output_type": "stream",
     "text": [
      "Is the stack empty? True\n",
      "\n",
      "Current stack: []\n",
      "Pushed 10 onto the stack. Current stack: [10]\n",
      "Current stack: [10]\n",
      "Pushed hello onto the stack. Current stack: [10, 'hello']\n",
      "Current stack: [10, 'hello']\n",
      "Pushed True onto the stack. Current stack: [10, 'hello', True]\n",
      "\n",
      "Stack size: 3\n",
      "Is the stack empty? False\n",
      "\n",
      "Top item (peek): True\n",
      "Stack size after peek: 3\n",
      "\n",
      "Popped True from the stack. Current stack: [10, 'hello']\n",
      "Popped hello from the stack. Current stack: [10]\n",
      "Popped 10 from the stack. Current stack: []\n",
      "Stack is empty. Cannot pop.\n"
     ]
    }
   ],
   "source": [
    "# Create a new stack object\n",
    "s = Stack()\n",
    "\n",
    "# Check if it's empty\n",
    "print(f\"Is the stack empty? {s.is_empty()}\\n\")\n",
    "\n",
    "# Push some items onto the stack\n",
    "s.push(10)\n",
    "s.push('hello')\n",
    "s.push(True)\n",
    "\n",
    "# Check the size and if it's empty now\n",
    "print(f\"\\nStack size: {s.size()}\")\n",
    "print(f\"Is the stack empty? {s.is_empty()}\\n\")\n",
    "\n",
    "# Peek at the top item\n",
    "top_item = s.peek()\n",
    "print(f\"Top item (peek): {top_item}\")\n",
    "print(f\"Stack size after peek: {s.size()}\\n\") # Size doesn't change\n",
    "\n",
    "# Pop an item\n",
    "s.pop()\n",
    "\n",
    "# Pop another item\n",
    "s.pop()\n",
    "\n",
    "# Pop the last item\n",
    "s.pop()\n",
    "\n",
    "# Try to pop from an empty stack\n",
    "s.pop()"
   ]
  },
  {
   "cell_type": "markdown",
   "metadata": {},
   "source": [
    "---"
   ]
  },
  {
   "cell_type": "markdown",
   "metadata": {},
   "source": [
    "## Part 3: The Queue\n",
    "\n",
    "A queue is a linear data structure that follows the **First-In, First-Out (FIFO)** principle. The first element added to the queue will be the first one to be removed.\n",
    "\n",
    "**Analogy:** Think of a checkout line at a grocery store. The first person to get in line is the first person to be served and leave the line.\n",
    "\n",
    "### Core Operations\n",
    "-   **Enqueue**: Add an element to the back (rear) of the queue.\n",
    "-   **Dequeue**: Remove and return the element from the front of the queue.\n",
    "-   **Peek** (or Front): Return the front element without removing it.\n",
    "-   **isEmpty**: Check if the queue is empty.\n",
    "-   **Size**: Get the number of elements in the queue."
   ]
  },
  {
   "cell_type": "markdown",
   "metadata": {},
   "source": [
    "### Implementation of a Queue\n",
    "\n",
    "We could use a Python `list` for a queue, using `append()` for enqueue and `pop(0)` for dequeue. However, `pop(0)` is **inefficient** because every other element in the list must be shifted one position to the left. For a large queue, this is very slow.\n",
    "\n",
    "A much better way is to use Python's `collections.deque` object (pronounced 'deck'), which stands for \"double-ended queue\". It is specifically designed for fast appends and pops from both ends.\n",
    "\n",
    "-   `deque.append()` for **enqueue** (add to the right).\n",
    "-   `deque.popleft()` for **dequeue** (remove from the left)."
   ]
  },
  {
   "cell_type": "code",
   "execution_count": 7,
   "metadata": {},
   "outputs": [],
   "source": [
    "from collections import deque\n",
    "\n",
    "class Queue:\n",
    "    \"\"\"A Queue implementation using collections.deque for efficiency.\"\"\"\n",
    "    \n",
    "    def __init__(self):\n",
    "        \"\"\"Initializes an empty queue.\"\"\"\n",
    "        self.items = deque([]) # Use a deque object\n",
    "        \n",
    "    def is_empty(self):\n",
    "        \"\"\"Returns True if the queue is empty, False otherwise.\"\"\"\n",
    "        return len(self.items) == 0\n",
    "    \n",
    "    def enqueue(self, item):\n",
    "        \"\"\"Adds an item to the back of the queue.\"\"\"\n",
    "        self.items.append(item)\n",
    "        print(f\"Enqueued {item}. Current queue: {list(self.items)}\")\n",
    "        \n",
    "    def dequeue(self):\n",
    "        \"\"\"Removes and returns the item from the front of the queue.\"\"\"\n",
    "        if self.is_empty():\n",
    "            print(\"Queue is empty. Cannot dequeue.\")\n",
    "            return None\n",
    "        \n",
    "        item = self.items.popleft() # Efficiently remove from the left\n",
    "        print(f\"Dequeued {item}. Current queue: {list(self.items)}\")\n",
    "        return item\n",
    "    \n",
    "    def peek(self):\n",
    "        \"\"\"Returns the front item of the queue without removing it.\"\"\"\n",
    "        if self.is_empty():\n",
    "            print(\"Queue is empty. Cannot peek.\")\n",
    "            return None\n",
    "        \n",
    "        return self.items[0]\n",
    "    \n",
    "    def size(self):\n",
    "        \"\"\"Returns the number of items in the queue.\"\"\"\n",
    "        return len(self.items)"
   ]
  },
  {
   "cell_type": "markdown",
   "metadata": {},
   "source": [
    "### Using Our Queue Class"
   ]
  },
  {
   "cell_type": "code",
   "execution_count": 9,
   "metadata": {},
   "outputs": [
    {
     "name": "stdout",
     "output_type": "stream",
     "text": [
      "Is the queue empty? True\n",
      "\n",
      "Enqueued First. Current queue: ['First']\n",
      "Enqueued Second. Current queue: ['First', 'Second']\n",
      "Enqueued Third. Current queue: ['First', 'Second', 'Third']\n",
      "\n",
      "Queue size: 3\n",
      "Is the queue empty? False\n",
      "\n",
      "Front item (peek): First\n",
      "Queue size after peek: 3\n",
      "\n",
      "Dequeued First. Current queue: ['Second', 'Third']\n",
      "Dequeued Second. Current queue: ['Third']\n",
      "Dequeued Third. Current queue: []\n",
      "Queue is empty. Cannot dequeue.\n"
     ]
    }
   ],
   "source": [
    "# Create a new queue object\n",
    "q = Queue()\n",
    "\n",
    "# Check if it's empty\n",
    "print(f\"Is the queue empty? {q.is_empty()}\\n\")\n",
    "\n",
    "# Enqueue some items (add to the back)\n",
    "q.enqueue('First')\n",
    "q.enqueue('Second')\n",
    "q.enqueue('Third')\n",
    "\n",
    "# Check the size and if it's empty now\n",
    "print(f\"\\nQueue size: {q.size()}\")\n",
    "print(f\"Is the queue empty? {q.is_empty()}\\n\")\n",
    "\n",
    "# Peek at the front item\n",
    "front_item = q.peek()\n",
    "print(f\"Front item (peek): {front_item}\")\n",
    "print(f\"Queue size after peek: {q.size()}\\n\") # Size doesn't change\n",
    "\n",
    "# Dequeue an item (removes from the front)\n",
    "q.dequeue()\n",
    "\n",
    "# Dequeue another item\n",
    "q.dequeue()\n",
    "\n",
    "# Dequeue the last item\n",
    "q.dequeue()\n",
    "\n",
    "# Try to dequeue from an empty queue\n",
    "q.dequeue()"
   ]
  },
  {
   "cell_type": "markdown",
   "metadata": {},
   "source": [
    "---"
   ]
  },
  {
   "cell_type": "markdown",
   "metadata": {},
   "source": [
    "## Part 4: The Linked List\n",
    "\n",
    "A linked list is a linear data structure where elements are not stored at contiguous memory locations. Instead, the elements are linked using pointers.\n",
    "\n",
    "**Analogy:** Think of a scavenger hunt. Each clue (`Node`) contains some information (`data`) and tells you where to find the next clue (`next` pointer). The whole scavenger hunt is the `LinkedList`, and you start at the first clue (the `head`).\n",
    "\n",
    "### Core Components\n",
    "\n",
    "1.  **Node**: The basic building block of a linked list. Each node contains:\n",
    "    -   **Data**: The value stored in the node.\n",
    "    -   **Next**: A pointer or reference to the next node in the sequence. For the last node, this pointer is `None` (or `null`).\n",
    "\n",
    "2.  **LinkedList**: The main class that holds the entire list. It only needs to keep track of the **head** node (the very first node). From the head, you can traverse the entire list."
   ]
  },
  {
   "cell_type": "markdown",
   "metadata": {},
   "source": [
    "### Implementation of a Linked List\n",
    "\n",
    "We need to build two classes: `Node` and `LinkedList`."
   ]
  },
  {
   "cell_type": "code",
   "execution_count": null,
   "metadata": {},
   "outputs": [],
   "source": [
    "# Step 1: Create the Node class\n",
    "class Node:\n",
    "    \"\"\"An object for storing a single node of a linked list.\"\"\"\n",
    "    def __init__(self, data):\n",
    "        self.data = data   # The data held by the node\n",
    "        self.next = None   # The reference to the next node\n",
    "\n",
    "# Step 2: Create the LinkedList class\n",
    "class LinkedList:\n",
    "    \"\"\"The main class for the linked list operations.\"\"\"\n",
    "    def __init__(self):\n",
    "        self.head = None # The linked list is initially empty\n",
    "        \n",
    "    def is_empty(self):\n",
    "        return self.head is None\n",
    "\n",
    "    def append(self, data):\n",
    "        \"\"\"Adds a new node with data to the end of the list.\"\"\"\n",
    "        new_node = Node(data)\n",
    "        \n",
    "        # If the list is empty, the new node becomes the head\n",
    "        if self.is_empty():\n",
    "            self.head = new_node\n",
    "            return\n",
    "        \n",
    "        # Otherwise, traverse to the end of the list\n",
    "        last_node = self.head\n",
    "        while last_node.next:\n",
    "            last_node = last_node.next\n",
    "            \n",
    "        # Attach the new node at the end\n",
    "        last_node.next = new_node\n",
    "        \n",
    "    def prepend(self, data):\n",
    "        \"\"\"Adds a new node with data to the beginning of the list.\"\"\"\n",
    "        new_node = Node(data)\n",
    "        new_node.next = self.head # The new node points to the old head\n",
    "        self.head = new_node      # The new node becomes the new head\n",
    "        \n",
    "    def delete_node(self, key):\n",
    "        \"\"\"Deletes the first node containing the given key (data).\"\"\"\n",
    "        current_node = self.head\n",
    "        \n",
    "        # Case 1: The node to be deleted is the head\n",
    "        if current_node and current_node.data == key:\n",
    "            self.head = current_node.next\n",
    "            current_node = None # Free the old head\n",
    "            return\n",
    "        \n",
    "        # Case 2: The node is somewhere else in the list\n",
    "        previous_node = None\n",
    "        while current_node and current_node.data != key:\n",
    "            previous_node = current_node\n",
    "            current_node = current_node.next\n",
    "            \n",
    "        # If the key was not found in the list\n",
    "        if current_node is None:\n",
    "            print(f\"Error: Data '{key}' not found in the list.\")\n",
    "            return\n",
    "        \n",
    "        # Unlink the node from the list\n",
    "        previous_node.next = current_node.next\n",
    "        current_node = None\n",
    "        \n",
    "    def print_list(self):\n",
    "        \"\"\"Prints the contents of the linked list.\"\"\"\n",
    "        elements = []\n",
    "        current_node = self.head\n",
    "        while current_node:\n",
    "            elements.append(str(current_node.data))\n",
    "            current_node = current_node.next\n",
    "        print(\" -> \".join(elements) + \" -> None\")"
   ]
  },
  {
   "cell_type": "markdown",
   "metadata": {},
   "source": [
    "### Using Our Linked List Class"
   ]
  },
  {
   "cell_type": "code",
   "execution_count": null,
   "metadata": {},
   "outputs": [],
   "source": [
    "# Create a new Linked List\n",
    "llist = LinkedList()\n",
    "\n",
    "# Append nodes to the list\n",
    "print(\"Appending nodes...\")\n",
    "llist.append(10)\n",
    "llist.append(20)\n",
    "llist.append(30)\n",
    "llist.print_list()\n",
    "\n",
    "# Prepend a node to the beginning\n",
    "print(\"\\nPrepending a node...\")\n",
    "llist.prepend(5)\n",
    "llist.print_list()\n",
    "\n",
    "# Delete a node from the middle\n",
    "print(\"\\nDeleting node with data 20...\")\n",
    "llist.delete_node(20)\n",
    "llist.print_list()\n",
    "\n",
    "# Delete the head node\n",
    "print(\"\\nDeleting the head node (data 5)...\")\n",
    "llist.delete_node(5)\n",
    "llist.print_list()\n",
    "\n",
    "# Delete the tail node\n",
    "print(\"\\nDeleting the tail node (data 30)...\")\n",
    "llist.delete_node(30)\n",
    "llist.print_list()\n",
    "\n",
    "# Try to delete a node that doesn't exist\n",
    "print(\"\\nAttempting to delete a non-existent node...\")\n",
    "llist.delete_node(99)\n",
    "llist.print_list()"
   ]
  },
  {
   "cell_type": "markdown",
   "metadata": {},
   "source": [
    "## Conclusion\n",
    "\n",
    "Congratulations! You've now learned about and implemented three of the most fundamental data structures in computer science:\n",
    "\n",
    "-   **Stack (LIFO)**: Great for problems involving reversing order, undo mechanisms, or parsing expressions. Implemented easily with a Python `list`.\n",
    "-   **Queue (FIFO)**: Perfect for managing tasks in order, like a printer queue or breadth-first search in graphs. Best implemented with `collections.deque` for efficiency.\n",
    "-   **Linked List**: A flexible structure that allows for efficient insertions and deletions in the middle of a sequence (compared to an array). It's the foundation for many other complex data structures.\n",
    "\n",
    "Understanding these concepts, especially how to build them using classes, will provide a solid foundation for tackling more complex programming challenges."
   ]
  }
 ],
 "metadata": {
  "kernelspec": {
   "display_name": ".venv",
   "language": "python",
   "name": "python3"
  },
  "language_info": {
   "codemirror_mode": {
    "name": "ipython",
    "version": 3
   },
   "file_extension": ".py",
   "mimetype": "text/x-python",
   "name": "python",
   "nbconvert_exporter": "python",
   "pygments_lexer": "ipython3",
   "version": "3.13.5"
  }
 },
 "nbformat": 4,
 "nbformat_minor": 4
}
