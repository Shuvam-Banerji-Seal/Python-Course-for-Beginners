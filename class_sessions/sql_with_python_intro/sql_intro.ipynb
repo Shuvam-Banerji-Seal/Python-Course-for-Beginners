{
 "cells": [
  {
   "cell_type": "markdown",
   "id": "75774e84",
   "metadata": {},
   "source": [
    "# Introduction to Running SQL with Python using sqlite3\n",
    "\n",
    "This notebook provides an introduction to using SQL databases in Python with the sqlite3 module. SQLite is a lightweight, file-based database that doesn't require a separate server process. We'll cover the basics of connecting to a database, creating tables, inserting data, querying, updating, and deleting records."
   ]
  },
  {
   "cell_type": "markdown",
   "id": "4e194abb",
   "metadata": {},
   "source": [
    "## Import Required Libraries\n",
    "\n",
    "To interact with SQLite databases in Python, we need to import the `sqlite3` module. This module is included in Python's standard library, so no additional installation is required."
   ]
  },
  {
   "cell_type": "code",
   "execution_count": 1,
   "id": "f67b631a",
   "metadata": {},
   "outputs": [],
   "source": [
    "import sqlite3"
   ]
  },
  {
   "cell_type": "markdown",
   "id": "4587b0ed",
   "metadata": {},
   "source": [
    "## Connect to SQLite Database\n",
    "\n",
    "To work with a database, we first need to establish a connection. The `sqlite3.connect()` function creates a connection to the specified database file. If the file doesn't exist, SQLite will create it. We also create a cursor object, which allows us to execute SQL commands and fetch results."
   ]
  },
  {
   "cell_type": "code",
   "execution_count": 3,
   "id": "174ff984",
   "metadata": {},
   "outputs": [
    {
     "name": "stdout",
     "output_type": "stream",
     "text": [
      "Connected to SQLite database successfully!\n"
     ]
    }
   ],
   "source": [
    "# Connect to the database (creates 'example.db' if it doesn't exist)\n",
    "conn = sqlite3.connect('example.db')\n",
    "\n",
    "# Create a cursor object to execute SQL commands\n",
    "cursor = conn.cursor()\n",
    "\n",
    "print(\"Connected to SQLite database successfully!\")"
   ]
  },
  {
   "cell_type": "markdown",
   "id": "f8189562",
   "metadata": {},
   "source": [
    "## Create a Table\n",
    "\n",
    "Tables are the basic structure for storing data in a database. We use the `CREATE TABLE` SQL statement to define a table's structure, including column names and their data types. The `IF NOT EXISTS` clause ensures the table is only created if it doesn't already exist."
   ]
  },
  {
   "cell_type": "code",
   "execution_count": 7,
   "id": "67b78955",
   "metadata": {},
   "outputs": [
    {
     "name": "stdout",
     "output_type": "stream",
     "text": [
      "Table 'students' created successfully!\n"
     ]
    }
   ],
   "source": [
    "# Create a table for storing student information\n",
    "cursor.execute('''\n",
    "CREATE TABLE IF NOT EXISTS students (\n",
    "    id INTEGER PRIMARY KEY,\n",
    "    name TEXT NOT NULL,\n",
    "    age INTEGER\n",
    ")\n",
    "''')\n",
    "\n",
    "print(\"Table 'students' created successfully!\")"
   ]
  },
  {
   "cell_type": "markdown",
   "id": "78cc6352",
   "metadata": {},
   "source": [
    "## Insert Data into the Table\n",
    "\n",
    "To add data to a table, we use the `INSERT INTO` SQL statement. Using parameterized queries (with `?` placeholders) is a best practice as it prevents SQL injection attacks and handles data types automatically. After inserting, we call `conn.commit()` to save the changes."
   ]
  },
  {
   "cell_type": "code",
   "execution_count": 8,
   "id": "882d7f60",
   "metadata": {},
   "outputs": [
    {
     "name": "stdout",
     "output_type": "stream",
     "text": [
      "Data inserted successfully!\n"
     ]
    }
   ],
   "source": [
    "# Insert some sample data\n",
    "cursor.execute(\"INSERT INTO students (name, age) VALUES (?, ?)\", (\"Alice\", 20))\n",
    "cursor.execute(\"INSERT INTO students (name, age) VALUES (?, ?)\", (\"Bob\", 22))\n",
    "cursor.execute(\"INSERT INTO students (name, age) VALUES (?, ?)\", (\"Charlie\", 19))\n",
    "\n",
    "# Commit the changes to the database\n",
    "conn.commit()\n",
    "\n",
    "print(\"Data inserted successfully!\")"
   ]
  },
  {
   "cell_type": "markdown",
   "id": "b686f52c",
   "metadata": {},
   "source": [
    "## Query Data from the Table\n",
    "\n",
    "To retrieve data from the database, we use the `SELECT` SQL statement. The `cursor.fetchall()` method returns all the rows from the query result as a list of tuples. We can then iterate through the results to display or process the data."
   ]
  },
  {
   "cell_type": "code",
   "execution_count": 9,
   "id": "f87d60cf",
   "metadata": {},
   "outputs": [
    {
     "name": "stdout",
     "output_type": "stream",
     "text": [
      "[(1, 'Alice', 20), (2, 'Bob', 22), (3, 'Charlie', 19)]\n",
      "Students in the database:\n",
      "ID: 1, Name: Alice, Age: 20\n",
      "ID: 2, Name: Bob, Age: 22\n",
      "ID: 3, Name: Charlie, Age: 19\n"
     ]
    }
   ],
   "source": [
    "# Query all data from the students table\n",
    "cursor.execute(\"SELECT * FROM students\")\n",
    "rows = cursor.fetchall()\n",
    "print(rows)\n",
    "print(\"Students in the database:\")\n",
    "for row in rows:\n",
    "    print(f\"ID: {row[0]}, Name: {row[1]}, Age: {row[2]}\")"
   ]
  },
  {
   "cell_type": "markdown",
   "id": "02546279",
   "metadata": {},
   "source": [
    "## Update Data in the Table\n",
    "\n",
    "To modify existing data, we use the `UPDATE` SQL statement. The `WHERE` clause specifies which rows to update. Always use `WHERE` clauses carefully to avoid updating unintended records. Remember to commit changes after updating."
   ]
  },
  {
   "cell_type": "code",
   "execution_count": 24,
   "id": "db148c33",
   "metadata": {},
   "outputs": [
    {
     "name": "stdout",
     "output_type": "stream",
     "text": [
      "None\n",
      "Alice's age updated successfully!\n",
      "Updated record: ID: 1, Name: Alice, Age: 21\n"
     ]
    }
   ],
   "source": [
    "# Update Alice's age\n",
    "cursor.execute(\"UPDATE students SET age = ? WHERE name = ?\", (21, \"Alice\"))\n",
    "conn.commit()\n",
    "new_update = cursor.fetchone()\n",
    "print(new_update)\n",
    "print(\"Alice's age updated successfully!\")\n",
    "\n",
    "# Verify the update\n",
    "cursor.execute(\"SELECT * FROM students WHERE name = ?\", (\"Alice\",))\n",
    "updated_row = cursor.fetchone()\n",
    "print(f\"Updated record: ID: {updated_row[0]}, Name: {updated_row[1]}, Age: {updated_row[2]}\")"
   ]
  },
  {
   "cell_type": "markdown",
   "id": "a93c28f5",
   "metadata": {},
   "source": [
    "## Delete Data from the Table\n",
    "\n",
    "To remove data from a table, we use the `DELETE` SQL statement. Like with updates, the `WHERE` clause is crucial to specify which records to delete. Omitting the `WHERE` clause would delete all records in the table. Always commit after deleting."
   ]
  },
  {
   "cell_type": "code",
   "execution_count": 7,
   "id": "4c06d707",
   "metadata": {},
   "outputs": [
    {
     "name": "stdout",
     "output_type": "stream",
     "text": [
      "Charlie's record deleted successfully!\n",
      "Remaining students:\n",
      "ID: 1, Name: Alice, Age: 21\n",
      "ID: 2, Name: Bob, Age: 22\n"
     ]
    }
   ],
   "source": [
    "# Delete Charlie's record\n",
    "cursor.execute(\"DELETE FROM students WHERE name = ?\", (\"Charlie\",))\n",
    "conn.commit()\n",
    "\n",
    "print(\"Charlie's record deleted successfully!\")\n",
    "\n",
    "# Show remaining records\n",
    "cursor.execute(\"SELECT * FROM students\")\n",
    "remaining_rows = cursor.fetchall()\n",
    "print(\"Remaining students:\")\n",
    "for row in remaining_rows:\n",
    "    print(f\"ID: {row[0]}, Name: {row[1]}, Age: {row[2]}\")"
   ]
  },
  {
   "cell_type": "markdown",
   "id": "022e1cf1",
   "metadata": {},
   "source": [
    "## Close the Database Connection\n",
    "\n",
    "It's important to properly close the database connection when you're done working with it. This frees up system resources and ensures that all pending transactions are completed. Closing the connection also closes the cursor automatically."
   ]
  },
  {
   "cell_type": "code",
   "execution_count": 25,
   "id": "767c5137",
   "metadata": {},
   "outputs": [
    {
     "name": "stdout",
     "output_type": "stream",
     "text": [
      "Database connection closed successfully!\n"
     ]
    }
   ],
   "source": [
    "# Close the database connection\n",
    "conn.close()\n",
    "\n",
    "print(\"Database connection closed successfully!\")"
   ]
  }
 ],
 "metadata": {
  "kernelspec": {
   "display_name": ".global",
   "language": "python",
   "name": "python3"
  },
  "language_info": {
   "codemirror_mode": {
    "name": "ipython",
    "version": 3
   },
   "file_extension": ".py",
   "mimetype": "text/x-python",
   "name": "python",
   "nbconvert_exporter": "python",
   "pygments_lexer": "ipython3",
   "version": "3.13.7"
  }
 },
 "nbformat": 4,
 "nbformat_minor": 5
}
