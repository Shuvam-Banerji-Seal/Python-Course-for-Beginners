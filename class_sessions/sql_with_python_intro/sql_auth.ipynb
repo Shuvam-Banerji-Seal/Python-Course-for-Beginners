{
 "cells": [
  {
   "cell_type": "markdown",
   "id": "fe3231ef",
   "metadata": {},
   "source": [
    "# User Authentication with SQL in Python\n",
    "\n",
    "This notebook demonstrates how to implement user signup and login functionality using SQLite in Python. We'll cover password hashing for security, user registration, and authentication."
   ]
  },
  {
   "cell_type": "markdown",
   "id": "95a9f8e0",
   "metadata": {},
   "source": [
    "## Import Required Libraries\n",
    "\n",
    "We'll use sqlite3 for database operations and hashlib for secure password hashing."
   ]
  },
  {
   "cell_type": "code",
   "execution_count": 1,
   "id": "65898c32",
   "metadata": {},
   "outputs": [],
   "source": [
    "import sqlite3\n",
    "import hashlib\n",
    "import os"
   ]
  },
  {
   "cell_type": "markdown",
   "id": "67f4f168",
   "metadata": {},
   "source": [
    "## Connect to Database\n",
    "\n",
    "We'll create a database for user authentication."
   ]
  },
  {
   "cell_type": "code",
   "execution_count": 2,
   "id": "7da02ed8",
   "metadata": {},
   "outputs": [
    {
     "name": "stdout",
     "output_type": "stream",
     "text": [
      "Connected to authentication database successfully!\n"
     ]
    }
   ],
   "source": [
    "# Connect to the authentication database\n",
    "conn = sqlite3.connect('auth.db')\n",
    "cursor = conn.cursor()\n",
    "\n",
    "print(\"Connected to authentication database successfully!\")"
   ]
  },
  {
   "cell_type": "markdown",
   "id": "410aaf62",
   "metadata": {},
   "source": [
    "## Create Users Table\n",
    "\n",
    "We'll create a table to store user information with hashed passwords for security."
   ]
  },
  {
   "cell_type": "code",
   "execution_count": 3,
   "id": "b1b79ff0",
   "metadata": {},
   "outputs": [
    {
     "name": "stdout",
     "output_type": "stream",
     "text": [
      "Users table created successfully!\n"
     ]
    }
   ],
   "source": [
    "# Create users table\n",
    "cursor.execute('''\n",
    "CREATE TABLE IF NOT EXISTS users (\n",
    "    user_id INTEGER PRIMARY KEY,\n",
    "    username TEXT UNIQUE NOT NULL,\n",
    "    password_hash TEXT NOT NULL,\n",
    "    email TEXT UNIQUE,\n",
    "    created_at DATETIME DEFAULT CURRENT_TIMESTAMP\n",
    ")\n",
    "''')\n",
    "\n",
    "print(\"Users table created successfully!\")"
   ]
  },
  {
   "cell_type": "markdown",
   "id": "ccb27a19",
   "metadata": {},
   "source": [
    "## Password Hashing Function\n",
    "\n",
    "We'll create a function to securely hash passwords using SHA-256 with a salt."
   ]
  },
  {
   "cell_type": "code",
   "execution_count": 4,
   "id": "382314b6",
   "metadata": {},
   "outputs": [
    {
     "name": "stdout",
     "output_type": "stream",
     "text": [
      "Password hashing functions defined!\n"
     ]
    }
   ],
   "source": [
    "def hash_password(password, salt=None):\n",
    "    \"\"\"Hash a password with a salt for security.\"\"\"\n",
    "    if salt is None:\n",
    "        salt = os.urandom(32)  # Generate a random salt\n",
    "        print(f\"The random salt generated: {salt}\")\n",
    "    else:\n",
    "        salt = salt.encode('utf-8') if isinstance(salt, str) else salt\n",
    "        print(f\"The random salt generated: {salt}\")\n",
    "\n",
    "    # Hash the password with the salt\n",
    "    hashed = hashlib.pbkdf2_hmac('sha256', password.encode('utf-8'), salt, 100000)\n",
    "\n",
    "    # Return salt + hash\n",
    "    return salt + hashed\n",
    "\n",
    "def verify_password(stored_hash, password):\n",
    "    \"\"\"Verify a password against its hash.\"\"\"\n",
    "    salt = stored_hash[:32]  # First 32 bytes are the salt\n",
    "    expected_hash = hash_password(password, salt)\n",
    "    return stored_hash == expected_hash\n",
    "\n",
    "print(\"Password hashing functions defined!\")"
   ]
  },
  {
   "cell_type": "markdown",
   "id": "cda40eb6",
   "metadata": {},
   "source": [
    "## User Signup Function\n",
    "\n",
    "Create a function to register new users with validation."
   ]
  },
  {
   "cell_type": "code",
   "execution_count": 5,
   "id": "f5735655",
   "metadata": {},
   "outputs": [
    {
     "name": "stdout",
     "output_type": "stream",
     "text": [
      "Signup function defined!\n"
     ]
    }
   ],
   "source": [
    "def signup(username, password, email):\n",
    "    \"\"\"Register a new user.\"\"\"\n",
    "    try:\n",
    "        # Check if username already exists\n",
    "        cursor.execute(\"SELECT user_id FROM users WHERE username = ?\", (username,))\n",
    "        if cursor.fetchone():\n",
    "            return False, \"Username already exists\"\n",
    "\n",
    "        # Check if email already exists\n",
    "        cursor.execute(\"SELECT user_id FROM users WHERE email = ?\", (email,))\n",
    "        if cursor.fetchone():\n",
    "            return False, \"Email already exists\"\n",
    "\n",
    "        # Hash the password\n",
    "        password_hash = hash_password(password)\n",
    "\n",
    "        # Insert the new user\n",
    "        cursor.execute(\"INSERT INTO users (username, password_hash, email) VALUES (?, ?, ?)\",\n",
    "                      (username, password_hash, email))\n",
    "        conn.commit()\n",
    "\n",
    "        return True, \"User registered successfully\"\n",
    "\n",
    "    except sqlite3.Error as e:\n",
    "        return False, f\"Database error: {e}\"\n",
    "\n",
    "print(\"Signup function defined!\")"
   ]
  },
  {
   "cell_type": "markdown",
   "id": "f3269641",
   "metadata": {},
   "source": [
    "## User Login Function\n",
    "\n",
    "Create a function to authenticate existing users."
   ]
  },
  {
   "cell_type": "code",
   "execution_count": 6,
   "id": "16c2b2c6",
   "metadata": {},
   "outputs": [
    {
     "name": "stdout",
     "output_type": "stream",
     "text": [
      "Login function defined!\n"
     ]
    }
   ],
   "source": [
    "def login(username, password):\n",
    "    \"\"\"Authenticate a user.\"\"\"\n",
    "    try:\n",
    "        # Get the user's stored hash\n",
    "        cursor.execute(\"SELECT password_hash FROM users WHERE username = ?\", (username,))\n",
    "        result = cursor.fetchone()\n",
    "\n",
    "        if not result:\n",
    "            return False, \"User not found\"\n",
    "\n",
    "        stored_hash = result[0]\n",
    "\n",
    "        # Verify the password\n",
    "        if verify_password(stored_hash, password):\n",
    "            return True, \"Login successful\"\n",
    "        else:\n",
    "            return False, \"Invalid password\"\n",
    "\n",
    "    except sqlite3.Error as e:\n",
    "        return False, f\"Database error: {e}\"\n",
    "\n",
    "print(\"Login function defined!\")"
   ]
  },
  {
   "cell_type": "markdown",
   "id": "35c8ba48",
   "metadata": {},
   "source": [
    "## Testing Signup and Login\n",
    "\n",
    "Let's test the authentication functions with some example users."
   ]
  },
  {
   "cell_type": "code",
   "execution_count": 7,
   "id": "df9feb40",
   "metadata": {},
   "outputs": [
    {
     "name": "stdout",
     "output_type": "stream",
     "text": [
      "Testing signup...\n",
      "The random salt generated: b\"\\xfa\\xd6\\xb9)\\x14\\x01\\x88\\xfa\\x88Q'\\x86\\x91.\\x17O\\xe0\\x87o\\xe8\\x17\\x19\\xf3#D\\xd7\\xbb\\x92kEl\\xdf\"\n",
      "Signup result: User registered successfully\n",
      "The random salt generated: b'V\\xc4,\\xff\\xa3BT\\x81\\xf3\\xa5\\xcd\\xb8j\\xc7\\x8bH \\xf6\\xd1\\x07h\\x99\\x18\\x00\\x1c\\x9a\\xce\\xef\\xc7@\\xee*'\n",
      "Signup result: User registered successfully\n",
      "Duplicate username result: Username already exists\n",
      "\n",
      "Testing login...\n",
      "The random salt generated: b\"\\xfa\\xd6\\xb9)\\x14\\x01\\x88\\xfa\\x88Q'\\x86\\x91.\\x17O\\xe0\\x87o\\xe8\\x17\\x19\\xf3#D\\xd7\\xbb\\x92kEl\\xdf\"\n",
      "Login result for alice: Login successful\n",
      "The random salt generated: b\"\\xfa\\xd6\\xb9)\\x14\\x01\\x88\\xfa\\x88Q'\\x86\\x91.\\x17O\\xe0\\x87o\\xe8\\x17\\x19\\xf3#D\\xd7\\xbb\\x92kEl\\xdf\"\n",
      "Wrong password result: Invalid password\n",
      "Non-existent user result: User not found\n",
      "The random salt generated: b'V\\xc4,\\xff\\xa3BT\\x81\\xf3\\xa5\\xcd\\xb8j\\xc7\\x8bH \\xf6\\xd1\\x07h\\x99\\x18\\x00\\x1c\\x9a\\xce\\xef\\xc7@\\xee*'\n",
      "Login result for bob: Login successful\n",
      "Signup result: User registered successfully\n",
      "Duplicate username result: Username already exists\n",
      "\n",
      "Testing login...\n",
      "The random salt generated: b\"\\xfa\\xd6\\xb9)\\x14\\x01\\x88\\xfa\\x88Q'\\x86\\x91.\\x17O\\xe0\\x87o\\xe8\\x17\\x19\\xf3#D\\xd7\\xbb\\x92kEl\\xdf\"\n",
      "Login result for alice: Login successful\n",
      "The random salt generated: b\"\\xfa\\xd6\\xb9)\\x14\\x01\\x88\\xfa\\x88Q'\\x86\\x91.\\x17O\\xe0\\x87o\\xe8\\x17\\x19\\xf3#D\\xd7\\xbb\\x92kEl\\xdf\"\n",
      "Wrong password result: Invalid password\n",
      "Non-existent user result: User not found\n",
      "The random salt generated: b'V\\xc4,\\xff\\xa3BT\\x81\\xf3\\xa5\\xcd\\xb8j\\xc7\\x8bH \\xf6\\xd1\\x07h\\x99\\x18\\x00\\x1c\\x9a\\xce\\xef\\xc7@\\xee*'\n",
      "Login result for bob: Login successful\n"
     ]
    }
   ],
   "source": [
    "# Test signup\n",
    "print(\"Testing signup...\")\n",
    "success, message = signup(\"alice\", \"password123\", \"alice@example.com\")\n",
    "print(f\"Signup result: {message}\")\n",
    "\n",
    "success, message = signup(\"bob\", \"securepass\", \"bob@example.com\")\n",
    "print(f\"Signup result: {message}\")\n",
    "\n",
    "# Try to signup with existing username\n",
    "success, message = signup(\"alice\", \"differentpass\", \"alice2@example.com\")\n",
    "print(f\"Duplicate username result: {message}\")\n",
    "\n",
    "print(\"\\nTesting login...\")\n",
    "# Test login\n",
    "success, message = login(\"alice\", \"password123\")\n",
    "print(f\"Login result for alice: {message}\")\n",
    "\n",
    "success, message = login(\"alice\", \"wrongpassword\")\n",
    "print(f\"Wrong password result: {message}\")\n",
    "\n",
    "success, message = login(\"nonexistent\", \"password\")\n",
    "print(f\"Non-existent user result: {message}\")\n",
    "\n",
    "success, message = login(\"bob\", \"securepass\")\n",
    "print(f\"Login result for bob: {message}\")"
   ]
  },
  {
   "cell_type": "markdown",
   "id": "c840719a",
   "metadata": {},
   "source": [
    "## Close Database Connection\n",
    "\n",
    "Always close the database connection when done."
   ]
  },
  {
   "cell_type": "code",
   "execution_count": 8,
   "id": "2baa5d41",
   "metadata": {},
   "outputs": [
    {
     "name": "stdout",
     "output_type": "stream",
     "text": [
      "Database connection closed successfully!\n"
     ]
    }
   ],
   "source": [
    "# Close the database connection\n",
    "conn.close()\n",
    "\n",
    "print(\"Database connection closed successfully!\")"
   ]
  }
 ],
 "metadata": {
  "kernelspec": {
   "display_name": ".global",
   "language": "python",
   "name": "python3"
  },
  "language_info": {
   "codemirror_mode": {
    "name": "ipython",
    "version": 3
   },
   "file_extension": ".py",
   "mimetype": "text/x-python",
   "name": "python",
   "nbconvert_exporter": "python",
   "pygments_lexer": "ipython3",
   "version": "3.13.5"
  }
 },
 "nbformat": 4,
 "nbformat_minor": 5
}
