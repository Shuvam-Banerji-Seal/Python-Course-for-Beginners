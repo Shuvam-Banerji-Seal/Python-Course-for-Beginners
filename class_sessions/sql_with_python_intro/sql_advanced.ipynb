{
 "cells": [
  {
   "cell_type": "markdown",
   "id": "a577b627",
   "metadata": {},
   "source": [
    "# Advanced SQL with Python using sqlite3\n",
    "\n",
    "This notebook continues from the introductory SQL notebook and introduces more advanced SQL concepts including multiple tables, foreign keys, joins, aggregations, and subqueries. We'll work with a school database that has students, courses, and enrollments."
   ]
  },
  {
   "cell_type": "markdown",
   "id": "c409b3b5",
   "metadata": {},
   "source": [
    "## Import Required Libraries and Connect to Database\n",
    "\n",
    "We'll import sqlite3 and connect to a new database file called 'school.db'."
   ]
  },
  {
   "cell_type": "code",
   "execution_count": 1,
   "id": "3dd809a4",
   "metadata": {},
   "outputs": [
    {
     "name": "stdout",
     "output_type": "stream",
     "text": [
      "Connected to school database successfully!\n"
     ]
    }
   ],
   "source": [
    "import sqlite3\n",
    "\n",
    "# Connect to the school database\n",
    "conn = sqlite3.connect('school.db')\n",
    "cursor = conn.cursor()\n",
    "\n",
    "print(\"Connected to school database successfully!\")"
   ]
  },
  {
   "cell_type": "markdown",
   "id": "9fc42418",
   "metadata": {},
   "source": [
    "## Creating Related Tables with Foreign Keys\n",
    "\n",
    "We'll create three tables:\n",
    "- `students`: Basic student information\n",
    "- `courses`: Course details\n",
    "- `enrollments`: Links students to courses with grades (many-to-many relationship)\n",
    "\n",
    "Foreign keys ensure referential integrity - you can't enroll a non-existent student in a course."
   ]
  },
  {
   "cell_type": "code",
   "execution_count": 2,
   "id": "0d38685c",
   "metadata": {},
   "outputs": [
    {
     "name": "stdout",
     "output_type": "stream",
     "text": [
      "Tables created successfully with foreign key relationships!\n"
     ]
    }
   ],
   "source": [
    "# Create students table\n",
    "cursor.execute('''\n",
    "CREATE TABLE IF NOT EXISTS students (\n",
    "    student_id INTEGER PRIMARY KEY,\n",
    "    name TEXT NOT NULL,\n",
    "    email TEXT UNIQUE,\n",
    "    enrollment_year INTEGER\n",
    ")\n",
    "''')\n",
    "\n",
    "# Create courses table\n",
    "cursor.execute('''\n",
    "CREATE TABLE IF NOT EXISTS courses (\n",
    "    course_id INTEGER PRIMARY KEY,\n",
    "    course_name TEXT NOT NULL,\n",
    "    instructor TEXT,\n",
    "    credits INTEGER\n",
    ")\n",
    "''')\n",
    "\n",
    "# Create enrollments table with foreign keys\n",
    "cursor.execute('''\n",
    "CREATE TABLE IF NOT EXISTS enrollments (\n",
    "    enrollment_id INTEGER PRIMARY KEY,\n",
    "    student_id INTEGER,\n",
    "    course_id INTEGER,\n",
    "    grade TEXT,\n",
    "    enrollment_date DATE,\n",
    "    FOREIGN KEY (student_id) REFERENCES students (student_id),\n",
    "    FOREIGN KEY (course_id) REFERENCES courses (course_id)\n",
    ")\n",
    "''')\n",
    "\n",
    "print(\"Tables created successfully with foreign key relationships!\")"
   ]
  },
  {
   "cell_type": "markdown",
   "id": "45e95f80",
   "metadata": {},
   "source": [
    "## Inserting Data into Related Tables\n",
    "\n",
    "We'll add sample data to all three tables, maintaining referential integrity."
   ]
  },
  {
   "cell_type": "code",
   "execution_count": 3,
   "id": "c3a78aa4",
   "metadata": {},
   "outputs": [
    {
     "name": "stdout",
     "output_type": "stream",
     "text": [
      "Sample data inserted successfully!\n"
     ]
    }
   ],
   "source": [
    "# Insert students\n",
    "students_data = [\n",
    "    (1, 'Alice Johnson', 'alice@email.com', 2023),\n",
    "    (2, 'Bob Smith', 'bob@email.com', 2023),\n",
    "    (3, 'Charlie Brown', 'charlie@email.com', 2022),\n",
    "    (4, 'Diana Prince', 'diana@email.com', 2024)\n",
    "]\n",
    "cursor.executemany(\"INSERT OR IGNORE INTO students VALUES (?, ?, ?, ?)\", students_data)\n",
    "\n",
    "# Insert courses\n",
    "courses_data = [\n",
    "    (1, 'Introduction to Python', 'Dr. Smith', 3),\n",
    "    (2, 'Database Systems', 'Prof. Johnson', 4),\n",
    "    (3, 'Web Development', 'Dr. Davis', 3),\n",
    "    (4, 'Data Structures', 'Prof. Wilson', 4)\n",
    "]\n",
    "cursor.executemany(\"INSERT OR IGNORE INTO courses VALUES (?, ?, ?, ?)\", courses_data)\n",
    "\n",
    "# Insert enrollments\n",
    "enrollments_data = [\n",
    "    (1, 1, 1, 'A', '2023-09-01'),\n",
    "    (2, 1, 2, 'B+', '2023-09-01'),\n",
    "    (3, 2, 1, 'A-', '2023-09-01'),\n",
    "    (4, 2, 3, 'B', '2023-09-01'),\n",
    "    (5, 3, 2, 'A', '2022-09-01'),\n",
    "    (6, 3, 4, 'B+', '2022-09-01'),\n",
    "    (7, 4, 1, 'A', '2024-09-01'),\n",
    "    (8, 4, 3, 'A-', '2024-09-01')\n",
    "]\n",
    "cursor.executemany(\"INSERT OR IGNORE INTO enrollments VALUES (?, ?, ?, ?, ?)\", enrollments_data)\n",
    "\n",
    "conn.commit()\n",
    "print(\"Sample data inserted successfully!\")"
   ]
  },
  {
   "cell_type": "markdown",
   "id": "900b9a5b",
   "metadata": {},
   "source": [
    "## INNER JOIN - Combining Data from Multiple Tables\n",
    "\n",
    "An INNER JOIN returns only rows where there is a match in both tables. Let's see which students are enrolled in which courses."
   ]
  },
  {
   "cell_type": "code",
   "execution_count": 4,
   "id": "730f9fcb",
   "metadata": {},
   "outputs": [
    {
     "name": "stdout",
     "output_type": "stream",
     "text": [
      "Student Enrollments (INNER JOIN):\n",
      "Name | Course | Grade | Date\n",
      "----------------------------------------\n",
      "Alice Johnson | Database Systems | B+ | 2023-09-01\n",
      "Alice Johnson | Introduction to Python | A | 2023-09-01\n",
      "Bob Smith | Introduction to Python | A- | 2023-09-01\n",
      "Bob Smith | Web Development | B | 2023-09-01\n",
      "Charlie Brown | Data Structures | B+ | 2022-09-01\n",
      "Charlie Brown | Database Systems | A | 2022-09-01\n",
      "Diana Prince | Introduction to Python | A | 2024-09-01\n",
      "Diana Prince | Web Development | A- | 2024-09-01\n"
     ]
    }
   ],
   "source": [
    "# INNER JOIN to show student enrollments with course details\n",
    "cursor.execute('''\n",
    "SELECT s.name, c.course_name, e.grade, e.enrollment_date\n",
    "FROM students s\n",
    "INNER JOIN enrollments e ON s.student_id = e.student_id\n",
    "INNER JOIN courses c ON e.course_id = c.course_id\n",
    "ORDER BY s.name, c.course_name\n",
    "''')\n",
    "\n",
    "results = cursor.fetchall()\n",
    "print(\"Student Enrollments (INNER JOIN):\")\n",
    "print(\"Name | Course | Grade | Date\")\n",
    "print(\"-\" * 40)\n",
    "for row in results:\n",
    "    print(f\"{row[0]} | {row[1]} | {row[2]} | {row[3]}\")"
   ]
  },
  {
   "cell_type": "markdown",
   "id": "1c0e951c",
   "metadata": {},
   "source": [
    "## LEFT JOIN - Including All Records from Left Table\n",
    "\n",
    "A LEFT JOIN returns all rows from the left table and matching rows from the right table. If no match, NULL values are returned. This is useful to find students who haven't enrolled in any courses."
   ]
  },
  {
   "cell_type": "code",
   "execution_count": 5,
   "id": "3dca64a5",
   "metadata": {},
   "outputs": [
    {
     "name": "stdout",
     "output_type": "stream",
     "text": [
      "All Students and Their Enrollments (LEFT JOIN):\n",
      "Name | Course | Grade\n",
      "------------------------------\n",
      "Alice Johnson | Introduction to Python | A\n",
      "Alice Johnson | Database Systems | B+\n",
      "Bob Smith | Introduction to Python | A-\n",
      "Bob Smith | Web Development | B\n",
      "Charlie Brown | Database Systems | A\n",
      "Charlie Brown | Data Structures | B+\n",
      "Diana Prince | Introduction to Python | A\n",
      "Diana Prince | Web Development | A-\n",
      "Eve Wilson | No enrollment | N/A\n"
     ]
    }
   ],
   "source": [
    "# Add a student with no enrollments to demonstrate LEFT JOIN\n",
    "cursor.execute(\"INSERT OR IGNORE INTO students VALUES (?, ?, ?, ?)\", (5, 'Eve Wilson', 'eve@email.com', 2024))\n",
    "conn.commit()\n",
    "\n",
    "# LEFT JOIN to show all students and their enrollments (including those with none)\n",
    "cursor.execute('''\n",
    "SELECT s.name, c.course_name, e.grade\n",
    "FROM students s\n",
    "LEFT JOIN enrollments e ON s.student_id = e.student_id\n",
    "LEFT JOIN courses c ON e.course_id = c.course_id\n",
    "ORDER BY s.name\n",
    "''')\n",
    "\n",
    "results = cursor.fetchall()\n",
    "print(\"All Students and Their Enrollments (LEFT JOIN):\")\n",
    "print(\"Name | Course | Grade\")\n",
    "print(\"-\" * 30)\n",
    "for row in results:\n",
    "    course = row[1] if row[1] else \"No enrollment\"\n",
    "    grade = row[2] if row[2] else \"N/A\"\n",
    "    print(f\"{row[0]} | {course} | {grade}\")"
   ]
  },
  {
   "cell_type": "markdown",
   "id": "9e1f3a6d",
   "metadata": {},
   "source": [
    "## Aggregation with GROUP BY\n",
    "\n",
    "GROUP BY groups rows that have the same values in specified columns. Combined with aggregate functions like COUNT(), AVG(), SUM(), etc., it provides summary information."
   ]
  },
  {
   "cell_type": "code",
   "execution_count": 6,
   "id": "295c8d03",
   "metadata": {},
   "outputs": [
    {
     "name": "stdout",
     "output_type": "stream",
     "text": [
      "Courses Taken by Each Student:\n",
      "Alice Johnson: 2 courses\n",
      "Bob Smith: 2 courses\n",
      "Charlie Brown: 2 courses\n",
      "Diana Prince: 2 courses\n",
      "Eve Wilson: 0 courses\n",
      "\n",
      "Average Credits by Enrollment Year:\n",
      "Year 2022: 4.00 credits\n",
      "Year 2023: 3.25 credits\n",
      "Year 2024: 3.00 credits\n"
     ]
    }
   ],
   "source": [
    "# Count enrollments per student\n",
    "cursor.execute('''\n",
    "SELECT s.name, COUNT(e.enrollment_id) as courses_taken\n",
    "FROM students s\n",
    "LEFT JOIN enrollments e ON s.student_id = e.student_id\n",
    "GROUP BY s.student_id, s.name\n",
    "ORDER BY courses_taken DESC\n",
    "''')\n",
    "\n",
    "results = cursor.fetchall()\n",
    "print(\"Courses Taken by Each Student:\")\n",
    "for row in results:\n",
    "    print(f\"{row[0]}: {row[1]} courses\")\n",
    "\n",
    "print()\n",
    "\n",
    "# Average credits per enrollment year\n",
    "cursor.execute('''\n",
    "SELECT s.enrollment_year, AVG(c.credits) as avg_credits\n",
    "FROM students s\n",
    "JOIN enrollments e ON s.student_id = e.student_id\n",
    "JOIN courses c ON e.course_id = c.course_id\n",
    "GROUP BY s.enrollment_year\n",
    "ORDER BY s.enrollment_year\n",
    "''')\n",
    "\n",
    "results = cursor.fetchall()\n",
    "print(\"Average Credits by Enrollment Year:\")\n",
    "for row in results:\n",
    "    print(f\"Year {row[0]}: {row[1]:.2f} credits\")"
   ]
  },
  {
   "cell_type": "markdown",
   "id": "0812dd0b",
   "metadata": {},
   "source": [
    "## Subqueries - Queries Within Queries\n",
    "\n",
    "Subqueries allow you to nest one query inside another. They can be used in SELECT, FROM, WHERE, and other clauses."
   ]
  },
  {
   "cell_type": "code",
   "execution_count": 7,
   "id": "41d0c823",
   "metadata": {},
   "outputs": [
    {
     "name": "stdout",
     "output_type": "stream",
     "text": [
      "Students in the Most Popular Course:\n",
      "Alice Johnson - Introduction to Python\n",
      "Bob Smith - Introduction to Python\n",
      "Diana Prince - Introduction to Python\n",
      "\n",
      "Students with Above-Average Course Load:\n"
     ]
    }
   ],
   "source": [
    "# Find students enrolled in the most popular course\n",
    "cursor.execute('''\n",
    "SELECT s.name, c.course_name\n",
    "FROM students s\n",
    "JOIN enrollments e ON s.student_id = e.student_id\n",
    "JOIN courses c ON e.course_id = c.course_id\n",
    "WHERE c.course_id = (\n",
    "    SELECT course_id\n",
    "    FROM enrollments\n",
    "    GROUP BY course_id\n",
    "    ORDER BY COUNT(*) DESC\n",
    "    LIMIT 1\n",
    ")\n",
    "''')\n",
    "\n",
    "results = cursor.fetchall()\n",
    "print(\"Students in the Most Popular Course:\")\n",
    "for row in results:\n",
    "    print(f\"{row[0]} - {row[1]}\")\n",
    "\n",
    "print()\n",
    "\n",
    "# Students with above-average number of enrollments\n",
    "cursor.execute('''\n",
    "SELECT s.name, COUNT(e.enrollment_id) as courses_taken\n",
    "FROM students s\n",
    "LEFT JOIN enrollments e ON s.student_id = e.student_id\n",
    "GROUP BY s.student_id, s.name\n",
    "HAVING courses_taken > (\n",
    "    SELECT AVG(course_count)\n",
    "    FROM (\n",
    "        SELECT COUNT(enrollment_id) as course_count\n",
    "        FROM enrollments\n",
    "        GROUP BY student_id\n",
    "    )\n",
    ")\n",
    "ORDER BY courses_taken DESC\n",
    "''')\n",
    "\n",
    "results = cursor.fetchall()\n",
    "print(\"Students with Above-Average Course Load:\")\n",
    "for row in results:\n",
    "    print(f\"{row[0]}: {row[1]} courses\")"
   ]
  },
  {
   "cell_type": "markdown",
   "id": "a397ce70",
   "metadata": {},
   "source": [
    "## Advanced Operations - UPDATE with JOIN\n",
    "\n",
    "You can update records based on data from other tables using subqueries or joins in the WHERE clause."
   ]
  },
  {
   "cell_type": "code",
   "execution_count": 8,
   "id": "0ee712fc",
   "metadata": {},
   "outputs": [
    {
     "name": "stdout",
     "output_type": "stream",
     "text": [
      "Updated grades for first-year students to A+\n",
      "First-year students' grades after update:\n",
      "Diana Prince (Year 2024): A+\n",
      "Diana Prince (Year 2024): A+\n"
     ]
    }
   ],
   "source": [
    "# Update grades for students in their first year (enrollment_year = 2024)\n",
    "cursor.execute('''\n",
    "UPDATE enrollments\n",
    "SET grade = 'A+'\n",
    "WHERE student_id IN (\n",
    "    SELECT student_id\n",
    "    FROM students\n",
    "    WHERE enrollment_year = 2024\n",
    ")\n",
    "''')\n",
    "\n",
    "conn.commit()\n",
    "print(\"Updated grades for first-year students to A+\")\n",
    "\n",
    "# Verify the update\n",
    "cursor.execute('''\n",
    "SELECT s.name, s.enrollment_year, e.grade\n",
    "FROM students s\n",
    "JOIN enrollments e ON s.student_id = e.student_id\n",
    "WHERE s.enrollment_year = 2024\n",
    "''')\n",
    "\n",
    "results = cursor.fetchall()\n",
    "print(\"First-year students' grades after update:\")\n",
    "for row in results:\n",
    "    print(f\"{row[0]} (Year {row[1]}): {row[2]}\")"
   ]
  },
  {
   "cell_type": "markdown",
   "id": "84e6596e",
   "metadata": {},
   "source": [
    "## Close the Database Connection\n",
    "\n",
    "Always remember to close your database connections when done."
   ]
  },
  {
   "cell_type": "code",
   "execution_count": null,
   "id": "76744030",
   "metadata": {},
   "outputs": [],
   "source": [
    "# Close the database connection\n",
    "conn.close()\n",
    "\n",
    "print(\"Database connection closed successfully!\")"
   ]
  }
 ],
 "metadata": {
  "kernelspec": {
   "display_name": ".global",
   "language": "python",
   "name": "python3"
  },
  "language_info": {
   "codemirror_mode": {
    "name": "ipython",
    "version": 3
   },
   "file_extension": ".py",
   "mimetype": "text/x-python",
   "name": "python",
   "nbconvert_exporter": "python",
   "pygments_lexer": "ipython3",
   "version": "3.13.7"
  }
 },
 "nbformat": 4,
 "nbformat_minor": 5
}
