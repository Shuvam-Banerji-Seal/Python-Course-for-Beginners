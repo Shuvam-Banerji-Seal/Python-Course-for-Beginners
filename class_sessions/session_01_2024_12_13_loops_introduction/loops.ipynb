{
 "cells": [
  {
   "cell_type": "markdown",
   "metadata": {},
   "source": [
    "# Comprehensive Guide to Python Looping Strategies\n",
    "\n",
    "## Introduction to Looping in Python\n",
    "\n",
    "Looping is a fundamental concept in programming that allows you to iterate over collections, repeat operations, and solve complex problems efficiently. Python provides multiple looping paradigms that cater to different use cases and computational requirements.\n",
    "\n",
    "### Types of Loops in Python\n",
    "1. **For Loops**\n",
    "2. **While Loops**\n",
    "3. **Comprehension Loops**\n",
    "4. **Generator Expressions**"
   ]
  },
  {
   "cell_type": "markdown",
   "metadata": {},
   "source": [
    "## 1. Basic For Loops\n",
    "\n",
    "### Time Complexity: O(n)\n",
    "### Space Complexity: O(1)\n",
    "\n",
    "Basic for loops are the most straightforward way to iterate in Python."
   ]
  },
  {
   "cell_type": "code",
   "execution_count": 13,
   "metadata": {},
   "outputs": [
    {
     "name": "stdout",
     "output_type": "stream",
     "text": [
      "0\n",
      "1\n",
      "2\n",
      "3\n",
      "4\n",
      "eay"
     ]
    }
   ],
   "source": [
    "# Range-based for loop\n",
    "# def basic_range_loop():\n",
    "\n",
    "for i in range(5):\n",
    "    print(i)\n",
    "\n",
    "# List iteration\n",
    "# def list_iteration():\n",
    "fruits = ['apple', 'banana', 'cherry']\n",
    "for fruit in fruits:\n",
    "    print(fruit[-1], end='')"
   ]
  },
  {
   "cell_type": "markdown",
   "metadata": {},
   "source": [
    "## 2. While Loops\n",
    "\n",
    "### Time Complexity: Varies (depends on condition)\n",
    "### Space Complexity: O(1)\n",
    "\n",
    "While loops continue executing as long as a condition is true."
   ]
  },
  {
   "cell_type": "code",
   "execution_count": null,
   "metadata": {},
   "outputs": [
    {
     "name": "stdout",
     "output_type": "stream",
     "text": [
      "0\n",
      "1\n",
      "2\n",
      "3\n",
      "4\n"
     ]
    }
   ],
   "source": [
    "# def while_loop_example():\n",
    "count = 0\n",
    "while count < 5:\n",
    "    print(count)\n",
    "    count += 1"
   ]
  },
  {
   "cell_type": "markdown",
   "metadata": {},
   "source": [
    "## 3. Advanced Looping Techniques\n",
    "\n",
    "### 3.1 Enumerate Loop\n",
    "**Time Complexity:** O(n)\n",
    "**Space Complexity:** O(1)\n",
    "\n",
    "Provides index and value during iteration."
   ]
  },
  {
   "cell_type": "code",
   "execution_count": 9,
   "metadata": {},
   "outputs": [
    {
     "name": "stdout",
     "output_type": "stream",
     "text": [
      "Language Python has index 0\n",
      "Language Java has index 1\n",
      "Language C++ has index 2\n"
     ]
    }
   ],
   "source": [
    "# def enumerate_loop():\n",
    "languages = ['Python', 'Java', 'C++']\n",
    "for index, language in enumerate(languages):\n",
    "    # print(f\"Index {index}: {language}\")\n",
    "    print(f'Language {language} has index {index}')"
   ]
  },
  {
   "cell_type": "markdown",
   "metadata": {},
   "source": [
    "### 3.2 Nested Loops\n",
    "**Time Complexity:** O(n^2)\n",
    "**Space Complexity:** O(1)\n",
    "\n",
    "Loops within loops, useful for multi-dimensional iterations."
   ]
  },
  {
   "cell_type": "code",
   "execution_count": 10,
   "metadata": {},
   "outputs": [
    {
     "name": "stdout",
     "output_type": "stream",
     "text": [
      "(0, 0) (0, 1) (0, 2) \n",
      "(1, 0) (1, 1) (1, 2) \n",
      "(2, 0) (2, 1) (2, 2) \n"
     ]
    }
   ],
   "source": [
    "# def nested_loops():\n",
    "for i in range(3):\n",
    "    for j in range(3):\n",
    "        print(f\"({i}, {j})\", end=\" \")\n",
    "    print()"
   ]
  },
  {
   "cell_type": "markdown",
   "metadata": {},
   "source": [
    "## 4. List Comprehensions\n",
    "\n",
    "**Time Complexity:** O(n)\n",
    "**Space Complexity:** O(n)\n",
    "\n",
    "Concise way to create lists with conditional logic."
   ]
  },
  {
   "cell_type": "code",
   "execution_count": 14,
   "metadata": {},
   "outputs": [
    {
     "name": "stdout",
     "output_type": "stream",
     "text": [
      "Squares: [0, 1, 4, 9, 16]\n",
      "Even Squares: [0, 4, 16, 36, 64]\n"
     ]
    }
   ],
   "source": [
    "# def list_comprehension_examples():\n",
    "# Basic comprehension\n",
    "squares = [x**2 for x in range(5)]\n",
    "print(\"Squares:\", squares)\n",
    "\n",
    "# Comprehension with condition\n",
    "even_squares = [x**2 for x in range(10) if x % 2 == 0]\n",
    "print(\"Even Squares:\", even_squares)"
   ]
  },
  {
   "cell_type": "markdown",
   "metadata": {},
   "source": [
    "## 5. Generator Expressions\n",
    "\n",
    "**Time Complexity:** O(n)\n",
    "**Space Complexity:** O(1)\n",
    "\n",
    "Memory-efficient alternative to list comprehensions."
   ]
  },
  {
   "cell_type": "code",
   "execution_count": 17,
   "metadata": {},
   "outputs": [
    {
     "name": "stdout",
     "output_type": "stream",
     "text": [
      "Generator: [0, 1, 4, 9, 16]\n"
     ]
    }
   ],
   "source": [
    "# def generator_expressions():\n",
    "# Memory efficient generation of values\n",
    "gen = (x**2 for x in range(5))\n",
    "print(\"Generator:\", list(gen))"
   ]
  },
  {
   "cell_type": "markdown",
   "metadata": {},
   "source": [
    "## 6. Complex Problem Solving: Sieve of Eratosthenes\n",
    "\n",
    "**Time Complexity:** O(n log log n)\n",
    "**Space Complexity:** O(n)\n",
    "\n",
    "An efficient algorithm to find prime numbers."
   ]
  },
  {
   "cell_type": "code",
   "execution_count": null,
   "metadata": {},
   "outputs": [],
   "source": [
    "def sieve_of_eratosthenes(n):\n",
    "    is_prime = [True] * (n + 1)\n",
    "    is_prime[0] = is_prime[1] = False\n",
    "    \n",
    "    for i in range(2, int(n**0.5) + 1):\n",
    "        if is_prime[i]:\n",
    "            for j in range(i*i, n+1, i):\n",
    "                is_prime[j] = False\n",
    "    \n",
    "    primes = [num for num in range(2, n+1) if is_prime[num]]\n",
    "    return primes"
   ]
  },
  {
   "cell_type": "markdown",
   "metadata": {},
   "source": [
    "## Performance Considerations\n",
    "\n",
    "1. **For Loops**: Efficient for known iteration count\n",
    "2. **While Loops**: Flexible for unknown iteration conditions\n",
    "3. **List Comprehensions**: Faster and more readable for simple transformations\n",
    "4. **Generator Expressions**: Best for large datasets with memory constraints\n",
    "\n",
    "### Recommendations\n",
    "- Use list comprehensions for simple transformations\n",
    "- Prefer generator expressions for large datasets\n",
    "- Avoid deeply nested loops\n",
    "- Consider built-in functions like `map()` and `filter()`"
   ]
  },
  {
   "cell_type": "markdown",
   "metadata": {},
   "source": [
    "## Common Pitfalls and Best Practices\n",
    "\n",
    "1. **Mutation during Iteration**: Avoid modifying lists while iterating\n",
    "2. **Infinite Loops**: Always ensure a termination condition\n",
    "3. **Performance**: Profile your code for complex iterations\n",
    "4. **Readability**: Choose the most readable approach"
   ]
  }
 ],
 "metadata": {
  "kernelspec": {
   "display_name": ".venv",
   "language": "python",
   "name": "python3"
  },
  "language_info": {
   "codemirror_mode": {
    "name": "ipython",
    "version": 3
   },
   "file_extension": ".py",
   "mimetype": "text/x-python",
   "name": "python",
   "nbconvert_exporter": "python",
   "pygments_lexer": "ipython3",
   "version": "3.12.7"
  }
 },
 "nbformat": 4,
 "nbformat_minor": 4
}
