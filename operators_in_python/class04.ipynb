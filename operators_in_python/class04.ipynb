{
 "cells": [
  {
   "cell_type": "markdown",
   "metadata": {},
   "source": [
    "# A Comprehensive Guide to Python Dictionaries\n",
    "\n",
    "Welcome! Dictionaries are the workhorse of Python's data structures. They allow you to store data in **key-value pairs**, making them incredibly fast for looking up information.\n",
    "\n",
    "Think of a real-world dictionary: you don't read it from start to finish; you look up a *word* (the **key**) to find its *definition* (the **value**).\n",
    "\n",
    "### Key Characteristics of Dictionaries\n",
    "*   **Key-Value Pairs**: Data is stored as `key: value`.\n",
    "*   **Mutable**: You can change, add, and remove items after creation.\n",
    "*   **Ordered (since Python 3.7)**: Items maintain the order in which they were inserted.\n",
    "*   **Unique Keys**: Keys within a dictionary must be unique. If you use the same key again, you will overwrite the old value.\n",
    "*   **Keys must be immutable**: You can use strings, numbers, or tuples as keys, but not lists or other dictionaries."
   ]
  },
  {
   "cell_type": "markdown",
   "metadata": {},
   "source": [
    "### Table of Contents\n",
    "1. [Creating a Dictionary](#creating)\n",
    "2. [Accessing Values](#accessing)\n",
    "3. [Modifying a Dictionary (Adding & Updating)](#modifying)\n",
    "4. [Removing Items](#removing)\n",
    "5. [Iterating Through a Dictionary](#iterating)\n",
    "6. [Dictionary Views: `.keys()`, `.values()`, and `.items()`](#views)\n",
    "7. [Useful Methods & The `in` Operator](#useful-methods)\n",
    "8. [Dictionary Comprehensions](#comprehensions)\n",
    "9. [Merging Dictionaries (Modern Techniques)](#merging)\n",
    "10. [Nested Dictionaries](#nested)"
   ]
  },
  {
   "cell_type": "markdown",
   "metadata": {},
   "source": [
    "<a id='creating'></a>\n",
    "## 1. Creating a Dictionary\n",
    "\n",
    "You can create a dictionary in a few ways."
   ]
  },
  {
   "cell_type": "code",
   "execution_count": 3,
   "metadata": {},
   "outputs": [
    {
     "name": "stdout",
     "output_type": "stream",
     "text": [
      "Created with braces: {'username': 'alex_w', 'email': 'alex.w@example.com', 'age': 28, 'is_active': True}\n",
      "Created with dict(): {'host': '192.168.1.1', 'port': 8080, 'protocol': 'http'}\n",
      "Created from tuples: {'id': 'prod-123', 'price': 19.99}\n"
     ]
    }
   ],
   "source": [
    "# Method 1: Using curly braces {} (most common)\n",
    "user_profile = {\n",
    "    \"username\": \"alex_w\",\n",
    "    \"email\": \"alex.w@example.com\",\n",
    "    \"age\": 28,\n",
    "    \"is_active\": True\n",
    "}\n",
    "print(f\"Created with braces: {user_profile}\")\n",
    "# print(\"Created with braces:\", user_profile)\n",
    "# Method 2: Using the dict() constructor\n",
    "# Note: keys are not in quotes here\n",
    "server_config = dict(host='192.168.1.1', port=8080, protocol='http')\n",
    "print(f\"Created with dict(): {server_config}\")\n",
    "\n",
    "# Method 3: From a list of key-value tuples\n",
    "product_data = dict([\n",
    "    ('id', 'prod-123'),\n",
    "    ('price', 19.99)\n",
    "])\n",
    "print(f\"Created from tuples: {product_data}\")"
   ]
  },
  {
   "cell_type": "markdown",
   "metadata": {},
   "source": [
    "<a id='accessing'></a>\n",
    "## 2. Accessing Values\n",
    "\n",
    "There are two main ways to get a value from a dictionary."
   ]
  },
  {
   "cell_type": "code",
   "execution_count": 5,
   "metadata": {},
   "outputs": [
    {
     "name": "stdout",
     "output_type": "stream",
     "text": [
      "Username: alex_w\n",
      "Email from .get(): alex.w@example.com\n",
      "Last login from .get(): None\n",
      "Last login with default: Not available\n"
     ]
    }
   ],
   "source": [
    "user_profile = {\n",
    "    \"username\": \"alex_w\",\n",
    "    \"email\": \"alex.w@example.com\",\n",
    "    \"age\": 28\n",
    "}\n",
    "\n",
    "# Method 1: Using square brackets [key]\n",
    "# This is fast and direct, but it will raise a `KeyError` if the key doesn't exist.\n",
    "print(f\"Username: {user_profile['username']}\")\n",
    "\n",
    "# The line below would cause a KeyError and stop the program:\n",
    "# print(user_profile['last_login'])\n",
    "\n",
    "# Method 2: Using the .get() method (Safer)\n",
    "# .get() returns the value for a key, but if the key is not found, it returns `None` instead of an error.\n",
    "email = user_profile.get('email')\n",
    "last_login = user_profile.get('last_login') # This key doesn't exist\n",
    "\n",
    "print(f\"Email from .get(): {email}\")\n",
    "print(f\"Last login from .get(): {last_login}\")\n",
    "\n",
    "# You can also provide a default value to .get() if the key is not found\n",
    "last_login_default = user_profile.get('last_login', 'Not available')\n",
    "print(f\"Last login with default: {last_login_default}\")"
   ]
  },
  {
   "cell_type": "markdown",
   "metadata": {},
   "source": [
    "<a id='modifying'></a>\n",
    "## 3. Modifying a Dictionary (Adding & Updating)\n",
    "\n",
    "Modifying a dictionary is straightforward. If the key exists, you update its value. If it doesn't, you create a new key-value pair."
   ]
  },
  {
   "cell_type": "code",
   "execution_count": 6,
   "metadata": {},
   "outputs": [
    {
     "name": "stdout",
     "output_type": "stream",
     "text": [
      "Original: {'username': 'alex_w', 'age': 28}\n",
      "Updated age: {'username': 'alex_w', 'age': 29}\n",
      "Added country: {'username': 'alex_w', 'age': 29, 'country': 'Canada'}\n",
      "After .update(): {'username': 'alex_w', 'age': 30, 'country': 'Canada', 'is_active': False}\n"
     ]
    }
   ],
   "source": [
    "user_profile = {\"username\": \"alex_w\", \"age\": 28}\n",
    "print(f\"Original: {user_profile}\")\n",
    "\n",
    "# Update an existing value\n",
    "user_profile['age'] = 29\n",
    "print(f\"Updated age: {user_profile}\")\n",
    "\n",
    "# Add a new key-value pair\n",
    "user_profile['country'] = 'Canada'\n",
    "print(f\"Added country: {user_profile}\")\n",
    "\n",
    "# Use the .update() method to add/modify multiple items at once\n",
    "user_profile.update({\"age\": 30, \"is_active\": False})\n",
    "print(f\"After .update(): {user_profile}\")"
   ]
  },
  {
   "cell_type": "markdown",
   "metadata": {},
   "source": [
    "<a id='removing'></a>\n",
    "## 4. Removing Items\n",
    "\n",
    "Python provides several ways to remove items from a dictionary."
   ]
  },
  {
   "cell_type": "code",
   "execution_count": 9,
   "metadata": {},
   "outputs": [
    {
     "name": "stdout",
     "output_type": "stream",
     "text": [
      "Initial inventory: {'apples': 10, 'oranges': 5, 'bananas': 12, 'grapes': 30}\n",
      "After `del 'grapes'`: {'apples': 10, 'oranges': 5, 'bananas': 12}\n",
      "We sold 5 oranges.\n",
      "Inventory after pop: {'apples': 10, 'bananas': 12}\n",
      "Last item was: ('bananas', 12)\n",
      "Inventory after popitem: {'apples': 10}\n",
      "Inventory after clear: {}\n"
     ]
    }
   ],
   "source": [
    "inventory = {'apples': 10, 'oranges': 5, 'bananas': 12, 'grapes': 30}\n",
    "print(f\"Initial inventory: {inventory}\")\n",
    "\n",
    "# Method 1: Using the `del` keyword\n",
    "# This removes a key-value pair. It raises a KeyError if the key doesn't exist.\n",
    "del inventory['grapes']\n",
    "print(f\"After `del 'grapes'`: {inventory}\")\n",
    "\n",
    "# Method 2: Using the .pop() method\n",
    "# This removes the key-value pair AND returns the value. This is useful if you need to use the removed value.\n",
    "sold_oranges = inventory.pop('oranges')\n",
    "print(f\"We sold {sold_oranges} oranges.\")\n",
    "print(f\"Inventory after pop: {inventory}\")\n",
    "\n",
    "# Method 3: Using .popitem()\n",
    "# This removes and returns the last inserted (key, value) pair as a tuple.\n",
    "last_item_added = inventory.popitem()\n",
    "print(f\"Last item was: {last_item_added}\")\n",
    "print(f\"Inventory after popitem: {inventory}\")\n",
    "\n",
    "# Method 4: Using .clear()\n",
    "# This removes all items from the dictionary.\n",
    "inventory.clear()\n",
    "print(f\"Inventory after clear: {inventory}\")\n",
    "\n",
    "\n",
    "# Method 5: using the 'remove' method\n",
    "# This method is not available for dictionaries, so it will raise an AttributeError.\n",
    "# inventory.remove('apples')  # This will raise an error"
   ]
  },
  {
   "cell_type": "markdown",
   "metadata": {},
   "source": [
    "<a id='iterating'></a>\n",
    "## 5. Iterating Through a Dictionary\n",
    "\n",
    "Looping is a common task. You can loop over keys, values, or both."
   ]
  },
  {
   "cell_type": "code",
   "execution_count": 10,
   "metadata": {},
   "outputs": [
    {
     "name": "stdout",
     "output_type": "stream",
     "text": [
      "--- Looping over keys (default behavior) ---\n",
      "Role: admin\n",
      "Role: user\n",
      "Role: guest\n",
      "\n",
      "--- Looping over values using .values() ---\n",
      "Permission set: rwx\n",
      "Permission set: r\n",
      "Permission set: \n",
      "\n",
      "--- Looping over key-value pairs using .items() (most common) ---\n",
      "The role 'admin' has permissions 'rwx'\n",
      "The role 'user' has permissions 'r'\n",
      "The role 'guest' has permissions ''\n"
     ]
    }
   ],
   "source": [
    "user_permissions = {'admin': 'rwx', 'user': 'r', 'guest': ''}\n",
    "\n",
    "print(\"--- Looping over keys (default behavior) ---\")\n",
    "for user_role in user_permissions:\n",
    "    print(f\"Role: {user_role}\")\n",
    "\n",
    "print(\"\\n--- Looping over values using .values() ---\")\n",
    "for permissions in user_permissions.values():\n",
    "    print(f\"Permission set: {permissions}\")\n",
    "\n",
    "print(\"\\n--- Looping over key-value pairs using .items() (most common) ---\")\n",
    "for role, perms in user_permissions.items():\n",
    "    print(f\"The role '{role}' has permissions '{perms}'\")"
   ]
  },
  {
   "cell_type": "markdown",
   "metadata": {},
   "source": [
    "<a id='views'></a>\n",
    "## 6. Dictionary Views: `.keys()`, `.values()`, and `.items()`\n",
    "\n",
    "The methods `.keys()`, `.values()`, and `.items()` don't return lists. They return special **view objects**. A view object is a dynamic window into the dictionary's entries, which means that when the dictionary changes, the view reflects these changes."
   ]
  },
  {
   "cell_type": "code",
   "execution_count": 11,
   "metadata": {},
   "outputs": [
    {
     "name": "stdout",
     "output_type": "stream",
     "text": [
      "Initial keys view: dict_keys(['math', 'science'])\n",
      "\n",
      "Adding 'history' to the dictionary...\n",
      "Updated keys view: dict_keys(['math', 'science', 'history'])\n"
     ]
    }
   ],
   "source": [
    "scores = {'math': 95, 'science': 88}\n",
    "\n",
    "# Create a view object of the keys\n",
    "score_keys = scores.keys()\n",
    "print(f\"Initial keys view: {score_keys}\")\n",
    "\n",
    "# Now, modify the original dictionary\n",
    "print(\"\\nAdding 'history' to the dictionary...\")\n",
    "scores['history'] = 76\n",
    "\n",
    "# The view object automatically updates!\n",
    "print(f\"Updated keys view: {score_keys}\")"
   ]
  },
  {
   "cell_type": "markdown",
   "metadata": {},
   "source": [
    "<a id='useful-methods'></a>\n",
    "## 7. Useful Methods & The `in` Operator\n",
    "\n",
    "Two of the most common operations are checking for a key's existence and finding the size of the dictionary."
   ]
  },
  {
   "cell_type": "code",
   "execution_count": 12,
   "metadata": {},
   "outputs": [
    {
     "name": "stdout",
     "output_type": "stream",
     "text": [
      "Number of settings: 3\n",
      "Is 'theme' a setting? True\n",
      "Is 'language' a setting? False\n",
      "Is 'language' NOT a setting? True\n"
     ]
    }
   ],
   "source": [
    "settings = {'theme': 'dark', 'font_size': 14, 'show_sidebar': True}\n",
    "\n",
    "# Get the number of key-value pairs using len()\n",
    "print(f\"Number of settings: {len(settings)}\")\n",
    "\n",
    "# Check for the existence of a key using the `in` keyword\n",
    "# This is the Pythonic way to check if a key exists.\n",
    "print(f\"Is 'theme' a setting? {'theme' in settings}\")\n",
    "print(f\"Is 'language' a setting? {'language' in settings}\")\n",
    "\n",
    "# `not in` also works\n",
    "print(f\"Is 'language' NOT a setting? {'language' not in settings}\")"
   ]
  },
  {
   "cell_type": "markdown",
   "metadata": {},
   "source": [
    "<a id='comprehensions'></a>\n",
    "## 8. Dictionary Comprehensions\n",
    "\n",
    "Similar to list comprehensions, dictionary comprehensions provide a concise and readable way to create dictionaries."
   ]
  },
  {
   "cell_type": "code",
   "execution_count": null,
   "metadata": {},
   "outputs": [
    {
     "name": "stdout",
     "output_type": "stream",
     "text": [
      "Squares dict: {1: 1, 2: 4, 3: 9, 4: 16, 5: 25}\n",
      "Profile from zip: {'name': 'Bob', 'city': 'Paris', 'job': 'Engineer', 'age': 30}\n",
      "Expensive items: {'apple': 1.2, 'orange': 0.8}\n"
     ]
    }
   ],
   "source": [
    "# Example 1: Create a dictionary of numbers and their squares\n",
    "squares = {x: x*x for x in range(1, 6)}\n",
    "print(f\"Squares dict: {squares}\")\n",
    "\n",
    "# Example 2: Create a dictionary from two lists\n",
    "keys = ['name', 'city', 'job', 'age']\n",
    "values = ['Bob', 'Paris', 'Engineer']\n",
    "profile = {k: v for k, v in zip(keys, values)}\n",
    "print(f\"Profile from zip: {profile}\")\n",
    "\n",
    "# Example 3: Conditional logic in a comprehension\n",
    "original_prices = {'apple': 1.2, 'banana': 0.5, 'orange': 0.8}\n",
    "expensive_items = {item: price for item, price in original_prices.items() if price > 0.7}\n",
    "print(f\"Expensive items: {expensive_items}\")"
   ]
  },
  {
   "cell_type": "markdown",
   "metadata": {},
   "source": [
    "<a id='merging'></a>\n",
    "## 9. Merging Dictionaries (Modern Techniques)\n",
    "\n",
    "There are several ways to combine two dictionaries. Newer versions of Python have made this much cleaner."
   ]
  },
  {
   "cell_type": "code",
   "execution_count": 20,
   "metadata": {},
   "outputs": [
    {
     "name": "stdout",
     "output_type": "stream",
     "text": [
      "Merged with **: {'a': 1, 'b': 3, 'c': 4}\n",
      "Merged with | : {'a': 1, 'b': 3, 'c': 4}\n"
     ]
    }
   ],
   "source": [
    "dict1 = {'a': 1, 'b': 2}\n",
    "dict2 = {'b': 3, 'c': 4}\n",
    "\n",
    "# Method 1: Using the ** unpacking operator (Python 3.5+)\n",
    "# Values from the rightmost dict win in case of a key collision ('b' will be 3).\n",
    "merged_unpack = {**dict1, **dict2}\n",
    "print(f\"Merged with **: {merged_unpack}\")\n",
    "\n",
    "# Method 2: Using the | merge operator (Python 3.9+)\n",
    "# This is the newest and most concise syntax.\n",
    "merged_pipe = dict1 | dict2\n",
    "print(f\"Merged with | : {merged_pipe}\")"
   ]
  },
  {
   "cell_type": "markdown",
   "metadata": {},
   "source": [
    "<a id='nested'></a>\n",
    "## 10. Nested Dictionaries\n",
    "\n",
    "The value in a dictionary can be any Python object, including another dictionary. This allows you to create complex, nested data structures."
   ]
  },
  {
   "cell_type": "code",
   "execution_count": 21,
   "metadata": {},
   "outputs": [
    {
     "name": "stdout",
     "output_type": "stream",
     "text": [
      "Alice's department: Engineering\n",
      "Bob's first skill: SEO\n",
      "\n",
      "Processing employee: emp_001\n",
      "  Name: Alice\n",
      "  Skills: Python, Cloud, DevOps\n",
      "\n",
      "Processing employee: emp_002\n",
      "  Name: Bob\n",
      "  Skills: SEO, Content, Analytics\n"
     ]
    }
   ],
   "source": [
    "employees = {\n",
    "    'emp_001': {\n",
    "        'name': 'Alice',\n",
    "        'department': 'Engineering',\n",
    "        'skills': ['Python', 'Cloud', 'DevOps']\n",
    "    },\n",
    "    'emp_002': {\n",
    "        'name': 'Bob',\n",
    "        'department': 'Marketing',\n",
    "        'skills': ['SEO', 'Content', 'Analytics']\n",
    "    }\n",
    "}\n",
    "\n",
    "# Accessing nested data\n",
    "alice_dept = employees['emp_001']['department']\n",
    "print(f\"Alice's department: {alice_dept}\")\n",
    "\n",
    "# Accessing an item in a nested list\n",
    "bob_first_skill = employees['emp_002']['skills'][0]\n",
    "print(f\"Bob's first skill: {bob_first_skill}\")\n",
    "\n",
    "# Loop through a nested structure\n",
    "for emp_id, details in employees.items():\n",
    "    print(f\"\\nProcessing employee: {emp_id}\")\n",
    "    print(f\"  Name: {details['name']}\")\n",
    "    print(f\"  Skills: {', '.join(details['skills'])}\")"
   ]
  },
  {
   "cell_type": "markdown",
   "metadata": {},
   "source": [
    "## Conclusion\n",
    "\n",
    "You've now covered the essential aspects of Python dictionaries! They are incredibly useful for modeling real-world data, creating fast lookups, and passing structured information between functions.\n",
    "\n",
    "**Key Takeaways:**\n",
    "- Use `{}` for creation.\n",
    "- Use `.get()` for safe access.\n",
    "- Use `.items()` to loop over keys and values together.\n",
    "- Use comprehensions for concise creation.\n",
    "- Remember that they are ordered by insertion!\n",
    "\n",
    "Happy coding!"
   ]
  }
 ],
 "metadata": {
  "kernelspec": {
   "display_name": ".venv",
   "language": "python",
   "name": "python3"
  },
  "language_info": {
   "codemirror_mode": {
    "name": "ipython",
    "version": 3
   },
   "file_extension": ".py",
   "mimetype": "text/x-python",
   "name": "python",
   "nbconvert_exporter": "python",
   "pygments_lexer": "ipython3",
   "version": "3.13.3"
  }
 },
 "nbformat": 4,
 "nbformat_minor": 5
}
