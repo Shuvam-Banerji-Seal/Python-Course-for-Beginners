{
 "cells": [
  {
   "cell_type": "markdown",
   "metadata": {},
   "source": [
    "# A Deep Dive into Shallow vs. Deep Copy in Python\n",
    "\n",
    "Welcome! This notebook explains one of the most fundamental concepts when working with mutable objects in Python: the difference between **shallow copies** and **deep copies**.\n",
    "\n",
    "Understanding this is crucial for avoiding subtle bugs where you change one object and accidentally change another one somewhere else in your program.\n",
    "\n",
    "### Table of Contents\n",
    "1. [The Foundation: Assignment (`=`) is Not a Copy](#assignment)\n",
    "2. [Shallow Copy (`copy.copy()`): A One-Level Copy](#shallow)\n",
    "3. [Deep Copy (`copy.deepcopy()`): A Complete Clone](#deep)\n",
    "4. [Summary: When to Use Each](#summary)"
   ]
  },
  {
   "cell_type": "markdown",
   "metadata": {},
   "source": [
    "<a id='assignment'></a>\n",
    "## 1. The Foundation: Assignment (`=`) is Not a Copy\n",
    "\n",
    "First, we must understand what the assignment operator (`=`) does. It **does not create a copy**. It simply creates a new variable name (a label or a pointer) that points to the **exact same object** in memory.\n",
    "\n",
    "If the object is mutable (like a list), changing it through one variable will affect the other."
   ]
  },
  {
   "cell_type": "markdown",
   "metadata": {},
   "source": [
    "### Visualizing Assignment\n",
    "\n",
    "Here, `list_a` and `list_b` are just two different names for the same underlying list object in memory.\n",
    "\n",
    "```mermaid\n",
    "graph TD\n",
    "    subgraph \"Memory\"\n",
    "        Object([1, 2, 3])\n",
    "    end\n",
    "\n",
    "    list_a --> Object\n",
    "    list_b --> Object\n",
    "\n",
    "    style Object fill:#f9f,stroke:#333,stroke-width:2px\n",
    "```"
   ]
  },
  {
   "cell_type": "code",
   "execution_count": 1,
   "metadata": {},
   "outputs": [
    {
     "name": "stdout",
     "output_type": "stream",
     "text": [
      "Original list_a: [1, 2, 3]\n",
      "Original list_b: [1, 2, 3]\n",
      "ID of list_a: 140591143725696\n",
      "ID of list_b: 140591143725696\n",
      "Are they the same object? (list_a is list_b) -> True\n",
      "\n",
      "--- Modifying list_b ---\n",
      "New list_b: [1, 2, 3, 99]\n",
      "Look! list_a also changed: [1, 2, 3, 99]\n"
     ]
    }
   ],
   "source": [
    "list_a = [1, 2, 3]\n",
    "list_b = list_a  # This is NOT a copy. list_b is now another name for list_a.\n",
    "\n",
    "print(f\"Original list_a: {list_a}\")\n",
    "print(f\"Original list_b: {list_b}\")\n",
    "\n",
    "# Let's check their memory addresses using id()\n",
    "print(f\"ID of list_a: {id(list_a)}\")\n",
    "print(f\"ID of list_b: {id(list_b)}\")\n",
    "print(f\"Are they the same object? (list_a is list_b) -> {list_a is list_b}\")\n",
    "\n",
    "print(\"\\n--- Modifying list_b ---\")\n",
    "list_b.append(99)\n",
    "\n",
    "print(f\"New list_b: {list_b}\")\n",
    "print(f\"Look! list_a also changed: {list_a}\") # Because they are the same object!"
   ]
  },
  {
   "cell_type": "markdown",
   "metadata": {},
   "source": [
    "<a id='shallow'></a>\n",
    "## 2. Shallow Copy (`copy.copy()`): A One-Level Copy\n",
    "\n",
    "A **shallow copy** creates a new object, but then fills it with **references** to the items contained in the original object.\n",
    "\n",
    "**What this means:**\n",
    "- The top-level container is new and independent.\n",
    "- The elements *inside* the container are **shared**.\n",
    "\n",
    "This works fine for lists containing only immutable items (like numbers or strings). But if the list contains mutable objects (like other lists), the problem from assignment reappears at the nested level.\n",
    "\n",
    "You can create a shallow copy using the `.copy()` method or the `copy.copy()` function."
   ]
  },
  {
   "cell_type": "markdown",
   "metadata": {},
   "source": [
    "### Visualizing a Shallow Copy\n",
    "\n",
    "Notice how the main list containers are separate (`id: 1000` vs `id: 2000`), but they both contain a reference to the **same** nested list (`id: 5000`).\n",
    "\n",
    "```mermaid\n",
    "graph TD;\n",
    "    subgraph \"Object (id: 1000)\"\n",
    "        A(Original List)\n",
    "    end\n",
    "    subgraph \"Object (id: 2000)\"\n",
    "        B(Shallow Copy)\n",
    "    end\n",
    "    subgraph \"Shared Object (id: 5000)\"\n",
    "        C(\"Nested List ['a', 'b']\")\n",
    "    end\n",
    "\n",
    "    A -- \"contains reference to\" --> C;\n",
    "    B -- \"contains reference to\" --> C;\n",
    "\n",
    "\n",
    "```"
   ]
  },
  {
   "cell_type": "code",
   "execution_count": 3,
   "metadata": {},
   "outputs": [
    {
     "name": "stdout",
     "output_type": "stream",
     "text": [
      "Original List: [1, 2, ['a', 'b']]\n",
      "Shallow Copy:  [1, 2, ['a', 'b']]\n",
      "\n",
      "ID of Original: 140591143700480\n",
      "ID of Shallow:  140591132868032\n",
      "Outer lists are same object? -> False\n",
      "\n",
      "ID of Original's nested list: 140591134614976\n",
      "ID of Shallow's nested list:  140591134614976\n",
      "Nested lists are same object? -> True\n",
      "\n",
      "--- Modifying the nested list in the shallow copy ---\n",
      "Shallow Copy after change:  [1, 2, ['a', 'b', 'c']]\n",
      "Original List also changed! [1, 2, ['a', 'b', 'c']]\n",
      "\n",
      "After appending to shallow copy: [1, 2, ['a', 'b', 'c'], 'new item']\n",
      "Original List remains unchanged: [1, 2, ['a', 'b', 'c']]\n"
     ]
    }
   ],
   "source": [
    "import copy\n",
    "\n",
    "original_list = [1, 2, ['a', 'b']]\n",
    "shallow_copy = copy.copy(original_list) # Or: shallow_copy = original_list.copy()\n",
    "\n",
    "print(f\"Original List: {original_list}\")\n",
    "print(f\"Shallow Copy:  {shallow_copy}\")\n",
    "\n",
    "# The outer lists are different objects\n",
    "print(f\"\\nID of Original: {id(original_list)}\")\n",
    "print(f\"ID of Shallow:  {id(shallow_copy)}\")\n",
    "print(f\"Outer lists are same object? -> {original_list is shallow_copy}\")\n",
    "\n",
    "# But the inner, nested lists are the SAME object\n",
    "print(f\"\\nID of Original's nested list: {id(original_list[2])}\")\n",
    "print(f\"ID of Shallow's nested list:  {id(shallow_copy[2])}\")\n",
    "print(f\"Nested lists are same object? -> {original_list[2] is shallow_copy[2]}\")\n",
    "\n",
    "print(\"\\n--- Modifying the nested list in the shallow copy ---\")\n",
    "shallow_copy[2].append('c')\n",
    "\n",
    "print(f\"Shallow Copy after change:  {shallow_copy}\")\n",
    "print(f\"Original List also changed! {original_list}\") # The classic shallow copy pitfall!\n",
    "\n",
    "# Changing the outer list in the shallow copy does not affect the original\n",
    "shallow_copy.append('new item')\n",
    "print(f\"\\nAfter appending to shallow copy: {shallow_copy}\")\n",
    "print(f\"Original List remains unchanged: {original_list}\")"
   ]
  },
  {
   "cell_type": "markdown",
   "metadata": {},
   "source": [
    "<a id='deep'></a>\n",
    "## 3. Deep Copy (`copy.deepcopy()`): A Complete Clone\n",
    "\n",
    "A **deep copy** solves the problem of shared references. It creates a new object and then **recursively** copies all objects found inside the original. It creates a complete, independent clone of the original object and all of its nested objects.\n",
    "\n",
    "**What this means:**\n",
    "- The top-level container is new.\n",
    "- All objects inside, no matter how deeply nested, are also new copies.\n",
    "- The original and the deep copy are completely independent.\n",
    "\n",
    "You must use the `copy.deepcopy()` function from the `copy` module."
   ]
  },
  {
   "cell_type": "markdown",
   "metadata": {},
   "source": [
    "### Visualizing a Deep Copy\n",
    "\n",
    "Now, every part of the copy is a new object in memory. The original list (`id: 1000`) and the deep copy (`id: 3000`) are separate. Crucially, the nested lists (`id: 5000` vs `id: 8000`) are also separate.\n",
    "\n",
    "```mermaid\n",
    "graph TD;\n",
    "    subgraph \"Original Structure\"\n",
    "        subgraph \"Object (id: 1000)\"\n",
    "            A(Original List)\n",
    "        end\n",
    "        subgraph \"Object (id: 5000)\"\n",
    "            C(\"Original Nested List ['a', 'b']\")\n",
    "        end\n",
    "        A -- \"contains\" --> C;\n",
    "    end\n",
    "    \n",
    "    subgraph \"Deep Copy Structure Completely Separate\"\n",
    "        subgraph \"Object (id: 3000)\"\n",
    "            B(Deep Copy)\n",
    "        end\n",
    "        subgraph \"Object (id: 8000)\"\n",
    "            D(\"Copied Nested List ['a', 'b']\")\n",
    "        end\n",
    "        B -- \"contains\" --> D;\n",
    "    end\n",
    "    \n",
    "```"
   ]
  },
  {
   "cell_type": "code",
   "execution_count": 4,
   "metadata": {},
   "outputs": [
    {
     "name": "stdout",
     "output_type": "stream",
     "text": [
      "Original List: [1, 2, ['a', 'b']]\n",
      "Deep Copy:     [1, 2, ['a', 'b']]\n",
      "\n",
      "ID of Original: 140591134611200\n",
      "ID of Deep:     140591143817664\n",
      "Outer lists are same object? -> False\n",
      "\n",
      "ID of Original's nested list: 140591134611392\n",
      "ID of Deep's nested list:     140591134611520\n",
      "Nested lists are same object? -> False\n",
      "\n",
      "--- Modifying the nested list in the deep copy ---\n",
      "Deep Copy after change:     [1, 2, ['a', 'b', 'c']]\n",
      "Original List is unaffected! [1, 2, ['a', 'b']]\n"
     ]
    }
   ],
   "source": [
    "import copy\n",
    "\n",
    "original_list = [1, 2, ['a', 'b']]\n",
    "deep_copy = copy.deepcopy(original_list)\n",
    "\n",
    "print(f\"Original List: {original_list}\")\n",
    "print(f\"Deep Copy:     {deep_copy}\")\n",
    "\n",
    "# The outer lists are different objects\n",
    "print(f\"\\nID of Original: {id(original_list)}\")\n",
    "print(f\"ID of Deep:     {id(deep_copy)}\")\n",
    "print(f\"Outer lists are same object? -> {original_list is deep_copy}\")\n",
    "\n",
    "# The inner, nested lists are also DIFFERENT objects\n",
    "print(f\"\\nID of Original's nested list: {id(original_list[2])}\")\n",
    "print(f\"ID of Deep's nested list:     {id(deep_copy[2])}\")\n",
    "print(f\"Nested lists are same object? -> {original_list[2] is deep_copy[2]}\")\n",
    "\n",
    "print(\"\\n--- Modifying the nested list in the deep copy ---\")\n",
    "deep_copy[2].append('c')\n",
    "\n",
    "print(f\"Deep Copy after change:     {deep_copy}\")\n",
    "print(f\"Original List is unaffected! {original_list}\") # Success!"
   ]
  },
  {
   "cell_type": "markdown",
   "metadata": {},
   "source": [
    "<a id='summary'></a>\n",
    "## 4. Summary: When to Use Each\n",
    "\n",
    "| Method | Operation | What it Does | Use Case |\n",
    "| :--- | :--- | :--- | :--- |\n",
    "| **Assignment** | `new_list = old_list` | Creates a new **name/label** for the same object. | When you want multiple variables to refer to and control the same object. |\n",
    "| **Shallow Copy** | `new_list = old_list.copy()` | Creates a new top-level object, but **shares references** to nested objects. | When your list is one-level deep, or you intentionally want to share nested items. It's faster than a deep copy. |\n",
    "| **Deep Copy** | `new_list = copy.deepcopy(old_list)` | Creates a new object and **recursively copies all nested objects**. | When you need a completely independent clone of a complex, nested data structure to prevent any accidental side effects. |"
   ]
  }
 ],
 "metadata": {
  "kernelspec": {
   "display_name": ".venv",
   "language": "python",
   "name": "python3"
  },
  "language_info": {
   "codemirror_mode": {
    "name": "ipython",
    "version": 3
   },
   "file_extension": ".py",
   "mimetype": "text/x-python",
   "name": "python",
   "nbconvert_exporter": "python",
   "pygments_lexer": "ipython3",
   "version": "3.13.3"
  }
 },
 "nbformat": 4,
 "nbformat_minor": 5
}
