{
 "cells": [
  {
   "cell_type": "markdown",
   "metadata": {},
   "source": [
    "# Python Dictionaries Tutorial\n",
    "\n",
    "This notebook demonstrates various operations and methods available for Python dictionaries."
   ]
  },
  {
   "cell_type": "markdown",
   "metadata": {},
   "source": [
    "## 1. Creating Dictionaries"
   ]
  },
  {
   "cell_type": "code",
   "execution_count": 4,
   "metadata": {},
   "outputs": [
    {
     "name": "stdout",
     "output_type": "stream",
     "text": [
      "Empty dictionary: {}\n",
      "\n",
      "Student dictionary: {'name': 'John', 'age': 20, 'grades': [85, 90, 88]}\n"
     ]
    }
   ],
   "source": [
    "# Empty dictionary\n",
    "my_dict = {}\n",
    "print(\"Empty dictionary:\", my_dict)\n",
    "\n",
    "# Dictionary with initial key-value pairs\n",
    "student = {\n",
    "    \"name\": \"John\",\n",
    "    \"age\": 20,\n",
    "    \"grades\": [85, 90, 88]\n",
    "}\n",
    "print(\"\\nStudent dictionary:\", student)"
   ]
  },
  {
   "cell_type": "markdown",
   "metadata": {},
   "source": [
    "## 2. Accessing Values"
   ]
  },
  {
   "cell_type": "code",
   "execution_count": 5,
   "metadata": {},
   "outputs": [
    {
     "name": "stdout",
     "output_type": "stream",
     "text": [
      "Name: John\n",
      "Age: 20\n",
      "Phone: Not found\n"
     ]
    }
   ],
   "source": [
    "# Using square bracket notation\n",
    "print(\"Name:\", student[\"name\"])\n",
    "\n",
    "# Using get() method (safer as it won't raise KeyError)\n",
    "print(\"Age:\", student.get(\"age\"))\n",
    "print(\"Phone:\", student.get(\"phone\", \"Not found\"))  # Provides default value if key doesn't exist"
   ]
  },
  {
   "cell_type": "markdown",
   "metadata": {},
   "source": [
    "## 3. Adding/Modifying Elements"
   ]
  },
  {
   "cell_type": "code",
   "execution_count": 6,
   "metadata": {},
   "outputs": [
    {
     "name": "stdout",
     "output_type": "stream",
     "text": [
      "After adding phone: {'name': 'John', 'age': 20, 'grades': [85, 90, 88], 'phone': '123-456-7890'}\n",
      "\n",
      "After modifying age: {'name': 'John', 'age': 21, 'grades': [85, 90, 88], 'phone': '123-456-7890'}\n",
      "\n",
      "After update: {'name': 'John', 'age': 22, 'grades': [85, 90, 88], 'phone': '123-456-7890', 'email': 'john@example.com'}\n"
     ]
    }
   ],
   "source": [
    "# Adding new key-value pair\n",
    "student[\"phone\"] = \"123-456-7890\"\n",
    "print(\"After adding phone:\", student)\n",
    "\n",
    "# Modifying existing value\n",
    "student[\"age\"] = 21\n",
    "print(\"\\nAfter modifying age:\", student)\n",
    "\n",
    "# Update multiple key-value pairs at once\n",
    "student.update({\"email\": \"john@example.com\", \"age\": 22})\n",
    "print(\"\\nAfter update:\", student)"
   ]
  },
  {
   "cell_type": "markdown",
   "metadata": {},
   "source": [
    "## 4. Removing Elements"
   ]
  },
  {
   "cell_type": "code",
   "execution_count": 10,
   "metadata": {},
   "outputs": [
    {
     "name": "stdout",
     "output_type": "stream",
     "text": [
      "Original dictionary: {'name': 'John', 'age': 20, 'grades': [85, 90, 88]}\n",
      "Removed age: 20\n",
      "Dictionary after pop: {'name': 'John', 'grades': [85, 90, 88]}\n",
      "\n",
      "Last item removed: ('grades', [85, 90, 88])\n",
      "Dictionary after popitem: {'name': 'John'}\n",
      "\n",
      "Dictionary after del: {}\n",
      "\n",
      "Dictionary after clear: {}\n"
     ]
    }
   ],
   "source": [
    "# Create a new dictionary for demonstration\n",
    "student = {\n",
    "    \"name\": \"John\",\n",
    "    \"age\": 20,\n",
    "    \"grades\": [85, 90, 88]\n",
    "}\n",
    "print(\"Original dictionary:\", student)\n",
    "# Remove specific key-value pair and return value\n",
    "removed_age = student.pop(\"age\")\n",
    "print(\"Removed age:\", removed_age)\n",
    "print(\"Dictionary after pop:\", student)\n",
    "\n",
    "# Remove and return last inserted item (Python 3.7+)\n",
    "last_item = student.popitem()\n",
    "print(\"\\nLast item removed:\", last_item)\n",
    "print(\"Dictionary after popitem:\", student)\n",
    "\n",
    "# Delete specific key\n",
    "del student[\"name\"]\n",
    "print(\"\\nDictionary after del:\", student)\n",
    "\n",
    "# Clear entire dictionary\n",
    "student.clear()\n",
    "print(\"\\nDictionary after clear:\", student)"
   ]
  },
  {
   "cell_type": "markdown",
   "metadata": {},
   "source": [
    "## 5. Dictionary Methods"
   ]
  },
  {
   "cell_type": "code",
   "execution_count": 11,
   "metadata": {},
   "outputs": [
    {
     "name": "stdout",
     "output_type": "stream",
     "text": [
      "Keys: ['name', 'age', 'grades']\n",
      "\n",
      "Values: ['John', 20, [85, 90, 88]]\n",
      "\n",
      "Items: [('name', 'John'), ('age', 20), ('grades', [85, 90, 88])]\n"
     ]
    }
   ],
   "source": [
    "student = {\n",
    "    \"name\": \"John\",\n",
    "    \"age\": 20,\n",
    "    \"grades\": [85, 90, 88]\n",
    "}\n",
    "\n",
    "# Get all keys\n",
    "keys = student.keys()\n",
    "print(\"Keys:\", list(keys))\n",
    "\n",
    "# Get all values\n",
    "values = student.values()\n",
    "print(\"\\nValues:\", list(values))\n",
    "\n",
    "# Get all key-value pairs as tuples\n",
    "items = student.items()\n",
    "print(\"\\nItems:\", list(items))"
   ]
  },
  {
   "cell_type": "markdown",
   "metadata": {},
   "source": [
    "## 6. Dictionary Comprehension"
   ]
  },
  {
   "cell_type": "code",
   "execution_count": 12,
   "metadata": {},
   "outputs": [
    {
     "name": "stdout",
     "output_type": "stream",
     "text": [
      "Dictionary from lists: {'John': 20, 'Jane': 22, 'Bob': 21}\n",
      "\n",
      "Passing grades: {'Math': 85, 'Science': 90}\n"
     ]
    }
   ],
   "source": [
    "# Create dictionary from two lists\n",
    "names = [\"John\", \"Jane\", \"Bob\"]\n",
    "ages = [20, 22, 21]\n",
    "students = {name: age for name, age in zip(names, ages)}\n",
    "print(\"Dictionary from lists:\", students)\n",
    "\n",
    "# Create dictionary with condition\n",
    "grades = {\"Math\": 85, \"English\": 55, \"Science\": 90, \"History\": 58}\n",
    "passing_grades = {k: v for k, v in grades.items() if v >= 60}\n",
    "print(\"\\nPassing grades:\", passing_grades)"
   ]
  },
  {
   "cell_type": "markdown",
   "metadata": {},
   "source": [
    "## 7. Checking for Keys/Values"
   ]
  },
  {
   "cell_type": "code",
   "execution_count": 15,
   "metadata": {},
   "outputs": [
    {
     "name": "stdout",
     "output_type": "stream",
     "text": [
      "Test : {0.01: 'Niket', 1.02: 'Shuvam'}\n",
      "'name' exists: True\n",
      "'phone' exists: False\n",
      "\n",
      "Age 20 exists in values: True\n",
      "Age 25 exists in values: False\n"
     ]
    }
   ],
   "source": [
    "student = {\n",
    "    \"name\": \"John\",\n",
    "    \"age\": 20,\n",
    "    \"grades\": [85, 90, 88]\n",
    "}\n",
    "\n",
    "test = {\n",
    "    0.01 :\"Niket\",\n",
    "    1.02 : \"Shuvam\",\n",
    "}\n",
    "\n",
    "print(f\"Test : {test}\")\n",
    "\n",
    "# Check if key exists\n",
    "print(\"'name' exists:\", \"name\" in student)\n",
    "print(\"'phone' exists:\", \"phone\" in student)\n",
    "\n",
    "# Check if value exists\n",
    "print(\"\\nAge 20 exists in values:\", 20 in student.values())\n",
    "print(\"Age 25 exists in values:\", 25 in student.values())"
   ]
  },
  {
   "cell_type": "markdown",
   "metadata": {},
   "source": [
    "## 8. Nested Dictionaries"
   ]
  },
  {
   "cell_type": "code",
   "execution_count": 16,
   "metadata": {},
   "outputs": [
    {
     "name": "stdout",
     "output_type": "stream",
     "text": [
      "Teacher: Mrs. Smith\n",
      "John's first grade: 85\n",
      "Jane's grades: [92, 88, 94]\n"
     ]
    }
   ],
   "source": [
    "# Creating nested dictionary\n",
    "school = {\n",
    "    \"class_a\": {\n",
    "        \"teacher\": \"Mrs. Smith\",\n",
    "        \"students\": {\n",
    "            \"John\": {\"grades\": [85, 90, 88]},\n",
    "            \"Jane\": {\"grades\": [92, 88, 94]}\n",
    "        }\n",
    "    }\n",
    "}\n",
    "\n",
    "# Accessing nested values\n",
    "print(\"Teacher:\", school[\"class_a\"][\"teacher\"])\n",
    "print(\"John's first grade:\", school[\"class_a\"][\"students\"][\"John\"][\"grades\"][0])\n",
    "print(\"Jane's grades:\", school[\"class_a\"][\"students\"][\"Jane\"][\"grades\"])"
   ]
  },
  {
   "cell_type": "markdown",
   "metadata": {},
   "source": [
    "## 9. Merging Dictionaries"
   ]
  },
  {
   "cell_type": "code",
   "execution_count": 24,
   "metadata": {},
   "outputs": [
    {
     "name": "stdout",
     "output_type": "stream",
     "text": [
      "Merged using update(): {'a': 1, 'b': 2, 'c': 3, 'd': 4}\n",
      "None\n",
      "\n",
      "Merged using |: {'a': 1, 'b': 2, 'c': 3, 'd': 4}\n",
      "\n",
      "Merged using **: {'a': 1, 'b': 2, 'c': 3, 'd': 4}\n"
     ]
    }
   ],
   "source": [
    "# Different ways to merge dictionaries\n",
    "dict1 = {\"a\": 1, \"b\": 2}\n",
    "dict2 = {\"c\": 3, \"d\": 4}\n",
    "\n",
    "# Using update method\n",
    "merged1 = dict1.copy()\n",
    "merged1.update(dict2)\n",
    "print(\"Merged using update():\", merged1)\n",
    "#merged4={}\n",
    "#print(merged4.update(dict1))\n",
    "\n",
    "# Using | operator (Python 3.9+)\n",
    "merged2 = dict1 | dict2\n",
    "print(\"\\nMerged using |:\", merged2)\n",
    "\n",
    "# Using ** unpacking\n",
    "merged3 = {**dict1, **dict2}\n",
    "\n",
    "print(\"\\nMerged using **:\", merged3)\n",
    "\n"
   ]
  },
  {
   "cell_type": "code",
   "execution_count": null,
   "metadata": {},
   "outputs": [],
   "source": []
  },
  {
   "cell_type": "code",
   "execution_count": 25,
   "metadata": {},
   "outputs": [
    {
     "name": "stdout",
     "output_type": "stream",
     "text": [
      "\n",
      "--- Example 1: Nested Dictionary Processing ---\n",
      "Engineering department has 35 employees\n",
      "Budget per employee: $42,857.14\n",
      "Teams and their projects:\n",
      "  - frontend: web, mobile\n",
      "  - backend: api, database\n",
      "  - devops: cloud, ci/cd\n",
      "\n",
      "Marketing department has 17 employees\n",
      "Budget per employee: $47,058.82\n",
      "Teams and their projects:\n",
      "  - digital: social, email\n",
      "  - content: blog, video\n",
      "\n",
      "\n",
      "--- Example 2: Sales Data Analysis ---\n",
      "\n",
      "Quarter: 2023-Q1\n",
      "Total sales: 470\n",
      "product_a: 150 units (31.9% of quarter)\n",
      "product_b: 200 units (42.6% of quarter)\n",
      "product_c: 120 units (25.5% of quarter)\n",
      "\n",
      "Quarter: 2023-Q2\n",
      "Total sales: 540\n",
      "product_a: 180 units (33.3% of quarter)\n",
      "product_b: 220 units (40.7% of quarter)\n",
      "product_c: 140 units (25.9% of quarter)\n",
      "\n",
      "Quarter: 2023-Q3\n",
      "Total sales: 500\n",
      "product_a: 210 units (42.0% of quarter)\n",
      "product_b: 180 units (36.0% of quarter)\n",
      "product_c: 110 units (22.0% of quarter)\n",
      "\n",
      "Quarter: 2023-Q4\n",
      "Total sales: 600\n",
      "product_a: 240 units (40.0% of quarter)\n",
      "product_b: 230 units (38.3% of quarter)\n",
      "product_c: 130 units (21.7% of quarter)\n",
      "\n",
      "Yearly Product Totals:\n",
      "product_a: 780 units\n",
      "product_b: 830 units\n",
      "product_c: 500 units\n",
      "\n",
      "--- Example 3: Complex Dictionary Comprehension ---\n",
      "\n",
      "Row 1:\n",
      "  Position (1,1):\n",
      "    Value: 1\n",
      "    Is Even: False\n",
      "    Factors: [1]\n",
      "  Position (1,2):\n",
      "    Value: 2\n",
      "    Is Even: True\n",
      "    Factors: [1, 2]\n",
      "  Position (1,3):\n",
      "    Value: 3\n",
      "    Is Even: False\n",
      "    Factors: [1, 3]\n",
      "\n",
      "Row 2:\n",
      "  Position (2,1):\n",
      "    Value: 2\n",
      "    Is Even: True\n",
      "    Factors: [1, 2]\n",
      "  Position (2,2):\n",
      "    Value: 4\n",
      "    Is Even: True\n",
      "    Factors: [1, 2, 4]\n",
      "  Position (2,3):\n",
      "    Value: 6\n",
      "    Is Even: True\n",
      "    Factors: [1, 2, 3, 6]\n",
      "\n",
      "Row 3:\n",
      "  Position (3,1):\n",
      "    Value: 3\n",
      "    Is Even: False\n",
      "    Factors: [1, 3]\n",
      "  Position (3,2):\n",
      "    Value: 6\n",
      "    Is Even: True\n",
      "    Factors: [1, 2, 3, 6]\n",
      "  Position (3,3):\n",
      "    Value: 9\n",
      "    Is Even: False\n",
      "    Factors: [1, 3, 9]\n",
      "\n",
      "--- Example 4: Advanced Filtering and Sorting ---\n",
      "Student Rankings:\n",
      "1. Charlie:\n",
      "   Average Grade: 91.67\n",
      "   Number of Courses: 2\n",
      "   Age: 21\n",
      "2. Alice:\n",
      "   Average Grade: 88.33\n",
      "   Number of Courses: 3\n",
      "   Age: 20\n",
      "3. Bob:\n",
      "   Average Grade: 79.00\n",
      "   Number of Courses: 2\n",
      "   Age: 22\n",
      "4. David:\n",
      "   Average Grade: 69.00\n",
      "   Number of Courses: 2\n",
      "   Age: 20\n",
      "\n",
      "Students with average above 85 and taking at least 2 courses:\n",
      "Charlie: Average = 91.67, Courses = 2\n",
      "Alice: Average = 88.33, Courses = 3\n"
     ]
    }
   ],
   "source": [
    "# 1. Advanced Dictionary Manipulation with Nested Data\n",
    "print(\"\\n--- Example 1: Nested Dictionary Processing ---\")\n",
    "company = {\n",
    "    'departments': {\n",
    "        'engineering': {\n",
    "            'teams': {\n",
    "                'frontend': {'employees': 15, 'projects': ['web', 'mobile']},\n",
    "                'backend': {'employees': 12, 'projects': ['api', 'database']},\n",
    "                'devops': {'employees': 8, 'projects': ['cloud', 'ci/cd']}\n",
    "            },\n",
    "            'budget': 1500000\n",
    "        },\n",
    "        'marketing': {\n",
    "            'teams': {\n",
    "                'digital': {'employees': 10, 'projects': ['social', 'email']},\n",
    "                'content': {'employees': 7, 'projects': ['blog', 'video']}\n",
    "            },\n",
    "            'budget': 800000\n",
    "        }\n",
    "    }\n",
    "}\n",
    "\n",
    "# Calculate total employees per department\n",
    "for dept, details in company['departments'].items():\n",
    "    total_employees = sum(team['employees'] for team in details['teams'].values())\n",
    "    print(f\"{dept.title()} department has {total_employees} employees\")\n",
    "    print(f\"Budget per employee: ${details['budget']/total_employees:,.2f}\")\n",
    "    print(\"Teams and their projects:\")\n",
    "    for team, team_details in details['teams'].items():\n",
    "        print(f\"  - {team}: {', '.join(team_details['projects'])}\")\n",
    "    print()\n",
    "\n",
    "# 2. Dictionary Transformation and Analysis\n",
    "print(\"\\n--- Example 2: Sales Data Analysis ---\")\n",
    "sales_data = {\n",
    "    '2023-Q1': {'product_a': 150, 'product_b': 200, 'product_c': 120},\n",
    "    '2023-Q2': {'product_a': 180, 'product_b': 220, 'product_c': 140},\n",
    "    '2023-Q3': {'product_a': 210, 'product_b': 180, 'product_c': 110},\n",
    "    '2023-Q4': {'product_a': 240, 'product_b': 230, 'product_c': 130}\n",
    "}\n",
    "\n",
    "# Calculate quarterly totals and product trends\n",
    "product_totals = {}\n",
    "quarterly_totals = {}\n",
    "\n",
    "for quarter, products in sales_data.items():\n",
    "    quarterly_total = sum(products.values())\n",
    "    quarterly_totals[quarter] = quarterly_total\n",
    "    \n",
    "    print(f\"\\nQuarter: {quarter}\")\n",
    "    print(f\"Total sales: {quarterly_total}\")\n",
    "    \n",
    "    for product, sales in products.items():\n",
    "        product_totals[product] = product_totals.get(product, 0) + sales\n",
    "        percentage = (sales / quarterly_total) * 100\n",
    "        print(f\"{product}: {sales} units ({percentage:.1f}% of quarter)\")\n",
    "\n",
    "print(\"\\nYearly Product Totals:\")\n",
    "for product, total in product_totals.items():\n",
    "    print(f\"{product}: {total} units\")\n",
    "\n",
    "# 3. Advanced Dictionary Comprehension\n",
    "print(\"\\n--- Example 3: Complex Dictionary Comprehension ---\")\n",
    "\n",
    "# Create a complex nested dictionary using comprehension\n",
    "matrix = {\n",
    "    i: {\n",
    "        j: {\n",
    "            'value': i * j,\n",
    "            'is_even': (i * j) % 2 == 0,\n",
    "            'factors': [x for x in range(1, i*j + 1) if (i*j) % x == 0]\n",
    "        } for j in range(1, 4)\n",
    "    } for i in range(1, 4)\n",
    "}\n",
    "\n",
    "for i in matrix:\n",
    "    print(f\"\\nRow {i}:\")\n",
    "    for j in matrix[i]:\n",
    "        value = matrix[i][j]['value']\n",
    "        is_even = matrix[i][j]['is_even']\n",
    "        factors = matrix[i][j]['factors']\n",
    "        print(f\"  Position ({i},{j}):\")\n",
    "        print(f\"    Value: {value}\")\n",
    "        print(f\"    Is Even: {is_even}\")\n",
    "        print(f\"    Factors: {factors}\")\n",
    "\n",
    "# 4. Dictionary with Custom Sorting and Filtering\n",
    "print(\"\\n--- Example 4: Advanced Filtering and Sorting ---\")\n",
    "students = {\n",
    "    'Alice': {'grades': [88, 92, 85], 'age': 20, 'courses': ['Math', 'Physics', 'Chemistry']},\n",
    "    'Bob': {'grades': [75, 80, 82], 'age': 22, 'courses': ['Biology', 'Chemistry']},\n",
    "    'Charlie': {'grades': [95, 88, 92], 'age': 21, 'courses': ['Physics', 'Math']},\n",
    "    'David': {'grades': [70, 65, 72], 'age': 20, 'courses': ['Chemistry', 'Biology']}\n",
    "}\n",
    "\n",
    "# Calculate and sort by average grades\n",
    "student_averages = {\n",
    "    name: {\n",
    "        'average': sum(info['grades']) / len(info['grades']),\n",
    "        'courses': len(info['courses']),\n",
    "        'age': info['age']\n",
    "    }\n",
    "    for name, info in students.items()\n",
    "}\n",
    "\n",
    "# Sort students by average grade\n",
    "sorted_students = dict(sorted(\n",
    "    student_averages.items(),\n",
    "    key=lambda x: x[1]['average'],\n",
    "    reverse=True\n",
    "))\n",
    "\n",
    "print(\"Student Rankings:\")\n",
    "for rank, (name, info) in enumerate(sorted_students.items(), 1):\n",
    "    print(f\"{rank}. {name}:\")\n",
    "    print(f\"   Average Grade: {info['average']:.2f}\")\n",
    "    print(f\"   Number of Courses: {info['courses']}\")\n",
    "    print(f\"   Age: {info['age']}\")\n",
    "\n",
    "# Filter students by criteria\n",
    "print(\"\\nStudents with average above 85 and taking at least 2 courses:\")\n",
    "high_performers = {\n",
    "    name: info for name, info in sorted_students.items()\n",
    "    if info['average'] >= 85 and info['courses'] >= 2\n",
    "}\n",
    "\n",
    "for name, info in high_performers.items():\n",
    "    print(f\"{name}: Average = {info['average']:.2f}, Courses = {info['courses']}\")"
   ]
  }
 ],
 "metadata": {
  "kernelspec": {
   "display_name": "Python 3",
   "language": "python",
   "name": "python3"
  },
  "language_info": {
   "codemirror_mode": {
    "name": "ipython",
    "version": 3
   },
   "file_extension": ".py",
   "mimetype": "text/x-python",
   "name": "python",
   "nbconvert_exporter": "python",
   "pygments_lexer": "ipython3",
   "version": "3.12.7"
  }
 },
 "nbformat": 4,
 "nbformat_minor": 4
}
