{
 "cells": [
  {
   "cell_type": "markdown",
   "metadata": {},
   "source": [
    "\n",
    "\n",
    "\n",
    "\n",
    "### **1. Lists in Python**\n",
    "Lists are mutable (can be changed) and ordered collections.\n",
    "\n",
    "```python\n",
    "# Creating a list\n",
    "fruits = [\"apple\", \"banana\", \"cherry\"]\n",
    "\n",
    "# Accessing elements\n",
    "print(fruits[0])  # Output: apple\n",
    "\n",
    "# Modifying elements\n",
    "fruits[1] = \"blueberry\"\n",
    "print(fruits)  # Output: ['apple', 'blueberry', 'cherry']\n",
    "\n",
    "# Adding elements\n",
    "fruits.append(\"orange\")\n",
    "print(fruits)  # Output: ['apple', 'blueberry', 'cherry', 'orange']\n",
    "\n",
    "# Removing elements\n",
    "fruits.remove(\"cherry\")\n",
    "print(fruits)  # Output: ['apple', 'blueberry', 'orange']\n",
    "\n",
    "# Iterating over a list\n",
    "for fruit in fruits:\n",
    "    print(fruit)\n",
    "\n",
    "# List slicing\n",
    "print(fruits[1:3])  # Output: ['blueberry', 'orange']\n",
    "```\n",
    "\n",
    "---\n",
    "\n",
    "### **2. Tuples in Python**\n",
    "Tuples are immutable (cannot be changed) and ordered collections.\n",
    "\n",
    "```python\n",
    "# Creating a tuple\n",
    "colors = (\"red\", \"green\", \"blue\")\n",
    "\n",
    "# Accessing elements\n",
    "print(colors[1])  # Output: green\n",
    "\n",
    "# Tuples are immutable\n",
    "# colors[1] = \"yellow\"  # This will raise a TypeError\n",
    "\n",
    "# Iterating over a tuple\n",
    "for color in colors:\n",
    "    print(color)\n",
    "\n",
    "# Single-element tuple\n",
    "single_element_tuple = (\"only_one\",)\n",
    "print(type(single_element_tuple))  # Output: <class 'tuple'>\n",
    "\n",
    "# Tuple unpacking\n",
    "a, b, c = colors\n",
    "print(a, b, c)  # Output: red green blue\n",
    "```\n",
    "\n",
    "---\n",
    "\n",
    "### **3. Basic Python Concepts**\n",
    "#### Variables and Data Types\n",
    "```python\n",
    "# Variables\n",
    "x = 10        # Integer\n",
    "y = 3.14      # Float\n",
    "name = \"John\" # String\n",
    "is_active = True # Boolean\n",
    "\n",
    "print(type(x), type(y), type(name), type(is_active))\n",
    "```\n",
    "\n",
    "#### Conditional Statements\n",
    "```python\n",
    "# If-else statements\n",
    "age = 20\n",
    "if age < 18:\n",
    "    print(\"You are a minor.\")\n",
    "else:\n",
    "    print(\"You are an adult.\")\n",
    "```\n",
    "\n",
    "#### Loops\n",
    "```python\n",
    "# For loop\n",
    "for i in range(5):\n",
    "    print(i)  # Output: 0 1 2 3 4\n",
    "\n",
    "# While loop\n",
    "count = 0\n",
    "while count < 3:\n",
    "    print(count)\n",
    "    count += 1\n",
    "```\n",
    "\n",
    "---\n",
    "\n",
    "### **4. Functions**\n",
    "```python\n",
    "# Function definition\n",
    "def greet(name):\n",
    "    return f\"Hello, {name}!\"\n",
    "\n",
    "# Function call\n",
    "print(greet(\"Alice\"))  # Output: Hello, Alice!\n",
    "```\n",
    "\n",
    "---\n",
    "\n",
    "### **5. Combining Lists and Tuples**\n",
    "```python\n",
    "# Convert list to tuple\n",
    "numbers_list = [1, 2, 3]\n",
    "numbers_tuple = tuple(numbers_list)\n",
    "print(numbers_tuple)  # Output: (1, 2, 3)\n",
    "\n",
    "# Convert tuple to list\n",
    "numbers_tuple = (4, 5, 6)\n",
    "numbers_list = list(numbers_tuple)\n",
    "print(numbers_list)  # Output: [4, 5, 6]\n",
    "```\n",
    "\n"
   ]
  },
  {
   "cell_type": "markdown",
   "metadata": {},
   "source": [
    "## Write a program to accept a list of integers from the user. Find the product of the integers and display the result.\n",
    "Example:\n",
    "Input\n",
    "Enter list : [1,2,3,4,5]\n",
    "Output\n",
    "120"
   ]
  },
  {
   "cell_type": "code",
   "execution_count": 3,
   "metadata": {},
   "outputs": [
    {
     "name": "stdout",
     "output_type": "stream",
     "text": [
      "16\n"
     ]
    }
   ],
   "source": [
    "nums = list(map(int, input(\"Enter list: \").strip(\"[]\").split(',')))\n",
    "product = 1\n",
    "for num in nums:\n",
    "    product *= num\n",
    "print(product)\n"
   ]
  },
  {
   "cell_type": "code",
   "execution_count": 11,
   "metadata": {},
   "outputs": [
    {
     "name": "stdout",
     "output_type": "stream",
     "text": [
      "120\n"
     ]
    }
   ],
   "source": [
    "nums = eval(input(\"Enter list: \"))  # Example input: [1, 2, 3, 4, 5]\n",
    "product = 1\n",
    "for num in nums:\n",
    "    product *= num\n",
    "print(product)\n"
   ]
  },
  {
   "cell_type": "markdown",
   "metadata": {},
   "source": [
    "## Write a program to accept integer numbers in a list. Find and display the sum of even and odd numbers.\n",
    "Example:\n",
    "Input\n",
    "Enter list : [1,2,3,4,5]\n",
    "Output\n",
    "Odd Sum 9\n",
    "Even Sum 6"
   ]
  },
  {
   "cell_type": "code",
   "execution_count": null,
   "metadata": {},
   "outputs": [
    {
     "name": "stdout",
     "output_type": "stream",
     "text": [
      "Sum of even: 6 \n",
      " Sum of odd:4\n"
     ]
    }
   ],
   "source": [
    "#Niket's answer to Q2\n",
    "def q2():\n",
    "    l=eval(input(\"Enter the list:\"))\n",
    "    s=0\n",
    "    v=0\n",
    "    for a in l:\n",
    "        if a%2==0:\n",
    "            s+=a\n",
    "        else:\n",
    "            v+=a\n",
    "    print(f\"Sum of even: {s} \\n Sum of odd:{v}\")\n",
    "    \n",
    "def main():\n",
    "    q2()\n",
    "    \n",
    "main()"
   ]
  },
  {
   "cell_type": "markdown",
   "metadata": {},
   "source": [
    "## Write a program to accept a list of integers from a user. Replace each even value with its thrice value and each odd value with its twice value. Print the modified list.\n",
    "Example\n",
    "Input\n",
    "Enter list [1,2,3,4,5,6]\n",
    "Output\n",
    "[2, 6, 6, 12, 10, 18]"
   ]
  },
  {
   "cell_type": "markdown",
   "metadata": {},
   "source": [
    "## Write a program to accept a list of integers from a user. Find the largest and the second largest element present in the list without applying any sorting method.\n",
    "Example\n",
    "Input\n",
    "[11,26, 17, 18,10,20, 21,15, 13, 26]\n",
    "Output\n",
    "Largest 26\n",
    "Second Largest 21"
   ]
  },
  {
   "cell_type": "code",
   "execution_count": 8,
   "metadata": {},
   "outputs": [
    {
     "name": "stdout",
     "output_type": "stream",
     "text": [
      "Largest 20\n",
      "Second Largest 18\n"
     ]
    }
   ],
   "source": [
    "nums = eval(input(\"Enter list: \"))  # Example input: [11, 26, 17, 18, 10, 20, 21, 15, 13, 26]\n",
    "largest = second_largest = float('-inf')\n",
    "for num in nums:\n",
    "    if num > largest:\n",
    "        second_largest = largest\n",
    "        largest = num\n",
    "    elif num > second_largest and num != largest:\n",
    "        second_largest = num\n",
    "print(f\"Largest {largest}\")\n",
    "print(f\"Second Largest {second_largest}\")\n"
   ]
  },
  {
   "cell_type": "markdown",
   "metadata": {},
   "source": [
    "## Write a program to input a list of integers. Display the unique and duplicate elements present in the list.\n",
    "Example\n",
    "Input\n",
    "[5,6, 7, 5,8,9, 3,4,6]\n",
    "Output\n",
    "Unique [7, 8,9,3,4]\n",
    "Duplicate [ 5, 6]"
   ]
  },
  {
   "cell_type": "code",
   "execution_count": 9,
   "metadata": {},
   "outputs": [
    {
     "name": "stdout",
     "output_type": "stream",
     "text": [
      "Unique []\n",
      "Duplicate [1, 2]\n"
     ]
    }
   ],
   "source": [
    "nums = eval(input(\"Enter list: \"))  # Example input: [5, 6, 7, 5, 8, 9, 3, 4, 6]\n",
    "unique = []\n",
    "duplicate = []\n",
    "for num in nums:\n",
    "    if nums.count(num) == 1:\n",
    "        unique.append(num)\n",
    "    elif num not in duplicate:\n",
    "        duplicate.append(num)\n",
    "print(f\"Unique {unique}\")\n",
    "print(f\"Duplicate {duplicate}\")\n"
   ]
  },
  {
   "cell_type": "markdown",
   "metadata": {},
   "source": [
    "## Write a python program to accept a string from the user. Store words present in the string in a list and reverse all words in the List. Display the original and modified list.\n",
    "Input:\n",
    "Enter string: DPS Ruby Park Computer Education\n",
    "Output:\n",
    "Original list : ['DPS', 'Ruby',’Park’, 'Computer', 'Education']\n",
    "Reversed list : ['SPD', 'ybuR', ’kraP’, 'retupmoC', 'noitacudE']"
   ]
  },
  {
   "cell_type": "code",
   "execution_count": 10,
   "metadata": {},
   "outputs": [
    {
     "name": "stdout",
     "output_type": "stream",
     "text": [
      "Original list: ['DPS', 'Ruby', 'Park', 'Computer', 'Education']\n",
      "Reversed list: ['SPD', 'ybuR', 'kraP', 'retupmoC', 'noitacudE']\n"
     ]
    }
   ],
   "source": [
    "string = input(\"Enter string: \")  # Example input: DPS Ruby Park Computer Education\n",
    "words = string.split()\n",
    "reversed_words = [word[::-1] for word in words]\n",
    "print(f\"Original list: {words}\")\n",
    "print(f\"Reversed list: {reversed_words}\")\n"
   ]
  },
  {
   "cell_type": "markdown",
   "metadata": {},
   "source": [
    "## Write a python program to accept two lists of integers from the user. Merge the elements of both the lists. Display the sorted merged list.\n",
    "Input:\n",
    "List1 =[12, 14, 33, 36, 42]\n",
    "List2 =[18, 22, 38, 56,72]\n",
    "Output\n",
    "List = [12, 14, 18, 22, 33, 36, 38, 42, 56, 72]"
   ]
  },
  {
   "cell_type": "code",
   "execution_count": 17,
   "metadata": {},
   "outputs": [
    {
     "name": "stdout",
     "output_type": "stream",
     "text": [
      "List = [1, 2, 3, 4, 11, 112, 123, 1245]\n"
     ]
    }
   ],
   "source": [
    "list1 = eval(input(\"Enter List1: \"))  # Example input: [12, 14, 33, 36, 42]\n",
    "list2 = eval(input(\"Enter List2: \"))  # Example input: [18, 22, 38, 56, 72]\n",
    "merged = sorted(list1 + list2)\n",
    "print(f\"List = {merged}\")\n"
   ]
  },
  {
   "cell_type": "markdown",
   "metadata": {},
   "source": [
    "## Write a python program to accept two lists of integers from the user. Perform Union and Intersection of the Lists. Display the results.\n",
    "Input:\n",
    "List1 = [1, 2, 3, 4, 5]\n",
    "List2 = [3, 4, 5, 6, 7, 8]\n",
    "Output\n",
    "Union = [ 1, 2, 3, 4, 5, 6, 7, 8]\n",
    "Intersection = [3, 4, 5]"
   ]
  },
  {
   "cell_type": "code",
   "execution_count": 18,
   "metadata": {},
   "outputs": [
    {
     "name": "stdout",
     "output_type": "stream",
     "text": [
      "Union = [1, 2, 3, 4, 5, 6, 7, 8, 9]\n",
      "Intersection = [2, 3]\n"
     ]
    }
   ],
   "source": [
    "list1 = eval(input(\"Enter List1: \"))  # Example input: [1, 2, 3, 4, 5]\n",
    "list2 = eval(input(\"Enter List2: \"))  # Example input: [3, 4, 5, 6, 7, 8]\n",
    "union = list(set(list1) | set(list2))\n",
    "intersection = list(set(list1) & set(list2))\n",
    "print(f\"Union = {union}\")\n",
    "print(f\"Intersection = {intersection}\")\n",
    "\n"
   ]
  },
  {
   "cell_type": "markdown",
   "metadata": {},
   "source": [
    "## Given a nested list (where sublists are of equal length), write a Python program to find the column-wise sum and row-wise sum of the given list and return it in a new list.\n",
    "Input :\n",
    "[[1, 5, 3],\n",
    "[2, 7, 8],\n",
    "[4, 6, 9]]\n",
    "Output :\n",
    "colsum=[7, 18, 20]\n",
    "rowsum=[9, 17, 19]"
   ]
  },
  {
   "cell_type": "code",
   "execution_count": 21,
   "metadata": {},
   "outputs": [
    {
     "name": "stdout",
     "output_type": "stream",
     "text": [
      "[([1, 5, 3],), ([2, 7, 8],), ([4, 6, 9],)]\n",
      "colsum=[7, 18, 20]\n",
      "rowsum=[9, 17, 19]\n"
     ]
    }
   ],
   "source": [
    "#nested_list = eval(input(\"Enter nested list: \"))  \n",
    "nested_list = [[1, 5, 3], [2, 7, 8], [4, 6, 9]]\n",
    "#row-wise sum\n",
    "# Example input: [[1, 5, 3], [2, 7, 8], [4, 6, 9]]\n",
    "print(list(zip(nested_list)))\n",
    "colsum = [sum(col) for col in zip(*nested_list)]\n",
    "rowsum = [sum(row) for row in nested_list]\n",
    "print(f\"colsum={colsum}\")\n",
    "print(f\"rowsum={rowsum}\")\n",
    "\n",
    "\n",
    "#column wise sum\n",
    "\n",
    "nested_list = eval(input(\"Enter nested list: \"))  \n",
    "# Example input: [[1, 5, 3], [2, 7, 8], [4, 6, 9]]\n",
    "colsum = [sum(col) for col in zip(*nested_list)]\n",
    "rowsum = [sum(row) for row in nested_list]\n",
    "print(f\"colsum={colsum}\")\n",
    "print(f\"rowsum={rowsum}\")\n"
   ]
  },
  {
   "cell_type": "markdown",
   "metadata": {},
   "source": [
    "## Write a program to perform Intersection of two nested list\n",
    "Input:\n",
    "The original list 1 : [[1, 2], [3, 4], [5, 6]]\n",
    "The original list 2 : [[3, 4], [5, 7], [1, 2]]\n",
    "Output:\n",
    "The intersection of two lists is : [[1, 2], [3, 4]]"
   ]
  },
  {
   "cell_type": "code",
   "execution_count": null,
   "metadata": {},
   "outputs": [],
   "source": [
    "list1 = eval(input(\"Enter list1: \"))  # Example input: [[1, 2], [3, 4], [5, 6]]\n",
    "list2 = eval(input(\"Enter list2: \"))  # Example input: [[3, 4], [5, 7], [1, 2]]\n",
    "intersection = [sublist for sublist in list1 if sublist in list2]\n",
    "print(f\"The intersection of two lists is : {intersection}\")\n"
   ]
  },
  {
   "cell_type": "markdown",
   "metadata": {},
   "source": [
    "## Given two lists list1 and list2, check if list2 is a subset of list1 and return True or False accordingly.\n",
    "Examples:\n",
    "Input :\n",
    "list1 = [[2, 3, 1], [4, 5], [6, 8]]\n",
    "list2 = [[4, 5], [6, 8]]\n",
    "Output :\n",
    "True\n",
    "Input :\n",
    "list1 = [[2, 3, 1], [4, 5], [6, 8]]\n",
    "list2 = [[5,6]]\n",
    "Output"
   ]
  },
  {
   "cell_type": "code",
   "execution_count": 33,
   "metadata": {},
   "outputs": [
    {
     "name": "stdout",
     "output_type": "stream",
     "text": [
      "True\n"
     ]
    }
   ],
   "source": [
    "# list1 = eval(input(\"Enter list1: \"))  # Example input: [[2, 3, 1], [4, 5], [6, 8]]\n",
    "# list2 = eval(input(\"Enter list2: \"))  # Example input: [[4, 5], [6, 8]]\n",
    "\n",
    "list1 = [[2, 3, 1], [4, 5], [6, 8]]\n",
    "list2 = [[4, 5], [6, 8], [2,3]]\n",
    "\n",
    "is_subset = all(sublist in list1 for sublist in list2)\n",
    "print(is_subset)\n"
   ]
  },
  {
   "cell_type": "markdown",
   "metadata": {},
   "source": [
    "## Given a nested 2D list, the task is to split the nested list into two lists such that the first list contains the first elements of each sublist and the second list contains the second element of each sublist.\n",
    "Input:\n",
    "initial list [[1, 2], [4, 3], [45, 65], [223, 2]]\n",
    "Output:\n",
    "final lists\n",
    "List-1 [1, 4, 45, 223]\n",
    "List-2 [2, 3, 65, 2]"
   ]
  },
  {
   "cell_type": "code",
   "execution_count": 36,
   "metadata": {},
   "outputs": [
    {
     "name": "stdout",
     "output_type": "stream",
     "text": [
      "List-1 [1, 4, 45, 223]\n",
      "List-2 [2, 3, 65, 2]\n"
     ]
    }
   ],
   "source": [
    "# nested_list = eval(input(\"Enter initial list: \"))  \n",
    "nested_list =[[1, 2], [4, 3], [45, 65], [223, 2]]\n",
    "# Example input: [[1, 2], [4, 3], [45, 65], [223, 2]]\n",
    "list1 = [sublist[0] for sublist in nested_list]\n",
    "list2 = [sublist[1] for sublist in nested_list]\n",
    "print(f\"List-1 {list1}\")\n",
    "print(f\"List-2 {list2}\")\n"
   ]
  }
 ],
 "metadata": {
  "kernelspec": {
   "display_name": "Python 3",
   "language": "python",
   "name": "python3"
  },
  "language_info": {
   "codemirror_mode": {
    "name": "ipython",
    "version": 3
   },
   "file_extension": ".py",
   "mimetype": "text/x-python",
   "name": "python",
   "nbconvert_exporter": "python",
   "pygments_lexer": "ipython3",
   "version": "3.12.7"
  }
 },
 "nbformat": 4,
 "nbformat_minor": 2
}
